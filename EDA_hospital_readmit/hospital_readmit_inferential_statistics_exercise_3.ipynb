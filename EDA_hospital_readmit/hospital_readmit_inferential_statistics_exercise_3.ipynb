{
 "cells": [
  {
   "cell_type": "markdown",
   "metadata": {},
   "source": [
    "# Hospital Readmissions Data Analysis and Recommendations for Reduction\n",
    "\n",
    "### Background\n",
    "In October 2012, the US government's Center for Medicare and Medicaid Services (CMS) began reducing Medicare payments for Inpatient Prospective Payment System hospitals with excess readmissions. Excess readmissions are measured by a ratio, by dividing a hospital’s number of “predicted” 30-day readmissions for heart attack, heart failure, and pneumonia by the number that would be “expected,” based on an average hospital with similar patients. A ratio greater than 1 indicates excess readmissions.\n",
    "\n",
    "### Exercise Directions\n",
    "\n",
    "In this exercise, you will:\n",
    "+ critique a preliminary analysis of readmissions data and recommendations (provided below) for reducing the readmissions rate\n",
    "+ construct a statistically sound analysis and make recommendations of your own \n",
    "\n",
    "More instructions provided below. Include your work **in this notebook and submit to your Github account**. \n",
    "\n",
    "### Resources\n",
    "+ Data source: https://data.medicare.gov/Hospital-Compare/Hospital-Readmission-Reduction/9n3s-kdb3\n",
    "+ More information: http://www.cms.gov/Medicare/medicare-fee-for-service-payment/acuteinpatientPPS/readmissions-reduction-program.html\n",
    "+ Markdown syntax: http://nestacms.com/docs/creating-content/markdown-cheat-sheet\n",
    "****"
   ]
  },
  {
   "cell_type": "code",
   "execution_count": 1,
   "metadata": {
    "collapsed": true
   },
   "outputs": [],
   "source": [
    "%matplotlib inline\n",
    "\n",
    "import pandas as pd\n",
    "import numpy as np\n",
    "import matplotlib.pyplot as plt\n",
    "import bokeh.plotting as bkp\n",
    "from mpl_toolkits.axes_grid1 import make_axes_locatable\n",
    "import seaborn as sns\n"
   ]
  },
  {
   "cell_type": "code",
   "execution_count": 2,
   "metadata": {
    "collapsed": true
   },
   "outputs": [],
   "source": [
    "# read in readmissions data provided\n",
    "hospital_read_df = pd.read_csv('data/cms_hospital_readmissions.csv')"
   ]
  },
  {
   "cell_type": "code",
   "execution_count": 3,
   "metadata": {},
   "outputs": [
    {
     "data": {
      "text/html": [
       "<div>\n",
       "<style scoped>\n",
       "    .dataframe tbody tr th:only-of-type {\n",
       "        vertical-align: middle;\n",
       "    }\n",
       "\n",
       "    .dataframe tbody tr th {\n",
       "        vertical-align: top;\n",
       "    }\n",
       "\n",
       "    .dataframe thead th {\n",
       "        text-align: right;\n",
       "    }\n",
       "</style>\n",
       "<table border=\"1\" class=\"dataframe\">\n",
       "  <thead>\n",
       "    <tr style=\"text-align: right;\">\n",
       "      <th></th>\n",
       "      <th>Hospital Name</th>\n",
       "      <th>Provider Number</th>\n",
       "      <th>State</th>\n",
       "      <th>Measure Name</th>\n",
       "      <th>Number of Discharges</th>\n",
       "      <th>Footnote</th>\n",
       "      <th>Excess Readmission Ratio</th>\n",
       "      <th>Predicted Readmission Rate</th>\n",
       "      <th>Expected Readmission Rate</th>\n",
       "      <th>Number of Readmissions</th>\n",
       "      <th>Start Date</th>\n",
       "      <th>End Date</th>\n",
       "    </tr>\n",
       "  </thead>\n",
       "  <tbody>\n",
       "    <tr>\n",
       "      <th>0</th>\n",
       "      <td>FROEDTERT MEMORIAL LUTHERAN HOSPITAL</td>\n",
       "      <td>520177</td>\n",
       "      <td>WI</td>\n",
       "      <td>READM-30-HIP-KNEE-HRRP</td>\n",
       "      <td>242</td>\n",
       "      <td>NaN</td>\n",
       "      <td>1.9095</td>\n",
       "      <td>10.8</td>\n",
       "      <td>5.6</td>\n",
       "      <td>38.0</td>\n",
       "      <td>07/01/2010</td>\n",
       "      <td>06/30/2013</td>\n",
       "    </tr>\n",
       "    <tr>\n",
       "      <th>1</th>\n",
       "      <td>PROVIDENCE HOSPITAL</td>\n",
       "      <td>90006</td>\n",
       "      <td>DC</td>\n",
       "      <td>READM-30-HIP-KNEE-HRRP</td>\n",
       "      <td>247</td>\n",
       "      <td>NaN</td>\n",
       "      <td>1.7521</td>\n",
       "      <td>9.2</td>\n",
       "      <td>5.3</td>\n",
       "      <td>33.0</td>\n",
       "      <td>07/01/2010</td>\n",
       "      <td>06/30/2013</td>\n",
       "    </tr>\n",
       "    <tr>\n",
       "      <th>2</th>\n",
       "      <td>BEAUFORT COUNTY MEMORIAL HOSPITAL</td>\n",
       "      <td>420067</td>\n",
       "      <td>SC</td>\n",
       "      <td>READM-30-HIP-KNEE-HRRP</td>\n",
       "      <td>586</td>\n",
       "      <td>NaN</td>\n",
       "      <td>1.5836</td>\n",
       "      <td>7.6</td>\n",
       "      <td>4.8</td>\n",
       "      <td>53.0</td>\n",
       "      <td>07/01/2010</td>\n",
       "      <td>06/30/2013</td>\n",
       "    </tr>\n",
       "    <tr>\n",
       "      <th>3</th>\n",
       "      <td>ADVOCATE CHRIST HOSPITAL &amp; MEDICAL CENTER</td>\n",
       "      <td>140208</td>\n",
       "      <td>IL</td>\n",
       "      <td>READM-30-HIP-KNEE-HRRP</td>\n",
       "      <td>965</td>\n",
       "      <td>NaN</td>\n",
       "      <td>1.5760</td>\n",
       "      <td>9.0</td>\n",
       "      <td>5.7</td>\n",
       "      <td>95.0</td>\n",
       "      <td>07/01/2010</td>\n",
       "      <td>06/30/2013</td>\n",
       "    </tr>\n",
       "    <tr>\n",
       "      <th>4</th>\n",
       "      <td>BRAZOSPORT REGIONAL HEALTH SYSTEM</td>\n",
       "      <td>450072</td>\n",
       "      <td>TX</td>\n",
       "      <td>READM-30-HIP-KNEE-HRRP</td>\n",
       "      <td>149</td>\n",
       "      <td>NaN</td>\n",
       "      <td>1.5308</td>\n",
       "      <td>8.2</td>\n",
       "      <td>5.4</td>\n",
       "      <td>20.0</td>\n",
       "      <td>07/01/2010</td>\n",
       "      <td>06/30/2013</td>\n",
       "    </tr>\n",
       "  </tbody>\n",
       "</table>\n",
       "</div>"
      ],
      "text/plain": [
       "                               Hospital Name  Provider Number State  \\\n",
       "0       FROEDTERT MEMORIAL LUTHERAN HOSPITAL           520177    WI   \n",
       "1                        PROVIDENCE HOSPITAL            90006    DC   \n",
       "2          BEAUFORT COUNTY MEMORIAL HOSPITAL           420067    SC   \n",
       "3  ADVOCATE CHRIST HOSPITAL & MEDICAL CENTER           140208    IL   \n",
       "4          BRAZOSPORT REGIONAL HEALTH SYSTEM           450072    TX   \n",
       "\n",
       "             Measure Name Number of Discharges  Footnote  \\\n",
       "0  READM-30-HIP-KNEE-HRRP                  242       NaN   \n",
       "1  READM-30-HIP-KNEE-HRRP                  247       NaN   \n",
       "2  READM-30-HIP-KNEE-HRRP                  586       NaN   \n",
       "3  READM-30-HIP-KNEE-HRRP                  965       NaN   \n",
       "4  READM-30-HIP-KNEE-HRRP                  149       NaN   \n",
       "\n",
       "   Excess Readmission Ratio  Predicted Readmission Rate  \\\n",
       "0                    1.9095                        10.8   \n",
       "1                    1.7521                         9.2   \n",
       "2                    1.5836                         7.6   \n",
       "3                    1.5760                         9.0   \n",
       "4                    1.5308                         8.2   \n",
       "\n",
       "   Expected Readmission Rate  Number of Readmissions  Start Date    End Date  \n",
       "0                        5.6                    38.0  07/01/2010  06/30/2013  \n",
       "1                        5.3                    33.0  07/01/2010  06/30/2013  \n",
       "2                        4.8                    53.0  07/01/2010  06/30/2013  \n",
       "3                        5.7                    95.0  07/01/2010  06/30/2013  \n",
       "4                        5.4                    20.0  07/01/2010  06/30/2013  "
      ]
     },
     "execution_count": 3,
     "metadata": {},
     "output_type": "execute_result"
    }
   ],
   "source": [
    "hospital_read_df.head()"
   ]
  },
  {
   "cell_type": "code",
   "execution_count": 4,
   "metadata": {},
   "outputs": [
    {
     "name": "stdout",
     "output_type": "stream",
     "text": [
      "<class 'pandas.core.frame.DataFrame'>\n",
      "RangeIndex: 16860 entries, 0 to 16859\n",
      "Data columns (total 12 columns):\n",
      "Hospital Name                 16860 non-null object\n",
      "Provider Number               16860 non-null int64\n",
      "State                         16860 non-null object\n",
      "Measure Name                  16860 non-null object\n",
      "Number of Discharges          16860 non-null object\n",
      "Footnote                      3129 non-null float64\n",
      "Excess Readmission Ratio      13731 non-null float64\n",
      "Predicted Readmission Rate    13731 non-null float64\n",
      "Expected Readmission Rate     13731 non-null float64\n",
      "Number of Readmissions        11497 non-null float64\n",
      "Start Date                    16860 non-null object\n",
      "End Date                      16860 non-null object\n",
      "dtypes: float64(5), int64(1), object(6)\n",
      "memory usage: 1.5+ MB\n"
     ]
    }
   ],
   "source": [
    "hospital_read_df.info()"
   ]
  },
  {
   "cell_type": "markdown",
   "metadata": {},
   "source": [
    "****\n",
    "## Preliminary Analysis"
   ]
  },
  {
   "cell_type": "code",
   "execution_count": 5,
   "metadata": {
    "collapsed": true
   },
   "outputs": [],
   "source": [
    "# deal with missing and inconvenient portions of data \n",
    "clean_hospital_read_df = hospital_read_df[hospital_read_df['Number of Discharges'] != 'Not Available']\n",
    "clean_hospital_read_df = clean_hospital_read_df.copy()\n",
    "clean_hospital_read_df.loc[:, 'Number of Discharges'] = clean_hospital_read_df['Number of Discharges'].astype(int)\n",
    "clean_hospital_read_df = clean_hospital_read_df.sort_values('Number of Discharges')"
   ]
  },
  {
   "cell_type": "code",
   "execution_count": 6,
   "metadata": {},
   "outputs": [
    {
     "name": "stdout",
     "output_type": "stream",
     "text": [
      "<class 'pandas.core.frame.DataFrame'>\n",
      "Int64Index: 11578 entries, 16857 to 13666\n",
      "Data columns (total 12 columns):\n",
      "Hospital Name                 11578 non-null object\n",
      "Provider Number               11578 non-null int64\n",
      "State                         11578 non-null object\n",
      "Measure Name                  11578 non-null object\n",
      "Number of Discharges          11578 non-null int64\n",
      "Footnote                      81 non-null float64\n",
      "Excess Readmission Ratio      11497 non-null float64\n",
      "Predicted Readmission Rate    11497 non-null float64\n",
      "Expected Readmission Rate     11497 non-null float64\n",
      "Number of Readmissions        11497 non-null float64\n",
      "Start Date                    11578 non-null object\n",
      "End Date                      11578 non-null object\n",
      "dtypes: float64(5), int64(2), object(5)\n",
      "memory usage: 1.1+ MB\n"
     ]
    }
   ],
   "source": [
    "clean_hospital_read_df.info()"
   ]
  },
  {
   "cell_type": "code",
   "execution_count": 7,
   "metadata": {},
   "outputs": [
    {
     "data": {
      "text/plain": [
       "count    11578.000000\n",
       "mean       362.909397\n",
       "std        309.176945\n",
       "min          0.000000\n",
       "25%        157.000000\n",
       "50%        280.000000\n",
       "75%        472.750000\n",
       "max       6793.000000\n",
       "Name: Number of Discharges, dtype: float64"
      ]
     },
     "execution_count": 7,
     "metadata": {},
     "output_type": "execute_result"
    }
   ],
   "source": [
    "clean_hospital_read_df['Number of Discharges'].describe()"
   ]
  },
  {
   "cell_type": "code",
   "execution_count": 8,
   "metadata": {},
   "outputs": [
    {
     "data": {
      "text/plain": [
       "2921"
      ]
     },
     "execution_count": 8,
     "metadata": {},
     "output_type": "execute_result"
    }
   ],
   "source": [
    "clean_hospital_read_df['Hospital Name'].nunique()"
   ]
  },
  {
   "cell_type": "code",
   "execution_count": 9,
   "metadata": {},
   "outputs": [
    {
     "data": {
      "text/plain": [
       "READM-30-HF-HRRP          2841\n",
       "READM-30-PN-HRRP          2799\n",
       "READM-30-COPD-HRRP        2738\n",
       "READM-30-AMI-HRRP         1807\n",
       "READM-30-HIP-KNEE-HRRP    1393\n",
       "Name: Measure Name, dtype: int64"
      ]
     },
     "execution_count": 9,
     "metadata": {},
     "output_type": "execute_result"
    }
   ],
   "source": [
    "clean_hospital_read_df['Measure Name'].value_counts()"
   ]
  },
  {
   "cell_type": "code",
   "execution_count": 10,
   "metadata": {},
   "outputs": [
    {
     "data": {
      "text/html": [
       "<div>\n",
       "<style scoped>\n",
       "    .dataframe tbody tr th:only-of-type {\n",
       "        vertical-align: middle;\n",
       "    }\n",
       "\n",
       "    .dataframe tbody tr th {\n",
       "        vertical-align: top;\n",
       "    }\n",
       "\n",
       "    .dataframe thead th {\n",
       "        text-align: right;\n",
       "    }\n",
       "</style>\n",
       "<table border=\"1\" class=\"dataframe\">\n",
       "  <thead>\n",
       "    <tr style=\"text-align: right;\">\n",
       "      <th></th>\n",
       "      <th>Hospital Name</th>\n",
       "      <th>Provider Number</th>\n",
       "      <th>State</th>\n",
       "      <th>Measure Name</th>\n",
       "      <th>Number of Discharges</th>\n",
       "      <th>Footnote</th>\n",
       "      <th>Excess Readmission Ratio</th>\n",
       "      <th>Predicted Readmission Rate</th>\n",
       "      <th>Expected Readmission Rate</th>\n",
       "      <th>Number of Readmissions</th>\n",
       "      <th>Start Date</th>\n",
       "      <th>End Date</th>\n",
       "    </tr>\n",
       "  </thead>\n",
       "  <tbody>\n",
       "    <tr>\n",
       "      <th>8126</th>\n",
       "      <td>NAPLES COMMUNITY HOSPITAL</td>\n",
       "      <td>100018</td>\n",
       "      <td>FL</td>\n",
       "      <td>READM-30-HIP-KNEE-HRRP</td>\n",
       "      <td>2716</td>\n",
       "      <td>NaN</td>\n",
       "      <td>0.9804</td>\n",
       "      <td>5.2</td>\n",
       "      <td>5.3</td>\n",
       "      <td>141.0</td>\n",
       "      <td>07/01/2010</td>\n",
       "      <td>06/30/2013</td>\n",
       "    </tr>\n",
       "    <tr>\n",
       "      <th>6643</th>\n",
       "      <td>COMMUNITY MEDICAL CENTER</td>\n",
       "      <td>310041</td>\n",
       "      <td>NJ</td>\n",
       "      <td>READM-30-COPD-HRRP</td>\n",
       "      <td>2740</td>\n",
       "      <td>NaN</td>\n",
       "      <td>1.0003</td>\n",
       "      <td>22.7</td>\n",
       "      <td>22.7</td>\n",
       "      <td>623.0</td>\n",
       "      <td>07/01/2010</td>\n",
       "      <td>06/30/2013</td>\n",
       "    </tr>\n",
       "    <tr>\n",
       "      <th>1892</th>\n",
       "      <td>FLORIDA HOSPITAL</td>\n",
       "      <td>100007</td>\n",
       "      <td>FL</td>\n",
       "      <td>READM-30-HF-HRRP</td>\n",
       "      <td>3570</td>\n",
       "      <td>NaN</td>\n",
       "      <td>1.0896</td>\n",
       "      <td>24.5</td>\n",
       "      <td>22.5</td>\n",
       "      <td>879.0</td>\n",
       "      <td>07/01/2010</td>\n",
       "      <td>06/30/2013</td>\n",
       "    </tr>\n",
       "    <tr>\n",
       "      <th>13615</th>\n",
       "      <td>NEW ENGLAND BAPTIST HOSPITAL</td>\n",
       "      <td>220088</td>\n",
       "      <td>MA</td>\n",
       "      <td>READM-30-HIP-KNEE-HRRP</td>\n",
       "      <td>3980</td>\n",
       "      <td>NaN</td>\n",
       "      <td>0.7682</td>\n",
       "      <td>3.7</td>\n",
       "      <td>4.8</td>\n",
       "      <td>142.0</td>\n",
       "      <td>07/01/2010</td>\n",
       "      <td>06/30/2013</td>\n",
       "    </tr>\n",
       "    <tr>\n",
       "      <th>13666</th>\n",
       "      <td>HOSPITAL FOR SPECIAL SURGERY</td>\n",
       "      <td>330270</td>\n",
       "      <td>NY</td>\n",
       "      <td>READM-30-HIP-KNEE-HRRP</td>\n",
       "      <td>6793</td>\n",
       "      <td>NaN</td>\n",
       "      <td>0.7379</td>\n",
       "      <td>3.9</td>\n",
       "      <td>5.3</td>\n",
       "      <td>258.0</td>\n",
       "      <td>07/01/2010</td>\n",
       "      <td>06/30/2013</td>\n",
       "    </tr>\n",
       "  </tbody>\n",
       "</table>\n",
       "</div>"
      ],
      "text/plain": [
       "                      Hospital Name  Provider Number State  \\\n",
       "8126      NAPLES COMMUNITY HOSPITAL           100018    FL   \n",
       "6643       COMMUNITY MEDICAL CENTER           310041    NJ   \n",
       "1892               FLORIDA HOSPITAL           100007    FL   \n",
       "13615  NEW ENGLAND BAPTIST HOSPITAL           220088    MA   \n",
       "13666  HOSPITAL FOR SPECIAL SURGERY           330270    NY   \n",
       "\n",
       "                 Measure Name  Number of Discharges  Footnote  \\\n",
       "8126   READM-30-HIP-KNEE-HRRP                  2716       NaN   \n",
       "6643       READM-30-COPD-HRRP                  2740       NaN   \n",
       "1892         READM-30-HF-HRRP                  3570       NaN   \n",
       "13615  READM-30-HIP-KNEE-HRRP                  3980       NaN   \n",
       "13666  READM-30-HIP-KNEE-HRRP                  6793       NaN   \n",
       "\n",
       "       Excess Readmission Ratio  Predicted Readmission Rate  \\\n",
       "8126                     0.9804                         5.2   \n",
       "6643                     1.0003                        22.7   \n",
       "1892                     1.0896                        24.5   \n",
       "13615                    0.7682                         3.7   \n",
       "13666                    0.7379                         3.9   \n",
       "\n",
       "       Expected Readmission Rate  Number of Readmissions  Start Date  \\\n",
       "8126                         5.3                   141.0  07/01/2010   \n",
       "6643                        22.7                   623.0  07/01/2010   \n",
       "1892                        22.5                   879.0  07/01/2010   \n",
       "13615                        4.8                   142.0  07/01/2010   \n",
       "13666                        5.3                   258.0  07/01/2010   \n",
       "\n",
       "         End Date  \n",
       "8126   06/30/2013  \n",
       "6643   06/30/2013  \n",
       "1892   06/30/2013  \n",
       "13615  06/30/2013  \n",
       "13666  06/30/2013  "
      ]
     },
     "execution_count": 10,
     "metadata": {},
     "output_type": "execute_result"
    }
   ],
   "source": [
    "clean_hospital_read_df.tail()"
   ]
  },
  {
   "cell_type": "code",
   "execution_count": 11,
   "metadata": {},
   "outputs": [
    {
     "data": {
      "text/plain": [
       "<matplotlib.axes._subplots.AxesSubplot at 0x112c846a0>"
      ]
     },
     "execution_count": 11,
     "metadata": {},
     "output_type": "execute_result"
    },
    {
     "data": {
      "image/png": "[encoded data removed]",
      "text/plain": [
       "<matplotlib.figure.Figure at 0x112c840f0>"
      ]
     },
     "metadata": {},
     "output_type": "display_data"
    }
   ],
   "source": [
    "sns.boxplot(clean_hospital_read_df['Number of Discharges'])"
   ]
  },
  {
   "cell_type": "code",
   "execution_count": 12,
   "metadata": {},
   "outputs": [
    {
     "data": {
      "image/png": "[encoded data removed]",
      "text/plain": [
       "<matplotlib.figure.Figure at 0x113b352b0>"
      ]
     },
     "metadata": {},
     "output_type": "display_data"
    }
   ],
   "source": [
    "# generate a scatterplot for number of discharges vs. excess rate of readmissions\n",
    "# lists work better with matplotlib scatterplot function\n",
    "x = [a for a in clean_hospital_read_df['Number of Discharges'][81:-3]]\n",
    "y = list(clean_hospital_read_df['Excess Readmission Ratio'][81:-3])\n",
    "\n",
    "fig, ax = plt.subplots(figsize=(8,5))\n",
    "ax.scatter(x, y,alpha=0.2)\n",
    "\n",
    "ax.fill_between([0,350], 1.15, 2, facecolor='red', alpha = .15, interpolate=True)\n",
    "ax.fill_between([800,2500], .5, .95, facecolor='green', alpha = .15, interpolate=True)\n",
    "\n",
    "ax.set_xlim([0, max(x)])\n",
    "ax.set_xlabel('Number of discharges', fontsize=12)\n",
    "ax.set_ylabel('Excess rate of readmissions', fontsize=12)\n",
    "ax.set_title('Scatterplot of number of discharges vs. excess rate of readmissions', fontsize=14)\n",
    "\n",
    "ax.grid(True)\n",
    "fig.tight_layout()"
   ]
  },
  {
   "cell_type": "markdown",
   "metadata": {},
   "source": [
    "****\n",
    "\n",
    "## Preliminary Report\n",
    "\n",
    "Read the following results/report. While you are reading it, think about if the conclusions are correct, incorrect, misleading or unfounded. Think about what you would change or what additional analyses you would perform.\n",
    "\n",
    "**A. Initial observations based on the plot above**\n",
    "+ Overall, rate of readmissions is trending down with increasing number of discharges\n",
    "+ With lower number of discharges, there is a greater incidence of excess rate of readmissions (area shaded red)\n",
    "+ With higher number of discharges, there is a greater incidence of lower rates of readmissions (area shaded green) \n",
    "\n",
    "**B. Statistics**\n",
    "+ In hospitals/facilities with number of discharges < 100, mean excess readmission rate is 1.023 and 63% have excess readmission rate greater than 1 \n",
    "+ In hospitals/facilities with number of discharges > 1000, mean excess readmission rate is 0.978 and 44% have excess readmission rate greater than 1 \n",
    "\n",
    "**C. Conclusions**\n",
    "+ There is a significant correlation between hospital capacity (number of discharges) and readmission rates. \n",
    "+ Smaller hospitals/facilities may be lacking necessary resources to ensure quality care and prevent complications that lead to readmissions.\n",
    "\n",
    "**D. Regulatory policy recommendations**\n",
    "+ Hospitals/facilties with small capacity (< 300) should be required to demonstrate upgraded resource allocation for quality care to continue operation.\n",
    "+ Directives and incentives should be provided for consolidation of hospitals and facilities to have a smaller number of them with higher capacity and number of discharges."
   ]
  },
  {
   "cell_type": "markdown",
   "metadata": {},
   "source": [
    "****\n",
    "### Exercise\n",
    "\n",
    "Include your work on the following **in this notebook and submit to your Github account**. \n",
    "\n",
    "A. Do you agree with the above analysis and recommendations? Why or why not?\n",
    "   \n",
    "B. Provide support for your arguments and your own recommendations with a statistically sound analysis:\n",
    "\n",
    "   1. Setup an appropriate hypothesis test.\n",
    "   2. Compute and report the observed significance value (or p-value).\n",
    "   3. Report statistical significance for $\\alpha$ = .01. \n",
    "   4. Discuss statistical significance and practical significance. Do they differ here? How does this change your recommendation to the client?\n",
    "   5. Look at the scatterplot above. \n",
    "      - What are the advantages and disadvantages of using this plot to convey information?\n",
    "      - Construct another plot that conveys the same information in a more direct manner.\n",
    "\n",
    "\n",
    "\n",
    "You can compose in notebook cells using Markdown: \n",
    "+ In the control panel at the top, choose Cell > Cell Type > Markdown\n",
    "+ Markdown syntax: http://nestacms.com/docs/creating-content/markdown-cheat-sheet\n",
    "****"
   ]
  },
  {
   "cell_type": "markdown",
   "metadata": {},
   "source": [
    "### Part 1:  to discuss the above analysis and recommendations."
   ]
  },
  {
   "cell_type": "markdown",
   "metadata": {
    "collapsed": true
   },
   "source": [
    "**A. Initial observations based on the plot above**\n",
    "+ Overall, rate of readmissions is trending down with increasing number of discharges\n",
    "+ With lower number of discharges, there is a greater incidence of excess rate of readmissions (area shaded red)\n",
    "+ With higher number of discharges, there is a greater incidence of lower rates of readmissions (area shaded green) \n",
    "\n",
    "\n",
    "<div class=\"alert alert-block alert-info\">\n",
    "**My opinion: I don't think statement A is correct. <br>**\n",
    "$\\bullet$ I cannot see a clear downward trend of rate of readmissions with increasing number of discharges. I cannot find any trend from the plot above. <br>\n",
    "$\\bullet$ With lower number of discharges, there is no evidence of a greater incidence of excess rate of readmissions as there are more dots below the shaded red area. A large majority of excess rate of readmission is around 1.0 with lower number of discharges. <br>\n",
    "$\\bullet$ Same for the third statement, we can see incidence of lower rates and high rates of readmissions are similar with higher number of discharges. <br>\n",
    "$\\bullet$ I think both the shaded areas are not reasonable and has no reason to shade them. \n",
    "</div>"
   ]
  },
  {
   "cell_type": "markdown",
   "metadata": {
    "collapsed": true
   },
   "source": [
    "**B. Statistics**\n",
    "+ In hospitals/facilities with number of discharges < 100, mean excess readmission rate is 1.023 and 63% have excess readmission rate greater than 1 \n",
    "+ In hospitals/facilities with number of discharges > 1000, mean excess readmission rate is 0.978 and 44% have excess readmission rate greater than 1 "
   ]
  },
  {
   "cell_type": "code",
   "execution_count": 13,
   "metadata": {},
   "outputs": [
    {
     "name": "stdout",
     "output_type": "stream",
     "text": [
      "<class 'pandas.core.frame.DataFrame'>\n",
      "Int64Index: 11494 entries, 1832 to 6643\n",
      "Data columns (total 12 columns):\n",
      "Hospital Name                 11494 non-null object\n",
      "Provider Number               11494 non-null int64\n",
      "State                         11494 non-null object\n",
      "Measure Name                  11494 non-null object\n",
      "Number of Discharges          11494 non-null int64\n",
      "Footnote                      0 non-null float64\n",
      "Excess Readmission Ratio      11494 non-null float64\n",
      "Predicted Readmission Rate    11494 non-null float64\n",
      "Expected Readmission Rate     11494 non-null float64\n",
      "Number of Readmissions        11494 non-null float64\n",
      "Start Date                    11494 non-null object\n",
      "End Date                      11494 non-null object\n",
      "dtypes: float64(5), int64(2), object(5)\n",
      "memory usage: 1.1+ MB\n"
     ]
    }
   ],
   "source": [
    "# Drop observations without excess readmission rate\n",
    "clean_hospital_read_df = clean_hospital_read_df[81:-3]\n",
    "clean_hospital_read_df.info()"
   ]
  },
  {
   "cell_type": "code",
   "execution_count": 14,
   "metadata": {},
   "outputs": [
    {
     "data": {
      "text/plain": [
       "1.0226183501683506"
      ]
     },
     "execution_count": 14,
     "metadata": {},
     "output_type": "execute_result"
    }
   ],
   "source": [
    "# Mean excess readmission rate for hopitals/facilities with number of discharges < 100\n",
    "discharges_below_100 = clean_hospital_read_df[clean_hospital_read_df['Number of Discharges'] < 100]\n",
    "discharges_below_100['Excess Readmission Ratio'].mean()"
   ]
  },
  {
   "cell_type": "code",
   "execution_count": 15,
   "metadata": {},
   "outputs": [
    {
     "data": {
      "text/plain": [
       "0.6321548821548821"
      ]
     },
     "execution_count": 15,
     "metadata": {},
     "output_type": "execute_result"
    }
   ],
   "source": [
    "# Proportion of hospitals have excess readmission rate greater than 1 \n",
    "# for hopitals/facilities with number of discharges < 100\n",
    "np.sum(discharges_below_100['Excess Readmission Ratio'] > 1) / len(discharges_below_100)"
   ]
  },
  {
   "cell_type": "code",
   "execution_count": 16,
   "metadata": {},
   "outputs": [
    {
     "data": {
      "text/plain": [
       "0.9790730434782613"
      ]
     },
     "execution_count": 16,
     "metadata": {},
     "output_type": "execute_result"
    }
   ],
   "source": [
    "# Mean excess readmission rate for hospitals/facilities with number of discharges > 100\n",
    "discharges_over_1000 = clean_hospital_read_df[clean_hospital_read_df['Number of Discharges'] > 1000]\n",
    "discharges_over_1000['Excess Readmission Ratio'].mean()"
   ]
  },
  {
   "cell_type": "code",
   "execution_count": 17,
   "metadata": {},
   "outputs": [
    {
     "data": {
      "text/plain": [
       "0.44565217391304346"
      ]
     },
     "execution_count": 17,
     "metadata": {},
     "output_type": "execute_result"
    }
   ],
   "source": [
    "# Proportion of hospitals have excess readmission rate greater than 1 \n",
    "# for hopitals/facilities with number of discharges > 100\n",
    "np.sum(discharges_over_1000['Excess Readmission Ratio'] > 1) / len(discharges_over_1000)"
   ]
  },
  {
   "cell_type": "markdown",
   "metadata": {},
   "source": [
    "<div class=\"alert alert-block alert-info\">\n",
    "**My opinion regarding statement A: ** <br>\n",
    "Both statistics are correct.\n",
    "</div>"
   ]
  },
  {
   "cell_type": "markdown",
   "metadata": {},
   "source": [
    "**C. Conclusions**\n",
    "+ There is a significant correlation between hospital capacity (number of discharges) and readmission rates. \n",
    "+ Smaller hospitals/facilities may be lacking necessary resources to ensure quality care and prevent complications that lead to readmissions."
   ]
  },
  {
   "cell_type": "code",
   "execution_count": 18,
   "metadata": {
    "collapsed": true
   },
   "outputs": [],
   "source": [
    "from scipy import stats"
   ]
  },
  {
   "cell_type": "code",
   "execution_count": 19,
   "metadata": {},
   "outputs": [
    {
     "data": {
      "text/plain": [
       "-0.09309554287590442"
      ]
     },
     "execution_count": 19,
     "metadata": {},
     "output_type": "execute_result"
    }
   ],
   "source": [
    "# Compute correlation coefficient \n",
    "clean_hospital_read_df['Number of Discharges'].corr(clean_hospital_read_df['Excess Readmission Ratio'])"
   ]
  },
  {
   "cell_type": "code",
   "execution_count": 20,
   "metadata": {},
   "outputs": [
    {
     "name": "stdout",
     "output_type": "stream",
     "text": [
      "correlation coefficient =  -0.09309554287590441\n",
      "p-value =  1.5022756426464526e-23\n"
     ]
    }
   ],
   "source": [
    "# pearson correlation coefficient and the p-value to test non-correlation\n",
    "pearson_test = stats.pearsonr(clean_hospital_read_df['Number of Discharges'], clean_hospital_read_df['Excess Readmission Ratio'])\n",
    "print('correlation coefficient = ', pearson_test[0])\n",
    "print('p-value = ', pearson_test[1])"
   ]
  },
  {
   "cell_type": "markdown",
   "metadata": {},
   "source": [
    "<div class=\"alert alert-block alert-info\">\n",
    "**My opinion regarding statement C: ** <br>\n",
    "Hopital capacity (number of discharges) and readmission rates have a negative correlation. Although the correlation between them is statistically significant, it's practically quite small, only -0.097. \n",
    "</div>"
   ]
  },
  {
   "cell_type": "markdown",
   "metadata": {},
   "source": [
    "**D. Regulatory policy recommendations**\n",
    "+ Hospitals/facilties with small capacity (< 300) should be required to demonstrate upgraded resource allocation for quality care to continue operation.\n",
    "+ Directives and incentives should be provided for consolidation of hospitals and facilities to have a smaller number of them with higher capacity and number of discharges.\n",
    "\n",
    "<div class=\"alert alert-block alert-info\">\n",
    "** My opinion regarding statement D: ** <br>\n",
    "$\\bullet$ What the preliminary report has done is calculating two statistics for hospitals with capacity < 100 and capacity > 1000, nothing about capacity < 300 and > 300. Yet recommendations are made to hospitals with small capacity (< 300).   <br>\n",
    "$\\bullet$ Although we find that capacity and excess readmission ratio is negatively correlated, the correlation is pretty small. Besides, we are not taking other relevant factors into consideration. We cannot get the conclusion that as long as we increase hospitals/facilities capacity, readmission ratio will decrease. \n",
    "</div>"
   ]
  },
  {
   "cell_type": "markdown",
   "metadata": {},
   "source": [
    "### Part 2: to provide more analysis."
   ]
  },
  {
   "cell_type": "markdown",
   "metadata": {},
   "source": [
    "#### 2.1 Perform a simple linear regression to see the relationship between number of discharges and excess readmission ratio"
   ]
  },
  {
   "cell_type": "code",
   "execution_count": 21,
   "metadata": {},
   "outputs": [
    {
     "name": "stdout",
     "output_type": "stream",
     "text": [
      "Estimated slop =  -2.856505294381995e-05\n",
      "Estimated intercept =  1.01794755795442\n"
     ]
    },
    {
     "data": {
      "image/png": "[encoded data removed]",
      "text/plain": [
       "<matplotlib.figure.Figure at 0x113c69278>"
      ]
     },
     "metadata": {},
     "output_type": "display_data"
    }
   ],
   "source": [
    "plt.scatter(clean_hospital_read_df['Number of Discharges'], clean_hospital_read_df['Excess Readmission Ratio'], alpha=0.5)\n",
    "plt.xlabel('Number of Discharges')\n",
    "plt.ylabel('Excess Readmission Ratio')\n",
    "\n",
    "a, b = np.polyfit(clean_hospital_read_df['Number of Discharges'], \n",
    "                  clean_hospital_read_df['Excess Readmission Ratio'], 1)\n",
    "\n",
    "x = np.array([0, 3000])\n",
    "y = a * x + b\n",
    "\n",
    "plt.plot(x, y, color='red')\n",
    "plt.ylim(0, 2)\n",
    "\n",
    "print('Estimated slop = ', a)\n",
    "print('Estimated intercept = ', b)"
   ]
  },
  {
   "cell_type": "code",
   "execution_count": 22,
   "metadata": {},
   "outputs": [
    {
     "data": {
      "text/html": [
       "<table class=\"simpletable\">\n",
       "<caption>OLS Regression Results</caption>\n",
       "<tr>\n",
       "  <th>Dep. Variable:</th>    <td>Excess Readmission Ratio</td> <th>  R-squared:         </th>  <td>   0.009</td> \n",
       "</tr>\n",
       "<tr>\n",
       "  <th>Model:</th>                       <td>OLS</td>           <th>  Adj. R-squared:    </th>  <td>   0.009</td> \n",
       "</tr>\n",
       "<tr>\n",
       "  <th>Method:</th>                 <td>Least Squares</td>      <th>  F-statistic:       </th>  <td>   100.5</td> \n",
       "</tr>\n",
       "<tr>\n",
       "  <th>Date:</th>                 <td>Sun, 16 Dec 2018</td>     <th>  Prob (F-statistic):</th>  <td>1.50e-23</td> \n",
       "</tr>\n",
       "<tr>\n",
       "  <th>Time:</th>                     <td>23:01:30</td>         <th>  Log-Likelihood:    </th>  <td>  11177.</td> \n",
       "</tr>\n",
       "<tr>\n",
       "  <th>No. Observations:</th>          <td> 11494</td>          <th>  AIC:               </th> <td>-2.235e+04</td>\n",
       "</tr>\n",
       "<tr>\n",
       "  <th>Df Residuals:</th>              <td> 11492</td>          <th>  BIC:               </th> <td>-2.233e+04</td>\n",
       "</tr>\n",
       "<tr>\n",
       "  <th>Df Model:</th>                  <td>     1</td>          <th>                     </th>      <td> </td>    \n",
       "</tr>\n",
       "<tr>\n",
       "  <th>Covariance Type:</th>          <td>nonrobust</td>        <th>                     </th>      <td> </td>    \n",
       "</tr>\n",
       "</table>\n",
       "<table class=\"simpletable\">\n",
       "<tr>\n",
       "            <td></td>              <th>coef</th>     <th>std err</th>      <th>t</th>      <th>P>|t|</th>  <th>[0.025</th>    <th>0.975]</th>  \n",
       "</tr>\n",
       "<tr>\n",
       "  <th>const</th>                <td>    1.0179</td> <td>    0.001</td> <td>  757.349</td> <td> 0.000</td> <td>    1.015</td> <td>    1.021</td>\n",
       "</tr>\n",
       "<tr>\n",
       "  <th>Number of Discharges</th> <td>-2.857e-05</td> <td> 2.85e-06</td> <td>  -10.023</td> <td> 0.000</td> <td>-3.42e-05</td> <td> -2.3e-05</td>\n",
       "</tr>\n",
       "</table>\n",
       "<table class=\"simpletable\">\n",
       "<tr>\n",
       "  <th>Omnibus:</th>       <td>1666.001</td> <th>  Durbin-Watson:     </th> <td>   2.026</td>\n",
       "</tr>\n",
       "<tr>\n",
       "  <th>Prob(Omnibus):</th>  <td> 0.000</td>  <th>  Jarque-Bera (JB):  </th> <td>6855.329</td>\n",
       "</tr>\n",
       "<tr>\n",
       "  <th>Skew:</th>           <td> 0.670</td>  <th>  Prob(JB):          </th> <td>    0.00</td>\n",
       "</tr>\n",
       "<tr>\n",
       "  <th>Kurtosis:</th>       <td> 6.538</td>  <th>  Cond. No.          </th> <td>    743.</td>\n",
       "</tr>\n",
       "</table><br/><br/>Warnings:<br/>[1] Standard Errors assume that the covariance matrix of the errors is correctly specified."
      ],
      "text/plain": [
       "<class 'statsmodels.iolib.summary.Summary'>\n",
       "\"\"\"\n",
       "                               OLS Regression Results                               \n",
       "====================================================================================\n",
       "Dep. Variable:     Excess Readmission Ratio   R-squared:                       0.009\n",
       "Model:                                  OLS   Adj. R-squared:                  0.009\n",
       "Method:                       Least Squares   F-statistic:                     100.5\n",
       "Date:                      Sun, 16 Dec 2018   Prob (F-statistic):           1.50e-23\n",
       "Time:                              23:01:30   Log-Likelihood:                 11177.\n",
       "No. Observations:                     11494   AIC:                        -2.235e+04\n",
       "Df Residuals:                         11492   BIC:                        -2.233e+04\n",
       "Df Model:                                 1                                         \n",
       "Covariance Type:                  nonrobust                                         \n",
       "========================================================================================\n",
       "                           coef    std err          t      P>|t|      [0.025      0.975]\n",
       "----------------------------------------------------------------------------------------\n",
       "const                    1.0179      0.001    757.349      0.000       1.015       1.021\n",
       "Number of Discharges -2.857e-05   2.85e-06    -10.023      0.000   -3.42e-05    -2.3e-05\n",
       "==============================================================================\n",
       "Omnibus:                     1666.001   Durbin-Watson:                   2.026\n",
       "Prob(Omnibus):                  0.000   Jarque-Bera (JB):             6855.329\n",
       "Skew:                           0.670   Prob(JB):                         0.00\n",
       "Kurtosis:                       6.538   Cond. No.                         743.\n",
       "==============================================================================\n",
       "\n",
       "Warnings:\n",
       "[1] Standard Errors assume that the covariance matrix of the errors is correctly specified.\n",
       "\"\"\""
      ]
     },
     "execution_count": 22,
     "metadata": {},
     "output_type": "execute_result"
    }
   ],
   "source": [
    "import statsmodels.api as sm \n",
    "\n",
    "X = clean_hospital_read_df[['Number of Discharges']]\n",
    "y = clean_hospital_read_df[['Excess Readmission Ratio']]\n",
    "X = sm.add_constant(X) \n",
    "\n",
    "model = sm.OLS(y, X).fit() \n",
    "model.summary()"
   ]
  },
  {
   "cell_type": "markdown",
   "metadata": {},
   "source": [
    "The slope is -2.857e-05 and significant. Same as the correlation test, our results are statistically significant, but not practically significant. Based on this simple naive model, we can say capacity does have an negative effect on ERR, but the effect is extremely small. "
   ]
  },
  {
   "cell_type": "markdown",
   "metadata": {},
   "source": [
    "#### 2.2 Let's first repeat the above statment B statistics for small capacity ( <  300 discharges) and large capacity ( >= 300 discharges) hospitals/facilities"
   ]
  },
  {
   "cell_type": "code",
   "execution_count": 23,
   "metadata": {},
   "outputs": [
    {
     "name": "stdout",
     "output_type": "stream",
     "text": [
      "In hospitals/facilities with number of discharges < 300, mean excess readmission rate is 1.014, and 53.75% have excess readmission rate greater than 1\n"
     ]
    }
   ],
   "source": [
    "discharges_below_300 = clean_hospital_read_df[clean_hospital_read_df['Number of Discharges'] < 300]\n",
    "mean_below_300 = discharges_below_300['Excess Readmission Ratio'].mean()\n",
    "prop_below_300 = np.sum(discharges_below_300['Excess Readmission Ratio'] > 1) / len(discharges_below_300)\n",
    "print('In hospitals/facilities with number of discharges < 300, mean excess readmission rate is {}, and {}% have excess readmission rate greater than 1'.format(round(mean_below_300, 3), \n",
    "                                                                                         round(prop_below_300, 4) * 100))"
   ]
  },
  {
   "cell_type": "code",
   "execution_count": 24,
   "metadata": {},
   "outputs": [
    {
     "name": "stdout",
     "output_type": "stream",
     "text": [
      "In hospitals/facilities with number of discharges >= 300, mean excess readmission rate is 1.0, and 49.29% have excess readmission rate greater than 1\n"
     ]
    }
   ],
   "source": [
    "discharges_over_300 = clean_hospital_read_df[clean_hospital_read_df['Number of Discharges'] >= 300]\n",
    "mean_over_300 = discharges_over_300['Excess Readmission Ratio'].mean()\n",
    "prop_over_300 = np.sum(discharges_over_300['Excess Readmission Ratio'] > 1) / len(discharges_over_300)\n",
    "print('In hospitals/facilities with number of discharges >= 300, mean excess readmission rate is {}, and {}% have excess readmission rate greater than 1'.format(round(mean_over_300, 3), \n",
    "                                                                                         round(prop_over_300, 4) * 100))"
   ]
  },
  {
   "cell_type": "markdown",
   "metadata": {},
   "source": [
    "#### 2.3 Plot empirical cumulative distribution and box plots for small capacity ( <  300 discharges) and large capacity ( >= 300 discharges) hospitals/facilities"
   ]
  },
  {
   "cell_type": "code",
   "execution_count": 25,
   "metadata": {
    "collapsed": true
   },
   "outputs": [],
   "source": [
    "def ecdf(data):\n",
    "    '''Compute ECDF for a one-dimensional array of measurements'''\n",
    "    n = len(data)\n",
    "    x = np.sort(data)\n",
    "    y = np.arange(1, n+1)/n\n",
    "    return x, y"
   ]
  },
  {
   "cell_type": "code",
   "execution_count": 26,
   "metadata": {},
   "outputs": [
    {
     "data": {
      "image/png": "[encoded data removed]",
      "text/plain": [
       "<matplotlib.figure.Figure at 0x1c1e00d3c8>"
      ]
     },
     "metadata": {},
     "output_type": "display_data"
    }
   ],
   "source": [
    "x_below_300, y_below_300 = ecdf(discharges_below_300['Excess Readmission Ratio'])\n",
    "x_over_300, y_over_300 = ecdf(discharges_over_300['Excess Readmission Ratio'])\n",
    "plt.plot(x_below_300, y_below_300, marker='.', linestyle='None', color='blue')\n",
    "plt.plot(x_over_300, y_over_300, marker='.', linestyle='None', color='red')\n",
    "plt.xlabel('Excess Readmission Ratio')\n",
    "plt.ylabel('ECDF')\n",
    "plt.legend(['Small Capacity', 'Large Capacity'], loc='lower right');"
   ]
  },
  {
   "cell_type": "markdown",
   "metadata": {},
   "source": [
    "From the ECDF plot, we find that the two distributions are quite similar, except that for small capicity hospitals/facilities, there are more of them having greater excess readmission ratio comparing with large capacity hospitals. "
   ]
  },
  {
   "cell_type": "code",
   "execution_count": 27,
   "metadata": {},
   "outputs": [
    {
     "data": {
      "image/png": "[encoded data removed]",
      "text/plain": [
       "<matplotlib.figure.Figure at 0x1c1e00d080>"
      ]
     },
     "metadata": {},
     "output_type": "display_data"
    }
   ],
   "source": [
    "f, (ax1, ax2) = plt.subplots(1, 2, sharey=True, figsize=(10, 5))\n",
    "ax1.boxplot(discharges_below_300['Excess Readmission Ratio'])\n",
    "ax1.set_title('Boxplot for ERR in small capacity hospitals/facilities')\n",
    "ax1.set_xlabel('Small Capacity')\n",
    "ax1.set_ylabel('Excess Readmission Ratio')\n",
    "ax1.set_xticks([])\n",
    "ax2.boxplot(discharges_over_300['Excess Readmission Ratio'])\n",
    "ax2.set_title('Boxplot for ERR in large capacity hospitals/facilities')\n",
    "ax2.set_xlabel('Large Capacity')\n",
    "ax2.set_xticks([]);"
   ]
  },
  {
   "cell_type": "markdown",
   "metadata": {},
   "source": [
    "From the box plots, we can find that mean values are quite close for the two groups and ERR in large capacity hospitals are more spread than small capacity hospitals. "
   ]
  },
  {
   "cell_type": "markdown",
   "metadata": {},
   "source": [
    "#### 2.4 Test difference in means for small capacity and large capacity hospitals/facilities using Bootstrap\n",
    "The following three tests have the same null and alternative hypothesis: <br>\n",
    "$H_{0}: $ difference in means is equal to 0. <br>\n",
    "$H_{1}: $ difference in means is not equal to 0. <br>\n",
    "significance level $\\alpha = 0.01$"
   ]
  },
  {
   "cell_type": "code",
   "execution_count": 28,
   "metadata": {
    "collapsed": true
   },
   "outputs": [],
   "source": [
    "np.random.seed(42)"
   ]
  },
  {
   "cell_type": "code",
   "execution_count": 29,
   "metadata": {
    "collapsed": true
   },
   "outputs": [],
   "source": [
    "def draw_bs_reps(data, func, size):\n",
    "    '''Draw bootstrap replicates'''\n",
    "    bs_reps = np.empty(size)\n",
    "    \n",
    "    for i in range(size):\n",
    "        bs_reps[i] = func(np.random.choice(data, size=len(data)))\n",
    "    \n",
    "    return bs_reps"
   ]
  },
  {
   "cell_type": "code",
   "execution_count": 30,
   "metadata": {
    "collapsed": true
   },
   "outputs": [],
   "source": [
    "mean_all = np.mean(clean_hospital_read_df['Excess Readmission Ratio'])\n",
    "err_small = discharges_below_300['Excess Readmission Ratio']\n",
    "err_large = discharges_over_300['Excess Readmission Ratio']\n",
    "\n",
    "err_small_shift = err_small - np.mean(err_small) + mean_all\n",
    "err_large_shift = err_large - np.mean(err_large) + mean_all\n",
    "\n",
    "err_small_shift_rep = draw_bs_reps(err_small_shift, np.mean, 100000)\n",
    "err_large_shift_rep = draw_bs_reps(err_large_shift, np.mean, 100000)\n",
    "\n",
    "err_diff = err_small_shift_rep - err_large_shift_rep\n",
    "\n",
    "p_boot = np.sum(abs(err_diff) >= abs(np.mean(err_small) - np.mean(err_large))) / len(err_diff)"
   ]
  },
  {
   "cell_type": "code",
   "execution_count": 31,
   "metadata": {
    "collapsed": true
   },
   "outputs": [],
   "source": [
    "# 99% confidence interval for difference in mean\n",
    "conf_int = np.percentile(err_diff, [0.5, 99.5])"
   ]
  },
  {
   "cell_type": "markdown",
   "metadata": {},
   "source": [
    "#### 2.5 Test difference in means for small capacity and large capacity hospitals/facilities using Permutation"
   ]
  },
  {
   "cell_type": "code",
   "execution_count": 32,
   "metadata": {
    "collapsed": true
   },
   "outputs": [],
   "source": [
    "def permutation_sample(data1, data2):\n",
    "    '''Generate a permutation sample from two data sets'''\n",
    "    data = np.concatenate((data1, data2))\n",
    "    \n",
    "    permuted_data = np.random.permutation(data)\n",
    "    \n",
    "    perm_sample_1 = permuted_data[: len(data1)]\n",
    "    perm_sample_2 = permuted_data[len(data1):]\n",
    "    \n",
    "    return perm_sample_1, perm_sample_2"
   ]
  },
  {
   "cell_type": "code",
   "execution_count": 33,
   "metadata": {
    "collapsed": true
   },
   "outputs": [],
   "source": [
    "def diff_of_means(data_1, data_2):\n",
    "    \"\"\"Difference in means of two arrays.\"\"\"\n",
    "    diff = np.mean(data_1) - np.mean(data_2)\n",
    "    return diff\n",
    "\n",
    "def draw_perm_reps(data_1, data_2, func, size=1):\n",
    "    \"\"\"Generate multiple permutation replicates.\"\"\"\n",
    "    perm_replicates = np.empty(size)\n",
    "\n",
    "    for i in range(size):\n",
    "        perm_sample_1, perm_sample_2 = permutation_sample(data_1, data_2)\n",
    "        perm_replicates[i] = func(perm_sample_1, perm_sample_2)\n",
    "\n",
    "    return perm_replicates"
   ]
  },
  {
   "cell_type": "code",
   "execution_count": 34,
   "metadata": {
    "collapsed": true
   },
   "outputs": [],
   "source": [
    "perm_replicates = draw_perm_reps(err_small, err_large, diff_of_means, size=100000)\n",
    "p_perm = np.sum(abs(perm_replicates) >= abs(np.mean(err_small) - np.mean(err_large))) / len(perm_replicates)"
   ]
  },
  {
   "cell_type": "markdown",
   "metadata": {},
   "source": [
    "#### 2.6 Test difference in means for the two groups using T-test"
   ]
  },
  {
   "cell_type": "code",
   "execution_count": 35,
   "metadata": {
    "collapsed": true
   },
   "outputs": [],
   "source": [
    "ttest = stats.ttest_ind(err_small, err_large)"
   ]
  },
  {
   "cell_type": "markdown",
   "metadata": {},
   "source": [
    "#### 2.7 Conclusion for testing mean difference"
   ]
  },
  {
   "cell_type": "code",
   "execution_count": 36,
   "metadata": {},
   "outputs": [
    {
     "name": "stdout",
     "output_type": "stream",
     "text": [
      "Observed difference in Mean =  0.014292371111306212\n",
      "Bootstrap test p-value =  0.0\n",
      "Permutation test p-value =  0.0\n",
      "T-test p-value =  8.00179899328217e-17\n",
      "99% confidence interval for difference in mean is  [-0.00446388  0.00449551]\n"
     ]
    }
   ],
   "source": [
    "print('Observed difference in Mean = ', np.mean(err_small) - np.mean(err_large))\n",
    "print('Bootstrap test p-value = ', p_boot)\n",
    "print('Permutation test p-value = ', p_perm)\n",
    "print('T-test p-value = ', ttest[1])\n",
    "print('99% confidence interval for difference in mean is ', conf_int)"
   ]
  },
  {
   "cell_type": "markdown",
   "metadata": {},
   "source": [
    "- As can be seen from the test results, difference in mean is statistically significant. However, the difference is not practical significance. We are 99% confident that the confidence interval contains the true difference in mean. The range of the interval is quite narrow, less than 0.009. \n",
    "- For our case, we can say that consolidating hospitals may decrease ERR, but the decrease will be small. \n",
    "- Thus, it is not reasonable to recommend consolidating hospitals/facilities. I would recommend to provide incentives and directives to better allocate resource and improve quality care for small hospitals. "
   ]
  },
  {
   "cell_type": "code",
   "execution_count": null,
   "metadata": {
    "collapsed": true
   },
   "outputs": [],
   "source": []
  }
 ],
 "metadata": {
  "anaconda-cloud": {},
  "kernelspec": {
   "display_name": "Python 3",
   "language": "python",
   "name": "python3"
  },
  "language_info": {
   "codemirror_mode": {
    "name": "ipython",
    "version": 3
   },
   "file_extension": ".py",
   "mimetype": "text/x-python",
   "name": "python",
   "nbconvert_exporter": "python",
   "pygments_lexer": "ipython3",
   "version": "3.6.3"
  }
 },
 "nbformat": 4,
 "nbformat_minor": 1
}
