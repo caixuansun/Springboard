{
 "cells": [
  {
   "cell_type": "markdown",
   "metadata": {},
   "source": [
    "## Collaborative Filtering with Neighborhood-Based Method and Matrix Factorization using Turicreate"
   ]
  },
  {
   "cell_type": "markdown",
   "metadata": {},
   "source": [
    "In this notebook, neighborhood-based models using different similarity metrics are implemented to generate recommendations. <br>\n",
    "I am using the library [TuriCreate](https://github.com/apple/turicreate) to implement the item-item collaborative filtering."
   ]
  },
  {
   "cell_type": "code",
   "execution_count": 1,
   "metadata": {},
   "outputs": [],
   "source": [
    "import pandas as pd\n",
    "import numpy as np\n",
    "import os\n",
    "import turicreate as tc\n",
    "\n",
    "PROJ_ROOT = os.path.join(os.pardir)"
   ]
  },
  {
   "cell_type": "markdown",
   "metadata": {},
   "source": [
    "# Table of Contents\n",
    "\n",
    "* [1. Load Datasets](#1.-Load-Datasets)\n",
    "* [2. Data Preprocessing](#2.-Data-Preprocessing)\n",
    "* [3. Evaluation Metric: Recall@K](#3.-Evaluation-Metric:-Recall@K)\n",
    "* [4. Benchmark Model: Non-personalized Popularity Model](#4.-Benchmark-Model:-Non-personalized-Popularity-Model)\n",
    "* [5. Neighborhood-Based Models](#5.-Neighborhood-Based-Models)\n",
    "    * [5.1 Neighborhood-Based Model using Cosine Similarity Metric](#5.1-Neighborhood-Based-Model-using-Cosine-Similarity-Metric)\n",
    "    * [5.2 Neighborhood-Based Model using Jaccard Similarity Metric](#5.2-Neighborhood-Based-Model-using-Jaccard-Similarity-Metric)"
   ]
  },
  {
   "cell_type": "markdown",
   "metadata": {},
   "source": [
    "## 1. Load Datasets"
   ]
  },
  {
   "cell_type": "code",
   "execution_count": 2,
   "metadata": {},
   "outputs": [],
   "source": [
    "orders = pd.read_csv('../data/raw/orders.csv')\n",
    "order_products = pd.read_csv('../data/raw/order_products__prior.csv')\n",
    "products = pd.read_csv('../data/raw/products.csv')"
   ]
  },
  {
   "cell_type": "code",
   "execution_count": 3,
   "metadata": {},
   "outputs": [],
   "source": [
    "# fill NAs\n",
    "orders.fillna(0, inplace=True)"
   ]
  },
  {
   "cell_type": "code",
   "execution_count": 4,
   "metadata": {},
   "outputs": [],
   "source": [
    "# merge orders and order_products on order_id\n",
    "orders_df = order_products[['order_id', 'product_id']].merge(orders[['order_id', 'user_id', 'order_number']])"
   ]
  },
  {
   "cell_type": "code",
   "execution_count": 5,
   "metadata": {},
   "outputs": [
    {
     "data": {
      "text/html": [
       "<div>\n",
       "<style scoped>\n",
       "    .dataframe tbody tr th:only-of-type {\n",
       "        vertical-align: middle;\n",
       "    }\n",
       "\n",
       "    .dataframe tbody tr th {\n",
       "        vertical-align: top;\n",
       "    }\n",
       "\n",
       "    .dataframe thead th {\n",
       "        text-align: right;\n",
       "    }\n",
       "</style>\n",
       "<table border=\"1\" class=\"dataframe\">\n",
       "  <thead>\n",
       "    <tr style=\"text-align: right;\">\n",
       "      <th></th>\n",
       "      <th>order_id</th>\n",
       "      <th>product_id</th>\n",
       "      <th>user_id</th>\n",
       "      <th>order_number</th>\n",
       "    </tr>\n",
       "  </thead>\n",
       "  <tbody>\n",
       "    <tr>\n",
       "      <th>0</th>\n",
       "      <td>2</td>\n",
       "      <td>33120</td>\n",
       "      <td>202279</td>\n",
       "      <td>3</td>\n",
       "    </tr>\n",
       "    <tr>\n",
       "      <th>1</th>\n",
       "      <td>2</td>\n",
       "      <td>28985</td>\n",
       "      <td>202279</td>\n",
       "      <td>3</td>\n",
       "    </tr>\n",
       "    <tr>\n",
       "      <th>2</th>\n",
       "      <td>2</td>\n",
       "      <td>9327</td>\n",
       "      <td>202279</td>\n",
       "      <td>3</td>\n",
       "    </tr>\n",
       "    <tr>\n",
       "      <th>3</th>\n",
       "      <td>2</td>\n",
       "      <td>45918</td>\n",
       "      <td>202279</td>\n",
       "      <td>3</td>\n",
       "    </tr>\n",
       "    <tr>\n",
       "      <th>4</th>\n",
       "      <td>2</td>\n",
       "      <td>30035</td>\n",
       "      <td>202279</td>\n",
       "      <td>3</td>\n",
       "    </tr>\n",
       "  </tbody>\n",
       "</table>\n",
       "</div>"
      ],
      "text/plain": [
       "   order_id  product_id  user_id  order_number\n",
       "0         2       33120   202279             3\n",
       "1         2       28985   202279             3\n",
       "2         2        9327   202279             3\n",
       "3         2       45918   202279             3\n",
       "4         2       30035   202279             3"
      ]
     },
     "execution_count": 5,
     "metadata": {},
     "output_type": "execute_result"
    }
   ],
   "source": [
    "orders_df.head()"
   ]
  },
  {
   "cell_type": "markdown",
   "metadata": {},
   "source": [
    "## 2. Data Preprocessing"
   ]
  },
  {
   "cell_type": "code",
   "execution_count": 6,
   "metadata": {},
   "outputs": [],
   "source": [
    "def prior_latest(df):\n",
    "    '''Label each order with prior or latest'''\n",
    "    max_row = df['order_number'].max()\n",
    "    labels = np.where(df['order_number'] == max_row,\n",
    "                     'latest', \n",
    "                     'prior')\n",
    "    return pd.DataFrame(labels, index=df.index)\n",
    "\n",
    "def split_train_test_set(df):\n",
    "    '''\n",
    "    df is merged order-products dataset containing order_id, product_id, user_id and order_number,\n",
    "    Split df into training and test data where prior orders are training data and\n",
    "    most recent orders are test data\n",
    "    '''\n",
    "    df['set'] = df.groupby('user_id').apply(prior_latest)\n",
    "    training_set = df[df.set == 'prior'].drop('set', axis=1)\n",
    "    test_set = df[df.set == 'latest'].drop('set', axis=1)\n",
    "    \n",
    "    # sanity check\n",
    "    assert len(training_set) + len(test_set) == len(df)\n",
    "    assert training_set.order_id.nunique() + test_set.order_id.nunique() == df.order_id.nunique()\n",
    "    \n",
    "    return training_set, test_set\n",
    "\n",
    "def make_test_data(test_set):\n",
    "    '''\n",
    "    convert test_set to a dataframe in the form of only two columns, first column is user_id, \n",
    "    second column is a list of products purchased by the user in their most recent order\n",
    "    '''\n",
    "    test_data = test_set.groupby('user_id').product_id.apply(list).reset_index().rename(\n",
    "                columns={'product_id': 'products'})\n",
    "    return test_data\n",
    "\n",
    "def get_user_product_quantity_df(training_set):\n",
    "    '''\n",
    "    generate a dataframe showing how many times each user has purchased certain products\n",
    "    according to their prior order history\n",
    "    '''\n",
    "    user_product_quantity_df = training_set.drop('order_number', axis=1).groupby(['user_id', 'product_id']).count(\n",
    "                                ).reset_index().rename(columns={'order_id':'quantity'})\n",
    "    return user_product_quantity_df\n",
    "\n",
    "def get_prod_names(product_ids, df=products):\n",
    "    '''generate product names from a list of product ids'''\n",
    "    return df[df.product_id.isin(product_ids)][['product_id', 'product_name']]"
   ]
  },
  {
   "cell_type": "code",
   "execution_count": 7,
   "metadata": {},
   "outputs": [],
   "source": [
    "# split the merged orders_df into training and test set\n",
    "training_set, test_set = split_train_test_set(orders_df)\n",
    "\n",
    "# Make test_data in the form we want\n",
    "test_data = make_test_data(test_set)\n",
    "\n",
    "# Prepare training_data\n",
    "user_product_quantity_df = get_user_product_quantity_df(training_set)\n",
    "\n",
    "# Get training_data ready for Turicreate\n",
    "training_data = tc.SFrame(user_product_quantity_df)"
   ]
  },
  {
   "cell_type": "code",
   "execution_count": 8,
   "metadata": {},
   "outputs": [
    {
     "data": {
      "text/html": [
       "<div style=\"max-height:1000px;max-width:1500px;overflow:auto;\"><table frame=\"box\" rules=\"cols\">\n",
       "    <tr>\n",
       "        <th style=\"padding-left: 1em; padding-right: 1em; text-align: center\">user_id</th>\n",
       "        <th style=\"padding-left: 1em; padding-right: 1em; text-align: center\">product_id</th>\n",
       "        <th style=\"padding-left: 1em; padding-right: 1em; text-align: center\">quantity</th>\n",
       "    </tr>\n",
       "    <tr>\n",
       "        <td style=\"padding-left: 1em; padding-right: 1em; text-align: center; vertical-align: top\">1</td>\n",
       "        <td style=\"padding-left: 1em; padding-right: 1em; text-align: center; vertical-align: top\">196</td>\n",
       "        <td style=\"padding-left: 1em; padding-right: 1em; text-align: center; vertical-align: top\">9</td>\n",
       "    </tr>\n",
       "    <tr>\n",
       "        <td style=\"padding-left: 1em; padding-right: 1em; text-align: center; vertical-align: top\">1</td>\n",
       "        <td style=\"padding-left: 1em; padding-right: 1em; text-align: center; vertical-align: top\">10258</td>\n",
       "        <td style=\"padding-left: 1em; padding-right: 1em; text-align: center; vertical-align: top\">8</td>\n",
       "    </tr>\n",
       "    <tr>\n",
       "        <td style=\"padding-left: 1em; padding-right: 1em; text-align: center; vertical-align: top\">1</td>\n",
       "        <td style=\"padding-left: 1em; padding-right: 1em; text-align: center; vertical-align: top\">10326</td>\n",
       "        <td style=\"padding-left: 1em; padding-right: 1em; text-align: center; vertical-align: top\">1</td>\n",
       "    </tr>\n",
       "    <tr>\n",
       "        <td style=\"padding-left: 1em; padding-right: 1em; text-align: center; vertical-align: top\">1</td>\n",
       "        <td style=\"padding-left: 1em; padding-right: 1em; text-align: center; vertical-align: top\">12427</td>\n",
       "        <td style=\"padding-left: 1em; padding-right: 1em; text-align: center; vertical-align: top\">9</td>\n",
       "    </tr>\n",
       "    <tr>\n",
       "        <td style=\"padding-left: 1em; padding-right: 1em; text-align: center; vertical-align: top\">1</td>\n",
       "        <td style=\"padding-left: 1em; padding-right: 1em; text-align: center; vertical-align: top\">13032</td>\n",
       "        <td style=\"padding-left: 1em; padding-right: 1em; text-align: center; vertical-align: top\">2</td>\n",
       "    </tr>\n",
       "    <tr>\n",
       "        <td style=\"padding-left: 1em; padding-right: 1em; text-align: center; vertical-align: top\">1</td>\n",
       "        <td style=\"padding-left: 1em; padding-right: 1em; text-align: center; vertical-align: top\">13176</td>\n",
       "        <td style=\"padding-left: 1em; padding-right: 1em; text-align: center; vertical-align: top\">2</td>\n",
       "    </tr>\n",
       "    <tr>\n",
       "        <td style=\"padding-left: 1em; padding-right: 1em; text-align: center; vertical-align: top\">1</td>\n",
       "        <td style=\"padding-left: 1em; padding-right: 1em; text-align: center; vertical-align: top\">14084</td>\n",
       "        <td style=\"padding-left: 1em; padding-right: 1em; text-align: center; vertical-align: top\">1</td>\n",
       "    </tr>\n",
       "    <tr>\n",
       "        <td style=\"padding-left: 1em; padding-right: 1em; text-align: center; vertical-align: top\">1</td>\n",
       "        <td style=\"padding-left: 1em; padding-right: 1em; text-align: center; vertical-align: top\">17122</td>\n",
       "        <td style=\"padding-left: 1em; padding-right: 1em; text-align: center; vertical-align: top\">1</td>\n",
       "    </tr>\n",
       "    <tr>\n",
       "        <td style=\"padding-left: 1em; padding-right: 1em; text-align: center; vertical-align: top\">1</td>\n",
       "        <td style=\"padding-left: 1em; padding-right: 1em; text-align: center; vertical-align: top\">25133</td>\n",
       "        <td style=\"padding-left: 1em; padding-right: 1em; text-align: center; vertical-align: top\">7</td>\n",
       "    </tr>\n",
       "    <tr>\n",
       "        <td style=\"padding-left: 1em; padding-right: 1em; text-align: center; vertical-align: top\">1</td>\n",
       "        <td style=\"padding-left: 1em; padding-right: 1em; text-align: center; vertical-align: top\">26088</td>\n",
       "        <td style=\"padding-left: 1em; padding-right: 1em; text-align: center; vertical-align: top\">2</td>\n",
       "    </tr>\n",
       "</table>\n",
       "[12422758 rows x 3 columns]<br/>Note: Only the head of the SFrame is printed.<br/>You can use print_rows(num_rows=m, num_columns=n) to print more rows and columns.\n",
       "</div>"
      ],
      "text/plain": [
       "Columns:\n",
       "\tuser_id\tint\n",
       "\tproduct_id\tint\n",
       "\tquantity\tint\n",
       "\n",
       "Rows: 12422758\n",
       "\n",
       "Data:\n",
       "+---------+------------+----------+\n",
       "| user_id | product_id | quantity |\n",
       "+---------+------------+----------+\n",
       "|    1    |    196     |    9     |\n",
       "|    1    |   10258    |    8     |\n",
       "|    1    |   10326    |    1     |\n",
       "|    1    |   12427    |    9     |\n",
       "|    1    |   13032    |    2     |\n",
       "|    1    |   13176    |    2     |\n",
       "|    1    |   14084    |    1     |\n",
       "|    1    |   17122    |    1     |\n",
       "|    1    |   25133    |    7     |\n",
       "|    1    |   26088    |    2     |\n",
       "+---------+------------+----------+\n",
       "[12422758 rows x 3 columns]\n",
       "Note: Only the head of the SFrame is printed.\n",
       "You can use print_rows(num_rows=m, num_columns=n) to print more rows and columns."
      ]
     },
     "execution_count": 8,
     "metadata": {},
     "output_type": "execute_result"
    }
   ],
   "source": [
    "training_data"
   ]
  },
  {
   "cell_type": "code",
   "execution_count": 9,
   "metadata": {},
   "outputs": [
    {
     "data": {
      "text/html": [
       "<div>\n",
       "<style scoped>\n",
       "    .dataframe tbody tr th:only-of-type {\n",
       "        vertical-align: middle;\n",
       "    }\n",
       "\n",
       "    .dataframe tbody tr th {\n",
       "        vertical-align: top;\n",
       "    }\n",
       "\n",
       "    .dataframe thead th {\n",
       "        text-align: right;\n",
       "    }\n",
       "</style>\n",
       "<table border=\"1\" class=\"dataframe\">\n",
       "  <thead>\n",
       "    <tr style=\"text-align: right;\">\n",
       "      <th></th>\n",
       "      <th>user_id</th>\n",
       "      <th>products</th>\n",
       "    </tr>\n",
       "  </thead>\n",
       "  <tbody>\n",
       "    <tr>\n",
       "      <th>0</th>\n",
       "      <td>1</td>\n",
       "      <td>[196, 46149, 39657, 38928, 25133, 10258, 35951...</td>\n",
       "    </tr>\n",
       "    <tr>\n",
       "      <th>1</th>\n",
       "      <td>2</td>\n",
       "      <td>[24852, 16589, 1559, 19156, 18523, 22825, 2741...</td>\n",
       "    </tr>\n",
       "    <tr>\n",
       "      <th>2</th>\n",
       "      <td>3</td>\n",
       "      <td>[39190, 18599, 23650, 21903, 47766, 24810]</td>\n",
       "    </tr>\n",
       "    <tr>\n",
       "      <th>3</th>\n",
       "      <td>4</td>\n",
       "      <td>[26576, 25623, 21573]</td>\n",
       "    </tr>\n",
       "    <tr>\n",
       "      <th>4</th>\n",
       "      <td>5</td>\n",
       "      <td>[27344, 24535, 43693, 40706, 16168, 21413, 139...</td>\n",
       "    </tr>\n",
       "  </tbody>\n",
       "</table>\n",
       "</div>"
      ],
      "text/plain": [
       "   user_id                                           products\n",
       "0        1  [196, 46149, 39657, 38928, 25133, 10258, 35951...\n",
       "1        2  [24852, 16589, 1559, 19156, 18523, 22825, 2741...\n",
       "2        3         [39190, 18599, 23650, 21903, 47766, 24810]\n",
       "3        4                              [26576, 25623, 21573]\n",
       "4        5  [27344, 24535, 43693, 40706, 16168, 21413, 139..."
      ]
     },
     "execution_count": 9,
     "metadata": {},
     "output_type": "execute_result"
    }
   ],
   "source": [
    "test_data.head()"
   ]
  },
  {
   "cell_type": "markdown",
   "metadata": {},
   "source": [
    "- **training_data** is the input for our model, which gives us each users' purchase history with their purchased products and the total quantity purchased for each product.\n",
    "- **test_data** is the hold out data for us to evaluate the model which shows a list of products purchased by each user in their most recent order with Instacart. "
   ]
  },
  {
   "cell_type": "markdown",
   "metadata": {},
   "source": [
    "We need to transform the output of the model to a form like the test_data. The output should provide a list of recommended products for each user. Then we can compare the list of recommended with the list of actual bought items to evaluate the model. "
   ]
  },
  {
   "cell_type": "code",
   "execution_count": 10,
   "metadata": {},
   "outputs": [],
   "source": [
    "def output_transformer(rec):\n",
    "    '''Transform the output of model to the form of test_data'''\n",
    "    rec_df = rec.to_dataframe()\n",
    "    return rec_df.groupby('user_id').product_id.apply(list).reset_index().rename(\n",
    "                columns={'product_id': 'products'})"
   ]
  },
  {
   "cell_type": "markdown",
   "metadata": {},
   "source": [
    "## 3. Evaluation Metric: Recall@K"
   ]
  },
  {
   "cell_type": "markdown",
   "metadata": {},
   "source": [
    "Evaluation metric I choose for the recommender of this case is recall@k. Since for our case, the feedback is implicit, there's not explicit rating scores. It is more appropriate to use classification accuracy metrics. Precision as we know represents the proportion of recommended items that actually bought by the users. It is not that appropriate since we do not know users' reaction to the recommended items. Besides, precision will give us the same result for two users who both bought 2 items from the recommendation list with 10 items, but one of them bought a total of 5 items while the other only bought a total of those 2 items. While the performance of the recommender should not be the same. Recall is more appropriate which represents the proportaion of acutal bought items that are from the recommended list. "
   ]
  },
  {
   "cell_type": "code",
   "execution_count": 11,
   "metadata": {},
   "outputs": [],
   "source": [
    "def recall_at_k(rec, act):\n",
    "    '''\n",
    "    calculate recall from a list of predicted products and a list of actual purchased products\n",
    "    '''\n",
    "    return len(set(rec).intersection(set(act)))/len(set(act)) \n",
    "def mean_recall_at_k_rec(rec_k, test_data):\n",
    "    '''\n",
    "    Calculate mean recall score for our recommender given the transformed output and the test data\n",
    "    '''\n",
    "    score = []\n",
    "    for i in range(len(test_data)):\n",
    "        score.append(recall_at_k(rec_k.products[i], test_data.products[i]))\n",
    "    return np.mean(score)"
   ]
  },
  {
   "cell_type": "markdown",
   "metadata": {},
   "source": [
    "From the EDA part, we know that reorder ratio is quite high. Since recommender is not only about recommending items that users have already purchased before, but also about recommending items that users may be interested in but are unaware of them. Therefore, I would like to build another evaluation metric, still using recall, but eliminating reordered items from test data to check the proportion of first time ordered products that are from the recommended products. "
   ]
  },
  {
   "cell_type": "code",
   "execution_count": 12,
   "metadata": {},
   "outputs": [],
   "source": [
    "def mean_recall_at_k_rec_new(rec_k, test_data):\n",
    "    '''\n",
    "    Calculate mean recall score for our recommender given the transformed output and the test data \n",
    "    with reordered products eliminated\n",
    "    '''\n",
    "    purchased = training_set.groupby('user_id').product_id.apply(list).reset_index().rename(\n",
    "                columns={'product_id': 'purchased'})\n",
    "    score = []\n",
    "    for i in range(len(test_data)):\n",
    "        # get rid of reordered products\n",
    "        new = list(set(test_data.products[i]) - set(purchased.purchased[i]))\n",
    "    # deal with the situation when all products in users's most recent order are reordered\n",
    "        if not new:\n",
    "            score.append(0)\n",
    "        else:\n",
    "            score.append(recall_at_k(rec_k.products[i], new))\n",
    "    return np.mean(score)"
   ]
  },
  {
   "cell_type": "markdown",
   "metadata": {},
   "source": [
    "## 4. Benchmark Model: Non-personalized Popularity Model"
   ]
  },
  {
   "cell_type": "code",
   "execution_count": 13,
   "metadata": {},
   "outputs": [],
   "source": [
    "def most_popular_k(k, df=training_set):\n",
    "    '''\n",
    "    get the most popular k items to be our benchmark recommender\n",
    "    '''\n",
    "    return df.product_id.value_counts().head(k).keys().tolist()\n",
    "\n",
    "def mean_recall_at_k_pop(top_k, test_data):\n",
    "    '''\n",
    "    Calculate mean recall score for the benchmark recommender given the top_k list and the test data\n",
    "    '''\n",
    "    score = []\n",
    "    for i in range(len(test_data)):\n",
    "         score.append(recall_at_k(top_k, test_data.products[i]))\n",
    "    return np.mean(score)\n",
    "\n",
    "def mean_recall_at_k_pop_new(top_k, test_data):\n",
    "    '''\n",
    "    Calculate mean recall score for the benchmark recommender given the top_k list and the test data with \n",
    "    reordered items eliminated\n",
    "    '''\n",
    "    purchased = training_set.groupby('user_id').product_id.apply(list).reset_index().rename(\n",
    "                columns={'product_id': 'purchased'})\n",
    "    score = []\n",
    "    for i in range(len(test_data)):\n",
    "        # get rid of reordered products\n",
    "        new = list(set(test_data.products[i]) - set(purchased.purchased[i]))\n",
    "    # deal with the situation when all products in users's most recent order are reordered\n",
    "        if not new:\n",
    "            score.append(0)\n",
    "        else:\n",
    "            score.append(recall_at_k(top_k, new))\n",
    "    return np.mean(score)"
   ]
  },
  {
   "cell_type": "code",
   "execution_count": 14,
   "metadata": {},
   "outputs": [
    {
     "name": "stdout",
     "output_type": "stream",
     "text": [
      "recall@10 for popularity model is: 0.0699413179973539\n",
      "recall@10 for popularity model without reordered products is: 0.027280349700253143\n",
      "recall@20 for popularity model is: 0.09588023492718917\n",
      "recall@20 for popularity model without reordered products is: 0.043705006414388715\n",
      "recall@50 for popularity model is: 0.15431186904512134\n",
      "recall@50 for popularity model without reordered products is: 0.08048940655391035\n"
     ]
    }
   ],
   "source": [
    "k = [10, 20, 50]\n",
    "\n",
    "for i in k:\n",
    "    top_k = most_popular_k(i, df=training_set)\n",
    "    print('recall@{0} for popularity model is: {1}'.format(i, mean_recall_at_k_pop(top_k, test_data)))\n",
    "    print('recall@{0} for popularity model without reordered products is: {1}'.format(i, \n",
    "                                                            mean_recall_at_k_pop_new(top_k, test_data)))"
   ]
  },
  {
   "cell_type": "markdown",
   "metadata": {},
   "source": [
    "- We can see that recall score increases with the number of products recommended increases. It makes sense cause as we recommend more, more acutually purchased items will fall into the recommended list. \n",
    "- The popularity model is not performing that well in recommending people to try new products they've never bought before. This is because as we know from the EDA the top popular products are similar as those most reordered items. Thus when we get rid of the reordered items from the test data, the interaction of those two lists would shrink. "
   ]
  },
  {
   "cell_type": "markdown",
   "metadata": {},
   "source": [
    "#### Example: user_id == 100"
   ]
  },
  {
   "cell_type": "code",
   "execution_count": 15,
   "metadata": {},
   "outputs": [
    {
     "name": "stdout",
     "output_type": "stream",
     "text": [
      "User_id 100 actually bought: \n"
     ]
    },
    {
     "data": {
      "text/html": [
       "<div>\n",
       "<style scoped>\n",
       "    .dataframe tbody tr th:only-of-type {\n",
       "        vertical-align: middle;\n",
       "    }\n",
       "\n",
       "    .dataframe tbody tr th {\n",
       "        vertical-align: top;\n",
       "    }\n",
       "\n",
       "    .dataframe thead th {\n",
       "        text-align: right;\n",
       "    }\n",
       "</style>\n",
       "<table border=\"1\" class=\"dataframe\">\n",
       "  <thead>\n",
       "    <tr style=\"text-align: right;\">\n",
       "      <th></th>\n",
       "      <th>product_id</th>\n",
       "      <th>product_name</th>\n",
       "    </tr>\n",
       "  </thead>\n",
       "  <tbody>\n",
       "    <tr>\n",
       "      <th>21136</th>\n",
       "      <td>21137</td>\n",
       "      <td>Organic Strawberries</td>\n",
       "    </tr>\n",
       "    <tr>\n",
       "      <th>21615</th>\n",
       "      <td>21616</td>\n",
       "      <td>Organic Baby Arugula</td>\n",
       "    </tr>\n",
       "    <tr>\n",
       "      <th>24851</th>\n",
       "      <td>24852</td>\n",
       "      <td>Banana</td>\n",
       "    </tr>\n",
       "    <tr>\n",
       "      <th>26368</th>\n",
       "      <td>26369</td>\n",
       "      <td>Organic Roma Tomato</td>\n",
       "    </tr>\n",
       "    <tr>\n",
       "      <th>27343</th>\n",
       "      <td>27344</td>\n",
       "      <td>Uncured Genoa Salami</td>\n",
       "    </tr>\n",
       "    <tr>\n",
       "      <th>38546</th>\n",
       "      <td>38547</td>\n",
       "      <td>Bubblegum Flavor Natural Chewing Gum</td>\n",
       "    </tr>\n",
       "    <tr>\n",
       "      <th>38688</th>\n",
       "      <td>38689</td>\n",
       "      <td>Organic Reduced Fat Milk</td>\n",
       "    </tr>\n",
       "    <tr>\n",
       "      <th>48627</th>\n",
       "      <td>48628</td>\n",
       "      <td>Organic Whole Wheat Bread</td>\n",
       "    </tr>\n",
       "  </tbody>\n",
       "</table>\n",
       "</div>"
      ],
      "text/plain": [
       "       product_id                          product_name\n",
       "21136       21137                  Organic Strawberries\n",
       "21615       21616                  Organic Baby Arugula\n",
       "24851       24852                                Banana\n",
       "26368       26369                   Organic Roma Tomato\n",
       "27343       27344                  Uncured Genoa Salami\n",
       "38546       38547  Bubblegum Flavor Natural Chewing Gum\n",
       "38688       38689              Organic Reduced Fat Milk\n",
       "48627       48628             Organic Whole Wheat Bread"
      ]
     },
     "execution_count": 15,
     "metadata": {},
     "output_type": "execute_result"
    }
   ],
   "source": [
    "print('User_id 100 actually bought: ')\n",
    "get_prod_names(test_data.products[99])"
   ]
  },
  {
   "cell_type": "code",
   "execution_count": 16,
   "metadata": {},
   "outputs": [
    {
     "name": "stdout",
     "output_type": "stream",
     "text": [
      "User_id 100 got recommended: \n"
     ]
    },
    {
     "data": {
      "text/html": [
       "<div>\n",
       "<style scoped>\n",
       "    .dataframe tbody tr th:only-of-type {\n",
       "        vertical-align: middle;\n",
       "    }\n",
       "\n",
       "    .dataframe tbody tr th {\n",
       "        vertical-align: top;\n",
       "    }\n",
       "\n",
       "    .dataframe thead th {\n",
       "        text-align: right;\n",
       "    }\n",
       "</style>\n",
       "<table border=\"1\" class=\"dataframe\">\n",
       "  <thead>\n",
       "    <tr style=\"text-align: right;\">\n",
       "      <th></th>\n",
       "      <th>product_id</th>\n",
       "      <th>product_name</th>\n",
       "    </tr>\n",
       "  </thead>\n",
       "  <tbody>\n",
       "    <tr>\n",
       "      <th>13175</th>\n",
       "      <td>13176</td>\n",
       "      <td>Bag of Organic Bananas</td>\n",
       "    </tr>\n",
       "    <tr>\n",
       "      <th>16796</th>\n",
       "      <td>16797</td>\n",
       "      <td>Strawberries</td>\n",
       "    </tr>\n",
       "    <tr>\n",
       "      <th>21136</th>\n",
       "      <td>21137</td>\n",
       "      <td>Organic Strawberries</td>\n",
       "    </tr>\n",
       "    <tr>\n",
       "      <th>21902</th>\n",
       "      <td>21903</td>\n",
       "      <td>Organic Baby Spinach</td>\n",
       "    </tr>\n",
       "    <tr>\n",
       "      <th>24851</th>\n",
       "      <td>24852</td>\n",
       "      <td>Banana</td>\n",
       "    </tr>\n",
       "    <tr>\n",
       "      <th>26208</th>\n",
       "      <td>26209</td>\n",
       "      <td>Limes</td>\n",
       "    </tr>\n",
       "    <tr>\n",
       "      <th>27844</th>\n",
       "      <td>27845</td>\n",
       "      <td>Organic Whole Milk</td>\n",
       "    </tr>\n",
       "    <tr>\n",
       "      <th>47208</th>\n",
       "      <td>47209</td>\n",
       "      <td>Organic Hass Avocado</td>\n",
       "    </tr>\n",
       "    <tr>\n",
       "      <th>47625</th>\n",
       "      <td>47626</td>\n",
       "      <td>Large Lemon</td>\n",
       "    </tr>\n",
       "    <tr>\n",
       "      <th>47765</th>\n",
       "      <td>47766</td>\n",
       "      <td>Organic Avocado</td>\n",
       "    </tr>\n",
       "  </tbody>\n",
       "</table>\n",
       "</div>"
      ],
      "text/plain": [
       "       product_id            product_name\n",
       "13175       13176  Bag of Organic Bananas\n",
       "16796       16797            Strawberries\n",
       "21136       21137    Organic Strawberries\n",
       "21902       21903    Organic Baby Spinach\n",
       "24851       24852                  Banana\n",
       "26208       26209                   Limes\n",
       "27844       27845      Organic Whole Milk\n",
       "47208       47209    Organic Hass Avocado\n",
       "47625       47626             Large Lemon\n",
       "47765       47766         Organic Avocado"
      ]
     },
     "execution_count": 16,
     "metadata": {},
     "output_type": "execute_result"
    }
   ],
   "source": [
    "print('User_id 100 got recommended: ')\n",
    "get_prod_names(most_popular_k(10, df=training_set))"
   ]
  },
  {
   "cell_type": "markdown",
   "metadata": {},
   "source": [
    "For the customer with user_id = 100, we see that he/she bought two of the products from the recommended list: organic straberries and banana. "
   ]
  },
  {
   "cell_type": "markdown",
   "metadata": {},
   "source": [
    "## 5. Neighborhood-Based Models"
   ]
  },
  {
   "cell_type": "markdown",
   "metadata": {},
   "source": [
    "### 5.1 Neighborhood-Based Model using Cosine Similarity Metric"
   ]
  },
  {
   "cell_type": "code",
   "execution_count": 17,
   "metadata": {},
   "outputs": [
    {
     "data": {
      "text/html": [
       "<pre>Preparing data set.</pre>"
      ],
      "text/plain": [
       "Preparing data set."
      ]
     },
     "metadata": {},
     "output_type": "display_data"
    },
    {
     "data": {
      "text/html": [
       "<pre>    Data has 12422758 observations with 206209 users and 49652 items.</pre>"
      ],
      "text/plain": [
       "    Data has 12422758 observations with 206209 users and 49652 items."
      ]
     },
     "metadata": {},
     "output_type": "display_data"
    },
    {
     "data": {
      "text/html": [
       "<pre>    Data prepared in: 6.15373s</pre>"
      ],
      "text/plain": [
       "    Data prepared in: 6.15373s"
      ]
     },
     "metadata": {},
     "output_type": "display_data"
    },
    {
     "data": {
      "text/html": [
       "<pre>Training model from provided data.</pre>"
      ],
      "text/plain": [
       "Training model from provided data."
      ]
     },
     "metadata": {},
     "output_type": "display_data"
    },
    {
     "data": {
      "text/html": [
       "<pre>Gathering per-item and per-user statistics.</pre>"
      ],
      "text/plain": [
       "Gathering per-item and per-user statistics."
      ]
     },
     "metadata": {},
     "output_type": "display_data"
    },
    {
     "data": {
      "text/html": [
       "<pre>+--------------------------------+------------+</pre>"
      ],
      "text/plain": [
       "+--------------------------------+------------+"
      ]
     },
     "metadata": {},
     "output_type": "display_data"
    },
    {
     "data": {
      "text/html": [
       "<pre>| Elapsed Time (Item Statistics) | % Complete |</pre>"
      ],
      "text/plain": [
       "| Elapsed Time (Item Statistics) | % Complete |"
      ]
     },
     "metadata": {},
     "output_type": "display_data"
    },
    {
     "data": {
      "text/html": [
       "<pre>+--------------------------------+------------+</pre>"
      ],
      "text/plain": [
       "+--------------------------------+------------+"
      ]
     },
     "metadata": {},
     "output_type": "display_data"
    },
    {
     "data": {
      "text/html": [
       "<pre>| 8.723ms                        | 0.25       |</pre>"
      ],
      "text/plain": [
       "| 8.723ms                        | 0.25       |"
      ]
     },
     "metadata": {},
     "output_type": "display_data"
    },
    {
     "data": {
      "text/html": [
       "<pre>| 383.812ms                      | 100        |</pre>"
      ],
      "text/plain": [
       "| 383.812ms                      | 100        |"
      ]
     },
     "metadata": {},
     "output_type": "display_data"
    },
    {
     "data": {
      "text/html": [
       "<pre>+--------------------------------+------------+</pre>"
      ],
      "text/plain": [
       "+--------------------------------+------------+"
      ]
     },
     "metadata": {},
     "output_type": "display_data"
    },
    {
     "data": {
      "text/html": [
       "<pre>Setting up lookup tables.</pre>"
      ],
      "text/plain": [
       "Setting up lookup tables."
      ]
     },
     "metadata": {},
     "output_type": "display_data"
    },
    {
     "data": {
      "text/html": [
       "<pre>Processing data in 2 passes using dense lookup tables.</pre>"
      ],
      "text/plain": [
       "Processing data in 2 passes using dense lookup tables."
      ]
     },
     "metadata": {},
     "output_type": "display_data"
    },
    {
     "data": {
      "text/html": [
       "<pre>+-------------------------------------+------------------+-----------------+</pre>"
      ],
      "text/plain": [
       "+-------------------------------------+------------------+-----------------+"
      ]
     },
     "metadata": {},
     "output_type": "display_data"
    },
    {
     "data": {
      "text/html": [
       "<pre>| Elapsed Time (Constructing Lookups) | Total % Complete | Items Processed |</pre>"
      ],
      "text/plain": [
       "| Elapsed Time (Constructing Lookups) | Total % Complete | Items Processed |"
      ]
     },
     "metadata": {},
     "output_type": "display_data"
    },
    {
     "data": {
      "text/html": [
       "<pre>+-------------------------------------+------------------+-----------------+</pre>"
      ],
      "text/plain": [
       "+-------------------------------------+------------------+-----------------+"
      ]
     },
     "metadata": {},
     "output_type": "display_data"
    },
    {
     "data": {
      "text/html": [
       "<pre>| 6.11s                               | 0                | 0               |</pre>"
      ],
      "text/plain": [
       "| 6.11s                               | 0                | 0               |"
      ]
     },
     "metadata": {},
     "output_type": "display_data"
    },
    {
     "data": {
      "text/html": [
       "<pre>| 9.12s                               | 1.75             | 967             |</pre>"
      ],
      "text/plain": [
       "| 9.12s                               | 1.75             | 967             |"
      ]
     },
     "metadata": {},
     "output_type": "display_data"
    },
    {
     "data": {
      "text/html": [
       "<pre>| 12.13s                              | 5                | 2531            |</pre>"
      ],
      "text/plain": [
       "| 12.13s                              | 5                | 2531            |"
      ]
     },
     "metadata": {},
     "output_type": "display_data"
    },
    {
     "data": {
      "text/html": [
       "<pre>| 15.15s                              | 8.25             | 4103            |</pre>"
      ],
      "text/plain": [
       "| 15.15s                              | 8.25             | 4103            |"
      ]
     },
     "metadata": {},
     "output_type": "display_data"
    },
    {
     "data": {
      "text/html": [
       "<pre>| 18.16s                              | 11               | 5546            |</pre>"
      ],
      "text/plain": [
       "| 18.16s                              | 11               | 5546            |"
      ]
     },
     "metadata": {},
     "output_type": "display_data"
    },
    {
     "data": {
      "text/html": [
       "<pre>| 21.17s                              | 13.5             | 6821            |</pre>"
      ],
      "text/plain": [
       "| 21.17s                              | 13.5             | 6821            |"
      ]
     },
     "metadata": {},
     "output_type": "display_data"
    },
    {
     "data": {
      "text/html": [
       "<pre>| 24.18s                              | 16.25            | 8091            |</pre>"
      ],
      "text/plain": [
       "| 24.18s                              | 16.25            | 8091            |"
      ]
     },
     "metadata": {},
     "output_type": "display_data"
    },
    {
     "data": {
      "text/html": [
       "<pre>| 27.20s                              | 18.75            | 9333            |</pre>"
      ],
      "text/plain": [
       "| 27.20s                              | 18.75            | 9333            |"
      ]
     },
     "metadata": {},
     "output_type": "display_data"
    },
    {
     "data": {
      "text/html": [
       "<pre>| 30.21s                              | 21               | 10496           |</pre>"
      ],
      "text/plain": [
       "| 30.21s                              | 21               | 10496           |"
      ]
     },
     "metadata": {},
     "output_type": "display_data"
    },
    {
     "data": {
      "text/html": [
       "<pre>| 33.22s                              | 23.25            | 11555           |</pre>"
      ],
      "text/plain": [
       "| 33.22s                              | 23.25            | 11555           |"
      ]
     },
     "metadata": {},
     "output_type": "display_data"
    },
    {
     "data": {
      "text/html": [
       "<pre>| 36.23s                              | 25.5             | 12664           |</pre>"
      ],
      "text/plain": [
       "| 36.23s                              | 25.5             | 12664           |"
      ]
     },
     "metadata": {},
     "output_type": "display_data"
    },
    {
     "data": {
      "text/html": [
       "<pre>| 39.25s                              | 27.5             | 13739           |</pre>"
      ],
      "text/plain": [
       "| 39.25s                              | 27.5             | 13739           |"
      ]
     },
     "metadata": {},
     "output_type": "display_data"
    },
    {
     "data": {
      "text/html": [
       "<pre>| 42.26s                              | 29.75            | 14822           |</pre>"
      ],
      "text/plain": [
       "| 42.26s                              | 29.75            | 14822           |"
      ]
     },
     "metadata": {},
     "output_type": "display_data"
    },
    {
     "data": {
      "text/html": [
       "<pre>| 45.27s                              | 32               | 15892           |</pre>"
      ],
      "text/plain": [
       "| 45.27s                              | 32               | 15892           |"
      ]
     },
     "metadata": {},
     "output_type": "display_data"
    },
    {
     "data": {
      "text/html": [
       "<pre>| 48.28s                              | 34               | 16929           |</pre>"
      ],
      "text/plain": [
       "| 48.28s                              | 34               | 16929           |"
      ]
     },
     "metadata": {},
     "output_type": "display_data"
    },
    {
     "data": {
      "text/html": [
       "<pre>| 51.30s                              | 36               | 17968           |</pre>"
      ],
      "text/plain": [
       "| 51.30s                              | 36               | 17968           |"
      ]
     },
     "metadata": {},
     "output_type": "display_data"
    },
    {
     "data": {
      "text/html": [
       "<pre>| 54.31s                              | 38               | 18968           |</pre>"
      ],
      "text/plain": [
       "| 54.31s                              | 38               | 18968           |"
      ]
     },
     "metadata": {},
     "output_type": "display_data"
    },
    {
     "data": {
      "text/html": [
       "<pre>| 57.32s                              | 40               | 19977           |</pre>"
      ],
      "text/plain": [
       "| 57.32s                              | 40               | 19977           |"
      ]
     },
     "metadata": {},
     "output_type": "display_data"
    },
    {
     "data": {
      "text/html": [
       "<pre>| 1m 0s                               | 42.25            | 21064           |</pre>"
      ],
      "text/plain": [
       "| 1m 0s                               | 42.25            | 21064           |"
      ]
     },
     "metadata": {},
     "output_type": "display_data"
    },
    {
     "data": {
      "text/html": [
       "<pre>| 1m 3s                               | 44.5             | 22216           |</pre>"
      ],
      "text/plain": [
       "| 1m 3s                               | 44.5             | 22216           |"
      ]
     },
     "metadata": {},
     "output_type": "display_data"
    },
    {
     "data": {
      "text/html": [
       "<pre>| 1m 6s                               | 46.75            | 23330           |</pre>"
      ],
      "text/plain": [
       "| 1m 6s                               | 46.75            | 23330           |"
      ]
     },
     "metadata": {},
     "output_type": "display_data"
    },
    {
     "data": {
      "text/html": [
       "<pre>| 1m 9s                               | 49.25            | 24454           |</pre>"
      ],
      "text/plain": [
       "| 1m 9s                               | 49.25            | 24454           |"
      ]
     },
     "metadata": {},
     "output_type": "display_data"
    },
    {
     "data": {
      "text/html": [
       "<pre>| 1m 31s                              | 49.75            | 24823           |</pre>"
      ],
      "text/plain": [
       "| 1m 31s                              | 49.75            | 24823           |"
      ]
     },
     "metadata": {},
     "output_type": "display_data"
    },
    {
     "data": {
      "text/html": [
       "<pre>| 1m 34s                              | 100              | 49652           |</pre>"
      ],
      "text/plain": [
       "| 1m 34s                              | 100              | 49652           |"
      ]
     },
     "metadata": {},
     "output_type": "display_data"
    },
    {
     "data": {
      "text/html": [
       "<pre>+-------------------------------------+------------------+-----------------+</pre>"
      ],
      "text/plain": [
       "+-------------------------------------+------------------+-----------------+"
      ]
     },
     "metadata": {},
     "output_type": "display_data"
    },
    {
     "data": {
      "text/html": [
       "<pre>Finalizing lookup tables.</pre>"
      ],
      "text/plain": [
       "Finalizing lookup tables."
      ]
     },
     "metadata": {},
     "output_type": "display_data"
    },
    {
     "data": {
      "text/html": [
       "<pre>Generating candidate set for working with new users.</pre>"
      ],
      "text/plain": [
       "Generating candidate set for working with new users."
      ]
     },
     "metadata": {},
     "output_type": "display_data"
    },
    {
     "data": {
      "text/html": [
       "<pre>Finished training in 96.1325s</pre>"
      ],
      "text/plain": [
       "Finished training in 96.1325s"
      ]
     },
     "metadata": {},
     "output_type": "display_data"
    }
   ],
   "source": [
    "# create the recommender\n",
    "model_cos = tc.item_similarity_recommender.create(training_data, user_id='user_id', item_id='product_id', \n",
    "                                                  target='quantity', similarity_type='cosine')"
   ]
  },
  {
   "cell_type": "code",
   "execution_count": 18,
   "metadata": {},
   "outputs": [],
   "source": [
    "# Get all the unique user_ids for recommendation\n",
    "users_to_recommend = list(orders['user_id'].unique())"
   ]
  },
  {
   "cell_type": "code",
   "execution_count": 19,
   "metadata": {},
   "outputs": [
    {
     "name": "stdout",
     "output_type": "stream",
     "text": [
      "+---------+------------+---------------------+------+\n",
      "| user_id | product_id |        score        | rank |\n",
      "+---------+------------+---------------------+------+\n",
      "|    1    |   37710    |  0.806175700823466  |  1   |\n",
      "|    1    |    6184    |  0.6475631872812907 |  2   |\n",
      "|    1    |   38928    |  0.5847909847895304 |  3   |\n",
      "|    1    |   11759    |  0.5210654894510905 |  4   |\n",
      "|    1    |   39657    |  0.5002970337867737 |  5   |\n",
      "|    1    |   18023    | 0.49242939949035647 |  6   |\n",
      "|    1    |   31651    | 0.48198878367741904 |  7   |\n",
      "|    1    |   41400    |  0.478752330938975  |  8   |\n",
      "|    1    |   46562    |  0.4697097897529602 |  9   |\n",
      "|    1    |   13575    | 0.43342450857162473 |  10  |\n",
      "|    2    |   21137    |  0.3162227161228657 |  1   |\n",
      "|    2    |   21903    | 0.27282796365519363 |  2   |\n",
      "|    2    |   26209    | 0.23250874069829783 |  3   |\n",
      "|    2    |   47626    | 0.23084485717117786 |  4   |\n",
      "|    2    |   24964    | 0.20456942170858383 |  5   |\n",
      "+---------+------------+---------------------+------+\n",
      "[2062090 rows x 4 columns]\n",
      "\n"
     ]
    }
   ],
   "source": [
    "# check the recommendation result\n",
    "rec_cos = model_cos.recommend(users=users_to_recommend, verbose=False)\n",
    "rec_cos.print_rows(15)"
   ]
  },
  {
   "cell_type": "code",
   "execution_count": 20,
   "metadata": {},
   "outputs": [
    {
     "name": "stdout",
     "output_type": "stream",
     "text": [
      "recall@10 is: 0.018600407125835553\n",
      "recall@10 without reordered products is: 0.03901478816963808\n",
      "recall@20 is: 0.029320426868367437\n",
      "recall@20 without reordered products is: 0.06160048200319186\n",
      "recall@50 is: 0.050095479252988476\n",
      "recall@50 without reordered products is: 0.10480483440728991\n"
     ]
    }
   ],
   "source": [
    "# evaluate\n",
    "N = [10, 20, 50]\n",
    "\n",
    "for n in N:\n",
    "    # get k recommended items\n",
    "    rec_k = model_cos.recommend(users=users_to_recommend, k=n, verbose=False)\n",
    "    # transform the Sframe output to dataframe\n",
    "    rec_df = output_transformer(rec_k)\n",
    "    # calculate recall scores\n",
    "    print('recall@{0} is: {1}'.format(n, mean_recall_at_k_rec(rec_df, test_data)))\n",
    "    print('recall@{0} without reordered products is: {1}'.format(\n",
    "                                                        n,mean_recall_at_k_rec_new(rec_df, test_data)))"
   ]
  },
  {
   "cell_type": "markdown",
   "metadata": {},
   "source": [
    "By comparison, all recall@k with reordered products are lower than the benchmark popularity model. While the neighborhood-based model is performing better after we get rid of all the reordered products. So it's doing a better job in recommending new stuff to consumers. "
   ]
  },
  {
   "cell_type": "markdown",
   "metadata": {},
   "source": [
    "### 5.2 Neighborhood-Based Model using Jaccard Similarity Metric"
   ]
  },
  {
   "cell_type": "code",
   "execution_count": 21,
   "metadata": {},
   "outputs": [],
   "source": [
    "# default similarity metric is jaccard, set verbose=False to save space\n",
    "model_jac = tc.item_similarity_recommender.create(training_data, user_id='user_id', item_id='product_id', \n",
    "                                                  target='quantity', verbose=False)"
   ]
  },
  {
   "cell_type": "code",
   "execution_count": 22,
   "metadata": {},
   "outputs": [
    {
     "name": "stdout",
     "output_type": "stream",
     "text": [
      "+---------+------------+----------------------+------+\n",
      "| user_id | product_id |        score         | rank |\n",
      "+---------+------------+----------------------+------+\n",
      "|    1    |   37710    | 0.04831514755884806  |  1   |\n",
      "|    1    |   38928    |  0.0440241018931071  |  2   |\n",
      "|    1    |    6184    | 0.04236073096593221  |  3   |\n",
      "|    1    |   41400    | 0.04022345145543416  |  4   |\n",
      "|    1    |   39657    |  0.0396228035291036  |  5   |\n",
      "|    1    |   21137    | 0.038310543696085615 |  6   |\n",
      "|    1    |   13575    | 0.03744825124740601  |  7   |\n",
      "|    1    |   21903    | 0.03731383085250854  |  8   |\n",
      "|    1    |   31759    | 0.037294272581736246 |  9   |\n",
      "|    1    |   11759    | 0.03690311113993327  |  10  |\n",
      "|    2    |   21137    | 0.037031336997946106 |  1   |\n",
      "|    2    |    8277    | 0.03226686455309391  |  2   |\n",
      "|    2    |   40706    | 0.03164547371367613  |  3   |\n",
      "|    2    |   26209    | 0.03134287086625894  |  4   |\n",
      "|    2    |   24964    | 0.031124326090017956 |  5   |\n",
      "+---------+------------+----------------------+------+\n",
      "[2062090 rows x 4 columns]\n",
      "\n"
     ]
    }
   ],
   "source": [
    "# check the recommendation result\n",
    "rec_jac = model_jac.recommend(users=users_to_recommend, verbose=False)\n",
    "rec_jac.print_rows(15)"
   ]
  },
  {
   "cell_type": "code",
   "execution_count": 23,
   "metadata": {},
   "outputs": [
    {
     "name": "stdout",
     "output_type": "stream",
     "text": [
      "recall@10 is: 0.01750721214063602\n",
      "recall@10 without reordered products is: 0.03639181336089281\n",
      "recall@20 is: 0.02887196356977312\n",
      "recall@20 without reordered products is: 0.06012400006240632\n",
      "recall@50 is: 0.053131122258287596\n",
      "recall@50 without reordered products is: 0.11039707262651227\n"
     ]
    }
   ],
   "source": [
    "# evaluate\n",
    "N = [10, 20, 50]\n",
    "\n",
    "for n in N:\n",
    "    # get k recommended items\n",
    "    rec_k = model_jac.recommend(users=users_to_recommend, k=n, verbose=False)\n",
    "    # transform the Sframe output to dataframe\n",
    "    rec_df = output_transformer(rec_k)\n",
    "    # calculate recall scores\n",
    "    print('recall@{0} is: {1}'.format(n, mean_recall_at_k_rec(rec_df, test_data)))\n",
    "    print('recall@{0} without reordered products is: {1}'.format(\n",
    "                                                        n,mean_recall_at_k_rec_new(rec_df, test_data)))"
   ]
  },
  {
   "cell_type": "markdown",
   "metadata": {},
   "source": [
    "- Same as the model with cosine similarity metric, this model also outperforms popularity model when we exclude those reordered products. \n",
    "- Comparing models with cosine and jaccard similarity metric, we can see that when we're recommending 10 and 20 products, the cosine model is a bit better. When we're recommending 50 products, the jaccard model is a bit better. "
   ]
  },
  {
   "cell_type": "markdown",
   "metadata": {
    "collapsed": true
   },
   "source": [
    "#### Example: user_id == 100"
   ]
  },
  {
   "cell_type": "code",
   "execution_count": 31,
   "metadata": {},
   "outputs": [
    {
     "data": {
      "text/html": [
       "<div>\n",
       "<style scoped>\n",
       "    .dataframe tbody tr th:only-of-type {\n",
       "        vertical-align: middle;\n",
       "    }\n",
       "\n",
       "    .dataframe tbody tr th {\n",
       "        vertical-align: top;\n",
       "    }\n",
       "\n",
       "    .dataframe thead th {\n",
       "        text-align: right;\n",
       "    }\n",
       "</style>\n",
       "<table border=\"1\" class=\"dataframe\">\n",
       "  <thead>\n",
       "    <tr style=\"text-align: right;\">\n",
       "      <th></th>\n",
       "      <th>product_id</th>\n",
       "      <th>product_name</th>\n",
       "    </tr>\n",
       "  </thead>\n",
       "  <tbody>\n",
       "    <tr>\n",
       "      <th>13175</th>\n",
       "      <td>13176</td>\n",
       "      <td>Bag of Organic Bananas</td>\n",
       "    </tr>\n",
       "    <tr>\n",
       "      <th>21136</th>\n",
       "      <td>21137</td>\n",
       "      <td>Organic Strawberries</td>\n",
       "    </tr>\n",
       "    <tr>\n",
       "      <th>21902</th>\n",
       "      <td>21903</td>\n",
       "      <td>Organic Baby Spinach</td>\n",
       "    </tr>\n",
       "    <tr>\n",
       "      <th>24963</th>\n",
       "      <td>24964</td>\n",
       "      <td>Organic Garlic</td>\n",
       "    </tr>\n",
       "    <tr>\n",
       "      <th>26208</th>\n",
       "      <td>26209</td>\n",
       "      <td>Limes</td>\n",
       "    </tr>\n",
       "    <tr>\n",
       "      <th>45006</th>\n",
       "      <td>45007</td>\n",
       "      <td>Organic Zucchini</td>\n",
       "    </tr>\n",
       "    <tr>\n",
       "      <th>47208</th>\n",
       "      <td>47209</td>\n",
       "      <td>Organic Hass Avocado</td>\n",
       "    </tr>\n",
       "    <tr>\n",
       "      <th>47625</th>\n",
       "      <td>47626</td>\n",
       "      <td>Large Lemon</td>\n",
       "    </tr>\n",
       "    <tr>\n",
       "      <th>47765</th>\n",
       "      <td>47766</td>\n",
       "      <td>Organic Avocado</td>\n",
       "    </tr>\n",
       "    <tr>\n",
       "      <th>49682</th>\n",
       "      <td>49683</td>\n",
       "      <td>Cucumber Kirby</td>\n",
       "    </tr>\n",
       "  </tbody>\n",
       "</table>\n",
       "</div>"
      ],
      "text/plain": [
       "       product_id            product_name\n",
       "13175       13176  Bag of Organic Bananas\n",
       "21136       21137    Organic Strawberries\n",
       "21902       21903    Organic Baby Spinach\n",
       "24963       24964          Organic Garlic\n",
       "26208       26209                   Limes\n",
       "45006       45007        Organic Zucchini\n",
       "47208       47209    Organic Hass Avocado\n",
       "47625       47626             Large Lemon\n",
       "47765       47766         Organic Avocado\n",
       "49682       49683          Cucumber Kirby"
      ]
     },
     "execution_count": 31,
     "metadata": {},
     "output_type": "execute_result"
    }
   ],
   "source": [
    "get_prod_names(model_cos.recommend(users=['100'], verbose=False).to_dataframe().product_id)"
   ]
  },
  {
   "cell_type": "code",
   "execution_count": 32,
   "metadata": {},
   "outputs": [
    {
     "name": "stdout",
     "output_type": "stream",
     "text": [
      "User_id 100 actually bought: \n"
     ]
    },
    {
     "data": {
      "text/html": [
       "<div>\n",
       "<style scoped>\n",
       "    .dataframe tbody tr th:only-of-type {\n",
       "        vertical-align: middle;\n",
       "    }\n",
       "\n",
       "    .dataframe tbody tr th {\n",
       "        vertical-align: top;\n",
       "    }\n",
       "\n",
       "    .dataframe thead th {\n",
       "        text-align: right;\n",
       "    }\n",
       "</style>\n",
       "<table border=\"1\" class=\"dataframe\">\n",
       "  <thead>\n",
       "    <tr style=\"text-align: right;\">\n",
       "      <th></th>\n",
       "      <th>product_id</th>\n",
       "      <th>product_name</th>\n",
       "    </tr>\n",
       "  </thead>\n",
       "  <tbody>\n",
       "    <tr>\n",
       "      <th>21136</th>\n",
       "      <td>21137</td>\n",
       "      <td>Organic Strawberries</td>\n",
       "    </tr>\n",
       "    <tr>\n",
       "      <th>21615</th>\n",
       "      <td>21616</td>\n",
       "      <td>Organic Baby Arugula</td>\n",
       "    </tr>\n",
       "    <tr>\n",
       "      <th>24851</th>\n",
       "      <td>24852</td>\n",
       "      <td>Banana</td>\n",
       "    </tr>\n",
       "    <tr>\n",
       "      <th>26368</th>\n",
       "      <td>26369</td>\n",
       "      <td>Organic Roma Tomato</td>\n",
       "    </tr>\n",
       "    <tr>\n",
       "      <th>27343</th>\n",
       "      <td>27344</td>\n",
       "      <td>Uncured Genoa Salami</td>\n",
       "    </tr>\n",
       "    <tr>\n",
       "      <th>38546</th>\n",
       "      <td>38547</td>\n",
       "      <td>Bubblegum Flavor Natural Chewing Gum</td>\n",
       "    </tr>\n",
       "    <tr>\n",
       "      <th>38688</th>\n",
       "      <td>38689</td>\n",
       "      <td>Organic Reduced Fat Milk</td>\n",
       "    </tr>\n",
       "    <tr>\n",
       "      <th>48627</th>\n",
       "      <td>48628</td>\n",
       "      <td>Organic Whole Wheat Bread</td>\n",
       "    </tr>\n",
       "  </tbody>\n",
       "</table>\n",
       "</div>"
      ],
      "text/plain": [
       "       product_id                          product_name\n",
       "21136       21137                  Organic Strawberries\n",
       "21615       21616                  Organic Baby Arugula\n",
       "24851       24852                                Banana\n",
       "26368       26369                   Organic Roma Tomato\n",
       "27343       27344                  Uncured Genoa Salami\n",
       "38546       38547  Bubblegum Flavor Natural Chewing Gum\n",
       "38688       38689              Organic Reduced Fat Milk\n",
       "48627       48628             Organic Whole Wheat Bread"
      ]
     },
     "execution_count": 32,
     "metadata": {},
     "output_type": "execute_result"
    }
   ],
   "source": [
    "print('User_id 100 actually bought: ')\n",
    "get_prod_names(test_data.products[99])"
   ]
  },
  {
   "cell_type": "code",
   "execution_count": null,
   "metadata": {},
   "outputs": [],
   "source": []
  }
 ],
 "metadata": {
  "kernelspec": {
   "display_name": "Python 3",
   "language": "python",
   "name": "python3"
  },
  "language_info": {
   "codemirror_mode": {
    "name": "ipython",
    "version": 3
   },
   "file_extension": ".py",
   "mimetype": "text/x-python",
   "name": "python",
   "nbconvert_exporter": "python",
   "pygments_lexer": "ipython3",
   "version": "3.6.7"
  }
 },
 "nbformat": 4,
 "nbformat_minor": 2
}
