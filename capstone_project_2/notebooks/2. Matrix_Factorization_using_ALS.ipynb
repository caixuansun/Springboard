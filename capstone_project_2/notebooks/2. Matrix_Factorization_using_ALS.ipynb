{
 "cells": [
  {
   "cell_type": "markdown",
   "metadata": {},
   "source": [
    "## Matrix factorization using ALS"
   ]
  },
  {
   "cell_type": "markdown",
   "metadata": {},
   "source": [
    "In this notebook, I implemented matrix factorization using ALS method from library [implicit](https://github.com/benfred/implicit) to build a recommender for Instacart. The algorithm is based on [research by Yifan Hu et.al](http://yifanhu.net/PUB/cf.pdf)."
   ]
  },
  {
   "cell_type": "code",
   "execution_count": 1,
   "metadata": {
    "collapsed": true
   },
   "outputs": [],
   "source": [
    "import pandas as pd\n",
    "import numpy as np\n",
    "import matplotlib.pyplot as plt\n",
    "import seaborn as sns\n",
    "from scipy.stats import pearsonr\n",
    "import os\n",
    "sns.set()\n",
    "%matplotlib inline\n",
    "\n",
    "import implicit\n",
    "import scipy.sparse as sparse\n",
    "\n",
    "PROJ_ROOT = os.path.join(os.pardir)"
   ]
  },
  {
   "cell_type": "markdown",
   "metadata": {},
   "source": [
    "# Table of Contents\n",
    "\n",
    "* [1. Load Datasets](#1.-Load-Datasets)\n",
    "* [2. Data Preprocessing](#2.-Data-Preprocessing)\n",
    "* [3. Evaluation Metric: Recall@K](#3.-Evaluation-Metric:-Recall@K)\n",
    "* [4. Benchmark Model: Non-personalized Popularity Model](#4.-Benchmark-Model:-Non-personalized-Popularity-Model)\n",
    "* [5. Matrix Factorization Model](#5.-Matrix-Factorization-Model)\n",
    "    * [5.1 Try Default Model ](#5.1-Try-Default-Model)\n",
    "    * [5.2 Tuning Model](#5.2-Tuning-Model)"
   ]
  },
  {
   "cell_type": "markdown",
   "metadata": {},
   "source": [
    "### 1. Load Datasets"
   ]
  },
  {
   "cell_type": "code",
   "execution_count": 2,
   "metadata": {},
   "outputs": [],
   "source": [
    "orders = pd.read_csv('../data/raw/orders.csv')\n",
    "order_products = pd.read_csv('../data/raw/order_products__prior.csv')\n",
    "products = pd.read_csv('../data/raw/products.csv')"
   ]
  },
  {
   "cell_type": "code",
   "execution_count": 3,
   "metadata": {
    "collapsed": true
   },
   "outputs": [],
   "source": [
    "# fill na with 0 \n",
    "orders.fillna(0, inplace=True)"
   ]
  },
  {
   "cell_type": "code",
   "execution_count": 4,
   "metadata": {
    "collapsed": true
   },
   "outputs": [],
   "source": [
    "# merge orders and order_products on order_id\n",
    "orders_df = order_products[['order_id', 'product_id']].merge(orders[['order_id', 'user_id', 'order_number']])"
   ]
  },
  {
   "cell_type": "code",
   "execution_count": 5,
   "metadata": {},
   "outputs": [
    {
     "data": {
      "text/html": [
       "<div>\n",
       "<style scoped>\n",
       "    .dataframe tbody tr th:only-of-type {\n",
       "        vertical-align: middle;\n",
       "    }\n",
       "\n",
       "    .dataframe tbody tr th {\n",
       "        vertical-align: top;\n",
       "    }\n",
       "\n",
       "    .dataframe thead th {\n",
       "        text-align: right;\n",
       "    }\n",
       "</style>\n",
       "<table border=\"1\" class=\"dataframe\">\n",
       "  <thead>\n",
       "    <tr style=\"text-align: right;\">\n",
       "      <th></th>\n",
       "      <th>order_id</th>\n",
       "      <th>product_id</th>\n",
       "      <th>user_id</th>\n",
       "      <th>order_number</th>\n",
       "    </tr>\n",
       "  </thead>\n",
       "  <tbody>\n",
       "    <tr>\n",
       "      <th>0</th>\n",
       "      <td>2</td>\n",
       "      <td>33120</td>\n",
       "      <td>202279</td>\n",
       "      <td>3</td>\n",
       "    </tr>\n",
       "    <tr>\n",
       "      <th>1</th>\n",
       "      <td>2</td>\n",
       "      <td>28985</td>\n",
       "      <td>202279</td>\n",
       "      <td>3</td>\n",
       "    </tr>\n",
       "    <tr>\n",
       "      <th>2</th>\n",
       "      <td>2</td>\n",
       "      <td>9327</td>\n",
       "      <td>202279</td>\n",
       "      <td>3</td>\n",
       "    </tr>\n",
       "    <tr>\n",
       "      <th>3</th>\n",
       "      <td>2</td>\n",
       "      <td>45918</td>\n",
       "      <td>202279</td>\n",
       "      <td>3</td>\n",
       "    </tr>\n",
       "    <tr>\n",
       "      <th>4</th>\n",
       "      <td>2</td>\n",
       "      <td>30035</td>\n",
       "      <td>202279</td>\n",
       "      <td>3</td>\n",
       "    </tr>\n",
       "  </tbody>\n",
       "</table>\n",
       "</div>"
      ],
      "text/plain": [
       "   order_id  product_id  user_id  order_number\n",
       "0         2       33120   202279             3\n",
       "1         2       28985   202279             3\n",
       "2         2        9327   202279             3\n",
       "3         2       45918   202279             3\n",
       "4         2       30035   202279             3"
      ]
     },
     "execution_count": 5,
     "metadata": {},
     "output_type": "execute_result"
    }
   ],
   "source": [
    "orders_df.head()"
   ]
  },
  {
   "cell_type": "markdown",
   "metadata": {},
   "source": [
    "### 2. Data Preprocessing"
   ]
  },
  {
   "cell_type": "code",
   "execution_count": 6,
   "metadata": {
    "collapsed": true
   },
   "outputs": [],
   "source": [
    "def prior_latest(df):\n",
    "    '''Label each order with prior or latest'''\n",
    "    max_row = df['order_number'].max()\n",
    "    labels = np.where(df['order_number'] == max_row,\n",
    "                     'latest', \n",
    "                     'prior')\n",
    "    return pd.DataFrame(labels, index=df.index)\n",
    "\n",
    "def split_train_test_set(df):\n",
    "    '''\n",
    "    df is merged order-products dataset containing order_id, product_id, user_id and order_number,\n",
    "    Split df into training and test data where prior orders are training data and\n",
    "    most recent orders are test data\n",
    "    '''\n",
    "    df['set'] = df.groupby('user_id').apply(prior_latest)\n",
    "    training_set = df[df.set == 'prior'].drop('set', axis=1)\n",
    "    test_set = df[df.set == 'latest'].drop('set', axis=1)\n",
    "    \n",
    "    # sanity check\n",
    "    assert len(training_set) + len(test_set) == len(df)\n",
    "    assert training_set.order_id.nunique() + test_set.order_id.nunique() == df.order_id.nunique()\n",
    "    \n",
    "    return training_set, test_set\n",
    "\n",
    "def make_test_data(test_set):\n",
    "    '''\n",
    "    convert test_set to a dataframe in the form of only two columns, first column is user_id, \n",
    "    second column is a list of products purchased by the user in their most recent order\n",
    "    '''\n",
    "    test_data = test_set.groupby('user_id').product_id.apply(list).reset_index().rename(\n",
    "                columns={'product_id': 'products'})\n",
    "    return test_data\n",
    "\n",
    "\n",
    "def get_user_item_matrix(training_set):\n",
    "    '''\n",
    "    make sparse user item matrix from user_product_quantity_df\n",
    "    rows represent users, cols represent items, values in the matrix represent the number of purchases \n",
    "    '''\n",
    "    user_product_quantity_df = training_set.drop('order_number', axis=1).groupby(['user_id', 'product_id']).count(\n",
    "                                ).reset_index().rename(columns={'order_id':'quantity'})\n",
    "    \n",
    "    users = list(np.sort(user_product_quantity_df.user_id.unique()))\n",
    "    items = list(user_product_quantity_df.product_id.unique())\n",
    "    quantity = list(user_product_quantity_df.quantity)\n",
    "    \n",
    "    rows = user_product_quantity_df.user_id.astype('category', CategoricalDtype=users).cat.codes\n",
    "    cols = user_product_quantity_df.product_id.astype('category', CategoricalDtype=items).cat.codes\n",
    "    user_item_sparse = sparse.csr_matrix((quantity, (rows, cols)), shape=(len(users), len(items)))\n",
    "    \n",
    "    return user_item_sparse\n",
    "\n",
    "def get_prod_names(product_ids, df=products):\n",
    "    '''generate product names from a list of product ids'''\n",
    "    return df[df.product_id.isin(product_ids)][['product_id', 'product_name']]"
   ]
  },
  {
   "cell_type": "code",
   "execution_count": 7,
   "metadata": {
    "collapsed": true
   },
   "outputs": [],
   "source": [
    "# split dataset into training and test set\n",
    "training_set, test_set = split_train_test_set(orders_df)\n",
    "\n",
    "# make test data in the form we want\n",
    "test_data = make_test_data(test_set)\n",
    "\n",
    "# create user-item interaction matrix\n",
    "user_item_sparse = get_user_item_matrix(training_set)"
   ]
  },
  {
   "cell_type": "code",
   "execution_count": 8,
   "metadata": {},
   "outputs": [
    {
     "data": {
      "text/plain": [
       "<206209x49652 sparse matrix of type '<class 'numpy.int64'>'\n",
       "\twith 12422758 stored elements in Compressed Sparse Row format>"
      ]
     },
     "execution_count": 8,
     "metadata": {},
     "output_type": "execute_result"
    }
   ],
   "source": [
    "# user_item_sparse is our training data\n",
    "user_item_sparse"
   ]
  },
  {
   "cell_type": "code",
   "execution_count": 9,
   "metadata": {
    "collapsed": true
   },
   "outputs": [],
   "source": [
    "# Calculate sparsity ratio\n",
    "def sparsity(sparse_matrix):\n",
    "    ''' Calculate the sparsity ratio of a sparse matrix'''\n",
    "    matrix_size = sparse_matrix.shape[0] * sparse_matrix.shape[1]\n",
    "    num_non_zeros = len(sparse_matrix.nonzero()[0])\n",
    "    sparsity = 100 * (1 - num_non_zeros/matrix_size)\n",
    "    return sparsity "
   ]
  },
  {
   "cell_type": "code",
   "execution_count": 10,
   "metadata": {},
   "outputs": [
    {
     "data": {
      "text/plain": [
       "99.87866847332864"
      ]
     },
     "execution_count": 10,
     "metadata": {},
     "output_type": "execute_result"
    }
   ],
   "source": [
    "sparsity(user_item_sparse)"
   ]
  },
  {
   "cell_type": "code",
   "execution_count": 11,
   "metadata": {},
   "outputs": [
    {
     "data": {
      "text/html": [
       "<div>\n",
       "<style scoped>\n",
       "    .dataframe tbody tr th:only-of-type {\n",
       "        vertical-align: middle;\n",
       "    }\n",
       "\n",
       "    .dataframe tbody tr th {\n",
       "        vertical-align: top;\n",
       "    }\n",
       "\n",
       "    .dataframe thead th {\n",
       "        text-align: right;\n",
       "    }\n",
       "</style>\n",
       "<table border=\"1\" class=\"dataframe\">\n",
       "  <thead>\n",
       "    <tr style=\"text-align: right;\">\n",
       "      <th></th>\n",
       "      <th>user_id</th>\n",
       "      <th>products</th>\n",
       "    </tr>\n",
       "  </thead>\n",
       "  <tbody>\n",
       "    <tr>\n",
       "      <th>0</th>\n",
       "      <td>1</td>\n",
       "      <td>[196, 46149, 39657, 38928, 25133, 10258, 35951...</td>\n",
       "    </tr>\n",
       "    <tr>\n",
       "      <th>1</th>\n",
       "      <td>2</td>\n",
       "      <td>[24852, 16589, 1559, 19156, 18523, 22825, 2741...</td>\n",
       "    </tr>\n",
       "    <tr>\n",
       "      <th>2</th>\n",
       "      <td>3</td>\n",
       "      <td>[39190, 18599, 23650, 21903, 47766, 24810]</td>\n",
       "    </tr>\n",
       "    <tr>\n",
       "      <th>3</th>\n",
       "      <td>4</td>\n",
       "      <td>[26576, 25623, 21573]</td>\n",
       "    </tr>\n",
       "    <tr>\n",
       "      <th>4</th>\n",
       "      <td>5</td>\n",
       "      <td>[27344, 24535, 43693, 40706, 16168, 21413, 139...</td>\n",
       "    </tr>\n",
       "  </tbody>\n",
       "</table>\n",
       "</div>"
      ],
      "text/plain": [
       "   user_id                                           products\n",
       "0        1  [196, 46149, 39657, 38928, 25133, 10258, 35951...\n",
       "1        2  [24852, 16589, 1559, 19156, 18523, 22825, 2741...\n",
       "2        3         [39190, 18599, 23650, 21903, 47766, 24810]\n",
       "3        4                              [26576, 25623, 21573]\n",
       "4        5  [27344, 24535, 43693, 40706, 16168, 21413, 139..."
      ]
     },
     "execution_count": 11,
     "metadata": {},
     "output_type": "execute_result"
    }
   ],
   "source": [
    "test_data.head()"
   ]
  },
  {
   "cell_type": "markdown",
   "metadata": {},
   "source": [
    "- **training_data** is a sparse matrix with 99.88% zero interactions. \n",
    "- **test_data** is the hold out data for us to evaluate the model which shows a list of products purchased by each user in their most recent order with Instacart. "
   ]
  },
  {
   "cell_type": "markdown",
   "metadata": {},
   "source": [
    "## 3. Evaluation Metric: Recall@K"
   ]
  },
  {
   "cell_type": "markdown",
   "metadata": {},
   "source": [
    "Evaluation metric I choose for the recommender of this case is recall@k. Since for our case, the feedback is implicit, there's not explicit rating scores. It is more appropriate to use classification accuracy metrics. Precision as we know represents the proportion of recommended items that actually bought by the users. It is not that appropriate since we do not know users' reaction to the recommended items. Besides, precision will give us the same result for two users who both bought 2 items from the recommendation list with 10 items, but one of them bought a total of 5 items while the other only bought a total of those 2 items. While the performance of the recommender should not be the same. Recall is more appropriate which represents the proportaion of acutal bought items that are from the recommended list. "
   ]
  },
  {
   "cell_type": "code",
   "execution_count": 12,
   "metadata": {
    "collapsed": true
   },
   "outputs": [],
   "source": [
    "def recall_at_k(rec, act):\n",
    "    '''\n",
    "    calculate recall from a list of predicted products and a list of actual purchased products\n",
    "    '''\n",
    "    return len(set(rec).intersection(set(act)))/len(set(act)) \n",
    "\n",
    "def mean_recall_at_k_rec(rec_k, test_data):\n",
    "    '''\n",
    "    Calculate mean recall score for our recommender given the recommended output and the test data\n",
    "    '''\n",
    "    score = []\n",
    "    for i in range(len(test_data)):\n",
    "        score.append(recall_at_k(rec_k.products[i], test_data.products[i]))\n",
    "    return np.mean(score)"
   ]
  },
  {
   "cell_type": "code",
   "execution_count": 13,
   "metadata": {
    "collapsed": true
   },
   "outputs": [],
   "source": [
    "# create a dictionary to associate products' position index in the sparse matrix with product_id\n",
    "prod_dict = dict(enumerate(training_set[\"product_id\"].astype('category').cat.categories))\n",
    "\n",
    "def mean_recall_at_k_rec(model, test_data, user_item, k, p_dict):\n",
    "    '''\n",
    "    Calculate mean recall score for our recommender given the model, training data and the test data\n",
    "    '''\n",
    "    \n",
    "    test_data_rec = test_data.copy()\n",
    "    rec_list = []\n",
    "    recall_score = []\n",
    "    \n",
    "    for i in list(test_data['user_id']):\n",
    "        rec_id = [j[0] for j in model.recommend(i-1, user_item, N=k)]\n",
    "        rec_prod = [p_dict[id] for id in rec_id]\n",
    "        rec_list.append(rec_prod)\n",
    "        recall_score.append(recall_at_k(rec=rec_prod, act=test_data.products[i-1]))\n",
    "    test_data_rec['rec'] = rec_list\n",
    "    test_data_rec['score'] = recall_score\n",
    "                \n",
    "    return np.mean(test_data_rec['score'])"
   ]
  },
  {
   "cell_type": "markdown",
   "metadata": {},
   "source": [
    "From the EDA part, we know that reorder ratio is quite high. Since recommender is not only about recommending items that users have already purchased before, but also about recommending items that users may be interested in but are unaware of them. Therefore, I would like to build another evaluation metric, still using recall, but eliminating reordered items from test data to check the proportion of first time ordered products that are from the recommended products. "
   ]
  },
  {
   "cell_type": "code",
   "execution_count": 14,
   "metadata": {
    "collapsed": true
   },
   "outputs": [],
   "source": [
    "def mean_recall_at_k_rec_new(model, test_data, user_item, k, p_dict):\n",
    "    '''\n",
    "    Calculate mean recall score for our recommender given the model, training data and the test data \n",
    "    with reordered products eliminated\n",
    "    '''\n",
    "    purchased = training_set.groupby('user_id').product_id.apply(list).reset_index().rename(\n",
    "                columns={'product_id': 'purchased'})\n",
    "    \n",
    "    test_data_rec = test_data.copy()\n",
    "    rec_list = []\n",
    "    recall_score = []\n",
    "    \n",
    "    for i in list(test_data['user_id']):\n",
    "        rec_id = [j[0] for j in model.recommend(i-1, user_item, N=k)]\n",
    "        rec_prod = [p_dict[id] for id in rec_id]\n",
    "        rec_list.append(rec_prod)\n",
    "        \n",
    "        # get rid of reordered products\n",
    "        new = list(set(test_data.products[i-1]) - set(purchased.purchased[i-1]))\n",
    "    # deal with the situation when all products in users's most recent order are reordered\n",
    "        if not new:\n",
    "            recall_score.append(0)\n",
    "        else:\n",
    "            recall_score.append(recall_at_k(rec_prod, new))\n",
    "            \n",
    "    test_data_rec['rec'] = rec_list\n",
    "    test_data_rec['score'] = recall_score\n",
    "            \n",
    "    return np.mean(test_data_rec['score'])"
   ]
  },
  {
   "cell_type": "markdown",
   "metadata": {},
   "source": [
    "## 4. Benchmark Model: Non-personalized Popularity Model"
   ]
  },
  {
   "cell_type": "code",
   "execution_count": 15,
   "metadata": {
    "collapsed": true
   },
   "outputs": [],
   "source": [
    "def most_popular_k(k, df=training_set):\n",
    "    '''\n",
    "    get the most popular k items to be our benchmark recommender\n",
    "    '''\n",
    "    return df.product_id.value_counts().head(k).keys().tolist()\n",
    "\n",
    "def mean_recall_at_k_pop(top_k, test_data):\n",
    "    '''\n",
    "    Calculate mean recall score for the benchmark recommender given the top_k list and the test data\n",
    "    '''\n",
    "    score = []\n",
    "    for i in range(len(test_data)):\n",
    "         score.append(recall_at_k(top_k, test_data.products[i]))\n",
    "    return np.mean(score)\n",
    "\n",
    "def mean_recall_at_k_pop_new(top_k, test_data):\n",
    "    '''\n",
    "    Calculate mean recall score for the benchmark recommender given the top_k list and the test data with \n",
    "    reordered items eliminated\n",
    "    '''\n",
    "    purchased = training_set.groupby('user_id').product_id.apply(list).reset_index().rename(\n",
    "                columns={'product_id': 'purchased'})\n",
    "    score = []\n",
    "    for i in range(len(test_data)):\n",
    "        # get rid of reordered products\n",
    "        new = list(set(test_data.products[i]) - set(purchased.purchased[i]))\n",
    "    # deal with the situation when all products in users's most recent order are reordered\n",
    "        if not new:\n",
    "            score.append(0)\n",
    "        else:\n",
    "            score.append(recall_at_k(top_k, new))\n",
    "    return np.mean(score)"
   ]
  },
  {
   "cell_type": "code",
   "execution_count": 16,
   "metadata": {},
   "outputs": [
    {
     "name": "stdout",
     "output_type": "stream",
     "text": [
      "recall@10 for popularity model is: 0.0699413179973539\n",
      "recall@10 for popularity model without reordered products is: 0.027280349700253143\n",
      "recall@20 for popularity model is: 0.09588023492718917\n",
      "recall@20 for popularity model without reordered products is: 0.043705006414388715\n",
      "recall@50 for popularity model is: 0.15431186904512134\n",
      "recall@50 for popularity model without reordered products is: 0.08048940655391035\n"
     ]
    }
   ],
   "source": [
    "k = [10, 20, 50]\n",
    "\n",
    "for i in k:\n",
    "    top_k = most_popular_k(i, df=training_set)\n",
    "    print('recall@{0} for popularity model is: {1}'.format(i, mean_recall_at_k_pop(top_k, test_data)))\n",
    "    print('recall@{0} for popularity model without reordered products is: {1}'.format(i, \n",
    "                                                            mean_recall_at_k_pop_new(top_k, test_data)))"
   ]
  },
  {
   "cell_type": "markdown",
   "metadata": {
    "collapsed": true
   },
   "source": [
    "- We can see that recall score increases with the number of products recommended increases. It makes sense cause as we recommend more, more acutually purchased items will fall into the recommended list. \n",
    "- The popularity model is not performing that well in recommending people to try new products they've never bought before. This is because as we know from the EDA the top popular products are similar as those most reordered items. Thus when we get rid of the reordered items from the test data, the interaction of those two lists would shrink. "
   ]
  },
  {
   "cell_type": "markdown",
   "metadata": {},
   "source": [
    "#### Example: user_id == 100"
   ]
  },
  {
   "cell_type": "code",
   "execution_count": 17,
   "metadata": {},
   "outputs": [
    {
     "name": "stdout",
     "output_type": "stream",
     "text": [
      "User_id 100 actually bought: \n"
     ]
    },
    {
     "data": {
      "text/html": [
       "<div>\n",
       "<style scoped>\n",
       "    .dataframe tbody tr th:only-of-type {\n",
       "        vertical-align: middle;\n",
       "    }\n",
       "\n",
       "    .dataframe tbody tr th {\n",
       "        vertical-align: top;\n",
       "    }\n",
       "\n",
       "    .dataframe thead th {\n",
       "        text-align: right;\n",
       "    }\n",
       "</style>\n",
       "<table border=\"1\" class=\"dataframe\">\n",
       "  <thead>\n",
       "    <tr style=\"text-align: right;\">\n",
       "      <th></th>\n",
       "      <th>product_id</th>\n",
       "      <th>product_name</th>\n",
       "    </tr>\n",
       "  </thead>\n",
       "  <tbody>\n",
       "    <tr>\n",
       "      <th>21136</th>\n",
       "      <td>21137</td>\n",
       "      <td>Organic Strawberries</td>\n",
       "    </tr>\n",
       "    <tr>\n",
       "      <th>21615</th>\n",
       "      <td>21616</td>\n",
       "      <td>Organic Baby Arugula</td>\n",
       "    </tr>\n",
       "    <tr>\n",
       "      <th>24851</th>\n",
       "      <td>24852</td>\n",
       "      <td>Banana</td>\n",
       "    </tr>\n",
       "    <tr>\n",
       "      <th>26368</th>\n",
       "      <td>26369</td>\n",
       "      <td>Organic Roma Tomato</td>\n",
       "    </tr>\n",
       "    <tr>\n",
       "      <th>27343</th>\n",
       "      <td>27344</td>\n",
       "      <td>Uncured Genoa Salami</td>\n",
       "    </tr>\n",
       "    <tr>\n",
       "      <th>38546</th>\n",
       "      <td>38547</td>\n",
       "      <td>Bubblegum Flavor Natural Chewing Gum</td>\n",
       "    </tr>\n",
       "    <tr>\n",
       "      <th>38688</th>\n",
       "      <td>38689</td>\n",
       "      <td>Organic Reduced Fat Milk</td>\n",
       "    </tr>\n",
       "    <tr>\n",
       "      <th>48627</th>\n",
       "      <td>48628</td>\n",
       "      <td>Organic Whole Wheat Bread</td>\n",
       "    </tr>\n",
       "  </tbody>\n",
       "</table>\n",
       "</div>"
      ],
      "text/plain": [
       "       product_id                          product_name\n",
       "21136       21137                  Organic Strawberries\n",
       "21615       21616                  Organic Baby Arugula\n",
       "24851       24852                                Banana\n",
       "26368       26369                   Organic Roma Tomato\n",
       "27343       27344                  Uncured Genoa Salami\n",
       "38546       38547  Bubblegum Flavor Natural Chewing Gum\n",
       "38688       38689              Organic Reduced Fat Milk\n",
       "48627       48628             Organic Whole Wheat Bread"
      ]
     },
     "execution_count": 17,
     "metadata": {},
     "output_type": "execute_result"
    }
   ],
   "source": [
    "print('User_id 100 actually bought: ')\n",
    "get_prod_names(test_data.products[99])"
   ]
  },
  {
   "cell_type": "code",
   "execution_count": 18,
   "metadata": {},
   "outputs": [
    {
     "name": "stdout",
     "output_type": "stream",
     "text": [
      "User_id 100 got recommended: \n"
     ]
    },
    {
     "data": {
      "text/html": [
       "<div>\n",
       "<style scoped>\n",
       "    .dataframe tbody tr th:only-of-type {\n",
       "        vertical-align: middle;\n",
       "    }\n",
       "\n",
       "    .dataframe tbody tr th {\n",
       "        vertical-align: top;\n",
       "    }\n",
       "\n",
       "    .dataframe thead th {\n",
       "        text-align: right;\n",
       "    }\n",
       "</style>\n",
       "<table border=\"1\" class=\"dataframe\">\n",
       "  <thead>\n",
       "    <tr style=\"text-align: right;\">\n",
       "      <th></th>\n",
       "      <th>product_id</th>\n",
       "      <th>product_name</th>\n",
       "    </tr>\n",
       "  </thead>\n",
       "  <tbody>\n",
       "    <tr>\n",
       "      <th>13175</th>\n",
       "      <td>13176</td>\n",
       "      <td>Bag of Organic Bananas</td>\n",
       "    </tr>\n",
       "    <tr>\n",
       "      <th>16796</th>\n",
       "      <td>16797</td>\n",
       "      <td>Strawberries</td>\n",
       "    </tr>\n",
       "    <tr>\n",
       "      <th>21136</th>\n",
       "      <td>21137</td>\n",
       "      <td>Organic Strawberries</td>\n",
       "    </tr>\n",
       "    <tr>\n",
       "      <th>21902</th>\n",
       "      <td>21903</td>\n",
       "      <td>Organic Baby Spinach</td>\n",
       "    </tr>\n",
       "    <tr>\n",
       "      <th>24851</th>\n",
       "      <td>24852</td>\n",
       "      <td>Banana</td>\n",
       "    </tr>\n",
       "    <tr>\n",
       "      <th>26208</th>\n",
       "      <td>26209</td>\n",
       "      <td>Limes</td>\n",
       "    </tr>\n",
       "    <tr>\n",
       "      <th>27844</th>\n",
       "      <td>27845</td>\n",
       "      <td>Organic Whole Milk</td>\n",
       "    </tr>\n",
       "    <tr>\n",
       "      <th>47208</th>\n",
       "      <td>47209</td>\n",
       "      <td>Organic Hass Avocado</td>\n",
       "    </tr>\n",
       "    <tr>\n",
       "      <th>47625</th>\n",
       "      <td>47626</td>\n",
       "      <td>Large Lemon</td>\n",
       "    </tr>\n",
       "    <tr>\n",
       "      <th>47765</th>\n",
       "      <td>47766</td>\n",
       "      <td>Organic Avocado</td>\n",
       "    </tr>\n",
       "  </tbody>\n",
       "</table>\n",
       "</div>"
      ],
      "text/plain": [
       "       product_id            product_name\n",
       "13175       13176  Bag of Organic Bananas\n",
       "16796       16797            Strawberries\n",
       "21136       21137    Organic Strawberries\n",
       "21902       21903    Organic Baby Spinach\n",
       "24851       24852                  Banana\n",
       "26208       26209                   Limes\n",
       "27844       27845      Organic Whole Milk\n",
       "47208       47209    Organic Hass Avocado\n",
       "47625       47626             Large Lemon\n",
       "47765       47766         Organic Avocado"
      ]
     },
     "execution_count": 18,
     "metadata": {},
     "output_type": "execute_result"
    }
   ],
   "source": [
    "print('User_id 100 got recommended: ')\n",
    "get_prod_names(most_popular_k(10, df=training_set))"
   ]
  },
  {
   "cell_type": "markdown",
   "metadata": {},
   "source": [
    "For the customer with user_id = 100, we see that he/she bought two of the products from the recommended list: organic straberries and banana. "
   ]
  },
  {
   "cell_type": "markdown",
   "metadata": {},
   "source": [
    "## 5. Matrix Factorization Model"
   ]
  },
  {
   "cell_type": "markdown",
   "metadata": {},
   "source": [
    "### 5.1 Try Default Model "
   ]
  },
  {
   "cell_type": "code",
   "execution_count": 19,
   "metadata": {},
   "outputs": [
    {
     "name": "stderr",
     "output_type": "stream",
     "text": [
      "WARNING:root:Intel MKL BLAS detected. Its highly recommend to set the environment variable 'export MKL_NUM_THREADS=1' to disable its internal multithreading\n",
      "100%|██████████| 15.0/15 [01:00<00:00,  3.90s/it]\n"
     ]
    }
   ],
   "source": [
    "# input of implicit als model is item_users matrix with confidence being the value\n",
    "item_user_sparse = user_item_sparse.T.tocsr()\n",
    "item_users = 10 * item_user_sparse\n",
    "\n",
    "# initiate and fit the model with default parameter settings\n",
    "als = implicit.als.AlternatingLeastSquares()\n",
    "\n",
    "als.fit(item_users)"
   ]
  },
  {
   "cell_type": "code",
   "execution_count": 20,
   "metadata": {},
   "outputs": [
    {
     "data": {
      "text/plain": [
       "0.021157856107798727"
      ]
     },
     "execution_count": 20,
     "metadata": {},
     "output_type": "execute_result"
    }
   ],
   "source": [
    "# check the recall score including reordered items\n",
    "mean_recall_at_k_rec(model=als, test_data=test_data, user_item=user_item_sparse, k=10, p_dict=prod_dict)"
   ]
  },
  {
   "cell_type": "code",
   "execution_count": 21,
   "metadata": {},
   "outputs": [
    {
     "data": {
      "text/plain": [
       "0.04400496554150407"
      ]
     },
     "execution_count": 21,
     "metadata": {},
     "output_type": "execute_result"
    }
   ],
   "source": [
    "# check the recall score without reordered items\n",
    "mean_recall_at_k_rec_new(model=als, test_data=test_data, user_item=user_item_sparse, k=10, p_dict=prod_dict)"
   ]
  },
  {
   "cell_type": "markdown",
   "metadata": {},
   "source": [
    "The recall score is less than the popularity model if reordered items were included, but it's better than the popularity model if reordere items were excluded. The Collaborative Filtering model using matrix factorization is better at recommending new products to customers than the benchmark model."
   ]
  },
  {
   "cell_type": "markdown",
   "metadata": {},
   "source": [
    "### 5.2 Tuning Model"
   ]
  },
  {
   "cell_type": "code",
   "execution_count": 22,
   "metadata": {
    "collapsed": true
   },
   "outputs": [],
   "source": [
    "# Build train and validation sets within the training set\n",
    "train_cv, val_cv = split_train_test_set(training_set)\n",
    "\n",
    "val_data = make_test_data(val_cv)\n",
    "\n",
    "user_item_cv = get_user_item_matrix(train_cv)"
   ]
  },
  {
   "cell_type": "code",
   "execution_count": 23,
   "metadata": {
    "collapsed": true
   },
   "outputs": [],
   "source": [
    "# create another dictionary for train_cv\n",
    "prod_dict_cv = dict(enumerate(train_cv[\"product_id\"].astype('category').cat.categories))"
   ]
  },
  {
   "cell_type": "code",
   "execution_count": 133,
   "metadata": {},
   "outputs": [
    {
     "name": "stderr",
     "output_type": "stream",
     "text": [
      "100%|██████████| 25.0/25 [01:06<00:00,  2.41s/it]\n"
     ]
    },
    {
     "name": "stdout",
     "output_type": "stream",
     "text": [
      "alpha:  10 factors:  30 RegPram:  0.01 Iteration:  25\n"
     ]
    },
    {
     "name": "stderr",
     "output_type": "stream",
     "text": [
      "100%|██████████| 50.0/50 [02:12<00:00,  2.88s/it]\n"
     ]
    },
    {
     "name": "stdout",
     "output_type": "stream",
     "text": [
      "alpha:  10 factors:  30 RegPram:  0.01 Iteration:  50\n"
     ]
    },
    {
     "name": "stderr",
     "output_type": "stream",
     "text": [
      "100%|██████████| 25.0/25 [00:58<00:00,  2.37s/it]\n"
     ]
    },
    {
     "name": "stdout",
     "output_type": "stream",
     "text": [
      "alpha:  10 factors:  30 RegPram:  0.1 Iteration:  25\n"
     ]
    },
    {
     "name": "stderr",
     "output_type": "stream",
     "text": [
      "100%|██████████| 50.0/50 [01:59<00:00,  2.39s/it]\n"
     ]
    },
    {
     "name": "stdout",
     "output_type": "stream",
     "text": [
      "alpha:  10 factors:  30 RegPram:  0.1 Iteration:  50\n"
     ]
    },
    {
     "name": "stderr",
     "output_type": "stream",
     "text": [
      "100%|██████████| 25.0/25 [01:10<00:00,  2.84s/it]\n"
     ]
    },
    {
     "name": "stdout",
     "output_type": "stream",
     "text": [
      "alpha:  10 factors:  30 RegPram:  1.0 Iteration:  25\n"
     ]
    },
    {
     "name": "stderr",
     "output_type": "stream",
     "text": [
      "100%|██████████| 50.0/50 [02:07<00:00,  2.36s/it]\n"
     ]
    },
    {
     "name": "stdout",
     "output_type": "stream",
     "text": [
      "alpha:  10 factors:  30 RegPram:  1.0 Iteration:  50\n"
     ]
    },
    {
     "name": "stderr",
     "output_type": "stream",
     "text": [
      "100%|██████████| 25.0/25 [00:59<00:00,  2.43s/it]\n"
     ]
    },
    {
     "name": "stdout",
     "output_type": "stream",
     "text": [
      "alpha:  10 factors:  40 RegPram:  0.01 Iteration:  25\n"
     ]
    },
    {
     "name": "stderr",
     "output_type": "stream",
     "text": [
      "100%|██████████| 50.0/50 [01:58<00:00,  2.43s/it]\n"
     ]
    },
    {
     "name": "stdout",
     "output_type": "stream",
     "text": [
      "alpha:  10 factors:  40 RegPram:  0.01 Iteration:  50\n"
     ]
    },
    {
     "name": "stderr",
     "output_type": "stream",
     "text": [
      "100%|██████████| 25.0/25 [01:00<00:00,  2.46s/it]\n"
     ]
    },
    {
     "name": "stdout",
     "output_type": "stream",
     "text": [
      "alpha:  10 factors:  40 RegPram:  0.1 Iteration:  25\n"
     ]
    },
    {
     "name": "stderr",
     "output_type": "stream",
     "text": [
      "100%|██████████| 50.0/50 [01:57<00:00,  2.36s/it]\n"
     ]
    },
    {
     "name": "stdout",
     "output_type": "stream",
     "text": [
      "alpha:  10 factors:  40 RegPram:  0.1 Iteration:  50\n"
     ]
    },
    {
     "name": "stderr",
     "output_type": "stream",
     "text": [
      "100%|██████████| 25.0/25 [00:58<00:00,  2.42s/it]\n"
     ]
    },
    {
     "name": "stdout",
     "output_type": "stream",
     "text": [
      "alpha:  10 factors:  40 RegPram:  1.0 Iteration:  25\n"
     ]
    },
    {
     "name": "stderr",
     "output_type": "stream",
     "text": [
      "100%|██████████| 50.0/50 [01:57<00:00,  2.42s/it]\n"
     ]
    },
    {
     "name": "stdout",
     "output_type": "stream",
     "text": [
      "alpha:  10 factors:  40 RegPram:  1.0 Iteration:  50\n"
     ]
    },
    {
     "name": "stderr",
     "output_type": "stream",
     "text": [
      "100%|██████████| 25.0/25 [01:06<00:00,  2.70s/it]\n"
     ]
    },
    {
     "name": "stdout",
     "output_type": "stream",
     "text": [
      "alpha:  10 factors:  50 RegPram:  0.01 Iteration:  25\n"
     ]
    },
    {
     "name": "stderr",
     "output_type": "stream",
     "text": [
      "100%|██████████| 50.0/50 [02:10<00:00,  2.59s/it]\n"
     ]
    },
    {
     "name": "stdout",
     "output_type": "stream",
     "text": [
      "alpha:  10 factors:  50 RegPram:  0.01 Iteration:  50\n"
     ]
    },
    {
     "name": "stderr",
     "output_type": "stream",
     "text": [
      "100%|██████████| 25.0/25 [01:04<00:00,  2.61s/it]\n"
     ]
    },
    {
     "name": "stdout",
     "output_type": "stream",
     "text": [
      "alpha:  10 factors:  50 RegPram:  0.1 Iteration:  25\n"
     ]
    },
    {
     "name": "stderr",
     "output_type": "stream",
     "text": [
      "100%|██████████| 50.0/50 [02:09<00:00,  2.65s/it]\n"
     ]
    },
    {
     "name": "stdout",
     "output_type": "stream",
     "text": [
      "alpha:  10 factors:  50 RegPram:  0.1 Iteration:  50\n"
     ]
    },
    {
     "name": "stderr",
     "output_type": "stream",
     "text": [
      "100%|██████████| 25.0/25 [01:04<00:00,  2.67s/it]\n"
     ]
    },
    {
     "name": "stdout",
     "output_type": "stream",
     "text": [
      "alpha:  10 factors:  50 RegPram:  1.0 Iteration:  25\n"
     ]
    },
    {
     "name": "stderr",
     "output_type": "stream",
     "text": [
      "100%|██████████| 50.0/50 [02:13<00:00,  2.65s/it]\n"
     ]
    },
    {
     "name": "stdout",
     "output_type": "stream",
     "text": [
      "alpha:  10 factors:  50 RegPram:  1.0 Iteration:  50\n"
     ]
    },
    {
     "name": "stderr",
     "output_type": "stream",
     "text": [
      "100%|██████████| 25.0/25 [00:58<00:00,  2.36s/it]\n"
     ]
    },
    {
     "name": "stdout",
     "output_type": "stream",
     "text": [
      "alpha:  15 factors:  30 RegPram:  0.01 Iteration:  25\n"
     ]
    },
    {
     "name": "stderr",
     "output_type": "stream",
     "text": [
      "100%|██████████| 50.0/50 [01:57<00:00,  2.34s/it]\n"
     ]
    },
    {
     "name": "stdout",
     "output_type": "stream",
     "text": [
      "alpha:  15 factors:  30 RegPram:  0.01 Iteration:  50\n"
     ]
    },
    {
     "name": "stderr",
     "output_type": "stream",
     "text": [
      "100%|██████████| 25.0/25 [00:58<00:00,  2.42s/it]\n"
     ]
    },
    {
     "name": "stdout",
     "output_type": "stream",
     "text": [
      "alpha:  15 factors:  30 RegPram:  0.1 Iteration:  25\n"
     ]
    },
    {
     "name": "stderr",
     "output_type": "stream",
     "text": [
      "100%|██████████| 50.0/50 [01:56<00:00,  2.37s/it]\n"
     ]
    },
    {
     "name": "stdout",
     "output_type": "stream",
     "text": [
      "alpha:  15 factors:  30 RegPram:  0.1 Iteration:  50\n"
     ]
    },
    {
     "name": "stderr",
     "output_type": "stream",
     "text": [
      "100%|██████████| 25.0/25 [00:57<00:00,  2.33s/it]\n"
     ]
    },
    {
     "name": "stdout",
     "output_type": "stream",
     "text": [
      "alpha:  15 factors:  30 RegPram:  1.0 Iteration:  25\n"
     ]
    },
    {
     "name": "stderr",
     "output_type": "stream",
     "text": [
      "100%|██████████| 50.0/50 [01:55<00:00,  2.33s/it]\n"
     ]
    },
    {
     "name": "stdout",
     "output_type": "stream",
     "text": [
      "alpha:  15 factors:  30 RegPram:  1.0 Iteration:  50\n"
     ]
    },
    {
     "name": "stderr",
     "output_type": "stream",
     "text": [
      "100%|██████████| 25.0/25 [00:58<00:00,  2.39s/it]\n"
     ]
    },
    {
     "name": "stdout",
     "output_type": "stream",
     "text": [
      "alpha:  15 factors:  40 RegPram:  0.01 Iteration:  25\n"
     ]
    },
    {
     "name": "stderr",
     "output_type": "stream",
     "text": [
      "100%|██████████| 50.0/50 [01:55<00:00,  2.33s/it]\n"
     ]
    },
    {
     "name": "stdout",
     "output_type": "stream",
     "text": [
      "alpha:  15 factors:  40 RegPram:  0.01 Iteration:  50\n"
     ]
    },
    {
     "name": "stderr",
     "output_type": "stream",
     "text": [
      "100%|██████████| 25.0/25 [01:00<00:00,  2.50s/it]\n"
     ]
    },
    {
     "name": "stdout",
     "output_type": "stream",
     "text": [
      "alpha:  15 factors:  40 RegPram:  0.1 Iteration:  25\n"
     ]
    },
    {
     "name": "stderr",
     "output_type": "stream",
     "text": [
      "100%|██████████| 50.0/50 [01:56<00:00,  2.37s/it]\n"
     ]
    },
    {
     "name": "stdout",
     "output_type": "stream",
     "text": [
      "alpha:  15 factors:  40 RegPram:  0.1 Iteration:  50\n"
     ]
    },
    {
     "name": "stderr",
     "output_type": "stream",
     "text": [
      "100%|██████████| 25.0/25 [00:57<00:00,  2.36s/it]\n"
     ]
    },
    {
     "name": "stdout",
     "output_type": "stream",
     "text": [
      "alpha:  15 factors:  40 RegPram:  1.0 Iteration:  25\n"
     ]
    },
    {
     "name": "stderr",
     "output_type": "stream",
     "text": [
      "100%|██████████| 50.0/50 [01:56<00:00,  2.40s/it]\n"
     ]
    },
    {
     "name": "stdout",
     "output_type": "stream",
     "text": [
      "alpha:  15 factors:  40 RegPram:  1.0 Iteration:  50\n"
     ]
    },
    {
     "name": "stderr",
     "output_type": "stream",
     "text": [
      "100%|██████████| 25.0/25 [01:05<00:00,  2.61s/it]\n"
     ]
    },
    {
     "name": "stdout",
     "output_type": "stream",
     "text": [
      "alpha:  15 factors:  50 RegPram:  0.01 Iteration:  25\n"
     ]
    },
    {
     "name": "stderr",
     "output_type": "stream",
     "text": [
      "100%|██████████| 50.0/50 [02:12<00:00,  2.72s/it]\n"
     ]
    },
    {
     "name": "stdout",
     "output_type": "stream",
     "text": [
      "alpha:  15 factors:  50 RegPram:  0.01 Iteration:  50\n"
     ]
    },
    {
     "name": "stderr",
     "output_type": "stream",
     "text": [
      "100%|██████████| 25.0/25 [01:04<00:00,  2.74s/it]\n"
     ]
    },
    {
     "name": "stdout",
     "output_type": "stream",
     "text": [
      "alpha:  15 factors:  50 RegPram:  0.1 Iteration:  25\n"
     ]
    },
    {
     "name": "stderr",
     "output_type": "stream",
     "text": [
      "100%|██████████| 50.0/50 [02:10<00:00,  2.68s/it]\n"
     ]
    },
    {
     "name": "stdout",
     "output_type": "stream",
     "text": [
      "alpha:  15 factors:  50 RegPram:  0.1 Iteration:  50\n"
     ]
    },
    {
     "name": "stderr",
     "output_type": "stream",
     "text": [
      "100%|██████████| 25.0/25 [01:04<00:00,  2.68s/it]\n"
     ]
    },
    {
     "name": "stdout",
     "output_type": "stream",
     "text": [
      "alpha:  15 factors:  50 RegPram:  1.0 Iteration:  25\n"
     ]
    },
    {
     "name": "stderr",
     "output_type": "stream",
     "text": [
      "100%|██████████| 50.0/50 [02:10<00:00,  2.65s/it]\n"
     ]
    },
    {
     "name": "stdout",
     "output_type": "stream",
     "text": [
      "alpha:  15 factors:  50 RegPram:  1.0 Iteration:  50\n",
      "Best alpha:  10 Best factors:  50 Best RegPram:  1.0 Best Iteration:  50 Best recall:  0.022253164111646982\n"
     ]
    }
   ],
   "source": [
    "# It takes several hours to do the grid search\n",
    "alphas = [10, 15]\n",
    "factors = [30, 40, 50]\n",
    "regparams = [0.01, 0.1, 1.0]\n",
    "iterations = [25, 50]\n",
    "\n",
    "best_recall_score = 0\n",
    "best_alpha = 0\n",
    "best_factors = 0\n",
    "best_reg = 0\n",
    "best_iterations = 0\n",
    "\n",
    "\n",
    "for a in alphas:\n",
    "    for f in factors:\n",
    "        for r in regparams:\n",
    "            for i in iterations:\n",
    "               \n",
    "                # get item_user_matrix matrix \n",
    "                item_user_cv = user_item_cv.T.tocsr()\n",
    "                \n",
    "                # create ALS model\n",
    "                als = implicit.als.AlternatingLeastSquares(factors=f, regularization=r, iterations=i)\n",
    "                \n",
    "                # fit model \n",
    "                als.fit(a * item_user_cv)\n",
    "                \n",
    "                \n",
    "                score = mean_recall_at_k_rec(model=als, test_data=val_data, user_item=user_item_cv, k=10, \n",
    "                                            p_dict=prod_dict_cv)\n",
    "\n",
    "                print(\"alpha: \", a, \"factors: \", f, \"RegPram: \", r, \"Iteration: \", i)\n",
    "                \n",
    "                if score > best_recall_score:\n",
    "                    best_recall_score = score\n",
    "                    best_alpha = a\n",
    "                    best_factors = f\n",
    "                    best_reg = r\n",
    "                    best_iterations = i\n",
    "print(\"Best alpha: \", best_alpha, \"Best factors: \", best_factors, \"Best RegPram: \", best_reg, \"Best Iteration: \", \n",
    "     best_iterations, 'Best recall: ', best_recall_score)"
   ]
  },
  {
   "cell_type": "code",
   "execution_count": 24,
   "metadata": {
    "collapsed": true
   },
   "outputs": [],
   "source": [
    "best_alpha = 10\n",
    "best_factors = 50\n",
    "best_reg = 1.0\n",
    "best_iterations = 50"
   ]
  },
  {
   "cell_type": "code",
   "execution_count": 25,
   "metadata": {},
   "outputs": [
    {
     "name": "stderr",
     "output_type": "stream",
     "text": [
      "100%|██████████| 50.0/50 [02:21<00:00,  2.87s/it]\n"
     ]
    }
   ],
   "source": [
    "# test tuned model with test_data\n",
    "model = implicit.als.AlternatingLeastSquares(factors=best_factors, regularization=best_reg, iterations=best_iterations)\n",
    "model.fit(best_alpha * item_user_sparse)"
   ]
  },
  {
   "cell_type": "code",
   "execution_count": 28,
   "metadata": {},
   "outputs": [
    {
     "name": "stdout",
     "output_type": "stream",
     "text": [
      "recall@10 including reordered products is: 0.021108589265309844\n",
      "recall@10 without reordered products is: 0.04362829431987226\n",
      "recall@20 including reordered products is: 0.03470740114728848\n",
      "recall@20 without reordered products is: 0.07196112895601287\n",
      "recall@50 including reordered products is: 0.06281738009812805\n",
      "recall@50 without reordered products is: 0.13033247828445535\n"
     ]
    }
   ],
   "source": [
    "N = [10, 20, 50]\n",
    "\n",
    "for i in N:\n",
    "    print('recall@{0} including reordered products is: {1}'.format(i,\n",
    "        mean_recall_at_k_rec(model=model, test_data=test_data, user_item=user_item_sparse, k=i, p_dict=prod_dict)))\n",
    "    print('recall@{0} without reordered products is: {1}'.format(i, \n",
    "        mean_recall_at_k_rec_new(model=model, test_data=test_data, user_item=user_item_sparse, k=i, p_dict=prod_dict)))"
   ]
  },
  {
   "cell_type": "markdown",
   "metadata": {},
   "source": [
    "By comparison, all recall@k with reordered products are lower than the benchmark popularity model. While the ALS model is performing better after we get rid of all the reordered products. So it's doing a better job in recommending new stuff to consumers. "
   ]
  },
  {
   "cell_type": "markdown",
   "metadata": {
    "collapsed": true
   },
   "source": [
    "#### Example: user_id == 100"
   ]
  },
  {
   "cell_type": "code",
   "execution_count": 29,
   "metadata": {},
   "outputs": [
    {
     "data": {
      "text/plain": [
       "[(47731, 0.68300116),\n",
       " (49646, 0.59405833),\n",
       " (47591, 0.5931705),\n",
       " (16787, 0.5908689),\n",
       " (21890, 0.5428823),\n",
       " (34948, 0.5374364),\n",
       " (28187, 0.53596514),\n",
       " (26194, 0.52375853),\n",
       " (13167, 0.49394482),\n",
       " (9071, 0.49373534)]"
      ]
     },
     "execution_count": 29,
     "metadata": {},
     "output_type": "execute_result"
    }
   ],
   "source": [
    "# recommend for a user, result is a list of (item, score) tuples\n",
    "model.recommend(99, user_item_sparse)"
   ]
  },
  {
   "cell_type": "code",
   "execution_count": 30,
   "metadata": {},
   "outputs": [
    {
     "data": {
      "text/html": [
       "<div>\n",
       "<style scoped>\n",
       "    .dataframe tbody tr th:only-of-type {\n",
       "        vertical-align: middle;\n",
       "    }\n",
       "\n",
       "    .dataframe tbody tr th {\n",
       "        vertical-align: top;\n",
       "    }\n",
       "\n",
       "    .dataframe thead th {\n",
       "        text-align: right;\n",
       "    }\n",
       "</style>\n",
       "<table border=\"1\" class=\"dataframe\">\n",
       "  <thead>\n",
       "    <tr style=\"text-align: right;\">\n",
       "      <th></th>\n",
       "      <th>product_id</th>\n",
       "      <th>product_name</th>\n",
       "    </tr>\n",
       "  </thead>\n",
       "  <tbody>\n",
       "    <tr>\n",
       "      <th>9075</th>\n",
       "      <td>9076</td>\n",
       "      <td>Blueberries</td>\n",
       "    </tr>\n",
       "    <tr>\n",
       "      <th>13175</th>\n",
       "      <td>13176</td>\n",
       "      <td>Bag of Organic Bananas</td>\n",
       "    </tr>\n",
       "    <tr>\n",
       "      <th>16796</th>\n",
       "      <td>16797</td>\n",
       "      <td>Strawberries</td>\n",
       "    </tr>\n",
       "    <tr>\n",
       "      <th>21902</th>\n",
       "      <td>21903</td>\n",
       "      <td>Organic Baby Spinach</td>\n",
       "    </tr>\n",
       "    <tr>\n",
       "      <th>26208</th>\n",
       "      <td>26209</td>\n",
       "      <td>Limes</td>\n",
       "    </tr>\n",
       "    <tr>\n",
       "      <th>28203</th>\n",
       "      <td>28204</td>\n",
       "      <td>Organic Fuji Apple</td>\n",
       "    </tr>\n",
       "    <tr>\n",
       "      <th>34968</th>\n",
       "      <td>34969</td>\n",
       "      <td>Red Vine Tomato</td>\n",
       "    </tr>\n",
       "    <tr>\n",
       "      <th>47625</th>\n",
       "      <td>47626</td>\n",
       "      <td>Large Lemon</td>\n",
       "    </tr>\n",
       "    <tr>\n",
       "      <th>47765</th>\n",
       "      <td>47766</td>\n",
       "      <td>Organic Avocado</td>\n",
       "    </tr>\n",
       "    <tr>\n",
       "      <th>49682</th>\n",
       "      <td>49683</td>\n",
       "      <td>Cucumber Kirby</td>\n",
       "    </tr>\n",
       "  </tbody>\n",
       "</table>\n",
       "</div>"
      ],
      "text/plain": [
       "       product_id            product_name\n",
       "9075         9076             Blueberries\n",
       "13175       13176  Bag of Organic Bananas\n",
       "16796       16797            Strawberries\n",
       "21902       21903    Organic Baby Spinach\n",
       "26208       26209                   Limes\n",
       "28203       28204      Organic Fuji Apple\n",
       "34968       34969         Red Vine Tomato\n",
       "47625       47626             Large Lemon\n",
       "47765       47766         Organic Avocado\n",
       "49682       49683          Cucumber Kirby"
      ]
     },
     "execution_count": 30,
     "metadata": {},
     "output_type": "execute_result"
    }
   ],
   "source": [
    "# check the product names from the above recommemdation result\n",
    "prod_ids = [i[0] for i in model.recommend(99, user_item_sparse)]\n",
    "products[products.product_id.isin([prod_dict[id] for id in prod_ids])][['product_id', 'product_name']]"
   ]
  },
  {
   "cell_type": "code",
   "execution_count": 31,
   "metadata": {},
   "outputs": [
    {
     "name": "stdout",
     "output_type": "stream",
     "text": [
      "User_id 100 actually bought: \n"
     ]
    },
    {
     "data": {
      "text/html": [
       "<div>\n",
       "<style scoped>\n",
       "    .dataframe tbody tr th:only-of-type {\n",
       "        vertical-align: middle;\n",
       "    }\n",
       "\n",
       "    .dataframe tbody tr th {\n",
       "        vertical-align: top;\n",
       "    }\n",
       "\n",
       "    .dataframe thead th {\n",
       "        text-align: right;\n",
       "    }\n",
       "</style>\n",
       "<table border=\"1\" class=\"dataframe\">\n",
       "  <thead>\n",
       "    <tr style=\"text-align: right;\">\n",
       "      <th></th>\n",
       "      <th>product_id</th>\n",
       "      <th>product_name</th>\n",
       "    </tr>\n",
       "  </thead>\n",
       "  <tbody>\n",
       "    <tr>\n",
       "      <th>21136</th>\n",
       "      <td>21137</td>\n",
       "      <td>Organic Strawberries</td>\n",
       "    </tr>\n",
       "    <tr>\n",
       "      <th>21615</th>\n",
       "      <td>21616</td>\n",
       "      <td>Organic Baby Arugula</td>\n",
       "    </tr>\n",
       "    <tr>\n",
       "      <th>24851</th>\n",
       "      <td>24852</td>\n",
       "      <td>Banana</td>\n",
       "    </tr>\n",
       "    <tr>\n",
       "      <th>26368</th>\n",
       "      <td>26369</td>\n",
       "      <td>Organic Roma Tomato</td>\n",
       "    </tr>\n",
       "    <tr>\n",
       "      <th>27343</th>\n",
       "      <td>27344</td>\n",
       "      <td>Uncured Genoa Salami</td>\n",
       "    </tr>\n",
       "    <tr>\n",
       "      <th>38546</th>\n",
       "      <td>38547</td>\n",
       "      <td>Bubblegum Flavor Natural Chewing Gum</td>\n",
       "    </tr>\n",
       "    <tr>\n",
       "      <th>38688</th>\n",
       "      <td>38689</td>\n",
       "      <td>Organic Reduced Fat Milk</td>\n",
       "    </tr>\n",
       "    <tr>\n",
       "      <th>48627</th>\n",
       "      <td>48628</td>\n",
       "      <td>Organic Whole Wheat Bread</td>\n",
       "    </tr>\n",
       "  </tbody>\n",
       "</table>\n",
       "</div>"
      ],
      "text/plain": [
       "       product_id                          product_name\n",
       "21136       21137                  Organic Strawberries\n",
       "21615       21616                  Organic Baby Arugula\n",
       "24851       24852                                Banana\n",
       "26368       26369                   Organic Roma Tomato\n",
       "27343       27344                  Uncured Genoa Salami\n",
       "38546       38547  Bubblegum Flavor Natural Chewing Gum\n",
       "38688       38689              Organic Reduced Fat Milk\n",
       "48627       48628             Organic Whole Wheat Bread"
      ]
     },
     "execution_count": 31,
     "metadata": {},
     "output_type": "execute_result"
    }
   ],
   "source": [
    "# what user_id 100 actually bought?\n",
    "print('User_id 100 actually bought: ')\n",
    "get_prod_names(test_data.products[99])"
   ]
  },
  {
   "cell_type": "code",
   "execution_count": null,
   "metadata": {
    "collapsed": true
   },
   "outputs": [],
   "source": []
  }
 ],
 "metadata": {
  "kernelspec": {
   "display_name": "Python 3",
   "language": "python",
   "name": "python3"
  },
  "language_info": {
   "codemirror_mode": {
    "name": "ipython",
    "version": 3
   },
   "file_extension": ".py",
   "mimetype": "text/x-python",
   "name": "python",
   "nbconvert_exporter": "python",
   "pygments_lexer": "ipython3",
   "version": "3.6.7"
  }
 },
 "nbformat": 4,
 "nbformat_minor": 2
}
