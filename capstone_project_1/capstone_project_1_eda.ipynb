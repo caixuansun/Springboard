{
 "cells": [
  {
   "cell_type": "markdown",
   "metadata": {},
   "source": [
    "## Capstone Mini-Project: Data Wrangling + EDA"
   ]
  },
  {
   "cell_type": "markdown",
   "metadata": {},
   "source": [
    "### Data Collection and Description\n",
    "Data is obtained from Kaggle: https://www.kaggle.com/mehdidag/black-friday\n",
    "The dataset is a sample of transactions made in a retail store for one month. It contains customer demographics such as age, gender and marital status, product details including product id and product category, and purchase amount for the whole month.<br>\n",
    "Dataset from Kaggle is pretty clean and ready to use, not much data wrangling is required."
   ]
  },
  {
   "cell_type": "markdown",
   "metadata": {},
   "source": [
    "### Data Inspection"
   ]
  },
  {
   "cell_type": "code",
   "execution_count": 1,
   "metadata": {
    "collapsed": true
   },
   "outputs": [],
   "source": [
    "import pandas as pd\n",
    "import matplotlib.pyplot as plt\n",
    "import seaborn as sns\n",
    "import numpy as np\n",
    "%matplotlib inline\n",
    "sns.set()"
   ]
  },
  {
   "cell_type": "code",
   "execution_count": 2,
   "metadata": {},
   "outputs": [
    {
     "data": {
      "text/html": [
       "<div>\n",
       "<style scoped>\n",
       "    .dataframe tbody tr th:only-of-type {\n",
       "        vertical-align: middle;\n",
       "    }\n",
       "\n",
       "    .dataframe tbody tr th {\n",
       "        vertical-align: top;\n",
       "    }\n",
       "\n",
       "    .dataframe thead th {\n",
       "        text-align: right;\n",
       "    }\n",
       "</style>\n",
       "<table border=\"1\" class=\"dataframe\">\n",
       "  <thead>\n",
       "    <tr style=\"text-align: right;\">\n",
       "      <th></th>\n",
       "      <th>User_ID</th>\n",
       "      <th>Product_ID</th>\n",
       "      <th>Gender</th>\n",
       "      <th>Age</th>\n",
       "      <th>Occupation</th>\n",
       "      <th>City_Category</th>\n",
       "      <th>Stay_In_Current_City_Years</th>\n",
       "      <th>Marital_Status</th>\n",
       "      <th>Product_Category_1</th>\n",
       "      <th>Product_Category_2</th>\n",
       "      <th>Product_Category_3</th>\n",
       "      <th>Purchase</th>\n",
       "    </tr>\n",
       "  </thead>\n",
       "  <tbody>\n",
       "    <tr>\n",
       "      <th>0</th>\n",
       "      <td>1000001</td>\n",
       "      <td>P00069042</td>\n",
       "      <td>F</td>\n",
       "      <td>0-17</td>\n",
       "      <td>10</td>\n",
       "      <td>A</td>\n",
       "      <td>2</td>\n",
       "      <td>0</td>\n",
       "      <td>3</td>\n",
       "      <td>NaN</td>\n",
       "      <td>NaN</td>\n",
       "      <td>8370</td>\n",
       "    </tr>\n",
       "    <tr>\n",
       "      <th>1</th>\n",
       "      <td>1000001</td>\n",
       "      <td>P00248942</td>\n",
       "      <td>F</td>\n",
       "      <td>0-17</td>\n",
       "      <td>10</td>\n",
       "      <td>A</td>\n",
       "      <td>2</td>\n",
       "      <td>0</td>\n",
       "      <td>1</td>\n",
       "      <td>6.0</td>\n",
       "      <td>14.0</td>\n",
       "      <td>15200</td>\n",
       "    </tr>\n",
       "    <tr>\n",
       "      <th>2</th>\n",
       "      <td>1000001</td>\n",
       "      <td>P00087842</td>\n",
       "      <td>F</td>\n",
       "      <td>0-17</td>\n",
       "      <td>10</td>\n",
       "      <td>A</td>\n",
       "      <td>2</td>\n",
       "      <td>0</td>\n",
       "      <td>12</td>\n",
       "      <td>NaN</td>\n",
       "      <td>NaN</td>\n",
       "      <td>1422</td>\n",
       "    </tr>\n",
       "    <tr>\n",
       "      <th>3</th>\n",
       "      <td>1000001</td>\n",
       "      <td>P00085442</td>\n",
       "      <td>F</td>\n",
       "      <td>0-17</td>\n",
       "      <td>10</td>\n",
       "      <td>A</td>\n",
       "      <td>2</td>\n",
       "      <td>0</td>\n",
       "      <td>12</td>\n",
       "      <td>14.0</td>\n",
       "      <td>NaN</td>\n",
       "      <td>1057</td>\n",
       "    </tr>\n",
       "    <tr>\n",
       "      <th>4</th>\n",
       "      <td>1000002</td>\n",
       "      <td>P00285442</td>\n",
       "      <td>M</td>\n",
       "      <td>55+</td>\n",
       "      <td>16</td>\n",
       "      <td>C</td>\n",
       "      <td>4+</td>\n",
       "      <td>0</td>\n",
       "      <td>8</td>\n",
       "      <td>NaN</td>\n",
       "      <td>NaN</td>\n",
       "      <td>7969</td>\n",
       "    </tr>\n",
       "  </tbody>\n",
       "</table>\n",
       "</div>"
      ],
      "text/plain": [
       "   User_ID Product_ID Gender   Age  Occupation City_Category  \\\n",
       "0  1000001  P00069042      F  0-17          10             A   \n",
       "1  1000001  P00248942      F  0-17          10             A   \n",
       "2  1000001  P00087842      F  0-17          10             A   \n",
       "3  1000001  P00085442      F  0-17          10             A   \n",
       "4  1000002  P00285442      M   55+          16             C   \n",
       "\n",
       "  Stay_In_Current_City_Years  Marital_Status  Product_Category_1  \\\n",
       "0                          2               0                   3   \n",
       "1                          2               0                   1   \n",
       "2                          2               0                  12   \n",
       "3                          2               0                  12   \n",
       "4                         4+               0                   8   \n",
       "\n",
       "   Product_Category_2  Product_Category_3  Purchase  \n",
       "0                 NaN                 NaN      8370  \n",
       "1                 6.0                14.0     15200  \n",
       "2                 NaN                 NaN      1422  \n",
       "3                14.0                 NaN      1057  \n",
       "4                 NaN                 NaN      7969  "
      ]
     },
     "execution_count": 2,
     "metadata": {},
     "output_type": "execute_result"
    }
   ],
   "source": [
    "# Read data and inspect the first few rows\n",
    "retail_data = pd.read_csv('BlackFriday.csv')\n",
    "retail_data.head()"
   ]
  },
  {
   "cell_type": "code",
   "execution_count": 3,
   "metadata": {},
   "outputs": [
    {
     "name": "stdout",
     "output_type": "stream",
     "text": [
      "<class 'pandas.core.frame.DataFrame'>\n",
      "RangeIndex: 537577 entries, 0 to 537576\n",
      "Data columns (total 12 columns):\n",
      "User_ID                       537577 non-null int64\n",
      "Product_ID                    537577 non-null object\n",
      "Gender                        537577 non-null object\n",
      "Age                           537577 non-null object\n",
      "Occupation                    537577 non-null int64\n",
      "City_Category                 537577 non-null object\n",
      "Stay_In_Current_City_Years    537577 non-null object\n",
      "Marital_Status                537577 non-null int64\n",
      "Product_Category_1            537577 non-null int64\n",
      "Product_Category_2            370591 non-null float64\n",
      "Product_Category_3            164278 non-null float64\n",
      "Purchase                      537577 non-null int64\n",
      "dtypes: float64(2), int64(5), object(5)\n",
      "memory usage: 49.2+ MB\n"
     ]
    }
   ],
   "source": [
    "retail_data.info()"
   ]
  },
  {
   "cell_type": "code",
   "execution_count": 4,
   "metadata": {},
   "outputs": [
    {
     "data": {
      "text/plain": [
       "0"
      ]
     },
     "execution_count": 4,
     "metadata": {},
     "output_type": "execute_result"
    }
   ],
   "source": [
    "# Check if there's any duplicated rows\n",
    "retail_data.duplicated().sum()"
   ]
  },
  {
   "cell_type": "code",
   "execution_count": 5,
   "metadata": {
    "collapsed": true
   },
   "outputs": [],
   "source": [
    "# Convert column names to lower case\n",
    "retail_data.columns = [col.lower() for col in retail_data.columns]"
   ]
  },
  {
   "cell_type": "code",
   "execution_count": 6,
   "metadata": {},
   "outputs": [
    {
     "data": {
      "text/plain": [
       "True"
      ]
     },
     "execution_count": 6,
     "metadata": {},
     "output_type": "execute_result"
    }
   ],
   "source": [
    "# Examine if all column labels are of type string\n",
    "all(isinstance(column, str) for column in retail_data.columns)"
   ]
  },
  {
   "cell_type": "code",
   "execution_count": 7,
   "metadata": {},
   "outputs": [
    {
     "name": "stdout",
     "output_type": "stream",
     "text": [
      "<class 'pandas.core.frame.DataFrame'>\n",
      "RangeIndex: 537577 entries, 0 to 537576\n",
      "Data columns (total 12 columns):\n",
      "user_id                       537577 non-null int64\n",
      "product_id                    537577 non-null object\n",
      "gender                        537577 non-null object\n",
      "age                           537577 non-null object\n",
      "occupation                    537577 non-null int64\n",
      "city_category                 537577 non-null object\n",
      "stay_in_current_city_years    537577 non-null object\n",
      "marital_status                537577 non-null int64\n",
      "product_category_1            537577 non-null int64\n",
      "product_category_2            370591 non-null float64\n",
      "product_category_3            164278 non-null float64\n",
      "purchase                      537577 non-null int64\n",
      "dtypes: float64(2), int64(5), object(5)\n",
      "memory usage: 49.2+ MB\n"
     ]
    }
   ],
   "source": [
    "# Check the data types for each column and total count of null entries \n",
    "retail_data.info()"
   ]
  },
  {
   "cell_type": "code",
   "execution_count": 8,
   "metadata": {
    "collapsed": true
   },
   "outputs": [],
   "source": [
    "# Convert categorical features into 'category' data type\n",
    "for col in ['gender', 'age', 'occupation', 'city_category', 'stay_in_current_city_years',\n",
    "            'marital_status', 'product_category_1', 'product_category_2','product_category_3']:\n",
    "    retail_data[col] = retail_data[col].astype('category')"
   ]
  },
  {
   "cell_type": "code",
   "execution_count": 9,
   "metadata": {},
   "outputs": [
    {
     "data": {
      "text/plain": [
       "0          0-17\n",
       "1          0-17\n",
       "2          0-17\n",
       "3          0-17\n",
       "4           55+\n",
       "5         26-35\n",
       "6         46-50\n",
       "7         46-50\n",
       "8         46-50\n",
       "9         26-35\n",
       "10        26-35\n",
       "11        26-35\n",
       "12        26-35\n",
       "13        26-35\n",
       "14        51-55\n",
       "15        51-55\n",
       "16        51-55\n",
       "17        51-55\n",
       "18        36-45\n",
       "19        26-35\n",
       "20        26-35\n",
       "21        26-35\n",
       "22        26-35\n",
       "23        26-35\n",
       "24        26-35\n",
       "25        26-35\n",
       "26        26-35\n",
       "27        26-35\n",
       "28        26-35\n",
       "29        36-45\n",
       "          ...  \n",
       "537547    18-25\n",
       "537548    51-55\n",
       "537549    51-55\n",
       "537550    46-50\n",
       "537551    46-50\n",
       "537552    46-50\n",
       "537553    46-50\n",
       "537554    46-50\n",
       "537555    46-50\n",
       "537556    18-25\n",
       "537557    18-25\n",
       "537558    18-25\n",
       "537559    18-25\n",
       "537560    18-25\n",
       "537561    18-25\n",
       "537562    18-25\n",
       "537563    18-25\n",
       "537564    18-25\n",
       "537565    18-25\n",
       "537566    18-25\n",
       "537567    18-25\n",
       "537568    18-25\n",
       "537569    18-25\n",
       "537570    18-25\n",
       "537571    36-45\n",
       "537572    36-45\n",
       "537573    36-45\n",
       "537574    36-45\n",
       "537575    36-45\n",
       "537576    36-45\n",
       "Name: age, Length: 537577, dtype: category\n",
       "Categories (7, object): [0-17 < 18-25 < 26-35 < 36-45 < 46-50 < 51-55 < 55+]"
      ]
     },
     "execution_count": 9,
     "metadata": {},
     "output_type": "execute_result"
    }
   ],
   "source": [
    "# Further convert age column to ordered category\n",
    "from pandas.api.types import CategoricalDtype\n",
    "retail_data['age'].astype(CategoricalDtype(ordered=True))"
   ]
  },
  {
   "cell_type": "code",
   "execution_count": 10,
   "metadata": {},
   "outputs": [
    {
     "name": "stdout",
     "output_type": "stream",
     "text": [
      "gender: Index(['F', 'M'], dtype='object')\n",
      "age: Index(['0-17', '18-25', '26-35', '36-45', '46-50', '51-55', '55+'], dtype='object')\n",
      "occupation: Int64Index([0, 1, 2, 3, 4, 5, 6, 7, 8, 9, 10, 11, 12, 13, 14, 15, 16, 17, 18,\n",
      "            19, 20],\n",
      "           dtype='int64')\n",
      "city_category: Index(['A', 'B', 'C'], dtype='object')\n",
      "stay_in_current_city_years: Index(['0', '1', '2', '3', '4+'], dtype='object')\n",
      "marital_status: Int64Index([0, 1], dtype='int64')\n",
      "product_category_1: Int64Index([1, 2, 3, 4, 5, 6, 7, 8, 9, 10, 11, 12, 13, 14, 15, 16, 17, 18], dtype='int64')\n",
      "product_category_2: Float64Index([ 2.0,  3.0,  4.0,  5.0,  6.0,  7.0,  8.0,  9.0, 10.0, 11.0, 12.0,\n",
      "              13.0, 14.0, 15.0, 16.0, 17.0, 18.0],\n",
      "             dtype='float64')\n",
      "product_category_3: Float64Index([ 3.0,  4.0,  5.0,  6.0,  8.0,  9.0, 10.0, 11.0, 12.0, 13.0, 14.0,\n",
      "              15.0, 16.0, 17.0, 18.0],\n",
      "             dtype='float64')\n"
     ]
    }
   ],
   "source": [
    "# See how many categories in each categorial column\n",
    "for col in ['gender', 'age', 'occupation', 'city_category', 'stay_in_current_city_years',\n",
    "            'marital_status', 'product_category_1', 'product_category_2', 'product_category_3']:\n",
    "    print('{}: {}' .format(col, retail_data[col].cat.categories))"
   ]
  },
  {
   "cell_type": "markdown",
   "metadata": {},
   "source": [
    "From retail_data.info(), we find that only product_category_2 and product_category_3 have null entries. Use value_counts to futher check if there are other missing values not in the form of 'NaN'. "
   ]
  },
  {
   "cell_type": "code",
   "execution_count": 11,
   "metadata": {},
   "outputs": [
    {
     "name": "stdout",
     "output_type": "stream",
     "text": [
      "Value counts for user_id is \n",
      "1001680    1025\n",
      "1004277     978\n",
      "1001941     898\n",
      "1001181     861\n",
      "1000889     822\n",
      "1003618     766\n",
      "1001150     752\n",
      "1001015     739\n",
      "1002909     717\n",
      "1001449     714\n",
      "1002063     708\n",
      "1004344     705\n",
      "1003391     697\n",
      "1003841     697\n",
      "1000424     694\n",
      "1004510     690\n",
      "1001980     684\n",
      "1005795     680\n",
      "1001088     679\n",
      "1004227     676\n",
      "Name: user_id, dtype: int64\n",
      "Value counts for product_id is \n",
      "P00265242    1858\n",
      "P00110742    1591\n",
      "P00025442    1586\n",
      "P00112142    1539\n",
      "P00057642    1430\n",
      "P00184942    1424\n",
      "P00046742    1417\n",
      "P00058042    1396\n",
      "P00145042    1384\n",
      "P00059442    1384\n",
      "P00237542    1374\n",
      "P00255842    1354\n",
      "P00117942    1346\n",
      "P00110942    1336\n",
      "P00010742    1331\n",
      "P00110842    1260\n",
      "P00220442    1253\n",
      "P00051442    1233\n",
      "P00102642    1228\n",
      "P00117442    1227\n",
      "Name: product_id, dtype: int64\n",
      "Value counts for gender is \n",
      "M    405380\n",
      "F    132197\n",
      "Name: gender, dtype: int64\n",
      "Value counts for age is \n",
      "26-35    214690\n",
      "36-45    107499\n",
      "18-25     97634\n",
      "46-50     44526\n",
      "51-55     37618\n",
      "55+       20903\n",
      "0-17      14707\n",
      "Name: age, dtype: int64\n",
      "Value counts for occupation is \n",
      "4     70862\n",
      "0     68120\n",
      "7     57806\n",
      "1     45971\n",
      "17    39090\n",
      "20    32910\n",
      "12    30423\n",
      "14    26712\n",
      "2     25845\n",
      "16    24790\n",
      "6     19822\n",
      "3     17366\n",
      "10    12623\n",
      "5     11985\n",
      "15    11812\n",
      "11    11338\n",
      "19     8352\n",
      "13     7548\n",
      "18     6525\n",
      "9      6153\n",
      "Name: occupation, dtype: int64\n",
      "Value counts for city_category is \n",
      "B    226493\n",
      "C    166446\n",
      "A    144638\n",
      "Name: city_category, dtype: int64\n",
      "Value counts for stay_in_current_city_years is \n",
      "1     189192\n",
      "2      99459\n",
      "3      93312\n",
      "4+     82889\n",
      "0      72725\n",
      "Name: stay_in_current_city_years, dtype: int64\n",
      "Value counts for marital_status is \n",
      "0    317817\n",
      "1    219760\n",
      "Name: marital_status, dtype: int64\n",
      "Value counts for product_category_1 is \n",
      "5     148592\n",
      "1     138353\n",
      "8     112132\n",
      "11     23960\n",
      "2      23499\n",
      "6      20164\n",
      "3      19849\n",
      "4      11567\n",
      "16      9697\n",
      "15      6203\n",
      "13      5440\n",
      "10      5032\n",
      "12      3875\n",
      "7       3668\n",
      "18      3075\n",
      "14      1500\n",
      "17       567\n",
      "9        404\n",
      "Name: product_category_1, dtype: int64\n",
      "Value counts for product_category_2 is \n",
      "8.0     63058\n",
      "14.0    54158\n",
      "2.0     48481\n",
      "16.0    42602\n",
      "15.0    37317\n",
      "5.0     25874\n",
      "4.0     25225\n",
      "6.0     16251\n",
      "11.0    13945\n",
      "17.0    13130\n",
      "13.0    10369\n",
      "9.0      5591\n",
      "12.0     5419\n",
      "10.0     2991\n",
      "3.0      2835\n",
      "18.0     2730\n",
      "7.0       615\n",
      "Name: product_category_2, dtype: int64\n",
      "Value counts for product_category_3 is \n",
      "16.0    32148\n",
      "15.0    27611\n",
      "14.0    18121\n",
      "17.0    16449\n",
      "5.0     16380\n",
      "8.0     12384\n",
      "9.0     11414\n",
      "12.0     9094\n",
      "13.0     5385\n",
      "6.0      4818\n",
      "18.0     4563\n",
      "4.0      1840\n",
      "11.0     1773\n",
      "10.0     1698\n",
      "3.0       600\n",
      "Name: product_category_3, dtype: int64\n",
      "Value counts for purchase is \n",
      "6855    186\n",
      "7011    185\n",
      "7193    182\n",
      "6891    182\n",
      "6879    181\n",
      "7027    180\n",
      "7012    180\n",
      "6883    179\n",
      "7166    179\n",
      "7165    179\n",
      "6960    178\n",
      "6868    176\n",
      "7089    176\n",
      "7093    176\n",
      "6923    176\n",
      "6858    176\n",
      "7167    175\n",
      "7114    175\n",
      "7185    174\n",
      "6931    174\n",
      "Name: purchase, dtype: int64\n"
     ]
    }
   ],
   "source": [
    "for col in retail_data.columns:\n",
    "    print('Value counts for {} is \\n{}'.format(col, retail_data[col].value_counts().head(20)))"
   ]
  },
  {
   "cell_type": "markdown",
   "metadata": {},
   "source": [
    "It seems that there are no missing values in other forms. Then investigate a little bit more about the two columns having null entries. Notice that product_category_1 has 18 categories from 1 to 18, product_category_2 has 17 categories from 2 to 18, and product_category_3 has 16 categories from 3 to 18. "
   ]
  },
  {
   "cell_type": "code",
   "execution_count": 12,
   "metadata": {},
   "outputs": [
    {
     "data": {
      "image/png": "[encoded data removed]",
      "text/plain": [
       "<matplotlib.figure.Figure at 0x1085739b0>"
      ]
     },
     "metadata": {},
     "output_type": "display_data"
    }
   ],
   "source": [
    "retail_data['product_category_1'].value_counts().sort_index().plot(kind='bar')\n",
    "plt.title('Bar plot for product category 1')\n",
    "plt.xticks(rotation=360);"
   ]
  },
  {
   "cell_type": "markdown",
   "metadata": {},
   "source": [
    "Three most popular categories regarding product category 1 are 1, 5, and 8."
   ]
  },
  {
   "cell_type": "code",
   "execution_count": 13,
   "metadata": {},
   "outputs": [
    {
     "data": {
      "image/png": "[encoded data removed]",
      "text/plain": [
       "<matplotlib.figure.Figure at 0x1090b3048>"
      ]
     },
     "metadata": {},
     "output_type": "display_data"
    }
   ],
   "source": [
    "retail_data['product_category_2'].value_counts().sort_index().plot(kind='bar')\n",
    "plt.title('Bar plot for product category 2')\n",
    "plt.xticks(rotation=360);"
   ]
  },
  {
   "cell_type": "code",
   "execution_count": 14,
   "metadata": {},
   "outputs": [
    {
     "data": {
      "image/png": "[encoded data removed]",
      "text/plain": [
       "<matplotlib.figure.Figure at 0x1091637f0>"
      ]
     },
     "metadata": {},
     "output_type": "display_data"
    }
   ],
   "source": [
    "retail_data['product_category_3'].value_counts().sort_index().plot(kind='bar')\n",
    "plt.title('Bar plot for product category 3')\n",
    "plt.xticks(rotation=360);"
   ]
  },
  {
   "cell_type": "code",
   "execution_count": 15,
   "metadata": {},
   "outputs": [
    {
     "data": {
      "text/html": [
       "<div>\n",
       "<style scoped>\n",
       "    .dataframe tbody tr th:only-of-type {\n",
       "        vertical-align: middle;\n",
       "    }\n",
       "\n",
       "    .dataframe tbody tr th {\n",
       "        vertical-align: top;\n",
       "    }\n",
       "\n",
       "    .dataframe thead th {\n",
       "        text-align: right;\n",
       "    }\n",
       "</style>\n",
       "<table border=\"1\" class=\"dataframe\">\n",
       "  <thead>\n",
       "    <tr style=\"text-align: right;\">\n",
       "      <th></th>\n",
       "      <th>user_id</th>\n",
       "      <th>product_id</th>\n",
       "      <th>gender</th>\n",
       "      <th>age</th>\n",
       "      <th>occupation</th>\n",
       "      <th>city_category</th>\n",
       "      <th>stay_in_current_city_years</th>\n",
       "      <th>marital_status</th>\n",
       "      <th>product_category_1</th>\n",
       "      <th>product_category_2</th>\n",
       "      <th>product_category_3</th>\n",
       "      <th>purchase</th>\n",
       "    </tr>\n",
       "  </thead>\n",
       "  <tbody>\n",
       "    <tr>\n",
       "      <th>0</th>\n",
       "      <td>1000001</td>\n",
       "      <td>P00069042</td>\n",
       "      <td>F</td>\n",
       "      <td>0-17</td>\n",
       "      <td>10</td>\n",
       "      <td>A</td>\n",
       "      <td>2</td>\n",
       "      <td>0</td>\n",
       "      <td>3</td>\n",
       "      <td>NaN</td>\n",
       "      <td>NaN</td>\n",
       "      <td>8370</td>\n",
       "    </tr>\n",
       "    <tr>\n",
       "      <th>2</th>\n",
       "      <td>1000001</td>\n",
       "      <td>P00087842</td>\n",
       "      <td>F</td>\n",
       "      <td>0-17</td>\n",
       "      <td>10</td>\n",
       "      <td>A</td>\n",
       "      <td>2</td>\n",
       "      <td>0</td>\n",
       "      <td>12</td>\n",
       "      <td>NaN</td>\n",
       "      <td>NaN</td>\n",
       "      <td>1422</td>\n",
       "    </tr>\n",
       "    <tr>\n",
       "      <th>4</th>\n",
       "      <td>1000002</td>\n",
       "      <td>P00285442</td>\n",
       "      <td>M</td>\n",
       "      <td>55+</td>\n",
       "      <td>16</td>\n",
       "      <td>C</td>\n",
       "      <td>4+</td>\n",
       "      <td>0</td>\n",
       "      <td>8</td>\n",
       "      <td>NaN</td>\n",
       "      <td>NaN</td>\n",
       "      <td>7969</td>\n",
       "    </tr>\n",
       "    <tr>\n",
       "      <th>9</th>\n",
       "      <td>1000005</td>\n",
       "      <td>P00274942</td>\n",
       "      <td>M</td>\n",
       "      <td>26-35</td>\n",
       "      <td>20</td>\n",
       "      <td>A</td>\n",
       "      <td>1</td>\n",
       "      <td>1</td>\n",
       "      <td>8</td>\n",
       "      <td>NaN</td>\n",
       "      <td>NaN</td>\n",
       "      <td>7871</td>\n",
       "    </tr>\n",
       "    <tr>\n",
       "      <th>11</th>\n",
       "      <td>1000005</td>\n",
       "      <td>P00014542</td>\n",
       "      <td>M</td>\n",
       "      <td>26-35</td>\n",
       "      <td>20</td>\n",
       "      <td>A</td>\n",
       "      <td>1</td>\n",
       "      <td>1</td>\n",
       "      <td>8</td>\n",
       "      <td>NaN</td>\n",
       "      <td>NaN</td>\n",
       "      <td>3957</td>\n",
       "    </tr>\n",
       "  </tbody>\n",
       "</table>\n",
       "</div>"
      ],
      "text/plain": [
       "    user_id product_id gender    age occupation city_category  \\\n",
       "0   1000001  P00069042      F   0-17         10             A   \n",
       "2   1000001  P00087842      F   0-17         10             A   \n",
       "4   1000002  P00285442      M    55+         16             C   \n",
       "9   1000005  P00274942      M  26-35         20             A   \n",
       "11  1000005  P00014542      M  26-35         20             A   \n",
       "\n",
       "   stay_in_current_city_years marital_status product_category_1  \\\n",
       "0                           2              0                  3   \n",
       "2                           2              0                 12   \n",
       "4                          4+              0                  8   \n",
       "9                           1              1                  8   \n",
       "11                          1              1                  8   \n",
       "\n",
       "   product_category_2 product_category_3  purchase  \n",
       "0                 NaN                NaN      8370  \n",
       "2                 NaN                NaN      1422  \n",
       "4                 NaN                NaN      7969  \n",
       "9                 NaN                NaN      7871  \n",
       "11                NaN                NaN      3957  "
      ]
     },
     "execution_count": 15,
     "metadata": {},
     "output_type": "execute_result"
    }
   ],
   "source": [
    "retail_data[retail_data['product_category_2'].isnull()].head()"
   ]
  },
  {
   "cell_type": "code",
   "execution_count": 16,
   "metadata": {},
   "outputs": [
    {
     "data": {
      "text/plain": [
       "5     62788\n",
       "8     59828\n",
       "11    12202\n",
       "16     9697\n",
       "1      6498\n",
       "7      3371\n",
       "18     3075\n",
       "15     2797\n",
       "12     1748\n",
       "14     1085\n",
       "6       979\n",
       "2       910\n",
       "13      618\n",
       "17      567\n",
       "10      447\n",
       "3       233\n",
       "4       142\n",
       "9         1\n",
       "Name: product_category_1, dtype: int64"
      ]
     },
     "execution_count": 16,
     "metadata": {},
     "output_type": "execute_result"
    }
   ],
   "source": [
    "# Find for those nan value products in product_category_2, what categories are they in product_category_1? \n",
    "retail_data[retail_data['product_category_2'].isnull()]['product_category_1'].value_counts()"
   ]
  },
  {
   "cell_type": "code",
   "execution_count": 17,
   "metadata": {},
   "outputs": [
    {
     "data": {
      "text/plain": [
       "14.0    42352\n",
       "16.0    41732\n",
       "8.0     36528\n",
       "15.0    23032\n",
       "17.0    13130\n",
       "5.0     10258\n",
       "11.0     8239\n",
       "4.0      6012\n",
       "2.0      5588\n",
       "13.0     4341\n",
       "6.0      4272\n",
       "12.0     4060\n",
       "18.0     2730\n",
       "9.0      2657\n",
       "10.0      767\n",
       "7.0       615\n",
       "3.0         0\n",
       "Name: product_category_2, dtype: int64"
      ]
     },
     "execution_count": 17,
     "metadata": {},
     "output_type": "execute_result"
    }
   ],
   "source": [
    "retail_data[retail_data['product_category_3'].isnull()]['product_category_2'].value_counts()"
   ]
  },
  {
   "cell_type": "code",
   "execution_count": 18,
   "metadata": {},
   "outputs": [
    {
     "data": {
      "text/html": [
       "<div>\n",
       "<style scoped>\n",
       "    .dataframe tbody tr th:only-of-type {\n",
       "        vertical-align: middle;\n",
       "    }\n",
       "\n",
       "    .dataframe tbody tr th {\n",
       "        vertical-align: top;\n",
       "    }\n",
       "\n",
       "    .dataframe thead th {\n",
       "        text-align: right;\n",
       "    }\n",
       "</style>\n",
       "<table border=\"1\" class=\"dataframe\">\n",
       "  <thead>\n",
       "    <tr style=\"text-align: right;\">\n",
       "      <th></th>\n",
       "      <th>user_id</th>\n",
       "      <th>product_id</th>\n",
       "      <th>gender</th>\n",
       "      <th>age</th>\n",
       "      <th>occupation</th>\n",
       "      <th>city_category</th>\n",
       "      <th>stay_in_current_city_years</th>\n",
       "      <th>marital_status</th>\n",
       "      <th>product_category_1</th>\n",
       "      <th>product_category_2</th>\n",
       "      <th>product_category_3</th>\n",
       "      <th>purchase</th>\n",
       "    </tr>\n",
       "  </thead>\n",
       "  <tbody>\n",
       "  </tbody>\n",
       "</table>\n",
       "</div>"
      ],
      "text/plain": [
       "Empty DataFrame\n",
       "Columns: [user_id, product_id, gender, age, occupation, city_category, stay_in_current_city_years, marital_status, product_category_1, product_category_2, product_category_3, purchase]\n",
       "Index: []"
      ]
     },
     "execution_count": 18,
     "metadata": {},
     "output_type": "execute_result"
    }
   ],
   "source": [
    "retail_data[retail_data['product_category_2'].isnull() & retail_data['product_category_3'].notnull()]"
   ]
  },
  {
   "cell_type": "code",
   "execution_count": 19,
   "metadata": {},
   "outputs": [
    {
     "data": {
      "text/plain": [
       "product_category_1  product_category_2\n",
       "1                   2.0                   48481\n",
       "                    3.0                     118\n",
       "                    4.0                     676\n",
       "                    5.0                   11127\n",
       "                    6.0                   10507\n",
       "                    8.0                   15251\n",
       "                    11.0                   4761\n",
       "                    13.0                   1008\n",
       "                    14.0                   4496\n",
       "                    15.0                  18281\n",
       "                    16.0                  14602\n",
       "                    17.0                   1842\n",
       "                    18.0                    705\n",
       "2                   3.0                    2717\n",
       "                    4.0                    7997\n",
       "                    5.0                    4099\n",
       "                    6.0                     185\n",
       "                    8.0                    2577\n",
       "                    9.0                    1488\n",
       "                    12.0                    142\n",
       "                    14.0                    482\n",
       "                    15.0                   1328\n",
       "                    16.0                    530\n",
       "                    17.0                    868\n",
       "                    18.0                    176\n",
       "3                   4.0                   16552\n",
       "                    5.0                    2225\n",
       "                    12.0                    586\n",
       "                    13.0                     25\n",
       "                    15.0                    228\n",
       "                                          ...  \n",
       "8                   9.0                     416\n",
       "                    10.0                    391\n",
       "                    11.0                   1649\n",
       "                    12.0                   1562\n",
       "                    13.0                   4954\n",
       "                    14.0                  20412\n",
       "                    15.0                   4250\n",
       "                    16.0                  10349\n",
       "                    17.0                   7823\n",
       "                    18.0                    498\n",
       "9                   15.0                    403\n",
       "10                  11.0                      1\n",
       "                    13.0                   1844\n",
       "                    14.0                    235\n",
       "                    15.0                   1455\n",
       "                    16.0                   1050\n",
       "11                  13.0                   1145\n",
       "                    14.0                    989\n",
       "                    15.0                   4899\n",
       "                    16.0                   4725\n",
       "12                  14.0                   1890\n",
       "                    17.0                    237\n",
       "13                  14.0                    507\n",
       "                    15.0                    778\n",
       "                    16.0                   3537\n",
       "14                  16.0                    317\n",
       "                    17.0                     65\n",
       "                    18.0                     33\n",
       "15                  16.0                   2681\n",
       "                    17.0                    725\n",
       "Length: 87, dtype: int64"
      ]
     },
     "execution_count": 19,
     "metadata": {},
     "output_type": "execute_result"
    }
   ],
   "source": [
    "category_12= retail_data[['product_category_1','product_category_2']]\n",
    "category_12.groupby(['product_category_1','product_category_2']).size()"
   ]
  },
  {
   "cell_type": "code",
   "execution_count": 20,
   "metadata": {},
   "outputs": [
    {
     "data": {
      "text/plain": [
       "product_category_2  product_category_3\n",
       "2.0                 3.0                     600\n",
       "                    4.0                     513\n",
       "                    5.0                    7877\n",
       "                    6.0                    1903\n",
       "                    8.0                    2765\n",
       "                    9.0                    4350\n",
       "                    11.0                   1559\n",
       "                    13.0                   1333\n",
       "                    14.0                   3487\n",
       "                    15.0                  14657\n",
       "                    16.0                   3443\n",
       "                    17.0                    194\n",
       "                    18.0                    212\n",
       "3.0                 4.0                    1327\n",
       "                    10.0                    968\n",
       "                    15.0                    540\n",
       "4.0                 5.0                    8503\n",
       "                    8.0                    1593\n",
       "                    9.0                    3682\n",
       "                    12.0                   4796\n",
       "                    14.0                    132\n",
       "                    15.0                    507\n",
       "5.0                 6.0                    2915\n",
       "                    8.0                    2972\n",
       "                    9.0                    1029\n",
       "                    12.0                   2419\n",
       "                    13.0                    111\n",
       "                    14.0                    459\n",
       "                    15.0                   2964\n",
       "                    16.0                    388\n",
       "                                          ...  \n",
       "8.0                 10.0                    730\n",
       "                    12.0                    608\n",
       "                    13.0                    959\n",
       "                    14.0                   8569\n",
       "                    15.0                   1560\n",
       "                    16.0                   3469\n",
       "                    17.0                   7541\n",
       "                    18.0                   1372\n",
       "9.0                 12.0                     88\n",
       "                    14.0                   1886\n",
       "                    15.0                    960\n",
       "10.0                13.0                   1551\n",
       "                    16.0                    673\n",
       "11.0                12.0                   1183\n",
       "                    13.0                    431\n",
       "                    15.0                   3130\n",
       "                    16.0                    962\n",
       "12.0                14.0                   1132\n",
       "                    17.0                    227\n",
       "13.0                14.0                   1052\n",
       "                    15.0                   1233\n",
       "                    16.0                   3743\n",
       "14.0                15.0                    628\n",
       "                    16.0                   5274\n",
       "                    17.0                   5886\n",
       "                    18.0                     18\n",
       "15.0                16.0                  11952\n",
       "                    17.0                   1240\n",
       "                    18.0                   1093\n",
       "16.0                17.0                    870\n",
       "Length: 70, dtype: int64"
      ]
     },
     "execution_count": 20,
     "metadata": {},
     "output_type": "execute_result"
    }
   ],
   "source": [
    "category_23 = retail_data[['product_category_2','product_category_3']]\n",
    "category_23.groupby(['product_category_2','product_category_3']).size()"
   ]
  },
  {
   "cell_type": "markdown",
   "metadata": {},
   "source": [
    "For now, we know that all products must be within a category under product_category_1. <br>\n",
    "Some of them belong to a category under product_category_2 and some not.<br>\n",
    "There is no product that not belongs to a category in product_category_2 while belongs to a category in product_category_3. <br>\n",
    "The category under product_category_1 for a product must be lower than its category under the other two categories. for example, if this product is in category 5 for product_category_1, then it's category must be greater than 5 for product_category_2, let's say it's 8, then for product_category_3, it must be greater than 8."
   ]
  },
  {
   "cell_type": "markdown",
   "metadata": {},
   "source": [
    "#### Investigate purchase column to see if there's any outliers"
   ]
  },
  {
   "cell_type": "code",
   "execution_count": 21,
   "metadata": {},
   "outputs": [
    {
     "data": {
      "text/plain": [
       "count    537577.000000\n",
       "mean       9333.859853\n",
       "std        4981.022133\n",
       "min         185.000000\n",
       "25%        5866.000000\n",
       "50%        8062.000000\n",
       "75%       12073.000000\n",
       "max       23961.000000\n",
       "Name: purchase, dtype: float64"
      ]
     },
     "execution_count": 21,
     "metadata": {},
     "output_type": "execute_result"
    }
   ],
   "source": [
    "retail_data['purchase'].describe()"
   ]
  },
  {
   "cell_type": "code",
   "execution_count": 22,
   "metadata": {},
   "outputs": [
    {
     "data": {
      "image/png": "[encoded data removed]",
      "text/plain": [
       "<matplotlib.figure.Figure at 0x109272d68>"
      ]
     },
     "metadata": {},
     "output_type": "display_data"
    }
   ],
   "source": [
    "sns.boxplot(retail_data['purchase'])\n",
    "plt.title('Box Plot for Purchase');"
   ]
  },
  {
   "cell_type": "code",
   "execution_count": 23,
   "metadata": {},
   "outputs": [
    {
     "data": {
      "text/plain": [
       "2665"
      ]
     },
     "execution_count": 23,
     "metadata": {},
     "output_type": "execute_result"
    }
   ],
   "source": [
    "# compute interquartile range and threshold for identifying outliers\n",
    "IQR = retail_data['purchase'].describe()[6] - retail_data['purchase'].describe()[4]\n",
    "threshold = retail_data['purchase'].describe()[6] + (1.5 * IQR)\n",
    "len(retail_data[retail_data['purchase'] > threshold])"
   ]
  },
  {
   "cell_type": "code",
   "execution_count": 24,
   "metadata": {},
   "outputs": [
    {
     "data": {
      "image/png": "[encoded data removed]",
      "text/plain": [
       "<matplotlib.figure.Figure at 0x10316df98>"
      ]
     },
     "metadata": {},
     "output_type": "display_data"
    }
   ],
   "source": [
    "retail_data['purchase'].plot(kind='hist', bins=20, alpha=0.8)\n",
    "plt.title('Histogram of Purchase')\n",
    "plt.xlabel('Purchase Amount')\n",
    "plt.ylabel('Frequency');"
   ]
  },
  {
   "cell_type": "code",
   "execution_count": 25,
   "metadata": {},
   "outputs": [
    {
     "data": {
      "image/png": "[encoded data removed]",
      "text/plain": [
       "<matplotlib.figure.Figure at 0x1091bc278>"
      ]
     },
     "metadata": {},
     "output_type": "display_data"
    }
   ],
   "source": [
    "retail_data['purchase'].plot(kind='hist', bins=15, alpha=0.8)\n",
    "plt.title('Histogram of Purchase')\n",
    "plt.xlabel('Purchase Amount')\n",
    "plt.ylabel('Frequency');"
   ]
  },
  {
   "cell_type": "markdown",
   "metadata": {},
   "source": [
    "#### How many consumers?"
   ]
  },
  {
   "cell_type": "code",
   "execution_count": 26,
   "metadata": {},
   "outputs": [
    {
     "data": {
      "text/plain": [
       "5891"
      ]
     },
     "execution_count": 26,
     "metadata": {},
     "output_type": "execute_result"
    }
   ],
   "source": [
    "retail_data['user_id'].nunique()"
   ]
  },
  {
   "cell_type": "markdown",
   "metadata": {},
   "source": [
    "#### How many unique kinds of products were sold?"
   ]
  },
  {
   "cell_type": "code",
   "execution_count": 27,
   "metadata": {},
   "outputs": [
    {
     "data": {
      "text/plain": [
       "3623"
      ]
     },
     "execution_count": 27,
     "metadata": {},
     "output_type": "execute_result"
    }
   ],
   "source": [
    "retail_data['product_id'].nunique()"
   ]
  },
  {
   "cell_type": "markdown",
   "metadata": {},
   "source": [
    "There are 5891 consumers and 3623 products in our data set."
   ]
  },
  {
   "cell_type": "markdown",
   "metadata": {},
   "source": [
    "#### Get a new data frame for each consumers' individual features"
   ]
  },
  {
   "cell_type": "code",
   "execution_count": 28,
   "metadata": {},
   "outputs": [
    {
     "data": {
      "text/html": [
       "<div>\n",
       "<style scoped>\n",
       "    .dataframe tbody tr th:only-of-type {\n",
       "        vertical-align: middle;\n",
       "    }\n",
       "\n",
       "    .dataframe tbody tr th {\n",
       "        vertical-align: top;\n",
       "    }\n",
       "\n",
       "    .dataframe thead th {\n",
       "        text-align: right;\n",
       "    }\n",
       "</style>\n",
       "<table border=\"1\" class=\"dataframe\">\n",
       "  <thead>\n",
       "    <tr style=\"text-align: right;\">\n",
       "      <th></th>\n",
       "      <th>user_id</th>\n",
       "      <th>gender</th>\n",
       "      <th>age</th>\n",
       "      <th>occupation</th>\n",
       "      <th>city_category</th>\n",
       "      <th>stay_in_current_city_years</th>\n",
       "      <th>marital_status</th>\n",
       "    </tr>\n",
       "  </thead>\n",
       "  <tbody>\n",
       "    <tr>\n",
       "      <th>0</th>\n",
       "      <td>1000001</td>\n",
       "      <td>F</td>\n",
       "      <td>0-17</td>\n",
       "      <td>10</td>\n",
       "      <td>A</td>\n",
       "      <td>2</td>\n",
       "      <td>0</td>\n",
       "    </tr>\n",
       "    <tr>\n",
       "      <th>1</th>\n",
       "      <td>1000002</td>\n",
       "      <td>M</td>\n",
       "      <td>55+</td>\n",
       "      <td>16</td>\n",
       "      <td>C</td>\n",
       "      <td>4+</td>\n",
       "      <td>0</td>\n",
       "    </tr>\n",
       "    <tr>\n",
       "      <th>2</th>\n",
       "      <td>1000003</td>\n",
       "      <td>M</td>\n",
       "      <td>26-35</td>\n",
       "      <td>15</td>\n",
       "      <td>A</td>\n",
       "      <td>3</td>\n",
       "      <td>0</td>\n",
       "    </tr>\n",
       "    <tr>\n",
       "      <th>3</th>\n",
       "      <td>1000004</td>\n",
       "      <td>M</td>\n",
       "      <td>46-50</td>\n",
       "      <td>7</td>\n",
       "      <td>B</td>\n",
       "      <td>2</td>\n",
       "      <td>1</td>\n",
       "    </tr>\n",
       "    <tr>\n",
       "      <th>4</th>\n",
       "      <td>1000005</td>\n",
       "      <td>M</td>\n",
       "      <td>26-35</td>\n",
       "      <td>20</td>\n",
       "      <td>A</td>\n",
       "      <td>1</td>\n",
       "      <td>1</td>\n",
       "    </tr>\n",
       "  </tbody>\n",
       "</table>\n",
       "</div>"
      ],
      "text/plain": [
       "   user_id gender    age  occupation city_category stay_in_current_city_years  \\\n",
       "0  1000001      F   0-17          10             A                          2   \n",
       "1  1000002      M    55+          16             C                         4+   \n",
       "2  1000003      M  26-35          15             A                          3   \n",
       "3  1000004      M  46-50           7             B                          2   \n",
       "4  1000005      M  26-35          20             A                          1   \n",
       "\n",
       "   marital_status  \n",
       "0               0  \n",
       "1               0  \n",
       "2               0  \n",
       "3               1  \n",
       "4               1  "
      ]
     },
     "execution_count": 28,
     "metadata": {},
     "output_type": "execute_result"
    }
   ],
   "source": [
    "user_info = retail_data.groupby('user_id')[['gender', 'age', 'occupation', 'city_category', \n",
    "                                         'stay_in_current_city_years', 'marital_status']].first()\n",
    "user_info.reset_index(inplace=True)\n",
    "user_info.head()"
   ]
  },
  {
   "cell_type": "code",
   "execution_count": 29,
   "metadata": {},
   "outputs": [
    {
     "data": {
      "text/plain": [
       "(5891, 7)"
      ]
     },
     "execution_count": 29,
     "metadata": {},
     "output_type": "execute_result"
    }
   ],
   "source": [
    "user_info.shape"
   ]
  },
  {
   "cell_type": "markdown",
   "metadata": {},
   "source": [
    "#### Gender distribution"
   ]
  },
  {
   "cell_type": "code",
   "execution_count": 30,
   "metadata": {},
   "outputs": [
    {
     "data": {
      "text/plain": [
       "M    4225\n",
       "F    1666\n",
       "Name: gender, dtype: int64"
      ]
     },
     "execution_count": 30,
     "metadata": {},
     "output_type": "execute_result"
    }
   ],
   "source": [
    "gender_counts = user_info.gender.value_counts()\n",
    "gender_counts"
   ]
  },
  {
   "cell_type": "code",
   "execution_count": 31,
   "metadata": {},
   "outputs": [
    {
     "data": {
      "text/plain": [
       "M    0.717196\n",
       "F    0.282804\n",
       "Name: gender, dtype: float64"
      ]
     },
     "execution_count": 31,
     "metadata": {},
     "output_type": "execute_result"
    }
   ],
   "source": [
    "gender_prop = gender_counts / len(user_info.gender)\n",
    "gender_prop"
   ]
  },
  {
   "cell_type": "code",
   "execution_count": 32,
   "metadata": {},
   "outputs": [
    {
     "data": {
      "image/png": "[encoded data removed]",
      "text/plain": [
       "<matplotlib.figure.Figure at 0x10923d828>"
      ]
     },
     "metadata": {},
     "output_type": "display_data"
    }
   ],
   "source": [
    "sns.countplot(user_info['gender'])\n",
    "plt.title('Gender Distribution');"
   ]
  },
  {
   "cell_type": "code",
   "execution_count": 33,
   "metadata": {},
   "outputs": [
    {
     "data": {
      "image/png": "[encoded data removed]",
      "text/plain": [
       "<matplotlib.figure.Figure at 0x1091516a0>"
      ]
     },
     "metadata": {},
     "output_type": "display_data"
    }
   ],
   "source": [
    "user_info.gender.value_counts().plot(kind='pie', autopct='%1.1f%%', startangle=90)\n",
    "plt.title('Gender Distribution')\n",
    "plt.axis('equal');"
   ]
  },
  {
   "cell_type": "markdown",
   "metadata": {},
   "source": [
    "#### Total Purchase Amount by Gender"
   ]
  },
  {
   "cell_type": "code",
   "execution_count": 34,
   "metadata": {},
   "outputs": [
    {
     "data": {
      "text/plain": [
       "gender\n",
       "F    1164624021\n",
       "M    3853044357\n",
       "Name: purchase, dtype: int64"
      ]
     },
     "execution_count": 34,
     "metadata": {},
     "output_type": "execute_result"
    }
   ],
   "source": [
    "total_purchase_by_gen = retail_data.groupby('gender')['purchase'].sum()\n",
    "total_purchase_by_gen"
   ]
  },
  {
   "cell_type": "code",
   "execution_count": 35,
   "metadata": {},
   "outputs": [
    {
     "data": {
      "text/plain": [
       "gender\n",
       "F    0.232105\n",
       "M    0.767895\n",
       "Name: purchase, dtype: float64"
      ]
     },
     "execution_count": 35,
     "metadata": {},
     "output_type": "execute_result"
    }
   ],
   "source": [
    "# Percentage of purchase made by female and male\n",
    "purchase_by_gen_prop = total_purchase_by_gen / retail_data['purchase'].sum()\n",
    "purchase_by_gen_prop"
   ]
  },
  {
   "cell_type": "code",
   "execution_count": 99,
   "metadata": {},
   "outputs": [
    {
     "data": {
      "image/png": "[encoded data removed]",
      "text/plain": [
       "<matplotlib.figure.Figure at 0x108954e10>"
      ]
     },
     "metadata": {},
     "output_type": "display_data"
    }
   ],
   "source": [
    "retail_data[retail_data['gender'] == 'M']['purchase'].hist(bins=15)\n",
    "plt.title('Histogram of Purchase for Male');"
   ]
  },
  {
   "cell_type": "code",
   "execution_count": 98,
   "metadata": {},
   "outputs": [
    {
     "data": {
      "image/png": "[encoded data removed]",
      "text/plain": [
       "<matplotlib.figure.Figure at 0x1a0d395470>"
      ]
     },
     "metadata": {},
     "output_type": "display_data"
    }
   ],
   "source": [
    "retail_data[retail_data['gender'] == 'F']['purchase'].hist(bins=15)\n",
    "plt.title('Histogram of Purchase for Feale');"
   ]
  },
  {
   "cell_type": "markdown",
   "metadata": {},
   "source": [
    "#### Average Purchase Amount for Female and Male Consumers"
   ]
  },
  {
   "cell_type": "code",
   "execution_count": 36,
   "metadata": {},
   "outputs": [
    {
     "data": {
      "text/plain": [
       "F    699054.034214\n",
       "M    911963.161420\n",
       "dtype: float64"
      ]
     },
     "execution_count": 36,
     "metadata": {},
     "output_type": "execute_result"
    }
   ],
   "source": [
    "avg_purchase_by_gen = retail_data.groupby('gender')['purchase'].sum() / user_info.gender.value_counts()\n",
    "avg_purchase_by_gen"
   ]
  },
  {
   "cell_type": "code",
   "execution_count": 37,
   "metadata": {},
   "outputs": [
    {
     "data": {
      "image/png": "[encoded data removed]",
      "text/plain": [
       "<matplotlib.figure.Figure at 0x1091631d0>"
      ]
     },
     "metadata": {},
     "output_type": "display_data"
    }
   ],
   "source": [
    "avg_purchase_by_gen.plot(kind='bar')\n",
    "plt.title('Average Purchase Amount by Gender')\n",
    "plt.xticks(rotation=360)\n",
    "plt.xlabel('Gender')\n",
    "plt.ylabel('Average Purchase');"
   ]
  },
  {
   "cell_type": "code",
   "execution_count": 38,
   "metadata": {},
   "outputs": [
    {
     "data": {
      "text/html": [
       "<div>\n",
       "<style scoped>\n",
       "    .dataframe tbody tr th:only-of-type {\n",
       "        vertical-align: middle;\n",
       "    }\n",
       "\n",
       "    .dataframe tbody tr th {\n",
       "        vertical-align: top;\n",
       "    }\n",
       "\n",
       "    .dataframe thead th {\n",
       "        text-align: right;\n",
       "    }\n",
       "</style>\n",
       "<table border=\"1\" class=\"dataframe\">\n",
       "  <thead>\n",
       "    <tr style=\"text-align: right;\">\n",
       "      <th></th>\n",
       "      <th>count</th>\n",
       "      <th>gender_proportion (%)</th>\n",
       "      <th>total_purchase</th>\n",
       "      <th>purchase_proportion (%)</th>\n",
       "      <th>average_purchase</th>\n",
       "    </tr>\n",
       "  </thead>\n",
       "  <tbody>\n",
       "    <tr>\n",
       "      <th>F</th>\n",
       "      <td>1666</td>\n",
       "      <td>28.280428</td>\n",
       "      <td>1164624021</td>\n",
       "      <td>23.210462</td>\n",
       "      <td>699054.034214</td>\n",
       "    </tr>\n",
       "    <tr>\n",
       "      <th>M</th>\n",
       "      <td>4225</td>\n",
       "      <td>71.719572</td>\n",
       "      <td>3853044357</td>\n",
       "      <td>76.789538</td>\n",
       "      <td>911963.161420</td>\n",
       "    </tr>\n",
       "  </tbody>\n",
       "</table>\n",
       "</div>"
      ],
      "text/plain": [
       "   count  gender_proportion (%)  total_purchase  purchase_proportion (%)  \\\n",
       "F   1666              28.280428      1164624021                23.210462   \n",
       "M   4225              71.719572      3853044357                76.789538   \n",
       "\n",
       "   average_purchase  \n",
       "F     699054.034214  \n",
       "M     911963.161420  "
      ]
     },
     "execution_count": 38,
     "metadata": {},
     "output_type": "execute_result"
    }
   ],
   "source": [
    "pur_by_gen = pd.concat([gender_counts, gender_prop * 100, total_purchase_by_gen, purchase_by_gen_prop * 100, avg_purchase_by_gen],\n",
    "                       axis=1)\n",
    "pur_by_gen.columns = ['count', 'gender_proportion (%)', 'total_purchase', 'purchase_proportion (%)', 'average_purchase']\n",
    "pur_by_gen"
   ]
  },
  {
   "cell_type": "markdown",
   "metadata": {},
   "source": [
    "Female accounts for 28.28% of all consumers, they spent 23.21% of total purchase. "
   ]
  },
  {
   "cell_type": "code",
   "execution_count": 39,
   "metadata": {},
   "outputs": [
    {
     "data": {
      "text/html": [
       "<div>\n",
       "<style scoped>\n",
       "    .dataframe tbody tr th:only-of-type {\n",
       "        vertical-align: middle;\n",
       "    }\n",
       "\n",
       "    .dataframe tbody tr th {\n",
       "        vertical-align: top;\n",
       "    }\n",
       "\n",
       "    .dataframe thead th {\n",
       "        text-align: right;\n",
       "    }\n",
       "</style>\n",
       "<table border=\"1\" class=\"dataframe\">\n",
       "  <thead>\n",
       "    <tr style=\"text-align: right;\">\n",
       "      <th></th>\n",
       "      <th>gender</th>\n",
       "      <th>age</th>\n",
       "      <th>occupation</th>\n",
       "      <th>city_category</th>\n",
       "      <th>stay_in_current_city_years</th>\n",
       "      <th>marital_status</th>\n",
       "      <th>total_purchase</th>\n",
       "    </tr>\n",
       "    <tr>\n",
       "      <th>user_id</th>\n",
       "      <th></th>\n",
       "      <th></th>\n",
       "      <th></th>\n",
       "      <th></th>\n",
       "      <th></th>\n",
       "      <th></th>\n",
       "      <th></th>\n",
       "    </tr>\n",
       "  </thead>\n",
       "  <tbody>\n",
       "    <tr>\n",
       "      <th>1000001</th>\n",
       "      <td>F</td>\n",
       "      <td>0-17</td>\n",
       "      <td>10</td>\n",
       "      <td>A</td>\n",
       "      <td>2</td>\n",
       "      <td>0</td>\n",
       "      <td>333481</td>\n",
       "    </tr>\n",
       "    <tr>\n",
       "      <th>1000002</th>\n",
       "      <td>M</td>\n",
       "      <td>55+</td>\n",
       "      <td>16</td>\n",
       "      <td>C</td>\n",
       "      <td>4+</td>\n",
       "      <td>0</td>\n",
       "      <td>810353</td>\n",
       "    </tr>\n",
       "    <tr>\n",
       "      <th>1000003</th>\n",
       "      <td>M</td>\n",
       "      <td>26-35</td>\n",
       "      <td>15</td>\n",
       "      <td>A</td>\n",
       "      <td>3</td>\n",
       "      <td>0</td>\n",
       "      <td>341635</td>\n",
       "    </tr>\n",
       "    <tr>\n",
       "      <th>1000004</th>\n",
       "      <td>M</td>\n",
       "      <td>46-50</td>\n",
       "      <td>7</td>\n",
       "      <td>B</td>\n",
       "      <td>2</td>\n",
       "      <td>1</td>\n",
       "      <td>205987</td>\n",
       "    </tr>\n",
       "    <tr>\n",
       "      <th>1000005</th>\n",
       "      <td>M</td>\n",
       "      <td>26-35</td>\n",
       "      <td>20</td>\n",
       "      <td>A</td>\n",
       "      <td>1</td>\n",
       "      <td>1</td>\n",
       "      <td>821001</td>\n",
       "    </tr>\n",
       "  </tbody>\n",
       "</table>\n",
       "</div>"
      ],
      "text/plain": [
       "        gender    age  occupation city_category stay_in_current_city_years  \\\n",
       "user_id                                                                      \n",
       "1000001      F   0-17          10             A                          2   \n",
       "1000002      M    55+          16             C                         4+   \n",
       "1000003      M  26-35          15             A                          3   \n",
       "1000004      M  46-50           7             B                          2   \n",
       "1000005      M  26-35          20             A                          1   \n",
       "\n",
       "         marital_status  total_purchase  \n",
       "user_id                                  \n",
       "1000001               0          333481  \n",
       "1000002               0          810353  \n",
       "1000003               0          341635  \n",
       "1000004               1          205987  \n",
       "1000005               1          821001  "
      ]
     },
     "execution_count": 39,
     "metadata": {},
     "output_type": "execute_result"
    }
   ],
   "source": [
    "# Add a new column of total purchase for each user to user_info data frame \n",
    "total_purchase = retail_data.groupby(['user_id']).purchase.sum()\n",
    "user_total_purchase = user_info.set_index('user_id')\n",
    "user_total_purchase['total_purchase'] = total_purchase\n",
    "user_total_purchase.head()"
   ]
  },
  {
   "cell_type": "code",
   "execution_count": 40,
   "metadata": {},
   "outputs": [
    {
     "data": {
      "image/png": "[encoded data removed]",
      "text/plain": [
       "<matplotlib.figure.Figure at 0x1a0ab9bf98>"
      ]
     },
     "metadata": {},
     "output_type": "display_data"
    }
   ],
   "source": [
    "sns.boxplot(x='gender', y='total_purchase', data=user_total_purchase);"
   ]
  },
  {
   "cell_type": "code",
   "execution_count": 41,
   "metadata": {},
   "outputs": [
    {
     "data": {
      "image/png": "[encoded data removed]",
      "text/plain": [
       "<matplotlib.figure.Figure at 0x103167b38>"
      ]
     },
     "metadata": {},
     "output_type": "display_data"
    }
   ],
   "source": [
    "sns.catplot(x=\"age\", y=\"total_purchase\", kind=\"box\", data=user_total_purchase.sort_values('age'));"
   ]
  },
  {
   "cell_type": "code",
   "execution_count": 42,
   "metadata": {},
   "outputs": [
    {
     "data": {
      "image/png": "[encoded data removed]",
      "text/plain": [
       "<matplotlib.figure.Figure at 0x1a0bac2ef0>"
      ]
     },
     "metadata": {},
     "output_type": "display_data"
    }
   ],
   "source": [
    "sns.catplot(x=\"age\", y=\"total_purchase\", hue=\"gender\",\n",
    "            kind=\"violin\", split=True, data=user_total_purchase.sort_values('age'));"
   ]
  },
  {
   "cell_type": "code",
   "execution_count": 43,
   "metadata": {},
   "outputs": [
    {
     "data": {
      "image/png": "[encoded data removed]",
      "text/plain": [
       "<matplotlib.figure.Figure at 0x1a0ab1a2e8>"
      ]
     },
     "metadata": {},
     "output_type": "display_data"
    }
   ],
   "source": [
    "sns.catplot(x=\"age\", y=\"total_purchase\", hue=\"gender\", kind=\"box\", data=user_total_purchase.sort_values('age'));"
   ]
  },
  {
   "cell_type": "code",
   "execution_count": 44,
   "metadata": {},
   "outputs": [
    {
     "data": {
      "text/plain": [
       "<matplotlib.legend.Legend at 0x1a0b94d780>"
      ]
     },
     "execution_count": 44,
     "metadata": {},
     "output_type": "execute_result"
    },
    {
     "data": {
      "image/png": "[encoded data removed]",
      "text/plain": [
       "<matplotlib.figure.Figure at 0x1a0b9166d8>"
      ]
     },
     "metadata": {},
     "output_type": "display_data"
    }
   ],
   "source": [
    "# Plot empirical cumulative distribution for female and male consumers\n",
    "def ecdf(data):\n",
    "    \"\"\"Compute ECDF for a one-dimensional array of measurements.\"\"\"\n",
    "    n = len(data)\n",
    "\n",
    "    x = np.sort(data)\n",
    "    y  = np.arange(1, n+1) / n\n",
    "\n",
    "    return x, y\n",
    "\n",
    "x_fem, y_fem = ecdf(user_total_purchase[user_total_purchase['gender'] == 'F'].total_purchase)\n",
    "x_male, y_male = ecdf(user_total_purchase[user_total_purchase['gender'] == 'M'].total_purchase)\n",
    "\n",
    "plt.plot(x_fem, y_fem, marker='.', linestyle='none')\n",
    "plt.plot(x_male, y_male, marker='.', linestyle='none')\n",
    "plt.xlabel('Total Purchase')\n",
    "plt.ylabel('ECDF')\n",
    "plt.legend(('female', 'male'))"
   ]
  },
  {
   "cell_type": "code",
   "execution_count": 45,
   "metadata": {},
   "outputs": [
    {
     "data": {
      "image/png": "[encoded data removed]",
      "text/plain": [
       "<matplotlib.figure.Figure at 0x108954748>"
      ]
     },
     "metadata": {},
     "output_type": "display_data"
    }
   ],
   "source": [
    "# Do permutation sampling ecdf plots to see if female and male purchase have the same distribution\n",
    "female_total_purchase = user_total_purchase[user_total_purchase['gender'] == 'F'].total_purchase\n",
    "male_total_purchase = user_total_purchase[user_total_purchase['gender'] == 'M'].total_purchase\n",
    "\n",
    "total_purchase = np.concatenate((female_total_purchase, male_total_purchase))\n",
    "\n",
    "for i in range(1000):\n",
    "    perm_purchase = np.random.permutation(total_purchase)\n",
    "    \n",
    "    perm_female = perm_purchase[:len(female_total_purchase)]\n",
    "    perm_male = perm_purchase[len(female_total_purchase):]\n",
    "    \n",
    "    x_1, y_1 = ecdf(perm_female)\n",
    "    x_2, y_2 = ecdf(perm_male)\n",
    "    \n",
    "    plt.plot(x_1, y_1, marker='.', linestyle='none', color='red', alpha=0.02)\n",
    "    plt.plot(x_2, y_2, marker='.', linestyle='none', color='blue', alpha=0.02)\n",
    "    \n",
    "x_fem, y_fem = ecdf(user_total_purchase[user_total_purchase['gender'] == 'F'].total_purchase)\n",
    "x_male, y_male = ecdf(user_total_purchase[user_total_purchase['gender'] == 'M'].total_purchase)\n",
    "\n",
    "plt.plot(x_fem, y_fem, marker='.', linestyle='none', color='orange', alpha = 0.01)\n",
    "plt.plot(x_male, y_male, marker='.', linestyle='none', color='aqua', alpha = 0.01);   "
   ]
  },
  {
   "cell_type": "code",
   "execution_count": 46,
   "metadata": {},
   "outputs": [
    {
     "data": {
      "text/plain": [
       "Ks_2sampResult(statistic=0.12196907165232951, pvalue=5.64334083670315e-16)"
      ]
     },
     "execution_count": 46,
     "metadata": {},
     "output_type": "execute_result"
    }
   ],
   "source": [
    "# Conduct a two-sided test for the null hypothesis that two samples of female purchase \n",
    "# and male purchase are drawn from the same distribution\n",
    "from scipy import stats\n",
    "\n",
    "stats.ks_2samp(user_total_purchase[user_total_purchase['gender'] == 'F'].total_purchase, \n",
    "              user_total_purchase[user_total_purchase['gender'] == 'M'].total_purchase)"
   ]
  },
  {
   "cell_type": "markdown",
   "metadata": {},
   "source": [
    "p-value is extremely small, then we reject the null that the distributions of the two samples are the same."
   ]
  },
  {
   "cell_type": "code",
   "execution_count": 47,
   "metadata": {},
   "outputs": [
    {
     "data": {
      "text/plain": [
       "Ttest_indResult(statistic=-8.65416276342633, pvalue=7.282558708079996e-18)"
      ]
     },
     "execution_count": 47,
     "metadata": {},
     "output_type": "execute_result"
    }
   ],
   "source": [
    "# Conduct a two sided test for the null hypothesis that female average purchase and male average purchase\n",
    "# are not the same.\n",
    "stats.ttest_ind(user_total_purchase[user_total_purchase['gender'] == 'F'].total_purchase, \n",
    "              user_total_purchase[user_total_purchase['gender'] == 'M'].total_purchase, equal_var=False)"
   ]
  },
  {
   "cell_type": "markdown",
   "metadata": {},
   "source": [
    "p-value is also extremely small for this test, thus we reject the null that two samples have identical means."
   ]
  },
  {
   "cell_type": "markdown",
   "metadata": {
    "collapsed": true
   },
   "source": [
    "#### Age Distribution"
   ]
  },
  {
   "cell_type": "code",
   "execution_count": 48,
   "metadata": {},
   "outputs": [
    {
     "data": {
      "text/plain": [
       "26-35    2053\n",
       "36-45    1167\n",
       "18-25    1069\n",
       "46-50     531\n",
       "51-55     481\n",
       "55+       372\n",
       "0-17      218\n",
       "Name: age, dtype: int64"
      ]
     },
     "execution_count": 48,
     "metadata": {},
     "output_type": "execute_result"
    }
   ],
   "source": [
    "user_info.age.value_counts()"
   ]
  },
  {
   "cell_type": "code",
   "execution_count": 49,
   "metadata": {},
   "outputs": [
    {
     "data": {
      "image/png": "[encoded data removed]",
      "text/plain": [
       "<matplotlib.figure.Figure at 0x1a0b926d30>"
      ]
     },
     "metadata": {},
     "output_type": "display_data"
    }
   ],
   "source": [
    "user_info.age.value_counts().sort_index().plot(kind='bar');"
   ]
  },
  {
   "cell_type": "code",
   "execution_count": 50,
   "metadata": {},
   "outputs": [
    {
     "data": {
      "image/png": "[encoded data removed]",
      "text/plain": [
       "<matplotlib.figure.Figure at 0x1a0b92b518>"
      ]
     },
     "metadata": {},
     "output_type": "display_data"
    }
   ],
   "source": [
    "user_info.groupby(['age', 'gender'])['user_id'].count().unstack().plot(kind='bar', stacked=True)\n",
    "plt.title('Age Distribution by Gender')\n",
    "plt.ylabel('Number of Consumers');"
   ]
  },
  {
   "cell_type": "code",
   "execution_count": 51,
   "metadata": {},
   "outputs": [
    {
     "data": {
      "image/png": "[encoded data removed]",
      "text/plain": [
       "<matplotlib.figure.Figure at 0x1a0d345588>"
      ]
     },
     "metadata": {},
     "output_type": "display_data"
    }
   ],
   "source": [
    "user_info.groupby(['gender', 'age'])['user_id'].count().unstack().plot(kind='barh', width=0.2, stacked=True)\n",
    "plt.xlabel('Number of Consumers');"
   ]
  },
  {
   "cell_type": "code",
   "execution_count": 52,
   "metadata": {},
   "outputs": [
    {
     "data": {
      "image/png": "[encoded data removed]",
      "text/plain": [
       "<matplotlib.figure.Figure at 0x1a0aabe438>"
      ]
     },
     "metadata": {},
     "output_type": "display_data"
    }
   ],
   "source": [
    "import matplotlib.ticker as mtick\n",
    "user_info.groupby(['gender', 'age'])['user_id'].size().groupby(level=0).apply(\n",
    "            lambda x: 100 * x / x.sum()).unstack().plot(kind='bar', width=0.3, stacked=True)\n",
    "plt.gca().yaxis.set_major_formatter(mtick.PercentFormatter())\n",
    "plt.xticks(rotation='horizontal')\n",
    "plt.title('Percentage View of Age Distribution Across Gender');"
   ]
  },
  {
   "cell_type": "markdown",
   "metadata": {},
   "source": [
    "#### What are the most common bought products?"
   ]
  },
  {
   "cell_type": "code",
   "execution_count": 53,
   "metadata": {},
   "outputs": [
    {
     "data": {
      "text/plain": [
       "P00265242    1858\n",
       "P00110742    1591\n",
       "P00025442    1586\n",
       "P00112142    1539\n",
       "P00057642    1430\n",
       "Name: product_id, dtype: int64"
      ]
     },
     "execution_count": 53,
     "metadata": {},
     "output_type": "execute_result"
    }
   ],
   "source": [
    "retail_data['product_id'].value_counts().head()"
   ]
  },
  {
   "cell_type": "code",
   "execution_count": 54,
   "metadata": {},
   "outputs": [
    {
     "data": {
      "image/png": "[encoded data removed]",
      "text/plain": [
       "<matplotlib.figure.Figure at 0x1a0d38a7f0>"
      ]
     },
     "metadata": {},
     "output_type": "display_data"
    }
   ],
   "source": [
    "top_20 = retail_data['product_id'].value_counts().head(20)\n",
    "top_20.plot(kind='bar')\n",
    "plt.title('Puchase Count for Top 20 Sellers');"
   ]
  },
  {
   "cell_type": "code",
   "execution_count": 110,
   "metadata": {},
   "outputs": [
    {
     "data": {
      "image/png": "[encoded data removed]",
      "text/plain": [
       "<matplotlib.figure.Figure at 0x10318e9e8>"
      ]
     },
     "metadata": {},
     "output_type": "display_data"
    }
   ],
   "source": [
    "top_20_value = retail_data.groupby('product_id').purchase.sum().nlargest(20)\n",
    "top_20_value.plot(kind='bar')\n",
    "plt.title('Most Sold Products in Dollar Amount');"
   ]
  },
  {
   "cell_type": "markdown",
   "metadata": {},
   "source": [
    "The most common bought product, P00265242, is not in the top 20 list evaluated with dollar value sold. Let's check the two top 1 products separately."
   ]
  },
  {
   "cell_type": "code",
   "execution_count": 55,
   "metadata": {},
   "outputs": [
    {
     "data": {
      "text/html": [
       "<div>\n",
       "<style scoped>\n",
       "    .dataframe tbody tr th:only-of-type {\n",
       "        vertical-align: middle;\n",
       "    }\n",
       "\n",
       "    .dataframe tbody tr th {\n",
       "        vertical-align: top;\n",
       "    }\n",
       "\n",
       "    .dataframe thead th {\n",
       "        text-align: right;\n",
       "    }\n",
       "</style>\n",
       "<table border=\"1\" class=\"dataframe\">\n",
       "  <thead>\n",
       "    <tr style=\"text-align: right;\">\n",
       "      <th></th>\n",
       "      <th>user_id</th>\n",
       "      <th>product_id</th>\n",
       "      <th>gender</th>\n",
       "      <th>age</th>\n",
       "      <th>occupation</th>\n",
       "      <th>city_category</th>\n",
       "      <th>stay_in_current_city_years</th>\n",
       "      <th>marital_status</th>\n",
       "      <th>product_category_1</th>\n",
       "      <th>product_category_2</th>\n",
       "      <th>product_category_3</th>\n",
       "      <th>purchase</th>\n",
       "    </tr>\n",
       "  </thead>\n",
       "  <tbody>\n",
       "    <tr>\n",
       "      <th>399</th>\n",
       "      <td>1000066</td>\n",
       "      <td>P00265242</td>\n",
       "      <td>M</td>\n",
       "      <td>26-35</td>\n",
       "      <td>18</td>\n",
       "      <td>C</td>\n",
       "      <td>2</td>\n",
       "      <td>0</td>\n",
       "      <td>5</td>\n",
       "      <td>8.0</td>\n",
       "      <td>NaN</td>\n",
       "      <td>8652</td>\n",
       "    </tr>\n",
       "    <tr>\n",
       "      <th>1191</th>\n",
       "      <td>1000196</td>\n",
       "      <td>P00265242</td>\n",
       "      <td>F</td>\n",
       "      <td>36-45</td>\n",
       "      <td>9</td>\n",
       "      <td>C</td>\n",
       "      <td>4+</td>\n",
       "      <td>0</td>\n",
       "      <td>5</td>\n",
       "      <td>8.0</td>\n",
       "      <td>NaN</td>\n",
       "      <td>8767</td>\n",
       "    </tr>\n",
       "    <tr>\n",
       "      <th>1372</th>\n",
       "      <td>1000222</td>\n",
       "      <td>P00265242</td>\n",
       "      <td>M</td>\n",
       "      <td>26-35</td>\n",
       "      <td>1</td>\n",
       "      <td>A</td>\n",
       "      <td>1</td>\n",
       "      <td>0</td>\n",
       "      <td>5</td>\n",
       "      <td>8.0</td>\n",
       "      <td>NaN</td>\n",
       "      <td>6944</td>\n",
       "    </tr>\n",
       "    <tr>\n",
       "      <th>1845</th>\n",
       "      <td>1000301</td>\n",
       "      <td>P00265242</td>\n",
       "      <td>M</td>\n",
       "      <td>18-25</td>\n",
       "      <td>4</td>\n",
       "      <td>B</td>\n",
       "      <td>4+</td>\n",
       "      <td>0</td>\n",
       "      <td>5</td>\n",
       "      <td>8.0</td>\n",
       "      <td>NaN</td>\n",
       "      <td>8628</td>\n",
       "    </tr>\n",
       "    <tr>\n",
       "      <th>2209</th>\n",
       "      <td>1000345</td>\n",
       "      <td>P00265242</td>\n",
       "      <td>M</td>\n",
       "      <td>26-35</td>\n",
       "      <td>12</td>\n",
       "      <td>A</td>\n",
       "      <td>2</td>\n",
       "      <td>1</td>\n",
       "      <td>5</td>\n",
       "      <td>8.0</td>\n",
       "      <td>NaN</td>\n",
       "      <td>8593</td>\n",
       "    </tr>\n",
       "  </tbody>\n",
       "</table>\n",
       "</div>"
      ],
      "text/plain": [
       "      user_id product_id gender    age occupation city_category  \\\n",
       "399   1000066  P00265242      M  26-35         18             C   \n",
       "1191  1000196  P00265242      F  36-45          9             C   \n",
       "1372  1000222  P00265242      M  26-35          1             A   \n",
       "1845  1000301  P00265242      M  18-25          4             B   \n",
       "2209  1000345  P00265242      M  26-35         12             A   \n",
       "\n",
       "     stay_in_current_city_years marital_status product_category_1  \\\n",
       "399                           2              0                  5   \n",
       "1191                         4+              0                  5   \n",
       "1372                          1              0                  5   \n",
       "1845                         4+              0                  5   \n",
       "2209                          2              1                  5   \n",
       "\n",
       "     product_category_2 product_category_3  purchase  \n",
       "399                 8.0                NaN      8652  \n",
       "1191                8.0                NaN      8767  \n",
       "1372                8.0                NaN      6944  \n",
       "1845                8.0                NaN      8628  \n",
       "2209                8.0                NaN      8593  "
      ]
     },
     "execution_count": 55,
     "metadata": {},
     "output_type": "execute_result"
    }
   ],
   "source": [
    "# First let's check P00265242, with the greatest number of purchases.\n",
    "retail_data[retail_data['product_id'] == 'P00265242'].head()"
   ]
  },
  {
   "cell_type": "markdown",
   "metadata": {},
   "source": [
    "After examining the best seller P00265242, we find that for the same product, the prices paid are different. Let's plot a histogram for the price of this product."
   ]
  },
  {
   "cell_type": "code",
   "execution_count": 119,
   "metadata": {},
   "outputs": [
    {
     "data": {
      "image/png": "[encoded data removed]",
      "text/plain": [
       "<matplotlib.figure.Figure at 0x1a0ca857f0>"
      ]
     },
     "metadata": {},
     "output_type": "display_data"
    }
   ],
   "source": [
    "retail_data[retail_data['product_id'] == 'P00265242'].purchase.plot(kind='hist', bins=15)\n",
    "plt.title('Histogram of Price of the Best Selling Product ')\n",
    "plt.xlabel('Purchase Amount');"
   ]
  },
  {
   "cell_type": "code",
   "execution_count": 117,
   "metadata": {},
   "outputs": [
    {
     "data": {
      "image/png": "[encoded data removed]",
      "text/plain": [
       "<matplotlib.figure.Figure at 0x1a0d4259b0>"
      ]
     },
     "metadata": {},
     "output_type": "display_data"
    }
   ],
   "source": [
    "# use a rule of thumb to determin the number of bins\n",
    "import numpy as np\n",
    "n_data = len(retail_data[retail_data['product_id'] == 'P00265242'].purchase)\n",
    "n_bins = np.sqrt(n_data)\n",
    "n_bins = int(n_bins)\n",
    "retail_data[retail_data['product_id'] == 'P00265242'].purchase.plot(kind='hist', bins=n_bins);"
   ]
  },
  {
   "cell_type": "code",
   "execution_count": 57,
   "metadata": {},
   "outputs": [
    {
     "data": {
      "text/plain": [
       "count    1858.000000\n",
       "mean     7526.009150\n",
       "std      1690.048472\n",
       "min      1720.000000\n",
       "25%      6945.250000\n",
       "50%      8603.500000\n",
       "75%      8760.750000\n",
       "max      8907.000000\n",
       "Name: purchase, dtype: float64"
      ]
     },
     "execution_count": 57,
     "metadata": {},
     "output_type": "execute_result"
    }
   ],
   "source": [
    "retail_data[retail_data['product_id'] == 'P00265242'].purchase.describe()"
   ]
  },
  {
   "cell_type": "code",
   "execution_count": 58,
   "metadata": {},
   "outputs": [
    {
     "data": {
      "image/png": "[encoded data removed]",
      "text/plain": [
       "<matplotlib.figure.Figure at 0x103167358>"
      ]
     },
     "metadata": {},
     "output_type": "display_data"
    }
   ],
   "source": [
    "sns.boxplot(retail_data[retail_data['product_id'] == 'P00265242'].purchase);"
   ]
  },
  {
   "cell_type": "markdown",
   "metadata": {},
   "source": [
    "My guess would be that purchase column is not representing the unit price. We do not know how many units each consumer has bought for this product."
   ]
  },
  {
   "cell_type": "code",
   "execution_count": 116,
   "metadata": {},
   "outputs": [
    {
     "data": {
      "text/html": [
       "<div>\n",
       "<style scoped>\n",
       "    .dataframe tbody tr th:only-of-type {\n",
       "        vertical-align: middle;\n",
       "    }\n",
       "\n",
       "    .dataframe tbody tr th {\n",
       "        vertical-align: top;\n",
       "    }\n",
       "\n",
       "    .dataframe thead th {\n",
       "        text-align: right;\n",
       "    }\n",
       "</style>\n",
       "<table border=\"1\" class=\"dataframe\">\n",
       "  <thead>\n",
       "    <tr style=\"text-align: right;\">\n",
       "      <th></th>\n",
       "      <th>user_id</th>\n",
       "      <th>product_id</th>\n",
       "      <th>gender</th>\n",
       "      <th>age</th>\n",
       "      <th>occupation</th>\n",
       "      <th>city_category</th>\n",
       "      <th>stay_in_current_city_years</th>\n",
       "      <th>marital_status</th>\n",
       "      <th>product_category_1</th>\n",
       "      <th>product_category_2</th>\n",
       "      <th>product_category_3</th>\n",
       "      <th>purchase</th>\n",
       "    </tr>\n",
       "  </thead>\n",
       "  <tbody>\n",
       "    <tr>\n",
       "      <th>667</th>\n",
       "      <td>1000130</td>\n",
       "      <td>P00025442</td>\n",
       "      <td>M</td>\n",
       "      <td>36-45</td>\n",
       "      <td>17</td>\n",
       "      <td>B</td>\n",
       "      <td>3</td>\n",
       "      <td>1</td>\n",
       "      <td>1</td>\n",
       "      <td>2.0</td>\n",
       "      <td>9.0</td>\n",
       "      <td>19706</td>\n",
       "    </tr>\n",
       "    <tr>\n",
       "      <th>749</th>\n",
       "      <td>1000142</td>\n",
       "      <td>P00025442</td>\n",
       "      <td>M</td>\n",
       "      <td>26-35</td>\n",
       "      <td>7</td>\n",
       "      <td>A</td>\n",
       "      <td>2</td>\n",
       "      <td>0</td>\n",
       "      <td>1</td>\n",
       "      <td>2.0</td>\n",
       "      <td>9.0</td>\n",
       "      <td>15212</td>\n",
       "    </tr>\n",
       "    <tr>\n",
       "      <th>833</th>\n",
       "      <td>1000150</td>\n",
       "      <td>P00025442</td>\n",
       "      <td>M</td>\n",
       "      <td>36-45</td>\n",
       "      <td>7</td>\n",
       "      <td>B</td>\n",
       "      <td>0</td>\n",
       "      <td>1</td>\n",
       "      <td>1</td>\n",
       "      <td>2.0</td>\n",
       "      <td>9.0</td>\n",
       "      <td>15255</td>\n",
       "    </tr>\n",
       "    <tr>\n",
       "      <th>1134</th>\n",
       "      <td>1000192</td>\n",
       "      <td>P00025442</td>\n",
       "      <td>M</td>\n",
       "      <td>18-25</td>\n",
       "      <td>1</td>\n",
       "      <td>B</td>\n",
       "      <td>2</td>\n",
       "      <td>0</td>\n",
       "      <td>1</td>\n",
       "      <td>2.0</td>\n",
       "      <td>9.0</td>\n",
       "      <td>15223</td>\n",
       "    </tr>\n",
       "    <tr>\n",
       "      <th>1205</th>\n",
       "      <td>1000198</td>\n",
       "      <td>P00025442</td>\n",
       "      <td>M</td>\n",
       "      <td>26-35</td>\n",
       "      <td>12</td>\n",
       "      <td>A</td>\n",
       "      <td>0</td>\n",
       "      <td>1</td>\n",
       "      <td>1</td>\n",
       "      <td>2.0</td>\n",
       "      <td>9.0</td>\n",
       "      <td>19296</td>\n",
       "    </tr>\n",
       "  </tbody>\n",
       "</table>\n",
       "</div>"
      ],
      "text/plain": [
       "      user_id product_id gender    age occupation city_category  \\\n",
       "667   1000130  P00025442      M  36-45         17             B   \n",
       "749   1000142  P00025442      M  26-35          7             A   \n",
       "833   1000150  P00025442      M  36-45          7             B   \n",
       "1134  1000192  P00025442      M  18-25          1             B   \n",
       "1205  1000198  P00025442      M  26-35         12             A   \n",
       "\n",
       "     stay_in_current_city_years marital_status product_category_1  \\\n",
       "667                           3              1                  1   \n",
       "749                           2              0                  1   \n",
       "833                           0              1                  1   \n",
       "1134                          2              0                  1   \n",
       "1205                          0              1                  1   \n",
       "\n",
       "     product_category_2 product_category_3  purchase  \n",
       "667                 2.0                9.0     19706  \n",
       "749                 2.0                9.0     15212  \n",
       "833                 2.0                9.0     15255  \n",
       "1134                2.0                9.0     15223  \n",
       "1205                2.0                9.0     19296  "
      ]
     },
     "execution_count": 116,
     "metadata": {},
     "output_type": "execute_result"
    }
   ],
   "source": [
    "# Then check P00025442, the largest sale in dollar in this store. \n",
    "retail_data[retail_data['product_id'] == 'P00025442'].head()"
   ]
  },
  {
   "cell_type": "code",
   "execution_count": 120,
   "metadata": {},
   "outputs": [
    {
     "data": {
      "image/png": "[encoded data removed]",
      "text/plain": [
       "<matplotlib.figure.Figure at 0x1a0c5bf668>"
      ]
     },
     "metadata": {},
     "output_type": "display_data"
    }
   ],
   "source": [
    "retail_data[retail_data['product_id'] == 'P00025442'].purchase.plot(kind='hist')\n",
    "plt.title('Histogram of Price of the Second Best Selling Product')\n",
    "plt.xlabel('Purchase Amount');"
   ]
  },
  {
   "cell_type": "code",
   "execution_count": 121,
   "metadata": {},
   "outputs": [
    {
     "data": {
      "image/png": "[encoded data removed]",
      "text/plain": [
       "<matplotlib.figure.Figure at 0x1a0caea668>"
      ]
     },
     "metadata": {},
     "output_type": "display_data"
    }
   ],
   "source": [
    "# use a rule of thumb to determin the number of bins\n",
    "import numpy as np\n",
    "n_data = len(retail_data[retail_data['product_id'] == 'P00025442'].purchase)\n",
    "n_bins = np.sqrt(n_data)\n",
    "n_bins = int(n_bins)\n",
    "retail_data[retail_data['product_id'] == 'P00025442'].purchase.plot(kind='hist', bins=n_bins);"
   ]
  },
  {
   "cell_type": "code",
   "execution_count": 122,
   "metadata": {},
   "outputs": [
    {
     "data": {
      "text/plain": [
       "count     1586.000000\n",
       "mean     17359.663304\n",
       "std       2932.299319\n",
       "min       3961.000000\n",
       "25%      15569.000000\n",
       "50%      19086.000000\n",
       "75%      19409.000000\n",
       "max      19707.000000\n",
       "Name: purchase, dtype: float64"
      ]
     },
     "execution_count": 122,
     "metadata": {},
     "output_type": "execute_result"
    }
   ],
   "source": [
    "retail_data[retail_data['product_id'] == 'P00025442'].purchase.describe()"
   ]
  },
  {
   "cell_type": "markdown",
   "metadata": {},
   "source": [
    "Numer of purchases for product P00265242 is 1858, while for product P00025442 is 1586. <br>\n",
    "Mean purchase amount for product P00265242 is 7526, while for product P00025442 is 17359.66."
   ]
  },
  {
   "cell_type": "markdown",
   "metadata": {},
   "source": [
    "#### What are the categories for those most popular products?"
   ]
  },
  {
   "cell_type": "code",
   "execution_count": 62,
   "metadata": {
    "collapsed": true
   },
   "outputs": [],
   "source": [
    "most_pop = retail_data['product_id'].value_counts().head()\n",
    "most_pop_list = list(most_pop.keys())"
   ]
  },
  {
   "cell_type": "code",
   "execution_count": 63,
   "metadata": {},
   "outputs": [
    {
     "data": {
      "text/html": [
       "<div>\n",
       "<style scoped>\n",
       "    .dataframe tbody tr th:only-of-type {\n",
       "        vertical-align: middle;\n",
       "    }\n",
       "\n",
       "    .dataframe tbody tr th {\n",
       "        vertical-align: top;\n",
       "    }\n",
       "\n",
       "    .dataframe thead th {\n",
       "        text-align: right;\n",
       "    }\n",
       "</style>\n",
       "<table border=\"1\" class=\"dataframe\">\n",
       "  <thead>\n",
       "    <tr style=\"text-align: right;\">\n",
       "      <th></th>\n",
       "      <th>product_id</th>\n",
       "      <th>product_category_1</th>\n",
       "      <th>product_category_2</th>\n",
       "      <th>product_category_3</th>\n",
       "    </tr>\n",
       "  </thead>\n",
       "  <tbody>\n",
       "    <tr>\n",
       "      <th>235</th>\n",
       "      <td>P00112142</td>\n",
       "      <td>1</td>\n",
       "      <td>2.0</td>\n",
       "      <td>14.0</td>\n",
       "    </tr>\n",
       "    <tr>\n",
       "      <th>342</th>\n",
       "      <td>P00110742</td>\n",
       "      <td>1</td>\n",
       "      <td>2.0</td>\n",
       "      <td>8.0</td>\n",
       "    </tr>\n",
       "    <tr>\n",
       "      <th>399</th>\n",
       "      <td>P00265242</td>\n",
       "      <td>5</td>\n",
       "      <td>8.0</td>\n",
       "      <td>NaN</td>\n",
       "    </tr>\n",
       "    <tr>\n",
       "      <th>667</th>\n",
       "      <td>P00025442</td>\n",
       "      <td>1</td>\n",
       "      <td>2.0</td>\n",
       "      <td>9.0</td>\n",
       "    </tr>\n",
       "    <tr>\n",
       "      <th>1004</th>\n",
       "      <td>P00057642</td>\n",
       "      <td>1</td>\n",
       "      <td>15.0</td>\n",
       "      <td>16.0</td>\n",
       "    </tr>\n",
       "  </tbody>\n",
       "</table>\n",
       "</div>"
      ],
      "text/plain": [
       "     product_id product_category_1 product_category_2 product_category_3\n",
       "235   P00112142                  1                2.0               14.0\n",
       "342   P00110742                  1                2.0                8.0\n",
       "399   P00265242                  5                8.0                NaN\n",
       "667   P00025442                  1                2.0                9.0\n",
       "1004  P00057642                  1               15.0               16.0"
      ]
     },
     "execution_count": 63,
     "metadata": {},
     "output_type": "execute_result"
    }
   ],
   "source": [
    "retail_data[retail_data['product_id'].isin(most_pop_list)][['product_id','product_category_1', 'product_category_2', \n",
    "                                                            'product_category_3']].drop_duplicates()"
   ]
  },
  {
   "cell_type": "code",
   "execution_count": 64,
   "metadata": {},
   "outputs": [
    {
     "data": {
      "text/plain": [
       "P00112142    1539\n",
       "P00070342     590\n",
       "P00090942     569\n",
       "P00182742     529\n",
       "P00346442     192\n",
       "P00001542      68\n",
       "Name: product_id, dtype: int64"
      ]
     },
     "execution_count": 64,
     "metadata": {},
     "output_type": "execute_result"
    }
   ],
   "source": [
    "# Other products in the same category as the best seller P00112142\n",
    "retail_data[(retail_data.product_category_1 == 1) & (retail_data.product_category_2 == 2.0) \n",
    "           & (retail_data.product_category_3 == 14.0)].product_id.value_counts()"
   ]
  },
  {
   "cell_type": "markdown",
   "metadata": {},
   "source": [
    "Measured by the total dollar spent, the top one is product P00025442 which ranks the third on the best seller list measured by the number of consumers. "
   ]
  },
  {
   "cell_type": "markdown",
   "metadata": {
    "collapsed": true
   },
   "source": [
    "#### What are the most common bought products for female and male consumers respectively?"
   ]
  },
  {
   "cell_type": "code",
   "execution_count": 65,
   "metadata": {},
   "outputs": [
    {
     "data": {
      "text/plain": [
       "P00265242    1353\n",
       "P00025442    1245\n",
       "P00110742    1234\n",
       "P00112142    1207\n",
       "P00057642    1174\n",
       "Name: product_id, dtype: int64"
      ]
     },
     "execution_count": 65,
     "metadata": {},
     "output_type": "execute_result"
    }
   ],
   "source": [
    "retail_data[retail_data['gender'] == 'M'].product_id.value_counts().head()"
   ]
  },
  {
   "cell_type": "code",
   "execution_count": 66,
   "metadata": {},
   "outputs": [
    {
     "data": {
      "text/plain": [
       "P00265242    505\n",
       "P00220442    427\n",
       "P00058042    378\n",
       "P00255842    366\n",
       "P00034742    358\n",
       "Name: product_id, dtype: int64"
      ]
     },
     "execution_count": 66,
     "metadata": {},
     "output_type": "execute_result"
    }
   ],
   "source": [
    "female_pop = retail_data[retail_data['gender'] == 'F'].product_id.value_counts().head()\n",
    "female_pop"
   ]
  },
  {
   "cell_type": "markdown",
   "metadata": {},
   "source": [
    "The best seller for the overall population 'P00265242' is also the most popular one for both female and male consumers. The next four most popular products are not the same for female and male."
   ]
  },
  {
   "cell_type": "code",
   "execution_count": 67,
   "metadata": {},
   "outputs": [
    {
     "data": {
      "text/html": [
       "<div>\n",
       "<style scoped>\n",
       "    .dataframe tbody tr th:only-of-type {\n",
       "        vertical-align: middle;\n",
       "    }\n",
       "\n",
       "    .dataframe tbody tr th {\n",
       "        vertical-align: top;\n",
       "    }\n",
       "\n",
       "    .dataframe thead th {\n",
       "        text-align: right;\n",
       "    }\n",
       "</style>\n",
       "<table border=\"1\" class=\"dataframe\">\n",
       "  <thead>\n",
       "    <tr style=\"text-align: right;\">\n",
       "      <th></th>\n",
       "      <th>product_id</th>\n",
       "      <th>product_category_1</th>\n",
       "      <th>product_category_2</th>\n",
       "      <th>product_category_3</th>\n",
       "    </tr>\n",
       "  </thead>\n",
       "  <tbody>\n",
       "    <tr>\n",
       "      <th>20</th>\n",
       "      <td>P00220442</td>\n",
       "      <td>5</td>\n",
       "      <td>14.0</td>\n",
       "      <td>NaN</td>\n",
       "    </tr>\n",
       "    <tr>\n",
       "      <th>234</th>\n",
       "      <td>P00255842</td>\n",
       "      <td>16</td>\n",
       "      <td>NaN</td>\n",
       "      <td>NaN</td>\n",
       "    </tr>\n",
       "    <tr>\n",
       "      <th>399</th>\n",
       "      <td>P00265242</td>\n",
       "      <td>5</td>\n",
       "      <td>8.0</td>\n",
       "      <td>NaN</td>\n",
       "    </tr>\n",
       "    <tr>\n",
       "      <th>462</th>\n",
       "      <td>P00034742</td>\n",
       "      <td>5</td>\n",
       "      <td>14.0</td>\n",
       "      <td>17.0</td>\n",
       "    </tr>\n",
       "    <tr>\n",
       "      <th>1381</th>\n",
       "      <td>P00058042</td>\n",
       "      <td>8</td>\n",
       "      <td>16.0</td>\n",
       "      <td>NaN</td>\n",
       "    </tr>\n",
       "  </tbody>\n",
       "</table>\n",
       "</div>"
      ],
      "text/plain": [
       "     product_id product_category_1 product_category_2 product_category_3\n",
       "20    P00220442                  5               14.0                NaN\n",
       "234   P00255842                 16                NaN                NaN\n",
       "399   P00265242                  5                8.0                NaN\n",
       "462   P00034742                  5               14.0               17.0\n",
       "1381  P00058042                  8               16.0                NaN"
      ]
     },
     "execution_count": 67,
     "metadata": {},
     "output_type": "execute_result"
    }
   ],
   "source": [
    "# What categories are the most popular products for female in?\n",
    "female_pop_list = list(female_pop.keys())\n",
    "retail_data[retail_data['product_id'].isin(female_pop_list)][['product_id','product_category_1', 'product_category_2', \n",
    "                                                            'product_category_3']].drop_duplicates()"
   ]
  },
  {
   "cell_type": "markdown",
   "metadata": {},
   "source": [
    "#### Age Distribution for the best seller"
   ]
  },
  {
   "cell_type": "code",
   "execution_count": 68,
   "metadata": {},
   "outputs": [
    {
     "data": {
      "text/html": [
       "<div>\n",
       "<style scoped>\n",
       "    .dataframe tbody tr th:only-of-type {\n",
       "        vertical-align: middle;\n",
       "    }\n",
       "\n",
       "    .dataframe tbody tr th {\n",
       "        vertical-align: top;\n",
       "    }\n",
       "\n",
       "    .dataframe thead th {\n",
       "        text-align: right;\n",
       "    }\n",
       "</style>\n",
       "<table border=\"1\" class=\"dataframe\">\n",
       "  <thead>\n",
       "    <tr style=\"text-align: right;\">\n",
       "      <th></th>\n",
       "      <th>user_id</th>\n",
       "      <th>product_id</th>\n",
       "      <th>gender</th>\n",
       "      <th>age</th>\n",
       "      <th>occupation</th>\n",
       "      <th>city_category</th>\n",
       "      <th>stay_in_current_city_years</th>\n",
       "      <th>marital_status</th>\n",
       "      <th>product_category_1</th>\n",
       "      <th>product_category_2</th>\n",
       "      <th>product_category_3</th>\n",
       "      <th>purchase</th>\n",
       "    </tr>\n",
       "  </thead>\n",
       "  <tbody>\n",
       "    <tr>\n",
       "      <th>399</th>\n",
       "      <td>1000066</td>\n",
       "      <td>P00265242</td>\n",
       "      <td>M</td>\n",
       "      <td>26-35</td>\n",
       "      <td>18</td>\n",
       "      <td>C</td>\n",
       "      <td>2</td>\n",
       "      <td>0</td>\n",
       "      <td>5</td>\n",
       "      <td>8.0</td>\n",
       "      <td>NaN</td>\n",
       "      <td>8652</td>\n",
       "    </tr>\n",
       "    <tr>\n",
       "      <th>1191</th>\n",
       "      <td>1000196</td>\n",
       "      <td>P00265242</td>\n",
       "      <td>F</td>\n",
       "      <td>36-45</td>\n",
       "      <td>9</td>\n",
       "      <td>C</td>\n",
       "      <td>4+</td>\n",
       "      <td>0</td>\n",
       "      <td>5</td>\n",
       "      <td>8.0</td>\n",
       "      <td>NaN</td>\n",
       "      <td>8767</td>\n",
       "    </tr>\n",
       "    <tr>\n",
       "      <th>1372</th>\n",
       "      <td>1000222</td>\n",
       "      <td>P00265242</td>\n",
       "      <td>M</td>\n",
       "      <td>26-35</td>\n",
       "      <td>1</td>\n",
       "      <td>A</td>\n",
       "      <td>1</td>\n",
       "      <td>0</td>\n",
       "      <td>5</td>\n",
       "      <td>8.0</td>\n",
       "      <td>NaN</td>\n",
       "      <td>6944</td>\n",
       "    </tr>\n",
       "    <tr>\n",
       "      <th>1845</th>\n",
       "      <td>1000301</td>\n",
       "      <td>P00265242</td>\n",
       "      <td>M</td>\n",
       "      <td>18-25</td>\n",
       "      <td>4</td>\n",
       "      <td>B</td>\n",
       "      <td>4+</td>\n",
       "      <td>0</td>\n",
       "      <td>5</td>\n",
       "      <td>8.0</td>\n",
       "      <td>NaN</td>\n",
       "      <td>8628</td>\n",
       "    </tr>\n",
       "    <tr>\n",
       "      <th>2209</th>\n",
       "      <td>1000345</td>\n",
       "      <td>P00265242</td>\n",
       "      <td>M</td>\n",
       "      <td>26-35</td>\n",
       "      <td>12</td>\n",
       "      <td>A</td>\n",
       "      <td>2</td>\n",
       "      <td>1</td>\n",
       "      <td>5</td>\n",
       "      <td>8.0</td>\n",
       "      <td>NaN</td>\n",
       "      <td>8593</td>\n",
       "    </tr>\n",
       "  </tbody>\n",
       "</table>\n",
       "</div>"
      ],
      "text/plain": [
       "      user_id product_id gender    age occupation city_category  \\\n",
       "399   1000066  P00265242      M  26-35         18             C   \n",
       "1191  1000196  P00265242      F  36-45          9             C   \n",
       "1372  1000222  P00265242      M  26-35          1             A   \n",
       "1845  1000301  P00265242      M  18-25          4             B   \n",
       "2209  1000345  P00265242      M  26-35         12             A   \n",
       "\n",
       "     stay_in_current_city_years marital_status product_category_1  \\\n",
       "399                           2              0                  5   \n",
       "1191                         4+              0                  5   \n",
       "1372                          1              0                  5   \n",
       "1845                         4+              0                  5   \n",
       "2209                          2              1                  5   \n",
       "\n",
       "     product_category_2 product_category_3  purchase  \n",
       "399                 8.0                NaN      8652  \n",
       "1191                8.0                NaN      8767  \n",
       "1372                8.0                NaN      6944  \n",
       "1845                8.0                NaN      8628  \n",
       "2209                8.0                NaN      8593  "
      ]
     },
     "execution_count": 68,
     "metadata": {},
     "output_type": "execute_result"
    }
   ],
   "source": [
    "best_sell_data = retail_data[retail_data['product_id'] == 'P00265242']\n",
    "best_sell_data.head()"
   ]
  },
  {
   "cell_type": "code",
   "execution_count": 69,
   "metadata": {},
   "outputs": [
    {
     "data": {
      "image/png": "[encoded data removed]",
      "text/plain": [
       "<matplotlib.figure.Figure at 0x1a0b9162b0>"
      ]
     },
     "metadata": {},
     "output_type": "display_data"
    }
   ],
   "source": [
    "best_sell_data.age.value_counts().sort_index().plot(kind='bar')\n",
    "plt.title('Age Distribution for the Best Seller')\n",
    "plt.xlabel('Age')\n",
    "plt.xticks(rotation=360)\n",
    "plt.ylabel('Number of Consumers');"
   ]
  },
  {
   "cell_type": "code",
   "execution_count": 70,
   "metadata": {},
   "outputs": [
    {
     "data": {
      "image/png": "[encoded data removed]",
      "text/plain": [
       "<matplotlib.figure.Figure at 0x10317a128>"
      ]
     },
     "metadata": {},
     "output_type": "display_data"
    }
   ],
   "source": [
    "best_sell_data.occupation.value_counts().sort_index().plot(kind='bar')\n",
    "plt.title('Occupation Distribution for the Best Seller')\n",
    "plt.xlabel('Occupation')\n",
    "plt.xticks(rotation=360)\n",
    "plt.ylabel('Number of Consumers');"
   ]
  },
  {
   "cell_type": "markdown",
   "metadata": {},
   "source": [
    "From the bar graph, for this product, many consumers are aged between 26 and 35. How about total purchase amount for each age group?"
   ]
  },
  {
   "cell_type": "code",
   "execution_count": 71,
   "metadata": {},
   "outputs": [
    {
     "data": {
      "image/png": "[encoded data removed]",
      "text/plain": [
       "<matplotlib.figure.Figure at 0x1a0d2ad128>"
      ]
     },
     "metadata": {},
     "output_type": "display_data"
    }
   ],
   "source": [
    "user_total_purchase.age.value_counts().sort_index().plot(kind='bar')\n",
    "plt.title('Age Distribution for Total Purchase')\n",
    "plt.xlabel('Age')\n",
    "plt.xticks(rotation=360)\n",
    "plt.ylabel('Total Purchase');"
   ]
  },
  {
   "cell_type": "markdown",
   "metadata": {},
   "source": [
    "Not only for the top one selling product, consumers aged 25-36 also account for the highest proportion of total purchase."
   ]
  },
  {
   "cell_type": "code",
   "execution_count": 72,
   "metadata": {},
   "outputs": [
    {
     "data": {
      "image/png": "[encoded data removed]",
      "text/plain": [
       "<matplotlib.figure.Figure at 0x1a0d36d5f8>"
      ]
     },
     "metadata": {},
     "output_type": "display_data"
    }
   ],
   "source": [
    "retail_data[retail_data['product_category_1'] == 1].occupation.value_counts().sort_index().plot(kind='bar')\n",
    "plt.title('Occupation Distribution for the most popular category')\n",
    "plt.xlabel('Occupation')\n",
    "plt.xticks(rotation=360)\n",
    "plt.ylabel('Number of Consumers');"
   ]
  },
  {
   "cell_type": "markdown",
   "metadata": {},
   "source": [
    "#### Product Category 1 distribution for each age group"
   ]
  },
  {
   "cell_type": "code",
   "execution_count": 73,
   "metadata": {},
   "outputs": [
    {
     "data": {
      "text/html": [
       "<div>\n",
       "<style scoped>\n",
       "    .dataframe tbody tr th:only-of-type {\n",
       "        vertical-align: middle;\n",
       "    }\n",
       "\n",
       "    .dataframe tbody tr th {\n",
       "        vertical-align: top;\n",
       "    }\n",
       "\n",
       "    .dataframe thead th {\n",
       "        text-align: right;\n",
       "    }\n",
       "</style>\n",
       "<table border=\"1\" class=\"dataframe\">\n",
       "  <thead>\n",
       "    <tr style=\"text-align: right;\">\n",
       "      <th>product_category_1</th>\n",
       "      <th>1</th>\n",
       "      <th>2</th>\n",
       "      <th>3</th>\n",
       "      <th>4</th>\n",
       "      <th>5</th>\n",
       "      <th>6</th>\n",
       "      <th>7</th>\n",
       "      <th>8</th>\n",
       "      <th>9</th>\n",
       "      <th>10</th>\n",
       "      <th>11</th>\n",
       "      <th>12</th>\n",
       "      <th>13</th>\n",
       "      <th>14</th>\n",
       "      <th>15</th>\n",
       "      <th>16</th>\n",
       "      <th>17</th>\n",
       "      <th>18</th>\n",
       "      <th>All</th>\n",
       "    </tr>\n",
       "    <tr>\n",
       "      <th>age</th>\n",
       "      <th></th>\n",
       "      <th></th>\n",
       "      <th></th>\n",
       "      <th></th>\n",
       "      <th></th>\n",
       "      <th></th>\n",
       "      <th></th>\n",
       "      <th></th>\n",
       "      <th></th>\n",
       "      <th></th>\n",
       "      <th></th>\n",
       "      <th></th>\n",
       "      <th></th>\n",
       "      <th></th>\n",
       "      <th></th>\n",
       "      <th></th>\n",
       "      <th></th>\n",
       "      <th></th>\n",
       "      <th></th>\n",
       "    </tr>\n",
       "  </thead>\n",
       "  <tbody>\n",
       "    <tr>\n",
       "      <th>0-17</th>\n",
       "      <td>3524</td>\n",
       "      <td>789</td>\n",
       "      <td>1180</td>\n",
       "      <td>744</td>\n",
       "      <td>4280</td>\n",
       "      <td>392</td>\n",
       "      <td>51</td>\n",
       "      <td>2213</td>\n",
       "      <td>16</td>\n",
       "      <td>108</td>\n",
       "      <td>728</td>\n",
       "      <td>120</td>\n",
       "      <td>108</td>\n",
       "      <td>37</td>\n",
       "      <td>158</td>\n",
       "      <td>226</td>\n",
       "      <td>6</td>\n",
       "      <td>27</td>\n",
       "      <td>14707</td>\n",
       "    </tr>\n",
       "    <tr>\n",
       "      <th>18-25</th>\n",
       "      <td>26627</td>\n",
       "      <td>4348</td>\n",
       "      <td>4633</td>\n",
       "      <td>2436</td>\n",
       "      <td>28157</td>\n",
       "      <td>3711</td>\n",
       "      <td>474</td>\n",
       "      <td>17665</td>\n",
       "      <td>61</td>\n",
       "      <td>596</td>\n",
       "      <td>4549</td>\n",
       "      <td>435</td>\n",
       "      <td>748</td>\n",
       "      <td>228</td>\n",
       "      <td>1010</td>\n",
       "      <td>1579</td>\n",
       "      <td>41</td>\n",
       "      <td>336</td>\n",
       "      <td>97634</td>\n",
       "    </tr>\n",
       "    <tr>\n",
       "      <th>26-35</th>\n",
       "      <td>57398</td>\n",
       "      <td>8784</td>\n",
       "      <td>7524</td>\n",
       "      <td>4124</td>\n",
       "      <td>60487</td>\n",
       "      <td>8344</td>\n",
       "      <td>1630</td>\n",
       "      <td>43533</td>\n",
       "      <td>151</td>\n",
       "      <td>1757</td>\n",
       "      <td>9735</td>\n",
       "      <td>1072</td>\n",
       "      <td>2055</td>\n",
       "      <td>553</td>\n",
       "      <td>2341</td>\n",
       "      <td>4056</td>\n",
       "      <td>125</td>\n",
       "      <td>1021</td>\n",
       "      <td>214690</td>\n",
       "    </tr>\n",
       "    <tr>\n",
       "      <th>36-45</th>\n",
       "      <td>27215</td>\n",
       "      <td>4856</td>\n",
       "      <td>3785</td>\n",
       "      <td>2311</td>\n",
       "      <td>28936</td>\n",
       "      <td>3839</td>\n",
       "      <td>796</td>\n",
       "      <td>22919</td>\n",
       "      <td>106</td>\n",
       "      <td>1206</td>\n",
       "      <td>4884</td>\n",
       "      <td>981</td>\n",
       "      <td>1223</td>\n",
       "      <td>308</td>\n",
       "      <td>1377</td>\n",
       "      <td>1935</td>\n",
       "      <td>133</td>\n",
       "      <td>689</td>\n",
       "      <td>107499</td>\n",
       "    </tr>\n",
       "    <tr>\n",
       "      <th>46-50</th>\n",
       "      <td>10292</td>\n",
       "      <td>2068</td>\n",
       "      <td>1343</td>\n",
       "      <td>971</td>\n",
       "      <td>11736</td>\n",
       "      <td>1596</td>\n",
       "      <td>322</td>\n",
       "      <td>10493</td>\n",
       "      <td>33</td>\n",
       "      <td>513</td>\n",
       "      <td>2072</td>\n",
       "      <td>507</td>\n",
       "      <td>537</td>\n",
       "      <td>149</td>\n",
       "      <td>589</td>\n",
       "      <td>868</td>\n",
       "      <td>91</td>\n",
       "      <td>346</td>\n",
       "      <td>44526</td>\n",
       "    </tr>\n",
       "    <tr>\n",
       "      <th>51-55</th>\n",
       "      <td>8950</td>\n",
       "      <td>1763</td>\n",
       "      <td>908</td>\n",
       "      <td>666</td>\n",
       "      <td>9720</td>\n",
       "      <td>1429</td>\n",
       "      <td>263</td>\n",
       "      <td>9202</td>\n",
       "      <td>29</td>\n",
       "      <td>507</td>\n",
       "      <td>1440</td>\n",
       "      <td>428</td>\n",
       "      <td>475</td>\n",
       "      <td>151</td>\n",
       "      <td>500</td>\n",
       "      <td>661</td>\n",
       "      <td>106</td>\n",
       "      <td>420</td>\n",
       "      <td>37618</td>\n",
       "    </tr>\n",
       "    <tr>\n",
       "      <th>55+</th>\n",
       "      <td>4347</td>\n",
       "      <td>891</td>\n",
       "      <td>476</td>\n",
       "      <td>315</td>\n",
       "      <td>5276</td>\n",
       "      <td>853</td>\n",
       "      <td>132</td>\n",
       "      <td>6107</td>\n",
       "      <td>8</td>\n",
       "      <td>345</td>\n",
       "      <td>552</td>\n",
       "      <td>332</td>\n",
       "      <td>294</td>\n",
       "      <td>74</td>\n",
       "      <td>228</td>\n",
       "      <td>372</td>\n",
       "      <td>65</td>\n",
       "      <td>236</td>\n",
       "      <td>20903</td>\n",
       "    </tr>\n",
       "    <tr>\n",
       "      <th>All</th>\n",
       "      <td>138353</td>\n",
       "      <td>23499</td>\n",
       "      <td>19849</td>\n",
       "      <td>11567</td>\n",
       "      <td>148592</td>\n",
       "      <td>20164</td>\n",
       "      <td>3668</td>\n",
       "      <td>112132</td>\n",
       "      <td>404</td>\n",
       "      <td>5032</td>\n",
       "      <td>23960</td>\n",
       "      <td>3875</td>\n",
       "      <td>5440</td>\n",
       "      <td>1500</td>\n",
       "      <td>6203</td>\n",
       "      <td>9697</td>\n",
       "      <td>567</td>\n",
       "      <td>3075</td>\n",
       "      <td>537577</td>\n",
       "    </tr>\n",
       "  </tbody>\n",
       "</table>\n",
       "</div>"
      ],
      "text/plain": [
       "product_category_1       1      2      3      4       5      6     7       8  \\\n",
       "age                                                                            \n",
       "0-17                  3524    789   1180    744    4280    392    51    2213   \n",
       "18-25                26627   4348   4633   2436   28157   3711   474   17665   \n",
       "26-35                57398   8784   7524   4124   60487   8344  1630   43533   \n",
       "36-45                27215   4856   3785   2311   28936   3839   796   22919   \n",
       "46-50                10292   2068   1343    971   11736   1596   322   10493   \n",
       "51-55                 8950   1763    908    666    9720   1429   263    9202   \n",
       "55+                   4347    891    476    315    5276    853   132    6107   \n",
       "All                 138353  23499  19849  11567  148592  20164  3668  112132   \n",
       "\n",
       "product_category_1    9    10     11    12    13    14    15    16   17    18  \\\n",
       "age                                                                             \n",
       "0-17                 16   108    728   120   108    37   158   226    6    27   \n",
       "18-25                61   596   4549   435   748   228  1010  1579   41   336   \n",
       "26-35               151  1757   9735  1072  2055   553  2341  4056  125  1021   \n",
       "36-45               106  1206   4884   981  1223   308  1377  1935  133   689   \n",
       "46-50                33   513   2072   507   537   149   589   868   91   346   \n",
       "51-55                29   507   1440   428   475   151   500   661  106   420   \n",
       "55+                   8   345    552   332   294    74   228   372   65   236   \n",
       "All                 404  5032  23960  3875  5440  1500  6203  9697  567  3075   \n",
       "\n",
       "product_category_1     All  \n",
       "age                         \n",
       "0-17                 14707  \n",
       "18-25                97634  \n",
       "26-35               214690  \n",
       "36-45               107499  \n",
       "46-50                44526  \n",
       "51-55                37618  \n",
       "55+                  20903  \n",
       "All                 537577  "
      ]
     },
     "execution_count": 73,
     "metadata": {},
     "output_type": "execute_result"
    }
   ],
   "source": [
    "table_age = retail_data[['user_id', 'age', 'product_category_1']].pivot_table(index='age', \n",
    "        columns='product_category_1', aggfunc='count', margins=True)\n",
    "table_age.columns = table_age.columns.droplevel(0)\n",
    "table_age"
   ]
  },
  {
   "cell_type": "code",
   "execution_count": 74,
   "metadata": {},
   "outputs": [
    {
     "data": {
      "text/html": [
       "<div>\n",
       "<style scoped>\n",
       "    .dataframe tbody tr th:only-of-type {\n",
       "        vertical-align: middle;\n",
       "    }\n",
       "\n",
       "    .dataframe tbody tr th {\n",
       "        vertical-align: top;\n",
       "    }\n",
       "\n",
       "    .dataframe thead th {\n",
       "        text-align: right;\n",
       "    }\n",
       "</style>\n",
       "<table border=\"1\" class=\"dataframe\">\n",
       "  <thead>\n",
       "    <tr style=\"text-align: right;\">\n",
       "      <th></th>\n",
       "      <th>product_category_1</th>\n",
       "      <th>1</th>\n",
       "      <th>2</th>\n",
       "      <th>3</th>\n",
       "      <th>4</th>\n",
       "      <th>5</th>\n",
       "      <th>6</th>\n",
       "      <th>7</th>\n",
       "      <th>8</th>\n",
       "      <th>9</th>\n",
       "      <th>10</th>\n",
       "      <th>11</th>\n",
       "      <th>12</th>\n",
       "      <th>13</th>\n",
       "      <th>14</th>\n",
       "      <th>15</th>\n",
       "      <th>16</th>\n",
       "      <th>17</th>\n",
       "      <th>18</th>\n",
       "      <th>All</th>\n",
       "    </tr>\n",
       "    <tr>\n",
       "      <th>gender</th>\n",
       "      <th>age</th>\n",
       "      <th></th>\n",
       "      <th></th>\n",
       "      <th></th>\n",
       "      <th></th>\n",
       "      <th></th>\n",
       "      <th></th>\n",
       "      <th></th>\n",
       "      <th></th>\n",
       "      <th></th>\n",
       "      <th></th>\n",
       "      <th></th>\n",
       "      <th></th>\n",
       "      <th></th>\n",
       "      <th></th>\n",
       "      <th></th>\n",
       "      <th></th>\n",
       "      <th></th>\n",
       "      <th></th>\n",
       "      <th></th>\n",
       "    </tr>\n",
       "  </thead>\n",
       "  <tbody>\n",
       "    <tr>\n",
       "      <th rowspan=\"7\" valign=\"top\">F</th>\n",
       "      <th>0-17</th>\n",
       "      <td>759</td>\n",
       "      <td>362</td>\n",
       "      <td>497</td>\n",
       "      <td>381</td>\n",
       "      <td>1492</td>\n",
       "      <td>88</td>\n",
       "      <td>8</td>\n",
       "      <td>847</td>\n",
       "      <td>5</td>\n",
       "      <td>29</td>\n",
       "      <td>236</td>\n",
       "      <td>80</td>\n",
       "      <td>34</td>\n",
       "      <td>23</td>\n",
       "      <td>42</td>\n",
       "      <td>60</td>\n",
       "      <td>2</td>\n",
       "      <td>8</td>\n",
       "      <td>4953</td>\n",
       "    </tr>\n",
       "    <tr>\n",
       "      <th>18-25</th>\n",
       "      <td>4579</td>\n",
       "      <td>1135</td>\n",
       "      <td>1484</td>\n",
       "      <td>771</td>\n",
       "      <td>7809</td>\n",
       "      <td>760</td>\n",
       "      <td>100</td>\n",
       "      <td>5112</td>\n",
       "      <td>12</td>\n",
       "      <td>118</td>\n",
       "      <td>1034</td>\n",
       "      <td>214</td>\n",
       "      <td>202</td>\n",
       "      <td>92</td>\n",
       "      <td>168</td>\n",
       "      <td>414</td>\n",
       "      <td>8</td>\n",
       "      <td>45</td>\n",
       "      <td>24057</td>\n",
       "    </tr>\n",
       "    <tr>\n",
       "      <th>26-35</th>\n",
       "      <td>9202</td>\n",
       "      <td>1815</td>\n",
       "      <td>1863</td>\n",
       "      <td>1132</td>\n",
       "      <td>16261</td>\n",
       "      <td>1715</td>\n",
       "      <td>388</td>\n",
       "      <td>12446</td>\n",
       "      <td>23</td>\n",
       "      <td>355</td>\n",
       "      <td>1643</td>\n",
       "      <td>401</td>\n",
       "      <td>481</td>\n",
       "      <td>229</td>\n",
       "      <td>353</td>\n",
       "      <td>933</td>\n",
       "      <td>5</td>\n",
       "      <td>103</td>\n",
       "      <td>49348</td>\n",
       "    </tr>\n",
       "    <tr>\n",
       "      <th>36-45</th>\n",
       "      <td>5164</td>\n",
       "      <td>1181</td>\n",
       "      <td>1153</td>\n",
       "      <td>686</td>\n",
       "      <td>7671</td>\n",
       "      <td>953</td>\n",
       "      <td>216</td>\n",
       "      <td>6466</td>\n",
       "      <td>17</td>\n",
       "      <td>276</td>\n",
       "      <td>989</td>\n",
       "      <td>346</td>\n",
       "      <td>342</td>\n",
       "      <td>127</td>\n",
       "      <td>226</td>\n",
       "      <td>500</td>\n",
       "      <td>23</td>\n",
       "      <td>84</td>\n",
       "      <td>26420</td>\n",
       "    </tr>\n",
       "    <tr>\n",
       "      <th>46-50</th>\n",
       "      <td>2449</td>\n",
       "      <td>512</td>\n",
       "      <td>440</td>\n",
       "      <td>308</td>\n",
       "      <td>3680</td>\n",
       "      <td>434</td>\n",
       "      <td>101</td>\n",
       "      <td>3505</td>\n",
       "      <td>6</td>\n",
       "      <td>134</td>\n",
       "      <td>440</td>\n",
       "      <td>197</td>\n",
       "      <td>156</td>\n",
       "      <td>56</td>\n",
       "      <td>117</td>\n",
       "      <td>245</td>\n",
       "      <td>8</td>\n",
       "      <td>68</td>\n",
       "      <td>12856</td>\n",
       "    </tr>\n",
       "    <tr>\n",
       "      <th>51-55</th>\n",
       "      <td>1575</td>\n",
       "      <td>390</td>\n",
       "      <td>293</td>\n",
       "      <td>206</td>\n",
       "      <td>2932</td>\n",
       "      <td>348</td>\n",
       "      <td>81</td>\n",
       "      <td>2819</td>\n",
       "      <td>5</td>\n",
       "      <td>128</td>\n",
       "      <td>227</td>\n",
       "      <td>149</td>\n",
       "      <td>142</td>\n",
       "      <td>63</td>\n",
       "      <td>79</td>\n",
       "      <td>156</td>\n",
       "      <td>7</td>\n",
       "      <td>34</td>\n",
       "      <td>9634</td>\n",
       "    </tr>\n",
       "    <tr>\n",
       "      <th>55+</th>\n",
       "      <td>673</td>\n",
       "      <td>178</td>\n",
       "      <td>144</td>\n",
       "      <td>88</td>\n",
       "      <td>1354</td>\n",
       "      <td>177</td>\n",
       "      <td>34</td>\n",
       "      <td>1752</td>\n",
       "      <td>2</td>\n",
       "      <td>98</td>\n",
       "      <td>90</td>\n",
       "      <td>110</td>\n",
       "      <td>71</td>\n",
       "      <td>23</td>\n",
       "      <td>38</td>\n",
       "      <td>55</td>\n",
       "      <td>8</td>\n",
       "      <td>34</td>\n",
       "      <td>4929</td>\n",
       "    </tr>\n",
       "    <tr>\n",
       "      <th rowspan=\"7\" valign=\"top\">M</th>\n",
       "      <th>0-17</th>\n",
       "      <td>2765</td>\n",
       "      <td>427</td>\n",
       "      <td>683</td>\n",
       "      <td>363</td>\n",
       "      <td>2788</td>\n",
       "      <td>304</td>\n",
       "      <td>43</td>\n",
       "      <td>1366</td>\n",
       "      <td>11</td>\n",
       "      <td>79</td>\n",
       "      <td>492</td>\n",
       "      <td>40</td>\n",
       "      <td>74</td>\n",
       "      <td>14</td>\n",
       "      <td>116</td>\n",
       "      <td>166</td>\n",
       "      <td>4</td>\n",
       "      <td>19</td>\n",
       "      <td>9754</td>\n",
       "    </tr>\n",
       "    <tr>\n",
       "      <th>18-25</th>\n",
       "      <td>22048</td>\n",
       "      <td>3213</td>\n",
       "      <td>3149</td>\n",
       "      <td>1665</td>\n",
       "      <td>20348</td>\n",
       "      <td>2951</td>\n",
       "      <td>374</td>\n",
       "      <td>12553</td>\n",
       "      <td>49</td>\n",
       "      <td>478</td>\n",
       "      <td>3515</td>\n",
       "      <td>221</td>\n",
       "      <td>546</td>\n",
       "      <td>136</td>\n",
       "      <td>842</td>\n",
       "      <td>1165</td>\n",
       "      <td>33</td>\n",
       "      <td>291</td>\n",
       "      <td>73577</td>\n",
       "    </tr>\n",
       "    <tr>\n",
       "      <th>26-35</th>\n",
       "      <td>48196</td>\n",
       "      <td>6969</td>\n",
       "      <td>5661</td>\n",
       "      <td>2992</td>\n",
       "      <td>44226</td>\n",
       "      <td>6629</td>\n",
       "      <td>1242</td>\n",
       "      <td>31087</td>\n",
       "      <td>128</td>\n",
       "      <td>1402</td>\n",
       "      <td>8092</td>\n",
       "      <td>671</td>\n",
       "      <td>1574</td>\n",
       "      <td>324</td>\n",
       "      <td>1988</td>\n",
       "      <td>3123</td>\n",
       "      <td>120</td>\n",
       "      <td>918</td>\n",
       "      <td>165342</td>\n",
       "    </tr>\n",
       "    <tr>\n",
       "      <th>36-45</th>\n",
       "      <td>22051</td>\n",
       "      <td>3675</td>\n",
       "      <td>2632</td>\n",
       "      <td>1625</td>\n",
       "      <td>21265</td>\n",
       "      <td>2886</td>\n",
       "      <td>580</td>\n",
       "      <td>16453</td>\n",
       "      <td>89</td>\n",
       "      <td>930</td>\n",
       "      <td>3895</td>\n",
       "      <td>635</td>\n",
       "      <td>881</td>\n",
       "      <td>181</td>\n",
       "      <td>1151</td>\n",
       "      <td>1435</td>\n",
       "      <td>110</td>\n",
       "      <td>605</td>\n",
       "      <td>81079</td>\n",
       "    </tr>\n",
       "    <tr>\n",
       "      <th>46-50</th>\n",
       "      <td>7843</td>\n",
       "      <td>1556</td>\n",
       "      <td>903</td>\n",
       "      <td>663</td>\n",
       "      <td>8056</td>\n",
       "      <td>1162</td>\n",
       "      <td>221</td>\n",
       "      <td>6988</td>\n",
       "      <td>27</td>\n",
       "      <td>379</td>\n",
       "      <td>1632</td>\n",
       "      <td>310</td>\n",
       "      <td>381</td>\n",
       "      <td>93</td>\n",
       "      <td>472</td>\n",
       "      <td>623</td>\n",
       "      <td>83</td>\n",
       "      <td>278</td>\n",
       "      <td>31670</td>\n",
       "    </tr>\n",
       "    <tr>\n",
       "      <th>51-55</th>\n",
       "      <td>7375</td>\n",
       "      <td>1373</td>\n",
       "      <td>615</td>\n",
       "      <td>460</td>\n",
       "      <td>6788</td>\n",
       "      <td>1081</td>\n",
       "      <td>182</td>\n",
       "      <td>6383</td>\n",
       "      <td>24</td>\n",
       "      <td>379</td>\n",
       "      <td>1213</td>\n",
       "      <td>279</td>\n",
       "      <td>333</td>\n",
       "      <td>88</td>\n",
       "      <td>421</td>\n",
       "      <td>505</td>\n",
       "      <td>99</td>\n",
       "      <td>386</td>\n",
       "      <td>27984</td>\n",
       "    </tr>\n",
       "    <tr>\n",
       "      <th>55+</th>\n",
       "      <td>3674</td>\n",
       "      <td>713</td>\n",
       "      <td>332</td>\n",
       "      <td>227</td>\n",
       "      <td>3922</td>\n",
       "      <td>676</td>\n",
       "      <td>98</td>\n",
       "      <td>4355</td>\n",
       "      <td>6</td>\n",
       "      <td>247</td>\n",
       "      <td>462</td>\n",
       "      <td>222</td>\n",
       "      <td>223</td>\n",
       "      <td>51</td>\n",
       "      <td>190</td>\n",
       "      <td>317</td>\n",
       "      <td>57</td>\n",
       "      <td>202</td>\n",
       "      <td>15974</td>\n",
       "    </tr>\n",
       "    <tr>\n",
       "      <th>All</th>\n",
       "      <th></th>\n",
       "      <td>138353</td>\n",
       "      <td>23499</td>\n",
       "      <td>19849</td>\n",
       "      <td>11567</td>\n",
       "      <td>148592</td>\n",
       "      <td>20164</td>\n",
       "      <td>3668</td>\n",
       "      <td>112132</td>\n",
       "      <td>404</td>\n",
       "      <td>5032</td>\n",
       "      <td>23960</td>\n",
       "      <td>3875</td>\n",
       "      <td>5440</td>\n",
       "      <td>1500</td>\n",
       "      <td>6203</td>\n",
       "      <td>9697</td>\n",
       "      <td>567</td>\n",
       "      <td>3075</td>\n",
       "      <td>537577</td>\n",
       "    </tr>\n",
       "  </tbody>\n",
       "</table>\n",
       "</div>"
      ],
      "text/plain": [
       "product_category_1       1      2      3      4       5      6     7       8  \\\n",
       "gender age                                                                     \n",
       "F      0-17            759    362    497    381    1492     88     8     847   \n",
       "       18-25          4579   1135   1484    771    7809    760   100    5112   \n",
       "       26-35          9202   1815   1863   1132   16261   1715   388   12446   \n",
       "       36-45          5164   1181   1153    686    7671    953   216    6466   \n",
       "       46-50          2449    512    440    308    3680    434   101    3505   \n",
       "       51-55          1575    390    293    206    2932    348    81    2819   \n",
       "       55+             673    178    144     88    1354    177    34    1752   \n",
       "M      0-17           2765    427    683    363    2788    304    43    1366   \n",
       "       18-25         22048   3213   3149   1665   20348   2951   374   12553   \n",
       "       26-35         48196   6969   5661   2992   44226   6629  1242   31087   \n",
       "       36-45         22051   3675   2632   1625   21265   2886   580   16453   \n",
       "       46-50          7843   1556    903    663    8056   1162   221    6988   \n",
       "       51-55          7375   1373    615    460    6788   1081   182    6383   \n",
       "       55+            3674    713    332    227    3922    676    98    4355   \n",
       "All                 138353  23499  19849  11567  148592  20164  3668  112132   \n",
       "\n",
       "product_category_1    9    10     11    12    13    14    15    16   17    18  \\\n",
       "gender age                                                                      \n",
       "F      0-17           5    29    236    80    34    23    42    60    2     8   \n",
       "       18-25         12   118   1034   214   202    92   168   414    8    45   \n",
       "       26-35         23   355   1643   401   481   229   353   933    5   103   \n",
       "       36-45         17   276    989   346   342   127   226   500   23    84   \n",
       "       46-50          6   134    440   197   156    56   117   245    8    68   \n",
       "       51-55          5   128    227   149   142    63    79   156    7    34   \n",
       "       55+            2    98     90   110    71    23    38    55    8    34   \n",
       "M      0-17          11    79    492    40    74    14   116   166    4    19   \n",
       "       18-25         49   478   3515   221   546   136   842  1165   33   291   \n",
       "       26-35        128  1402   8092   671  1574   324  1988  3123  120   918   \n",
       "       36-45         89   930   3895   635   881   181  1151  1435  110   605   \n",
       "       46-50         27   379   1632   310   381    93   472   623   83   278   \n",
       "       51-55         24   379   1213   279   333    88   421   505   99   386   \n",
       "       55+            6   247    462   222   223    51   190   317   57   202   \n",
       "All                 404  5032  23960  3875  5440  1500  6203  9697  567  3075   \n",
       "\n",
       "product_category_1     All  \n",
       "gender age                  \n",
       "F      0-17           4953  \n",
       "       18-25         24057  \n",
       "       26-35         49348  \n",
       "       36-45         26420  \n",
       "       46-50         12856  \n",
       "       51-55          9634  \n",
       "       55+            4929  \n",
       "M      0-17           9754  \n",
       "       18-25         73577  \n",
       "       26-35        165342  \n",
       "       36-45         81079  \n",
       "       46-50         31670  \n",
       "       51-55         27984  \n",
       "       55+           15974  \n",
       "All                 537577  "
      ]
     },
     "execution_count": 74,
     "metadata": {},
     "output_type": "execute_result"
    }
   ],
   "source": [
    "# Separate the above table by gender\n",
    "table_age_gender = retail_data[['user_id', 'gender', 'age', 'product_category_1']].pivot_table(index=['gender', 'age'], \n",
    "        columns='product_category_1', aggfunc='count', margins=True)\n",
    "table_age_gender.columns = table_age_gender.columns.droplevel(0)\n",
    "table_age_gender"
   ]
  },
  {
   "cell_type": "markdown",
   "metadata": {},
   "source": [
    "#### What are the popular items for each group?"
   ]
  },
  {
   "cell_type": "code",
   "execution_count": 75,
   "metadata": {},
   "outputs": [
    {
     "data": {
      "text/plain": [
       "P00255842    64\n",
       "P00145042    63\n",
       "P00112142    58\n",
       "P00242742    56\n",
       "P00034742    55\n",
       "Name: product_id, dtype: int64"
      ]
     },
     "execution_count": 75,
     "metadata": {},
     "output_type": "execute_result"
    }
   ],
   "source": [
    "retail_data[retail_data.age == '0-17'].product_id.value_counts().sort_values(ascending=False).head()"
   ]
  },
  {
   "cell_type": "code",
   "execution_count": 76,
   "metadata": {},
   "outputs": [
    {
     "data": {
      "text/plain": [
       "P00265242    388\n",
       "P00112142    335\n",
       "P00110742    323\n",
       "P00237542    295\n",
       "P00046742    293\n",
       "Name: product_id, dtype: int64"
      ]
     },
     "execution_count": 76,
     "metadata": {},
     "output_type": "execute_result"
    }
   ],
   "source": [
    "retail_data[retail_data.age == '18-25'].product_id.value_counts().sort_values(ascending=False).head()"
   ]
  },
  {
   "cell_type": "code",
   "execution_count": 77,
   "metadata": {},
   "outputs": [
    {
     "data": {
      "text/plain": [
       "P00265242    732\n",
       "P00110742    627\n",
       "P00112142    597\n",
       "P00025442    595\n",
       "P00058042    584\n",
       "Name: product_id, dtype: int64"
      ]
     },
     "execution_count": 77,
     "metadata": {},
     "output_type": "execute_result"
    }
   ],
   "source": [
    "retail_data[retail_data.age == '26-35'].product_id.value_counts().sort_values(ascending=False).head()"
   ]
  },
  {
   "cell_type": "code",
   "execution_count": 78,
   "metadata": {},
   "outputs": [
    {
     "data": {
      "text/plain": [
       "P00025442    348\n",
       "P00110742    317\n",
       "P00265242    317\n",
       "P00112142    292\n",
       "P00057642    291\n",
       "Name: product_id, dtype: int64"
      ]
     },
     "execution_count": 78,
     "metadata": {},
     "output_type": "execute_result"
    }
   ],
   "source": [
    "retail_data[retail_data.age == '36-45'].product_id.value_counts().sort_values(ascending=False).head()"
   ]
  },
  {
   "cell_type": "code",
   "execution_count": 79,
   "metadata": {},
   "outputs": [
    {
     "data": {
      "text/plain": [
       "P00265242    136\n",
       "P00046742    126\n",
       "P00025442    122\n",
       "P00051442    120\n",
       "P00117942    118\n",
       "Name: product_id, dtype: int64"
      ]
     },
     "execution_count": 79,
     "metadata": {},
     "output_type": "execute_result"
    }
   ],
   "source": [
    "retail_data[retail_data.age == '46-50'].product_id.value_counts().sort_values(ascending=False).head()"
   ]
  },
  {
   "cell_type": "code",
   "execution_count": 80,
   "metadata": {},
   "outputs": [
    {
     "data": {
      "text/plain": [
       "P00265242    140\n",
       "P00110742    117\n",
       "P00025442    117\n",
       "P00059442    112\n",
       "P00010742    110\n",
       "Name: product_id, dtype: int64"
      ]
     },
     "execution_count": 80,
     "metadata": {},
     "output_type": "execute_result"
    }
   ],
   "source": [
    "retail_data[retail_data.age == '51-55'].product_id.value_counts().sort_values(ascending=False).head()"
   ]
  },
  {
   "cell_type": "code",
   "execution_count": 81,
   "metadata": {},
   "outputs": [
    {
     "data": {
      "text/plain": [
       "P00265242    104\n",
       "P00080342     79\n",
       "P00051442     78\n",
       "P00184942     70\n",
       "P00025442     70\n",
       "Name: product_id, dtype: int64"
      ]
     },
     "execution_count": 81,
     "metadata": {},
     "output_type": "execute_result"
    }
   ],
   "source": [
    "retail_data[retail_data.age == '55+'].product_id.value_counts().sort_values(ascending=False).head()"
   ]
  },
  {
   "cell_type": "markdown",
   "metadata": {},
   "source": [
    "#### Marital Status Distribution Comparison"
   ]
  },
  {
   "cell_type": "code",
   "execution_count": 82,
   "metadata": {},
   "outputs": [
    {
     "data": {
      "image/png": "[encoded data removed]",
      "text/plain": [
       "<matplotlib.figure.Figure at 0x10913cda0>"
      ]
     },
     "metadata": {},
     "output_type": "display_data"
    }
   ],
   "source": [
    "fig, axes = plt.subplots(1, 2)\n",
    "best_sell_data.marital_status.value_counts().sort_index().plot(kind='bar', ax=axes[0], figsize=(12, 5))\n",
    "axes[0].set_title('Marital Status Distribution for Best Seller')\n",
    "axes[0].set_ylabel('Number of Consumers')\n",
    "axes[0].set_xticklabels(labels=['Single', 'Married'], rotation=360)\n",
    "user_info.marital_status.value_counts().sort_index().plot(kind='bar', ax=axes[1])\n",
    "axes[1].set_title('Marital Status Distribution for Whole Population')\n",
    "axes[1].set_xticklabels(labels=['Single', 'Married'], rotation=360)\n",
    "axes[1].set_ylabel('Number of Consumers');"
   ]
  },
  {
   "cell_type": "code",
   "execution_count": 100,
   "metadata": {},
   "outputs": [
    {
     "data": {
      "image/png": "[encoded data removed]",
      "text/plain": [
       "<matplotlib.figure.Figure at 0x1a0d2ea630>"
      ]
     },
     "metadata": {},
     "output_type": "display_data"
    }
   ],
   "source": [
    "user_info.marital_status.value_counts().plot(kind='pie', autopct='%1.1f%%', startangle=90)\n",
    "plt.title('Marital Status Distribution')\n",
    "plt.axis('equal');"
   ]
  },
  {
   "cell_type": "markdown",
   "metadata": {},
   "source": [
    "There are slightly more single costumoers shopping in this store."
   ]
  },
  {
   "cell_type": "markdown",
   "metadata": {},
   "source": [
    "#### Occupation Distribution"
   ]
  },
  {
   "cell_type": "code",
   "execution_count": 83,
   "metadata": {},
   "outputs": [
    {
     "data": {
      "image/png": "[encoded data removed]",
      "text/plain": [
       "<matplotlib.figure.Figure at 0x10913cd68>"
      ]
     },
     "metadata": {},
     "output_type": "display_data"
    }
   ],
   "source": [
    "user_info.occupation.value_counts().sort_index().plot(kind='bar')\n",
    "plt.title('Occupation Distribution')\n",
    "plt.xticks(rotation=360)\n",
    "plt.xlabel('Occupation')\n",
    "plt.ylabel('Number of Consumers');"
   ]
  },
  {
   "cell_type": "markdown",
   "metadata": {},
   "source": [
    "Most of the consumers come from occupation 0, 4, 7, and 17."
   ]
  },
  {
   "cell_type": "code",
   "execution_count": 84,
   "metadata": {},
   "outputs": [
    {
     "data": {
      "image/png": "[encoded data removed]",
      "text/plain": [
       "<matplotlib.figure.Figure at 0x10912f518>"
      ]
     },
     "metadata": {},
     "output_type": "display_data"
    }
   ],
   "source": [
    "user_info.groupby(['occupation', 'gender'])['user_id'].count().unstack().plot(kind='bar', figsize=(10, 8))\n",
    "plt.title('Occupation Distribution by Gender')\n",
    "plt.xticks(rotation=360)\n",
    "plt.xlabel('Occupation')\n",
    "plt.ylabel('Number of Consumers');"
   ]
  },
  {
   "cell_type": "code",
   "execution_count": 102,
   "metadata": {},
   "outputs": [
    {
     "data": {
      "image/png": "[encoded data removed]",
      "text/plain": [
       "<matplotlib.figure.Figure at 0x1a0cad72b0>"
      ]
     },
     "metadata": {},
     "output_type": "display_data"
    }
   ],
   "source": [
    "# Number of purchases for each population\n",
    "retail_data.groupby('occupation').user_id.count().plot(kind='bar')\n",
    "plt.title('Number of Purchases for Each Occupation')\n",
    "plt.ylabel('Number of Purchases');"
   ]
  },
  {
   "cell_type": "code",
   "execution_count": 85,
   "metadata": {},
   "outputs": [
    {
     "data": {
      "image/png": "[encoded data removed]",
      "text/plain": [
       "<matplotlib.figure.Figure at 0x1a0ec66d30>"
      ]
     },
     "metadata": {},
     "output_type": "display_data"
    }
   ],
   "source": [
    "# Dollar amount of purchases for each occupation\n",
    "user_total_purchase.groupby('occupation').total_purchase.sum().plot(kind='bar')\n",
    "plt.title('Total Purchase for Each Occupation')\n",
    "plt.ylabel('Total Purchase Amount');"
   ]
  },
  {
   "cell_type": "markdown",
   "metadata": {},
   "source": [
    "Since most of the consumers are from occupation 0, 4, 7, 17, it is reasonable that those occupations are making the most puchases. Let's check the average purchase for each occupation."
   ]
  },
  {
   "cell_type": "code",
   "execution_count": 86,
   "metadata": {},
   "outputs": [
    {
     "data": {
      "image/png": "[encoded data removed]",
      "text/plain": [
       "<matplotlib.figure.Figure at 0x1a0d2a1f60>"
      ]
     },
     "metadata": {},
     "output_type": "display_data"
    }
   ],
   "source": [
    "user_total_purchase.groupby('occupation').total_purchase.mean().plot(kind='bar')\n",
    "plt.title('Average Purchase for Each Occupation')\n",
    "plt.ylabel('Average Purchase Amount');"
   ]
  },
  {
   "cell_type": "markdown",
   "metadata": {},
   "source": [
    "From the average point of view, those four occupations are not that dominant."
   ]
  },
  {
   "cell_type": "markdown",
   "metadata": {},
   "source": [
    "#### Stay In Current City Years Distribution"
   ]
  },
  {
   "cell_type": "code",
   "execution_count": 87,
   "metadata": {},
   "outputs": [
    {
     "data": {
      "image/png": "[encoded data removed]",
      "text/plain": [
       "<matplotlib.figure.Figure at 0x1a0d2eb0f0>"
      ]
     },
     "metadata": {},
     "output_type": "display_data"
    }
   ],
   "source": [
    "user_info['stay_in_current_city_years'].value_counts().sort_index().plot(kind='bar')\n",
    "plt.title('Stay In Currenty City Years Distribution')\n",
    "plt.xticks(rotation=360)\n",
    "plt.xlabel('Years')\n",
    "plt.ylabel('Number of Users');"
   ]
  },
  {
   "cell_type": "markdown",
   "metadata": {},
   "source": [
    "A large proprotion of the current consumers are new citizens to this city. From the decreasing trend, this retail store may have to investigate why people living here longer would become less frequent to purchase at this store.  "
   ]
  },
  {
   "cell_type": "markdown",
   "metadata": {},
   "source": [
    "#### City Distribution"
   ]
  },
  {
   "cell_type": "code",
   "execution_count": 88,
   "metadata": {},
   "outputs": [
    {
     "data": {
      "image/png": "[encoded data removed]",
      "text/plain": [
       "<matplotlib.figure.Figure at 0x1a0ab8c208>"
      ]
     },
     "metadata": {},
     "output_type": "display_data"
    }
   ],
   "source": [
    "user_info.city_category.value_counts().sort_index().plot(kind='bar')\n",
    "plt.xticks(rotation=360)\n",
    "plt.title('City Distribution')\n",
    "plt.xlabel('Ciity Category')\n",
    "plt.ylabel('Number of Users');"
   ]
  },
  {
   "cell_type": "code",
   "execution_count": 89,
   "metadata": {},
   "outputs": [
    {
     "data": {
      "image/png": "[encoded data removed]",
      "text/plain": [
       "<matplotlib.figure.Figure at 0x1a0d2ac748>"
      ]
     },
     "metadata": {},
     "output_type": "display_data"
    }
   ],
   "source": [
    "user_info.city_category.value_counts().sort_index().plot(kind='pie', autopct='%1.1f%%', startangle=90)\n",
    "plt.title('City Category Distribution')\n",
    "plt.axis('equal');"
   ]
  },
  {
   "cell_type": "code",
   "execution_count": 90,
   "metadata": {},
   "outputs": [
    {
     "data": {
      "image/png": "[encoded data removed]",
      "text/plain": [
       "<matplotlib.figure.Figure at 0x1a0ba964a8>"
      ]
     },
     "metadata": {},
     "output_type": "display_data"
    }
   ],
   "source": [
    "user_total_purchase.groupby('city_category').total_purchase.sum().plot(kind='bar', figsize=(6, 5))\n",
    "plt.title('Total Purchase for Each City')\n",
    "plt.xticks(rotation=360)\n",
    "plt.ylabel('Total Purchase');"
   ]
  },
  {
   "cell_type": "code",
   "execution_count": 91,
   "metadata": {},
   "outputs": [
    {
     "data": {
      "image/png": "[encoded data removed]",
      "text/plain": [
       "<matplotlib.figure.Figure at 0x1a0aaa5860>"
      ]
     },
     "metadata": {},
     "output_type": "display_data"
    }
   ],
   "source": [
    "user_total_purchase.groupby('city_category').total_purchase.sum().plot(kind='pie', autopct='%1.1f%%', startangle=90)\n",
    "plt.title('Proportion of Total Purchase for Each City Category')\n",
    "plt.axis('equal');"
   ]
  },
  {
   "cell_type": "markdown",
   "metadata": {},
   "source": [
    "Although number of consumers in city B are in the middle, their purchasing power is the highest among all three city categories. "
   ]
  },
  {
   "cell_type": "markdown",
   "metadata": {},
   "source": [
    "#### Age Distribution for Each City Category"
   ]
  },
  {
   "cell_type": "code",
   "execution_count": 92,
   "metadata": {},
   "outputs": [
    {
     "data": {
      "image/png": "[encoded data removed]",
      "text/plain": [
       "<matplotlib.figure.Figure at 0x1a0d463080>"
      ]
     },
     "metadata": {},
     "output_type": "display_data"
    }
   ],
   "source": [
    "user_info.groupby(['city_category', 'age']).user_id.count().unstack().plot(kind='bar', figsize=(10, 6));"
   ]
  },
  {
   "cell_type": "markdown",
   "metadata": {},
   "source": [
    "City Category C has a higher proportion of consumers older than 36."
   ]
  },
  {
   "cell_type": "code",
   "execution_count": null,
   "metadata": {
    "collapsed": true
   },
   "outputs": [],
   "source": []
  }
 ],
 "metadata": {
  "kernelspec": {
   "display_name": "Python 3",
   "language": "python",
   "name": "python3"
  },
  "language_info": {
   "codemirror_mode": {
    "name": "ipython",
    "version": 3
   },
   "file_extension": ".py",
   "mimetype": "text/x-python",
   "name": "python",
   "nbconvert_exporter": "python",
   "pygments_lexer": "ipython3",
   "version": "3.6.3"
  }
 },
 "nbformat": 4,
 "nbformat_minor": 2
}
