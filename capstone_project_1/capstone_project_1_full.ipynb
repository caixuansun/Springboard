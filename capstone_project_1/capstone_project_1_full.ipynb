{
 "cells": [
  {
   "cell_type": "markdown",
   "metadata": {},
   "source": [
    "# Predicting the gender of the consumer using Black Friday Dataset\n",
    "Capstone Project 1 for Springboard Data Science Career Track\n",
    "\n",
    "Caixuan Sun"
   ]
  },
  {
   "cell_type": "code",
   "execution_count": 1,
   "metadata": {
    "collapsed": true
   },
   "outputs": [],
   "source": [
    "%matplotlib inline\n",
    "import pandas as pd\n",
    "import matplotlib.pyplot as plt\n",
    "import seaborn as sns\n",
    "import numpy as np\n",
    "from matplotlib.ticker import MaxNLocator\n",
    "sns.set()\n",
    "\n",
    "from sklearn import preprocessing\n",
    "from sklearn.model_selection import train_test_split, cross_val_score, GridSearchCV\n",
    "from sklearn.linear_model import LogisticRegression\n",
    "from sklearn.neighbors import KNeighborsClassifier\n",
    "from sklearn.metrics import classification_report, confusion_matrix, roc_curve, roc_auc_score\n",
    "from sklearn.svm import SVC, LinearSVC\n",
    "from sklearn.ensemble import RandomForestClassifier, GradientBoostingClassifier\n",
    "from sklearn.decomposition import PCA"
   ]
  },
  {
   "cell_type": "markdown",
   "metadata": {},
   "source": [
    "# Table of Contents\n",
    "\n",
    "* [1. Introduction](#1.-Introduction)\n",
    "    * [1.1 Problem Statement](#1.1-Problem-Statement)\n",
    "    * [1.2 Data Collection](#1.2-Data-Collection)\n",
    "* [2. Data Wrangling and EDA](#2.-Data-Wrangling-and-EDA)\n",
    "    * [2.1 Data Understanding and Cleaning](#2.1-Data-Understanding-and-Cleaning)\n",
    "    * [2.2 EDA](#2.2-EDA)\n",
    "        * [2.2.1 Univariate Analysis](#2.2.1-Univariate-Analysis)\n",
    "            * [2.2.1.1 Distribution of categorical variables](#2.2.1.1-Distribution-of-categorical-variables)\n",
    "            * [2.2.1.2 Distribution of numerical variables](#2.2.1.2-Distribution-of-numerical-variables)\n",
    "        * [2.2.2 Bivariate Analysis](#2.2.2-Bivariate-Analysis)\n",
    "            * [2.2.2.1 Gender Related Analysis](#2.2.2.1-Gender-Related-Analysis)\n",
    "                * [2.2.2.1.1 More Analysis on Gender Itself](#2.2.2.1.1-More-Analysis-On-Gender-Itself)\n",
    "                * [2.2.2.1.2 Gender and Purchase](#2.2.2.1.2-Gender-and-Purchase)\n",
    "                * [2.2.2.1.3 Gender and Age](#2.2.2.1.3-Gender-and-Age)\n",
    "                * [2.2.2.1.4 Gender and Occupation](#2.2.2.1.4-Gender-and-Occupation)\n",
    "                * [2.2.2.1.5 Gender and City Category](#2.2.2.1.5-Gender-and-City-Category)\n",
    "                * [2.2.2.1.6 Gender and Stay in Current City Years](#2.2.2.1.6-Gender-and-Stay-in-Current-City-Years)\n",
    "                * [2.2.2.1.7 Gender and Marital Status](# 2.2.2.1.7-Gender-and-Marital-Status)\n",
    "                * [2.2.2.1.8 Gender and Product Category 1](#2.2.2.1.8-Gender-and-Product-Category-1)\n",
    "                * [2.2.2.1.9 Gender and Products](#2.2.2.1.9-Gender-and-Products)\n",
    "            * [2.2.2.2 Other Bivariate Analysis](#2.2.2.2-Other-Bivariate-Analysis)\n",
    "* [3 Machine Learning](#3-Machine-Learning)\n",
    "    * [3.1 Introduction](#3.1-Introduction)\n",
    "    * [3.2 Data Preprocessing](#3.2-Data-Preprocessing)\n",
    "        * [3.2.1 Standardizing Numerical Data](#3.2.1-Standardizing-Numerical-Data)\n",
    "        * [3.2.2 Encoding Categorical Data](#3.2.2-Encoding-Categorical-Data)\n",
    "    * [3.3 Model Comparison](#3.3-Model-Comparison)\n",
    "        * [3.3.1 Logistic Regression](#3.3.1-Logistic-Regression)\n",
    "        * [3.3.2 K-Nearest Neighbors Classifier](#3.3.2-K-Nearest-Neighbors-Classifier)\n",
    "        * [3.3.3 SVC](#3.3.3-SVC)\n",
    "        * [3.3.4 Random Forest Classifier](#3.3.4-Random-Forest-Classifier)\n",
    "        * [3.3.5 Gradient Boosting Classifier](#3.3.5-Gradient-Boosting-Classifier)"
   ]
  },
  {
   "cell_type": "markdown",
   "metadata": {},
   "source": [
    "## 1. Introduction"
   ]
  },
  {
   "cell_type": "markdown",
   "metadata": {},
   "source": [
    "### 1.1 Problem Statement"
   ]
  },
  {
   "cell_type": "markdown",
   "metadata": {},
   "source": [
    "Retail data has been increasing exponentially in both volume and value. With the massive amounts of data available,  the retail industry is able to rely on data science to extract insights to attract and retain customers, discover trends, operate business more efficiently and ultimately increase sales and reduce costs. For the first project, I would like to focus on consumers and their behaviors. It is greatly beneficial for the retail store to know their customers well. By identifying who is the retail store selling to and what they are buying, better decisions regarding personalized offers and product recommendations could be made. The specific goal for the project is to predict the gender of the consumer which could help the retail store to construct more targeted marketing strategies.  \n"
   ]
  },
  {
   "cell_type": "markdown",
   "metadata": {},
   "source": [
    "### 1.2 Data Collection"
   ]
  },
  {
   "cell_type": "markdown",
   "metadata": {},
   "source": [
    "- Data is obtained from Kaggle: https://www.kaggle.com/mehdidag/black-friday\n",
    "- The dataset is a sample of transactions made in a retail store for one month. It contains customer demographics such as age, gender and marital status, product details including product id and product category, and purchase amount for the whole month."
   ]
  },
  {
   "cell_type": "markdown",
   "metadata": {},
   "source": [
    "## 2. Data Wrangling and EDA"
   ]
  },
  {
   "cell_type": "markdown",
   "metadata": {},
   "source": [
    "### 2.1 Data Understanding and Cleaning"
   ]
  },
  {
   "cell_type": "code",
   "execution_count": 2,
   "metadata": {},
   "outputs": [
    {
     "data": {
      "text/html": [
       "<div>\n",
       "<style scoped>\n",
       "    .dataframe tbody tr th:only-of-type {\n",
       "        vertical-align: middle;\n",
       "    }\n",
       "\n",
       "    .dataframe tbody tr th {\n",
       "        vertical-align: top;\n",
       "    }\n",
       "\n",
       "    .dataframe thead th {\n",
       "        text-align: right;\n",
       "    }\n",
       "</style>\n",
       "<table border=\"1\" class=\"dataframe\">\n",
       "  <thead>\n",
       "    <tr style=\"text-align: right;\">\n",
       "      <th></th>\n",
       "      <th>User_ID</th>\n",
       "      <th>Product_ID</th>\n",
       "      <th>Gender</th>\n",
       "      <th>Age</th>\n",
       "      <th>Occupation</th>\n",
       "      <th>City_Category</th>\n",
       "      <th>Stay_In_Current_City_Years</th>\n",
       "      <th>Marital_Status</th>\n",
       "      <th>Product_Category_1</th>\n",
       "      <th>Product_Category_2</th>\n",
       "      <th>Product_Category_3</th>\n",
       "      <th>Purchase</th>\n",
       "    </tr>\n",
       "  </thead>\n",
       "  <tbody>\n",
       "    <tr>\n",
       "      <th>0</th>\n",
       "      <td>1000001</td>\n",
       "      <td>P00069042</td>\n",
       "      <td>F</td>\n",
       "      <td>0-17</td>\n",
       "      <td>10</td>\n",
       "      <td>A</td>\n",
       "      <td>2</td>\n",
       "      <td>0</td>\n",
       "      <td>3</td>\n",
       "      <td>NaN</td>\n",
       "      <td>NaN</td>\n",
       "      <td>8370</td>\n",
       "    </tr>\n",
       "    <tr>\n",
       "      <th>1</th>\n",
       "      <td>1000001</td>\n",
       "      <td>P00248942</td>\n",
       "      <td>F</td>\n",
       "      <td>0-17</td>\n",
       "      <td>10</td>\n",
       "      <td>A</td>\n",
       "      <td>2</td>\n",
       "      <td>0</td>\n",
       "      <td>1</td>\n",
       "      <td>6.0</td>\n",
       "      <td>14.0</td>\n",
       "      <td>15200</td>\n",
       "    </tr>\n",
       "    <tr>\n",
       "      <th>2</th>\n",
       "      <td>1000001</td>\n",
       "      <td>P00087842</td>\n",
       "      <td>F</td>\n",
       "      <td>0-17</td>\n",
       "      <td>10</td>\n",
       "      <td>A</td>\n",
       "      <td>2</td>\n",
       "      <td>0</td>\n",
       "      <td>12</td>\n",
       "      <td>NaN</td>\n",
       "      <td>NaN</td>\n",
       "      <td>1422</td>\n",
       "    </tr>\n",
       "    <tr>\n",
       "      <th>3</th>\n",
       "      <td>1000001</td>\n",
       "      <td>P00085442</td>\n",
       "      <td>F</td>\n",
       "      <td>0-17</td>\n",
       "      <td>10</td>\n",
       "      <td>A</td>\n",
       "      <td>2</td>\n",
       "      <td>0</td>\n",
       "      <td>12</td>\n",
       "      <td>14.0</td>\n",
       "      <td>NaN</td>\n",
       "      <td>1057</td>\n",
       "    </tr>\n",
       "    <tr>\n",
       "      <th>4</th>\n",
       "      <td>1000002</td>\n",
       "      <td>P00285442</td>\n",
       "      <td>M</td>\n",
       "      <td>55+</td>\n",
       "      <td>16</td>\n",
       "      <td>C</td>\n",
       "      <td>4+</td>\n",
       "      <td>0</td>\n",
       "      <td>8</td>\n",
       "      <td>NaN</td>\n",
       "      <td>NaN</td>\n",
       "      <td>7969</td>\n",
       "    </tr>\n",
       "  </tbody>\n",
       "</table>\n",
       "</div>"
      ],
      "text/plain": [
       "   User_ID Product_ID Gender   Age  Occupation City_Category  \\\n",
       "0  1000001  P00069042      F  0-17          10             A   \n",
       "1  1000001  P00248942      F  0-17          10             A   \n",
       "2  1000001  P00087842      F  0-17          10             A   \n",
       "3  1000001  P00085442      F  0-17          10             A   \n",
       "4  1000002  P00285442      M   55+          16             C   \n",
       "\n",
       "  Stay_In_Current_City_Years  Marital_Status  Product_Category_1  \\\n",
       "0                          2               0                   3   \n",
       "1                          2               0                   1   \n",
       "2                          2               0                  12   \n",
       "3                          2               0                  12   \n",
       "4                         4+               0                   8   \n",
       "\n",
       "   Product_Category_2  Product_Category_3  Purchase  \n",
       "0                 NaN                 NaN      8370  \n",
       "1                 6.0                14.0     15200  \n",
       "2                 NaN                 NaN      1422  \n",
       "3                14.0                 NaN      1057  \n",
       "4                 NaN                 NaN      7969  "
      ]
     },
     "execution_count": 2,
     "metadata": {},
     "output_type": "execute_result"
    }
   ],
   "source": [
    "# Load dataset and check the first few rows\n",
    "retail_data = pd.read_csv('BlackFriday.csv')\n",
    "retail_data.head()"
   ]
  },
  {
   "cell_type": "code",
   "execution_count": 3,
   "metadata": {},
   "outputs": [
    {
     "data": {
      "text/plain": [
       "0"
      ]
     },
     "execution_count": 3,
     "metadata": {},
     "output_type": "execute_result"
    }
   ],
   "source": [
    "# Check if there's any duplicated rows\n",
    "retail_data.duplicated().sum()"
   ]
  },
  {
   "cell_type": "code",
   "execution_count": 4,
   "metadata": {
    "collapsed": true
   },
   "outputs": [],
   "source": [
    "# Convert column names to lower case\n",
    "retail_data.columns = [col.lower() for col in retail_data.columns]"
   ]
  },
  {
   "cell_type": "code",
   "execution_count": 5,
   "metadata": {},
   "outputs": [
    {
     "data": {
      "text/plain": [
       "True"
      ]
     },
     "execution_count": 5,
     "metadata": {},
     "output_type": "execute_result"
    }
   ],
   "source": [
    "# Examine if all column labels are of type string\n",
    "all(isinstance(column, str) for column in retail_data.columns)"
   ]
  },
  {
   "cell_type": "code",
   "execution_count": 6,
   "metadata": {},
   "outputs": [
    {
     "name": "stdout",
     "output_type": "stream",
     "text": [
      "<class 'pandas.core.frame.DataFrame'>\n",
      "RangeIndex: 537577 entries, 0 to 537576\n",
      "Data columns (total 12 columns):\n",
      "user_id                       537577 non-null int64\n",
      "product_id                    537577 non-null object\n",
      "gender                        537577 non-null object\n",
      "age                           537577 non-null object\n",
      "occupation                    537577 non-null int64\n",
      "city_category                 537577 non-null object\n",
      "stay_in_current_city_years    537577 non-null object\n",
      "marital_status                537577 non-null int64\n",
      "product_category_1            537577 non-null int64\n",
      "product_category_2            370591 non-null float64\n",
      "product_category_3            164278 non-null float64\n",
      "purchase                      537577 non-null int64\n",
      "dtypes: float64(2), int64(5), object(5)\n",
      "memory usage: 49.2+ MB\n"
     ]
    }
   ],
   "source": [
    "# Check the data types for each column and total count of null entries \n",
    "retail_data.info()"
   ]
  },
  {
   "cell_type": "code",
   "execution_count": 7,
   "metadata": {
    "collapsed": true
   },
   "outputs": [],
   "source": [
    "# Convert categorical features into 'category' data type\n",
    "cat_cols = ['gender', 'age', 'occupation', 'city_category', 'stay_in_current_city_years',\n",
    "            'marital_status', 'product_category_1', 'product_category_2','product_category_3']\n",
    "retail_data[cat_cols] = retail_data[cat_cols].apply(lambda x: x.astype('category'), axis=0)"
   ]
  },
  {
   "cell_type": "code",
   "execution_count": 8,
   "metadata": {},
   "outputs": [
    {
     "data": {
      "image/png": "[encoded data removed]",
      "text/plain": [
       "<matplotlib.figure.Figure at 0x1084fae80>"
      ]
     },
     "metadata": {},
     "output_type": "display_data"
    }
   ],
   "source": [
    "# See how many categories in each categorical column\n",
    "plt.figure(figsize=(10, 5))\n",
    "num_unique_cat = retail_data[cat_cols].apply(pd.Series.nunique, axis=0)\n",
    "num_unique_cat.plot(kind='bar')\n",
    "plt.xticks(rotation=70)\n",
    "plt.yticks(np.arange(0, 22, 2))\n",
    "plt.ylabel('Number of Unique Categories')\n",
    "plt.title('Number of Unique Categories in Each Categorical Column');"
   ]
  },
  {
   "cell_type": "markdown",
   "metadata": {},
   "source": [
    "From retail_data.info(), we find that only product_category_2 and product_category_3 have null entries. Use value_counts to futher check if there are other missing values not in the form of 'NaN'. "
   ]
  },
  {
   "cell_type": "code",
   "execution_count": 9,
   "metadata": {},
   "outputs": [
    {
     "name": "stdout",
     "output_type": "stream",
     "text": [
      "Value counts for user_id is \n",
      "1001680    1025\n",
      "1004277     978\n",
      "1001941     898\n",
      "1001181     861\n",
      "1000889     822\n",
      "1003618     766\n",
      "1001150     752\n",
      "1001015     739\n",
      "1002909     717\n",
      "1001449     714\n",
      "1002063     708\n",
      "1004344     705\n",
      "1003391     697\n",
      "1003841     697\n",
      "1000424     694\n",
      "1004510     690\n",
      "1001980     684\n",
      "1005795     680\n",
      "1001088     679\n",
      "1004227     676\n",
      "Name: user_id, dtype: int64\n",
      "Value counts for product_id is \n",
      "P00265242    1858\n",
      "P00110742    1591\n",
      "P00025442    1586\n",
      "P00112142    1539\n",
      "P00057642    1430\n",
      "P00184942    1424\n",
      "P00046742    1417\n",
      "P00058042    1396\n",
      "P00145042    1384\n",
      "P00059442    1384\n",
      "P00237542    1374\n",
      "P00255842    1354\n",
      "P00117942    1346\n",
      "P00110942    1336\n",
      "P00010742    1331\n",
      "P00110842    1260\n",
      "P00220442    1253\n",
      "P00051442    1233\n",
      "P00102642    1228\n",
      "P00117442    1227\n",
      "Name: product_id, dtype: int64\n",
      "Value counts for gender is \n",
      "M    405380\n",
      "F    132197\n",
      "Name: gender, dtype: int64\n",
      "Value counts for age is \n",
      "26-35    214690\n",
      "36-45    107499\n",
      "18-25     97634\n",
      "46-50     44526\n",
      "51-55     37618\n",
      "55+       20903\n",
      "0-17      14707\n",
      "Name: age, dtype: int64\n",
      "Value counts for occupation is \n",
      "4     70862\n",
      "0     68120\n",
      "7     57806\n",
      "1     45971\n",
      "17    39090\n",
      "20    32910\n",
      "12    30423\n",
      "14    26712\n",
      "2     25845\n",
      "16    24790\n",
      "6     19822\n",
      "3     17366\n",
      "10    12623\n",
      "5     11985\n",
      "15    11812\n",
      "11    11338\n",
      "19     8352\n",
      "13     7548\n",
      "18     6525\n",
      "9      6153\n",
      "Name: occupation, dtype: int64\n",
      "Value counts for city_category is \n",
      "B    226493\n",
      "C    166446\n",
      "A    144638\n",
      "Name: city_category, dtype: int64\n",
      "Value counts for stay_in_current_city_years is \n",
      "1     189192\n",
      "2      99459\n",
      "3      93312\n",
      "4+     82889\n",
      "0      72725\n",
      "Name: stay_in_current_city_years, dtype: int64\n",
      "Value counts for marital_status is \n",
      "0    317817\n",
      "1    219760\n",
      "Name: marital_status, dtype: int64\n",
      "Value counts for product_category_1 is \n",
      "5     148592\n",
      "1     138353\n",
      "8     112132\n",
      "11     23960\n",
      "2      23499\n",
      "6      20164\n",
      "3      19849\n",
      "4      11567\n",
      "16      9697\n",
      "15      6203\n",
      "13      5440\n",
      "10      5032\n",
      "12      3875\n",
      "7       3668\n",
      "18      3075\n",
      "14      1500\n",
      "17       567\n",
      "9        404\n",
      "Name: product_category_1, dtype: int64\n",
      "Value counts for product_category_2 is \n",
      "NaN      166986\n",
      " 8.0      63058\n",
      " 14.0     54158\n",
      " 2.0      48481\n",
      " 16.0     42602\n",
      " 15.0     37317\n",
      " 5.0      25874\n",
      " 4.0      25225\n",
      " 6.0      16251\n",
      " 11.0     13945\n",
      " 17.0     13130\n",
      " 13.0     10369\n",
      " 9.0       5591\n",
      " 12.0      5419\n",
      " 10.0      2991\n",
      " 3.0       2835\n",
      " 18.0      2730\n",
      " 7.0        615\n",
      "Name: product_category_2, dtype: int64\n",
      "Value counts for product_category_3 is \n",
      "NaN      373299\n",
      " 16.0     32148\n",
      " 15.0     27611\n",
      " 14.0     18121\n",
      " 17.0     16449\n",
      " 5.0      16380\n",
      " 8.0      12384\n",
      " 9.0      11414\n",
      " 12.0      9094\n",
      " 13.0      5385\n",
      " 6.0       4818\n",
      " 18.0      4563\n",
      " 4.0       1840\n",
      " 11.0      1773\n",
      " 10.0      1698\n",
      " 3.0        600\n",
      "Name: product_category_3, dtype: int64\n",
      "Value counts for purchase is \n",
      "6855    186\n",
      "7011    185\n",
      "7193    182\n",
      "6891    182\n",
      "6879    181\n",
      "7027    180\n",
      "7012    180\n",
      "6883    179\n",
      "7166    179\n",
      "7165    179\n",
      "6960    178\n",
      "6868    176\n",
      "7089    176\n",
      "7093    176\n",
      "6923    176\n",
      "6858    176\n",
      "7167    175\n",
      "7114    175\n",
      "7185    174\n",
      "6931    174\n",
      "Name: purchase, dtype: int64\n"
     ]
    }
   ],
   "source": [
    "for col in retail_data.columns:\n",
    "    print('Value counts for {} is \\n{}'.format(col, retail_data[col].value_counts(dropna=False).head(20)))"
   ]
  },
  {
   "cell_type": "markdown",
   "metadata": {},
   "source": [
    "It seems that there are no missing values in other forms. Then investigate a little bit more about the two columns having null entries. Notice that product_category_1 has 18 categories from 1 to 18, product_category_2 has 17 categories from 2 to 18, and product_category_3 has 16 categories from 3 to 18. "
   ]
  },
  {
   "cell_type": "code",
   "execution_count": 10,
   "metadata": {},
   "outputs": [
    {
     "data": {
      "text/html": [
       "<div>\n",
       "<style scoped>\n",
       "    .dataframe tbody tr th:only-of-type {\n",
       "        vertical-align: middle;\n",
       "    }\n",
       "\n",
       "    .dataframe tbody tr th {\n",
       "        vertical-align: top;\n",
       "    }\n",
       "\n",
       "    .dataframe thead th {\n",
       "        text-align: right;\n",
       "    }\n",
       "</style>\n",
       "<table border=\"1\" class=\"dataframe\">\n",
       "  <thead>\n",
       "    <tr style=\"text-align: right;\">\n",
       "      <th></th>\n",
       "      <th>user_id</th>\n",
       "      <th>product_id</th>\n",
       "      <th>gender</th>\n",
       "      <th>age</th>\n",
       "      <th>occupation</th>\n",
       "      <th>city_category</th>\n",
       "      <th>stay_in_current_city_years</th>\n",
       "      <th>marital_status</th>\n",
       "      <th>product_category_1</th>\n",
       "      <th>product_category_2</th>\n",
       "      <th>product_category_3</th>\n",
       "      <th>purchase</th>\n",
       "    </tr>\n",
       "  </thead>\n",
       "  <tbody>\n",
       "    <tr>\n",
       "      <th>0</th>\n",
       "      <td>1000001</td>\n",
       "      <td>P00069042</td>\n",
       "      <td>F</td>\n",
       "      <td>0-17</td>\n",
       "      <td>10</td>\n",
       "      <td>A</td>\n",
       "      <td>2</td>\n",
       "      <td>0</td>\n",
       "      <td>3</td>\n",
       "      <td>NaN</td>\n",
       "      <td>NaN</td>\n",
       "      <td>8370</td>\n",
       "    </tr>\n",
       "    <tr>\n",
       "      <th>2</th>\n",
       "      <td>1000001</td>\n",
       "      <td>P00087842</td>\n",
       "      <td>F</td>\n",
       "      <td>0-17</td>\n",
       "      <td>10</td>\n",
       "      <td>A</td>\n",
       "      <td>2</td>\n",
       "      <td>0</td>\n",
       "      <td>12</td>\n",
       "      <td>NaN</td>\n",
       "      <td>NaN</td>\n",
       "      <td>1422</td>\n",
       "    </tr>\n",
       "    <tr>\n",
       "      <th>4</th>\n",
       "      <td>1000002</td>\n",
       "      <td>P00285442</td>\n",
       "      <td>M</td>\n",
       "      <td>55+</td>\n",
       "      <td>16</td>\n",
       "      <td>C</td>\n",
       "      <td>4+</td>\n",
       "      <td>0</td>\n",
       "      <td>8</td>\n",
       "      <td>NaN</td>\n",
       "      <td>NaN</td>\n",
       "      <td>7969</td>\n",
       "    </tr>\n",
       "    <tr>\n",
       "      <th>9</th>\n",
       "      <td>1000005</td>\n",
       "      <td>P00274942</td>\n",
       "      <td>M</td>\n",
       "      <td>26-35</td>\n",
       "      <td>20</td>\n",
       "      <td>A</td>\n",
       "      <td>1</td>\n",
       "      <td>1</td>\n",
       "      <td>8</td>\n",
       "      <td>NaN</td>\n",
       "      <td>NaN</td>\n",
       "      <td>7871</td>\n",
       "    </tr>\n",
       "    <tr>\n",
       "      <th>11</th>\n",
       "      <td>1000005</td>\n",
       "      <td>P00014542</td>\n",
       "      <td>M</td>\n",
       "      <td>26-35</td>\n",
       "      <td>20</td>\n",
       "      <td>A</td>\n",
       "      <td>1</td>\n",
       "      <td>1</td>\n",
       "      <td>8</td>\n",
       "      <td>NaN</td>\n",
       "      <td>NaN</td>\n",
       "      <td>3957</td>\n",
       "    </tr>\n",
       "  </tbody>\n",
       "</table>\n",
       "</div>"
      ],
      "text/plain": [
       "    user_id product_id gender    age occupation city_category  \\\n",
       "0   1000001  P00069042      F   0-17         10             A   \n",
       "2   1000001  P00087842      F   0-17         10             A   \n",
       "4   1000002  P00285442      M    55+         16             C   \n",
       "9   1000005  P00274942      M  26-35         20             A   \n",
       "11  1000005  P00014542      M  26-35         20             A   \n",
       "\n",
       "   stay_in_current_city_years marital_status product_category_1  \\\n",
       "0                           2              0                  3   \n",
       "2                           2              0                 12   \n",
       "4                          4+              0                  8   \n",
       "9                           1              1                  8   \n",
       "11                          1              1                  8   \n",
       "\n",
       "   product_category_2 product_category_3  purchase  \n",
       "0                 NaN                NaN      8370  \n",
       "2                 NaN                NaN      1422  \n",
       "4                 NaN                NaN      7969  \n",
       "9                 NaN                NaN      7871  \n",
       "11                NaN                NaN      3957  "
      ]
     },
     "execution_count": 10,
     "metadata": {},
     "output_type": "execute_result"
    }
   ],
   "source": [
    "# See several rows with product_category_2 being null\n",
    "retail_data[retail_data['product_category_2'].isnull()].head()"
   ]
  },
  {
   "cell_type": "markdown",
   "metadata": {},
   "source": [
    "For those observations with null product_category_2, they fall into different categories of product_category_1. "
   ]
  },
  {
   "cell_type": "code",
   "execution_count": 11,
   "metadata": {},
   "outputs": [
    {
     "data": {
      "text/html": [
       "<div>\n",
       "<style scoped>\n",
       "    .dataframe tbody tr th:only-of-type {\n",
       "        vertical-align: middle;\n",
       "    }\n",
       "\n",
       "    .dataframe tbody tr th {\n",
       "        vertical-align: top;\n",
       "    }\n",
       "\n",
       "    .dataframe thead th {\n",
       "        text-align: right;\n",
       "    }\n",
       "</style>\n",
       "<table border=\"1\" class=\"dataframe\">\n",
       "  <thead>\n",
       "    <tr style=\"text-align: right;\">\n",
       "      <th></th>\n",
       "      <th>user_id</th>\n",
       "      <th>product_id</th>\n",
       "      <th>gender</th>\n",
       "      <th>age</th>\n",
       "      <th>occupation</th>\n",
       "      <th>city_category</th>\n",
       "      <th>stay_in_current_city_years</th>\n",
       "      <th>marital_status</th>\n",
       "      <th>product_category_1</th>\n",
       "      <th>product_category_2</th>\n",
       "      <th>product_category_3</th>\n",
       "      <th>purchase</th>\n",
       "    </tr>\n",
       "  </thead>\n",
       "  <tbody>\n",
       "  </tbody>\n",
       "</table>\n",
       "</div>"
      ],
      "text/plain": [
       "Empty DataFrame\n",
       "Columns: [user_id, product_id, gender, age, occupation, city_category, stay_in_current_city_years, marital_status, product_category_1, product_category_2, product_category_3, purchase]\n",
       "Index: []"
      ]
     },
     "execution_count": 11,
     "metadata": {},
     "output_type": "execute_result"
    }
   ],
   "source": [
    "retail_data[retail_data['product_category_2'].isnull() & retail_data['product_category_3'].notnull()]"
   ]
  },
  {
   "cell_type": "markdown",
   "metadata": {},
   "source": [
    "For those with null product_category_2, their product_category_3 must also be null."
   ]
  },
  {
   "cell_type": "code",
   "execution_count": 12,
   "metadata": {},
   "outputs": [
    {
     "data": {
      "text/plain": [
       "product_category_1  product_category_2\n",
       "1                   2.0                   48481\n",
       "                    3.0                     118\n",
       "                    4.0                     676\n",
       "                    5.0                   11127\n",
       "                    6.0                   10507\n",
       "                    8.0                   15251\n",
       "                    11.0                   4761\n",
       "                    13.0                   1008\n",
       "                    14.0                   4496\n",
       "                    15.0                  18281\n",
       "                    16.0                  14602\n",
       "                    17.0                   1842\n",
       "                    18.0                    705\n",
       "2                   3.0                    2717\n",
       "                    4.0                    7997\n",
       "                    5.0                    4099\n",
       "                    6.0                     185\n",
       "                    8.0                    2577\n",
       "                    9.0                    1488\n",
       "                    12.0                    142\n",
       "                    14.0                    482\n",
       "                    15.0                   1328\n",
       "                    16.0                    530\n",
       "                    17.0                    868\n",
       "                    18.0                    176\n",
       "3                   4.0                   16552\n",
       "                    5.0                    2225\n",
       "                    12.0                    586\n",
       "                    13.0                     25\n",
       "                    15.0                    228\n",
       "                                          ...  \n",
       "8                   9.0                     416\n",
       "                    10.0                    391\n",
       "                    11.0                   1649\n",
       "                    12.0                   1562\n",
       "                    13.0                   4954\n",
       "                    14.0                  20412\n",
       "                    15.0                   4250\n",
       "                    16.0                  10349\n",
       "                    17.0                   7823\n",
       "                    18.0                    498\n",
       "9                   15.0                    403\n",
       "10                  11.0                      1\n",
       "                    13.0                   1844\n",
       "                    14.0                    235\n",
       "                    15.0                   1455\n",
       "                    16.0                   1050\n",
       "11                  13.0                   1145\n",
       "                    14.0                    989\n",
       "                    15.0                   4899\n",
       "                    16.0                   4725\n",
       "12                  14.0                   1890\n",
       "                    17.0                    237\n",
       "13                  14.0                    507\n",
       "                    15.0                    778\n",
       "                    16.0                   3537\n",
       "14                  16.0                    317\n",
       "                    17.0                     65\n",
       "                    18.0                     33\n",
       "15                  16.0                   2681\n",
       "                    17.0                    725\n",
       "Length: 87, dtype: int64"
      ]
     },
     "execution_count": 12,
     "metadata": {},
     "output_type": "execute_result"
    }
   ],
   "source": [
    "# Check different combinations for product_category_1 and product_category_2\n",
    "category_12= retail_data[['product_category_1','product_category_2']]\n",
    "category_12.groupby(['product_category_1','product_category_2']).size()"
   ]
  },
  {
   "cell_type": "code",
   "execution_count": 13,
   "metadata": {},
   "outputs": [
    {
     "data": {
      "text/plain": [
       "product_category_2  product_category_3\n",
       "2.0                 3.0                     600\n",
       "                    4.0                     513\n",
       "                    5.0                    7877\n",
       "                    6.0                    1903\n",
       "                    8.0                    2765\n",
       "                    9.0                    4350\n",
       "                    11.0                   1559\n",
       "                    13.0                   1333\n",
       "                    14.0                   3487\n",
       "                    15.0                  14657\n",
       "                    16.0                   3443\n",
       "                    17.0                    194\n",
       "                    18.0                    212\n",
       "3.0                 4.0                    1327\n",
       "                    10.0                    968\n",
       "                    15.0                    540\n",
       "4.0                 5.0                    8503\n",
       "                    8.0                    1593\n",
       "                    9.0                    3682\n",
       "                    12.0                   4796\n",
       "                    14.0                    132\n",
       "                    15.0                    507\n",
       "5.0                 6.0                    2915\n",
       "                    8.0                    2972\n",
       "                    9.0                    1029\n",
       "                    12.0                   2419\n",
       "                    13.0                    111\n",
       "                    14.0                    459\n",
       "                    15.0                   2964\n",
       "                    16.0                    388\n",
       "                                          ...  \n",
       "8.0                 10.0                    730\n",
       "                    12.0                    608\n",
       "                    13.0                    959\n",
       "                    14.0                   8569\n",
       "                    15.0                   1560\n",
       "                    16.0                   3469\n",
       "                    17.0                   7541\n",
       "                    18.0                   1372\n",
       "9.0                 12.0                     88\n",
       "                    14.0                   1886\n",
       "                    15.0                    960\n",
       "10.0                13.0                   1551\n",
       "                    16.0                    673\n",
       "11.0                12.0                   1183\n",
       "                    13.0                    431\n",
       "                    15.0                   3130\n",
       "                    16.0                    962\n",
       "12.0                14.0                   1132\n",
       "                    17.0                    227\n",
       "13.0                14.0                   1052\n",
       "                    15.0                   1233\n",
       "                    16.0                   3743\n",
       "14.0                15.0                    628\n",
       "                    16.0                   5274\n",
       "                    17.0                   5886\n",
       "                    18.0                     18\n",
       "15.0                16.0                  11952\n",
       "                    17.0                   1240\n",
       "                    18.0                   1093\n",
       "16.0                17.0                    870\n",
       "Length: 70, dtype: int64"
      ]
     },
     "execution_count": 13,
     "metadata": {},
     "output_type": "execute_result"
    }
   ],
   "source": [
    "# Check different combinations for product_category_2 and product_category_3\n",
    "category_23 = retail_data[['product_category_2','product_category_3']]\n",
    "category_23.groupby(['product_category_2','product_category_3']).size()"
   ]
  },
  {
   "cell_type": "markdown",
   "metadata": {},
   "source": [
    "- For now, we know that all products must fall into one category under product_category_1. \n",
    "- Some of them then fall into a category under product_category_2 while some not.\n",
    "- There is no product that not belongs to a category in product_category_2 while belongs to a category in product_category_3. As long as this product doens't fall into any category under product_category_2, it will not fall into any category under product_category_3.\n",
    "- The category number under product_category_1 for a product must be lower than its category number under the other two categories. for example, if this product is in category 5 for product_category_1, then it's category must be greater than 5 for product_category_2, let's say it's 8, then for product_category_3, it must be greater than 8."
   ]
  },
  {
   "cell_type": "code",
   "execution_count": 14,
   "metadata": {
    "collapsed": true
   },
   "outputs": [],
   "source": [
    "# Filling NaNs in product_category_2 and product_category_3\n",
    "retail_data['product_category_2'] = retail_data['product_category_2'].cat.add_categories(0)\n",
    "retail_data['product_category_2'].fillna(0, inplace=True)\n",
    "\n",
    "retail_data['product_category_3'] = retail_data['product_category_3'].cat.add_categories(0)\n",
    "retail_data['product_category_3'].fillna(0, inplace=True)"
   ]
  },
  {
   "cell_type": "markdown",
   "metadata": {},
   "source": [
    "### 2.2 EDA"
   ]
  },
  {
   "cell_type": "code",
   "execution_count": 15,
   "metadata": {},
   "outputs": [
    {
     "name": "stdout",
     "output_type": "stream",
     "text": [
      "There are 5891 consumers.\n"
     ]
    }
   ],
   "source": [
    "# How many consumers?\n",
    "print('There are {} consumers.'.format(retail_data['user_id'].nunique()))"
   ]
  },
  {
   "cell_type": "code",
   "execution_count": 16,
   "metadata": {},
   "outputs": [
    {
     "name": "stdout",
     "output_type": "stream",
     "text": [
      "Number of unique kinds of products sold in this store is 3623.\n"
     ]
    }
   ],
   "source": [
    "# How many unique kinds of products were sold?\n",
    "print('Number of unique kinds of products sold in this store is {}.'.format(retail_data['product_id'].nunique()))"
   ]
  },
  {
   "cell_type": "code",
   "execution_count": 17,
   "metadata": {},
   "outputs": [
    {
     "data": {
      "text/html": [
       "<div>\n",
       "<style scoped>\n",
       "    .dataframe tbody tr th:only-of-type {\n",
       "        vertical-align: middle;\n",
       "    }\n",
       "\n",
       "    .dataframe tbody tr th {\n",
       "        vertical-align: top;\n",
       "    }\n",
       "\n",
       "    .dataframe thead th {\n",
       "        text-align: right;\n",
       "    }\n",
       "</style>\n",
       "<table border=\"1\" class=\"dataframe\">\n",
       "  <thead>\n",
       "    <tr style=\"text-align: right;\">\n",
       "      <th></th>\n",
       "      <th>user_id</th>\n",
       "      <th>gender</th>\n",
       "      <th>age</th>\n",
       "      <th>occupation</th>\n",
       "      <th>city_category</th>\n",
       "      <th>stay_in_current_city_years</th>\n",
       "      <th>marital_status</th>\n",
       "      <th>total_purchase</th>\n",
       "      <th>n_purchases</th>\n",
       "    </tr>\n",
       "  </thead>\n",
       "  <tbody>\n",
       "    <tr>\n",
       "      <th>0</th>\n",
       "      <td>1000001</td>\n",
       "      <td>F</td>\n",
       "      <td>0-17</td>\n",
       "      <td>10</td>\n",
       "      <td>A</td>\n",
       "      <td>2</td>\n",
       "      <td>0</td>\n",
       "      <td>333481</td>\n",
       "      <td>34</td>\n",
       "    </tr>\n",
       "    <tr>\n",
       "      <th>1</th>\n",
       "      <td>1000002</td>\n",
       "      <td>M</td>\n",
       "      <td>55+</td>\n",
       "      <td>16</td>\n",
       "      <td>C</td>\n",
       "      <td>4+</td>\n",
       "      <td>0</td>\n",
       "      <td>810353</td>\n",
       "      <td>76</td>\n",
       "    </tr>\n",
       "    <tr>\n",
       "      <th>2</th>\n",
       "      <td>1000003</td>\n",
       "      <td>M</td>\n",
       "      <td>26-35</td>\n",
       "      <td>15</td>\n",
       "      <td>A</td>\n",
       "      <td>3</td>\n",
       "      <td>0</td>\n",
       "      <td>341635</td>\n",
       "      <td>29</td>\n",
       "    </tr>\n",
       "    <tr>\n",
       "      <th>3</th>\n",
       "      <td>1000004</td>\n",
       "      <td>M</td>\n",
       "      <td>46-50</td>\n",
       "      <td>7</td>\n",
       "      <td>B</td>\n",
       "      <td>2</td>\n",
       "      <td>1</td>\n",
       "      <td>205987</td>\n",
       "      <td>13</td>\n",
       "    </tr>\n",
       "    <tr>\n",
       "      <th>4</th>\n",
       "      <td>1000005</td>\n",
       "      <td>M</td>\n",
       "      <td>26-35</td>\n",
       "      <td>20</td>\n",
       "      <td>A</td>\n",
       "      <td>1</td>\n",
       "      <td>1</td>\n",
       "      <td>821001</td>\n",
       "      <td>106</td>\n",
       "    </tr>\n",
       "  </tbody>\n",
       "</table>\n",
       "</div>"
      ],
      "text/plain": [
       "   user_id gender    age  occupation city_category stay_in_current_city_years  \\\n",
       "0  1000001      F   0-17          10             A                          2   \n",
       "1  1000002      M    55+          16             C                         4+   \n",
       "2  1000003      M  26-35          15             A                          3   \n",
       "3  1000004      M  46-50           7             B                          2   \n",
       "4  1000005      M  26-35          20             A                          1   \n",
       "\n",
       "   marital_status  total_purchase  n_purchases  \n",
       "0               0          333481           34  \n",
       "1               0          810353           76  \n",
       "2               0          341635           29  \n",
       "3               1          205987           13  \n",
       "4               1          821001          106  "
      ]
     },
     "execution_count": 17,
     "metadata": {},
     "output_type": "execute_result"
    }
   ],
   "source": [
    "# Create a new data frame for each consumer's individual features\n",
    "user_info = retail_data.groupby('user_id')[['gender', 'age', 'occupation', 'city_category', \n",
    "                                         'stay_in_current_city_years', 'marital_status']].first()\n",
    "user_info['total_purchase'] = retail_data.groupby(['user_id']).purchase.sum()\n",
    "user_info['n_purchases'] = retail_data.groupby(['user_id'])['product_id'].count()\n",
    "user_info.reset_index(inplace=True)\n",
    "user_info.head()"
   ]
  },
  {
   "cell_type": "code",
   "execution_count": 18,
   "metadata": {},
   "outputs": [
    {
     "data": {
      "text/plain": [
       "(5891, 9)"
      ]
     },
     "execution_count": 18,
     "metadata": {},
     "output_type": "execute_result"
    }
   ],
   "source": [
    "user_info.shape"
   ]
  },
  {
   "cell_type": "markdown",
   "metadata": {},
   "source": [
    "#### 2.2.1 Univariate Analysis "
   ]
  },
  {
   "cell_type": "markdown",
   "metadata": {},
   "source": [
    "##### 2.2.1.1 Distribution of categorical variables"
   ]
  },
  {
   "cell_type": "code",
   "execution_count": 19,
   "metadata": {
    "collapsed": true
   },
   "outputs": [],
   "source": [
    "# Make a function to plot bar graph\n",
    "def plot_bar(data, feature):\n",
    "    '''plot bar graph for feature in dataframe'''\n",
    "    data[feature].value_counts().sort_index().plot(kind='bar')\n",
    "    plt.title('Bar Plot for {}'.format(feature))\n",
    "    plt.xticks(rotation=360)"
   ]
  },
  {
   "cell_type": "code",
   "execution_count": 20,
   "metadata": {},
   "outputs": [
    {
     "data": {
      "image/png": "[encoded data removed]",
      "text/plain": [
       "<matplotlib.figure.Figure at 0x1028fdd68>"
      ]
     },
     "metadata": {},
     "output_type": "display_data"
    }
   ],
   "source": [
    "fig = plt.figure(figsize=(12, 12))\n",
    "fig.subplots_adjust(left=0, right=1, bottom=0, top=1, hspace=0.3, wspace=0.3)\n",
    "\n",
    "features = user_info.columns[1:]\n",
    "for i in range(6):\n",
    "    ax = fig.add_subplot(4, 2, i + 1)\n",
    "    ax = plot_bar(user_info, features[i])"
   ]
  },
  {
   "cell_type": "markdown",
   "metadata": {},
   "source": [
    "Main Findings from the bar plots above:\n",
    "- There are more male customers than female customers. We'll futhrer investigate gender column since it's our target variable. \n",
    "- Out of 5891 customers, there are more than 2000 between 26 and 35 years old. Most purchases are made by customers between 18 and 45 years old. \n",
    "- There are 20 categories for occupation. A majority of customers are from categories 0, 1, 4, 7 and 17.\n",
    "- More than half of the customers are from city category C. It might be due to the location of the store.\n",
    "- Half of the customers to this store are new to the current city. There is a decreasing trend. The longer the customers stay in current city, the less they purchase at this store. The reason maybe that new people need to buy more stuff for their home. Or becuase that those who live there longer know a better place to buy things. This store may need to pay attention to this problem. \n",
    "- Single customers are more than married customers in this store. <br>\n",
    "\n",
    "A simple conclusion is that this store is popular for male, people living in city C, people between the age of 26 and 35, new to their current city and single persons.  "
   ]
  },
  {
   "cell_type": "code",
   "execution_count": 21,
   "metadata": {},
   "outputs": [
    {
     "data": {
      "image/png": "[encoded data removed]",
      "text/plain": [
       "<matplotlib.figure.Figure at 0x101fe1b00>"
      ]
     },
     "metadata": {},
     "output_type": "display_data"
    }
   ],
   "source": [
    "# Plot bar graph for columns product_category_1, product_category_2 and product_category_3\n",
    "fig = plt.figure(figsize=(6, 12))\n",
    "fig.subplots_adjust(left=0, right=1, bottom=0, top=1, hspace=0.3, wspace=0.05)\n",
    "\n",
    "features = ['product_category_1', 'product_category_2', 'product_category_3']\n",
    "for i in range(3):\n",
    "    ax = fig.add_subplot(3, 1, i + 1)\n",
    "    ax = plot_bar(retail_data, features[i])"
   ]
  },
  {
   "cell_type": "markdown",
   "metadata": {},
   "source": [
    "From the bar plot of product_category_1, product_category_2, and product_category_3, we find that category 1, 5, 8 are the most popular categories based on product_category_1. There are a lot of null values for the other two categories. "
   ]
  },
  {
   "cell_type": "markdown",
   "metadata": {},
   "source": [
    "##### 2.2.1.2 Distribution of numerical variables"
   ]
  },
  {
   "cell_type": "code",
   "execution_count": 22,
   "metadata": {},
   "outputs": [
    {
     "data": {
      "text/html": [
       "<div>\n",
       "<style scoped>\n",
       "    .dataframe tbody tr th:only-of-type {\n",
       "        vertical-align: middle;\n",
       "    }\n",
       "\n",
       "    .dataframe tbody tr th {\n",
       "        vertical-align: top;\n",
       "    }\n",
       "\n",
       "    .dataframe thead th {\n",
       "        text-align: right;\n",
       "    }\n",
       "</style>\n",
       "<table border=\"1\" class=\"dataframe\">\n",
       "  <thead>\n",
       "    <tr style=\"text-align: right;\">\n",
       "      <th></th>\n",
       "      <th>total_purchase</th>\n",
       "      <th>n_purchases</th>\n",
       "    </tr>\n",
       "  </thead>\n",
       "  <tbody>\n",
       "    <tr>\n",
       "      <th>count</th>\n",
       "      <td>5.891000e+03</td>\n",
       "      <td>5891.000000</td>\n",
       "    </tr>\n",
       "    <tr>\n",
       "      <th>mean</th>\n",
       "      <td>8.517515e+05</td>\n",
       "      <td>91.253947</td>\n",
       "    </tr>\n",
       "    <tr>\n",
       "      <th>std</th>\n",
       "      <td>9.329978e+05</td>\n",
       "      <td>105.929800</td>\n",
       "    </tr>\n",
       "    <tr>\n",
       "      <th>min</th>\n",
       "      <td>4.410800e+04</td>\n",
       "      <td>5.000000</td>\n",
       "    </tr>\n",
       "    <tr>\n",
       "      <th>25%</th>\n",
       "      <td>2.349140e+05</td>\n",
       "      <td>25.000000</td>\n",
       "    </tr>\n",
       "    <tr>\n",
       "      <th>50%</th>\n",
       "      <td>5.126120e+05</td>\n",
       "      <td>53.000000</td>\n",
       "    </tr>\n",
       "    <tr>\n",
       "      <th>75%</th>\n",
       "      <td>1.099005e+06</td>\n",
       "      <td>114.000000</td>\n",
       "    </tr>\n",
       "    <tr>\n",
       "      <th>max</th>\n",
       "      <td>1.053678e+07</td>\n",
       "      <td>1025.000000</td>\n",
       "    </tr>\n",
       "  </tbody>\n",
       "</table>\n",
       "</div>"
      ],
      "text/plain": [
       "       total_purchase  n_purchases\n",
       "count    5.891000e+03  5891.000000\n",
       "mean     8.517515e+05    91.253947\n",
       "std      9.329978e+05   105.929800\n",
       "min      4.410800e+04     5.000000\n",
       "25%      2.349140e+05    25.000000\n",
       "50%      5.126120e+05    53.000000\n",
       "75%      1.099005e+06   114.000000\n",
       "max      1.053678e+07  1025.000000"
      ]
     },
     "execution_count": 22,
     "metadata": {},
     "output_type": "execute_result"
    }
   ],
   "source": [
    "user_info[['total_purchase', 'n_purchases']].describe()"
   ]
  },
  {
   "cell_type": "markdown",
   "metadata": {},
   "source": [
    "Both of the two numerical variables are quite right skewed. "
   ]
  },
  {
   "cell_type": "code",
   "execution_count": 23,
   "metadata": {},
   "outputs": [
    {
     "data": {
      "image/png": "[encoded data removed]",
      "text/plain": [
       "<matplotlib.figure.Figure at 0x1a0dccbeb8>"
      ]
     },
     "metadata": {},
     "output_type": "display_data"
    }
   ],
   "source": [
    "plt.figure(figsize=(10, 5))\n",
    "user_info.total_purchase.plot(kind='hist', bins=20)\n",
    "plt.xlabel('Total Purchase')\n",
    "plt.ylabel('Number of Customers')\n",
    "plt.title('Total Purchase Amount Distribution');"
   ]
  },
  {
   "cell_type": "code",
   "execution_count": 24,
   "metadata": {},
   "outputs": [
    {
     "data": {
      "image/png": "[encoded data removed]",
      "text/plain": [
       "<matplotlib.figure.Figure at 0x1a0b367630>"
      ]
     },
     "metadata": {},
     "output_type": "display_data"
    }
   ],
   "source": [
    "plt.figure(figsize=(10, 5))\n",
    "np.log(user_info.total_purchase).plot(kind='hist', bins=20)\n",
    "plt.xlabel('Log Total Purchase')\n",
    "plt.ylabel('Number of Customers')\n",
    "plt.title('Log Total Purchase Amount Distribution');"
   ]
  },
  {
   "cell_type": "code",
   "execution_count": 25,
   "metadata": {},
   "outputs": [
    {
     "data": {
      "image/png": "[encoded data removed]",
      "text/plain": [
       "<matplotlib.figure.Figure at 0x1a0b327fd0>"
      ]
     },
     "metadata": {},
     "output_type": "display_data"
    }
   ],
   "source": [
    "# Histogram for number of purchases\n",
    "plt.figure(figsize=(10, 5))\n",
    "user_info.n_purchases.plot(kind='hist', bins=20)\n",
    "plt.xlabel('Number of Purchases')\n",
    "plt.ylabel('Number of Customers')\n",
    "plt.title('Number of Purchases Distribution');"
   ]
  },
  {
   "cell_type": "code",
   "execution_count": 26,
   "metadata": {},
   "outputs": [
    {
     "data": {
      "image/png": "[encoded data removed]",
      "text/plain": [
       "<matplotlib.figure.Figure at 0x1a0d0669e8>"
      ]
     },
     "metadata": {},
     "output_type": "display_data"
    }
   ],
   "source": [
    "# Histogram for log number of purchases\n",
    "plt.figure(figsize=(10, 5))\n",
    "np.log(user_info.n_purchases).plot(kind='hist', bins=20)\n",
    "plt.xlabel('Log Number of Purchases')\n",
    "plt.ylabel('Number of Customers')\n",
    "plt.title('Log Number of Purchases Distribution');"
   ]
  },
  {
   "cell_type": "markdown",
   "metadata": {},
   "source": [
    "#### 2.2.2 Bivariate Analysis"
   ]
  },
  {
   "cell_type": "markdown",
   "metadata": {},
   "source": [
    "##### 2.2.2.1 Gender Related Analysis \n",
    "\n",
    "Now let's visualize and understand the relationship between our target variable 'gender' and predictors."
   ]
  },
  {
   "cell_type": "markdown",
   "metadata": {},
   "source": [
    "###### 2.2.2.1.1 More Analysis on Gender Itself"
   ]
  },
  {
   "cell_type": "code",
   "execution_count": 27,
   "metadata": {},
   "outputs": [
    {
     "data": {
      "text/plain": [
       "M    4225\n",
       "F    1666\n",
       "Name: gender, dtype: int64"
      ]
     },
     "execution_count": 27,
     "metadata": {},
     "output_type": "execute_result"
    }
   ],
   "source": [
    "# How many male customers? How many female customers?\n",
    "gender_counts = user_info.gender.value_counts()\n",
    "gender_counts"
   ]
  },
  {
   "cell_type": "code",
   "execution_count": 28,
   "metadata": {},
   "outputs": [
    {
     "data": {
      "text/plain": [
       "M    0.717196\n",
       "F    0.282804\n",
       "Name: gender, dtype: float64"
      ]
     },
     "execution_count": 28,
     "metadata": {},
     "output_type": "execute_result"
    }
   ],
   "source": [
    "# Proportion of male and female customers\n",
    "gender_prop = gender_counts / len(user_info.gender)\n",
    "gender_prop"
   ]
  },
  {
   "cell_type": "code",
   "execution_count": 29,
   "metadata": {},
   "outputs": [
    {
     "data": {
      "image/png": "[encoded data removed]",
      "text/plain": [
       "<matplotlib.figure.Figure at 0x1a0eb3efd0>"
      ]
     },
     "metadata": {},
     "output_type": "display_data"
    }
   ],
   "source": [
    "user_info.gender.value_counts().plot(kind='pie', autopct='%1.1f%%', startangle=90)\n",
    "plt.title('Gender Distribution')\n",
    "plt.axis('equal');"
   ]
  },
  {
   "cell_type": "markdown",
   "metadata": {},
   "source": [
    "Specifically, 28.3% of customers purchasing in this store are female, 71.7% are male."
   ]
  },
  {
   "cell_type": "markdown",
   "metadata": {},
   "source": [
    "###### 2.2.2.1.2 Gender and Purchase"
   ]
  },
  {
   "cell_type": "code",
   "execution_count": 30,
   "metadata": {},
   "outputs": [
    {
     "data": {
      "text/plain": [
       "gender\n",
       "F    1164624.021\n",
       "M    3853044.357\n",
       "Name: total_purchase, dtype: float64"
      ]
     },
     "execution_count": 30,
     "metadata": {},
     "output_type": "execute_result"
    }
   ],
   "source": [
    "# Total purchase amount (in $1000) by gender\n",
    "tp_by_gen = user_info.groupby('gender')['total_purchase'].sum()\n",
    "tp_by_gen_in_thd = tp_by_gen/1000\n",
    "tp_by_gen_in_thd"
   ]
  },
  {
   "cell_type": "code",
   "execution_count": 31,
   "metadata": {},
   "outputs": [
    {
     "data": {
      "text/plain": [
       "gender\n",
       "F    0.232105\n",
       "M    0.767895\n",
       "Name: total_purchase, dtype: float64"
      ]
     },
     "execution_count": 31,
     "metadata": {},
     "output_type": "execute_result"
    }
   ],
   "source": [
    "# Proportion of purchase amount made by female and male respectively\n",
    "p_by_gen_prop = tp_by_gen / user_info['total_purchase'].sum()\n",
    "p_by_gen_prop"
   ]
  },
  {
   "cell_type": "markdown",
   "metadata": {},
   "source": [
    "Male customers account for 71.7% of all customers, they are spending 76.8% of all purchase amount of this store. "
   ]
  },
  {
   "cell_type": "code",
   "execution_count": 32,
   "metadata": {},
   "outputs": [
    {
     "data": {
      "text/plain": [
       "F    699.054034\n",
       "M    911.963161\n",
       "dtype: float64"
      ]
     },
     "execution_count": 32,
     "metadata": {},
     "output_type": "execute_result"
    }
   ],
   "source": [
    "# Average purchase amount (in $1000) by female and male\n",
    "ap_by_gen = tp_by_gen / user_info.gender.value_counts()\n",
    "ap_by_gen_in_thd = ap_by_gen / 1000\n",
    "ap_by_gen_in_thd"
   ]
  },
  {
   "cell_type": "code",
   "execution_count": 33,
   "metadata": {},
   "outputs": [
    {
     "data": {
      "image/png": "[encoded data removed]",
      "text/plain": [
       "<matplotlib.figure.Figure at 0x1a12ea2320>"
      ]
     },
     "metadata": {},
     "output_type": "display_data"
    }
   ],
   "source": [
    "plt.figure(figsize=(12, 5))\n",
    "plt.subplot(121)\n",
    "tp_by_gen_in_thd.plot(kind='bar')\n",
    "plt.xlabel('Gender')\n",
    "plt.ylabel('Total Purchase ($1000)')\n",
    "plt.title('Total Purchase ($1000) by Gender')\n",
    "plt.subplot(122)\n",
    "ap_by_gen_in_thd.plot(kind='bar')\n",
    "plt.ylabel('Average Purchase ($1000)')\n",
    "plt.title('Average Purchase ($1000) by Gender')\n",
    "plt.xlabel('Gender');"
   ]
  },
  {
   "cell_type": "markdown",
   "metadata": {},
   "source": [
    "By comparison, we see that in total amount male customers are spending much more than female customers. While the difference decreases in average amount spent. "
   ]
  },
  {
   "cell_type": "code",
   "execution_count": 34,
   "metadata": {},
   "outputs": [
    {
     "data": {
      "text/html": [
       "<div>\n",
       "<style scoped>\n",
       "    .dataframe tbody tr th:only-of-type {\n",
       "        vertical-align: middle;\n",
       "    }\n",
       "\n",
       "    .dataframe tbody tr th {\n",
       "        vertical-align: top;\n",
       "    }\n",
       "\n",
       "    .dataframe thead th {\n",
       "        text-align: right;\n",
       "    }\n",
       "</style>\n",
       "<table border=\"1\" class=\"dataframe\">\n",
       "  <thead>\n",
       "    <tr style=\"text-align: right;\">\n",
       "      <th></th>\n",
       "      <th>count</th>\n",
       "      <th>gender_proportion (%)</th>\n",
       "      <th>total_purchase</th>\n",
       "      <th>purchase_proportion (%)</th>\n",
       "      <th>average_purchase</th>\n",
       "    </tr>\n",
       "  </thead>\n",
       "  <tbody>\n",
       "    <tr>\n",
       "      <th>F</th>\n",
       "      <td>1666</td>\n",
       "      <td>28.280428</td>\n",
       "      <td>1164624021</td>\n",
       "      <td>23.210462</td>\n",
       "      <td>699054.034214</td>\n",
       "    </tr>\n",
       "    <tr>\n",
       "      <th>M</th>\n",
       "      <td>4225</td>\n",
       "      <td>71.719572</td>\n",
       "      <td>3853044357</td>\n",
       "      <td>76.789538</td>\n",
       "      <td>911963.161420</td>\n",
       "    </tr>\n",
       "  </tbody>\n",
       "</table>\n",
       "</div>"
      ],
      "text/plain": [
       "   count  gender_proportion (%)  total_purchase  purchase_proportion (%)  \\\n",
       "F   1666              28.280428      1164624021                23.210462   \n",
       "M   4225              71.719572      3853044357                76.789538   \n",
       "\n",
       "   average_purchase  \n",
       "F     699054.034214  \n",
       "M     911963.161420  "
      ]
     },
     "execution_count": 34,
     "metadata": {},
     "output_type": "execute_result"
    }
   ],
   "source": [
    "p_by_gen = pd.concat([gender_counts, gender_prop * 100, tp_by_gen, p_by_gen_prop * 100, ap_by_gen],\n",
    "                       axis=1, sort=True)\n",
    "p_by_gen.columns = ['count', 'gender_proportion (%)', 'total_purchase', 'purchase_proportion (%)', 'average_purchase']\n",
    "p_by_gen"
   ]
  },
  {
   "cell_type": "code",
   "execution_count": 35,
   "metadata": {},
   "outputs": [
    {
     "data": {
      "image/png": "[encoded data removed]",
      "text/plain": [
       "<matplotlib.figure.Figure at 0x1a0eb36c50>"
      ]
     },
     "metadata": {},
     "output_type": "display_data"
    }
   ],
   "source": [
    "plt.figure(figsize=(10, 6))\n",
    "sns.boxplot(x='gender', y='total_purchase', data=user_info);"
   ]
  },
  {
   "cell_type": "code",
   "execution_count": 36,
   "metadata": {},
   "outputs": [
    {
     "data": {
      "image/png": "[encoded data removed]",
      "text/plain": [
       "<matplotlib.figure.Figure at 0x1a13102550>"
      ]
     },
     "metadata": {},
     "output_type": "display_data"
    }
   ],
   "source": [
    "# Plot empirical cumulative distribution for female and male consumers\n",
    "def ecdf(data):\n",
    "    \"\"\"Compute ECDF for a one-dimensional array of measurements.\"\"\"\n",
    "    n = len(data)\n",
    "\n",
    "    x = np.sort(data)\n",
    "    y  = np.arange(1, n+1) / n\n",
    "\n",
    "    return x, y\n",
    "\n",
    "x_fem, y_fem = ecdf(user_info[user_info['gender'] == 'F'].total_purchase)\n",
    "x_male, y_male = ecdf(user_info[user_info['gender'] == 'M'].total_purchase)\n",
    "\n",
    "plt.figure(figsize=(10, 6))\n",
    "plt.plot(x_fem, y_fem, marker='.', linestyle='none')\n",
    "plt.plot(x_male, y_male, marker='.', linestyle='none')\n",
    "plt.xlabel('Total Purchase')\n",
    "plt.ylabel('ECDF')\n",
    "plt.legend(('female', 'male'));"
   ]
  },
  {
   "cell_type": "code",
   "execution_count": 37,
   "metadata": {},
   "outputs": [
    {
     "data": {
      "text/plain": [
       "Ks_2sampResult(statistic=0.12196907165232951, pvalue=5.64334083670315e-16)"
      ]
     },
     "execution_count": 37,
     "metadata": {},
     "output_type": "execute_result"
    }
   ],
   "source": [
    "# Conduct a two-sided test for the null hypothesis that two samples of female purchase \n",
    "# and male purchase are drawn from the same distribution\n",
    "from scipy import stats\n",
    "\n",
    "stats.ks_2samp(user_info[user_info['gender'] == 'F'].total_purchase, \n",
    "              user_info[user_info['gender'] == 'M'].total_purchase)"
   ]
  },
  {
   "cell_type": "markdown",
   "metadata": {},
   "source": [
    "p-value is extremely small, then we reject the null that the distributions of the two samples are the same."
   ]
  },
  {
   "cell_type": "code",
   "execution_count": 38,
   "metadata": {},
   "outputs": [
    {
     "data": {
      "text/plain": [
       "Ttest_indResult(statistic=-8.65416276342633, pvalue=7.282558708079996e-18)"
      ]
     },
     "execution_count": 38,
     "metadata": {},
     "output_type": "execute_result"
    }
   ],
   "source": [
    "# Conduct a two sided test for the null hypothesis that female average purchase and male average purchase\n",
    "# are the same.\n",
    "stats.ttest_ind(user_info[user_info['gender'] == 'F'].total_purchase, \n",
    "              user_info[user_info['gender'] == 'M'].total_purchase, equal_var=False)"
   ]
  },
  {
   "cell_type": "markdown",
   "metadata": {},
   "source": [
    "p-value is also extremely small for this test, thus we reject the null that two samples have identical means."
   ]
  },
  {
   "cell_type": "code",
   "execution_count": 39,
   "metadata": {},
   "outputs": [
    {
     "data": {
      "text/plain": [
       "gender\n",
       "F    132197\n",
       "M    405380\n",
       "Name: n_purchases, dtype: int64"
      ]
     },
     "execution_count": 39,
     "metadata": {},
     "output_type": "execute_result"
    }
   ],
   "source": [
    "# number of purchases by female and male \n",
    "np_by_gen = user_info.groupby('gender').n_purchases.sum()\n",
    "np_by_gen"
   ]
  },
  {
   "cell_type": "markdown",
   "metadata": {},
   "source": [
    "Total number of purchases made by female customers is 132197, male customers is 405380. "
   ]
  },
  {
   "cell_type": "code",
   "execution_count": 40,
   "metadata": {},
   "outputs": [
    {
     "data": {
      "text/plain": [
       "F    79.349940\n",
       "M    95.947929\n",
       "dtype: float64"
      ]
     },
     "execution_count": 40,
     "metadata": {},
     "output_type": "execute_result"
    }
   ],
   "source": [
    "anp_by_gen = np_by_gen / user_info.gender.value_counts()\n",
    "anp_by_gen"
   ]
  },
  {
   "cell_type": "markdown",
   "metadata": {},
   "source": [
    "Female customers purchased around 79 times on average, male customers purchased around 96 times on average."
   ]
  },
  {
   "cell_type": "code",
   "execution_count": 41,
   "metadata": {},
   "outputs": [
    {
     "data": {
      "image/png": "[encoded data removed]",
      "text/plain": [
       "<matplotlib.figure.Figure at 0x1a0dccef98>"
      ]
     },
     "metadata": {},
     "output_type": "display_data"
    }
   ],
   "source": [
    "x_f, y_f = ecdf(user_info[user_info['gender'] == 'F'].n_purchases)\n",
    "x_m, y_m= ecdf(user_info[user_info['gender'] == 'M'].n_purchases)\n",
    "\n",
    "plt.figure(figsize=(10, 6))\n",
    "plt.plot(x_fem, y_fem, marker='.', linestyle='none')\n",
    "plt.plot(x_male, y_male, marker='.', linestyle='none')\n",
    "plt.xlabel('Number of Purchases')\n",
    "plt.ylabel('ECDF')\n",
    "plt.legend(('female', 'male'));"
   ]
  },
  {
   "cell_type": "code",
   "execution_count": 42,
   "metadata": {},
   "outputs": [
    {
     "data": {
      "text/plain": [
       "Ks_2sampResult(statistic=0.0965294046612728, pvalue=3.6437051342156436e-10)"
      ]
     },
     "execution_count": 42,
     "metadata": {},
     "output_type": "execute_result"
    }
   ],
   "source": [
    "# Conduct a two-sided test for the null hypothesis that two samples of number of purchases for female\n",
    "# and male are drawn from the same distribution\n",
    "stats.ks_2samp(user_info[user_info['gender'] == 'F'].n_purchases, \n",
    "              user_info[user_info['gender'] == 'M'].n_purchases)"
   ]
  },
  {
   "cell_type": "code",
   "execution_count": 43,
   "metadata": {},
   "outputs": [
    {
     "data": {
      "text/plain": [
       "Ttest_indResult(statistic=-8.65416276342633, pvalue=7.282558708079996e-18)"
      ]
     },
     "execution_count": 43,
     "metadata": {},
     "output_type": "execute_result"
    }
   ],
   "source": [
    "# Conduct a two sided test for the null hypothesis that female average number of purchases and male average number of \n",
    "# purchases are the same.\n",
    "stats.ttest_ind(user_info[user_info['gender'] == 'F'].total_purchase, \n",
    "              user_info[user_info['gender'] == 'M'].total_purchase, equal_var=False)"
   ]
  },
  {
   "cell_type": "markdown",
   "metadata": {},
   "source": [
    "P-value for both two tests are extremely small, we reject the null hypothesis that number of purchases for female and male are drawn from the same distribution and their mean are equal. "
   ]
  },
  {
   "cell_type": "markdown",
   "metadata": {},
   "source": [
    "###### 2.2.2.1.3 Gender and Age"
   ]
  },
  {
   "cell_type": "code",
   "execution_count": 44,
   "metadata": {},
   "outputs": [
    {
     "data": {
      "image/png": "[encoded data removed]",
      "text/plain": [
       "<matplotlib.figure.Figure at 0x1a130de6d8>"
      ]
     },
     "metadata": {},
     "output_type": "display_data"
    }
   ],
   "source": [
    "user_info.groupby(['age', 'gender'])['user_id'].count().unstack().plot(kind='bar', stacked=True)\n",
    "plt.title('Age Distribution by Gender')\n",
    "plt.ylabel('Number of Consumers');"
   ]
  },
  {
   "cell_type": "code",
   "execution_count": 45,
   "metadata": {},
   "outputs": [
    {
     "data": {
      "image/png": "[encoded data removed]",
      "text/plain": [
       "<matplotlib.figure.Figure at 0x1a0df1b9e8>"
      ]
     },
     "metadata": {},
     "output_type": "display_data"
    }
   ],
   "source": [
    "import matplotlib.ticker as mtick\n",
    "user_info.groupby(['age', 'gender'])['user_id'].size().groupby(level=0).apply(\n",
    "            lambda x: 100 * x / x.sum()).unstack().plot(kind='bar', width=0.3, stacked=True)\n",
    "plt.gca().yaxis.set_major_formatter(mtick.PercentFormatter())\n",
    "plt.xticks(rotation='horizontal')\n",
    "plt.axhline(y=28.3, color='r', linestyle='--')\n",
    "plt.title('Percentage View of Age Distribution Across Gender');"
   ]
  },
  {
   "cell_type": "markdown",
   "metadata": {},
   "source": [
    "There are relatively more female customers for age group 0-17 and 46-50. "
   ]
  },
  {
   "cell_type": "markdown",
   "metadata": {},
   "source": [
    "###### 2.2.2.1.4 Gender and Occupation"
   ]
  },
  {
   "cell_type": "code",
   "execution_count": 46,
   "metadata": {},
   "outputs": [
    {
     "data": {
      "image/png": "[encoded data removed]",
      "text/plain": [
       "<matplotlib.figure.Figure at 0x1a0dd56c18>"
      ]
     },
     "metadata": {},
     "output_type": "display_data"
    }
   ],
   "source": [
    "user_info.groupby(['occupation', 'gender'])['user_id'].count().groupby(level=0).apply(\n",
    "            lambda x: 100 * x / x.sum()).unstack().plot(kind='bar', width=0.3, figsize=(10, 6), stacked=True)\n",
    "plt.gca().yaxis.set_major_formatter(mtick.PercentFormatter())\n",
    "plt.xticks(rotation='horizontal')\n",
    "plt.axhline(y=28.3, color='r', linestyle='--')\n",
    "plt.title('Percentage View of Occupation Distribution Across Gender');"
   ]
  },
  {
   "cell_type": "markdown",
   "metadata": {},
   "source": [
    "Most of the customers with occupation category 9 are female. Occupation 17 and 18 are dominated by male. Gender distribution for categories such as 4, 5, 14, and 20 are pretty the same as the whole sample distribution of gender at this store. "
   ]
  },
  {
   "cell_type": "markdown",
   "metadata": {},
   "source": [
    "###### 2.2.2.1.5 Gender and City Category"
   ]
  },
  {
   "cell_type": "code",
   "execution_count": 47,
   "metadata": {},
   "outputs": [
    {
     "data": {
      "image/png": "[encoded data removed]",
      "text/plain": [
       "<matplotlib.figure.Figure at 0x1a0d13e080>"
      ]
     },
     "metadata": {},
     "output_type": "display_data"
    }
   ],
   "source": [
    "user_info.groupby(['city_category', 'gender'])['user_id'].count().groupby(level=0).apply(\n",
    "            lambda x: 100 * x / x.sum()).unstack().plot(kind='bar', width=0.3, figsize=(10, 6), stacked=True)\n",
    "plt.gca().yaxis.set_major_formatter(mtick.PercentFormatter())\n",
    "plt.axhline(y=28.3, color='r', linestyle='--')\n",
    "plt.xticks(rotation='horizontal')\n",
    "plt.title('Percentage View of Gender Distribution In Different City Categories');"
   ]
  },
  {
   "cell_type": "markdown",
   "metadata": {},
   "source": [
    "Gender distribution in each city category is nearly the same as the whole gender distribution in this store. "
   ]
  },
  {
   "cell_type": "markdown",
   "metadata": {},
   "source": [
    "###### 2.2.2.1.6 Gender and Stay in Current City Years"
   ]
  },
  {
   "cell_type": "code",
   "execution_count": 48,
   "metadata": {},
   "outputs": [
    {
     "data": {
      "image/png": "[encoded data removed]",
      "text/plain": [
       "<matplotlib.figure.Figure at 0x1a0d174828>"
      ]
     },
     "metadata": {},
     "output_type": "display_data"
    }
   ],
   "source": [
    "user_info.groupby(['stay_in_current_city_years', 'gender'])['user_id'].count().groupby(level=0).apply(\n",
    "            lambda x: 100 * x / x.sum()).unstack().plot(kind='bar', width=0.3, figsize=(10, 6), stacked=True)\n",
    "plt.gca().yaxis.set_major_formatter(mtick.PercentFormatter())\n",
    "plt.axhline(y=28.3, color='r', linestyle='--')\n",
    "plt.xticks(rotation='horizontal')\n",
    "plt.title('Percentage View of Stay in Current City Years Across Gender');"
   ]
  },
  {
   "cell_type": "markdown",
   "metadata": {},
   "source": [
    "Gender distribution in each category for stay_in_current_city_years feature is nearly the same as the whole gender distribution in this store except that for category 4+ there are slightly more male. "
   ]
  },
  {
   "cell_type": "markdown",
   "metadata": {},
   "source": [
    "###### 2.2.2.1.7 Gender and Marital Status"
   ]
  },
  {
   "cell_type": "code",
   "execution_count": 49,
   "metadata": {},
   "outputs": [
    {
     "data": {
      "image/png": "[encoded data removed]",
      "text/plain": [
       "<matplotlib.figure.Figure at 0x101fe16d8>"
      ]
     },
     "metadata": {},
     "output_type": "display_data"
    }
   ],
   "source": [
    "user_info.groupby(['marital_status', 'gender'])['user_id'].count().groupby(level=0).apply(\n",
    "            lambda x: 100 * x / x.sum()).unstack().plot(kind='bar', width=0.3, figsize=(10, 6), stacked=True)\n",
    "plt.gca().yaxis.set_major_formatter(mtick.PercentFormatter())\n",
    "plt.axhline(y=28.3, color='r', linestyle='--')\n",
    "plt.xticks(rotation='horizontal')\n",
    "plt.title('Percentage View of Marital Status Distribution Across Gender');"
   ]
  },
  {
   "cell_type": "markdown",
   "metadata": {},
   "source": [
    "Gender proportion for single and married, and the whole population at this store is nealy identical."
   ]
  },
  {
   "cell_type": "markdown",
   "metadata": {},
   "source": [
    "###### 2.2.2.1.8 Gender and Product Category 1"
   ]
  },
  {
   "cell_type": "code",
   "execution_count": 50,
   "metadata": {},
   "outputs": [
    {
     "data": {
      "image/png": "[encoded data removed]",
      "text/plain": [
       "<matplotlib.figure.Figure at 0x1a0d181a58>"
      ]
     },
     "metadata": {},
     "output_type": "display_data"
    }
   ],
   "source": [
    "retail_data.groupby(['product_category_1', 'gender'])['product_category_1'].count().groupby(level=0).apply(\n",
    "            lambda x: 100 * x / x.sum()).unstack().plot(kind='bar', width=0.3, figsize=(13, 5), stacked=True)\n",
    "plt.gca().yaxis.set_major_formatter(mtick.PercentFormatter())\n",
    "plt.axhline(y=28.3, color='r', linestyle='--')\n",
    "plt.xticks(rotation='horizontal')\n",
    "plt.title('Percentage View of Gender Distribution for Different Product Categories');"
   ]
  },
  {
   "cell_type": "markdown",
   "metadata": {},
   "source": [
    "For categories 3, 4, 5, 8, and 13, the distribution of gender is nearly the same as the distribution at this store. For categories 1, 9, 12, 14, 15, 17, 18, propotion of female and male customers are not the same as the store's. "
   ]
  },
  {
   "cell_type": "markdown",
   "metadata": {},
   "source": [
    "###### 2.2.2.1.9 Gender and Products"
   ]
  },
  {
   "cell_type": "code",
   "execution_count": 51,
   "metadata": {},
   "outputs": [
    {
     "data": {
      "text/plain": [
       "P00265242    1858\n",
       "P00110742    1591\n",
       "P00025442    1586\n",
       "P00112142    1539\n",
       "P00057642    1430\n",
       "P00184942    1424\n",
       "P00046742    1417\n",
       "P00058042    1396\n",
       "P00145042    1384\n",
       "P00059442    1384\n",
       "P00237542    1374\n",
       "P00255842    1354\n",
       "P00117942    1346\n",
       "P00110942    1336\n",
       "P00010742    1331\n",
       "P00110842    1260\n",
       "P00220442    1253\n",
       "P00051442    1233\n",
       "P00102642    1228\n",
       "P00117442    1227\n",
       "P00278642    1213\n",
       "P00242742    1194\n",
       "P00034742    1188\n",
       "P00080342    1186\n",
       "P00148642    1179\n",
       "P00028842    1172\n",
       "P00031042    1168\n",
       "P00251242    1167\n",
       "P00114942    1162\n",
       "P00270942    1141\n",
       "             ... \n",
       "P00013542       1\n",
       "P00156642       1\n",
       "P00215142       1\n",
       "P00081342       1\n",
       "P00206242       1\n",
       "P00185942       1\n",
       "P00301942       1\n",
       "P00149742       1\n",
       "P00206942       1\n",
       "P00352042       1\n",
       "P00065942       1\n",
       "P00260742       1\n",
       "P00234942       1\n",
       "P00167342       1\n",
       "P00008942       1\n",
       "P00364342       1\n",
       "P00012942       1\n",
       "P00287042       1\n",
       "P00013442       1\n",
       "P00241842       1\n",
       "P00065542       1\n",
       "P00091542       1\n",
       "P00142542       1\n",
       "P00203942       1\n",
       "P00063442       1\n",
       "P00166442       1\n",
       "P00309642       1\n",
       "P00051742       1\n",
       "P00315242       1\n",
       "P00022042       1\n",
       "Name: product_id, Length: 3623, dtype: int64"
      ]
     },
     "execution_count": 51,
     "metadata": {},
     "output_type": "execute_result"
    }
   ],
   "source": [
    "# Check product_id column first\n",
    "retail_data.product_id.value_counts()"
   ]
  },
  {
   "cell_type": "markdown",
   "metadata": {},
   "source": [
    "The top seller is purchased by 1858 customers, and many of the products are bought by only one customer. "
   ]
  },
  {
   "cell_type": "code",
   "execution_count": 52,
   "metadata": {},
   "outputs": [
    {
     "data": {
      "image/png": "[encoded data removed]",
      "text/plain": [
       "<matplotlib.figure.Figure at 0x1088f5b38>"
      ]
     },
     "metadata": {},
     "output_type": "display_data"
    }
   ],
   "source": [
    "# Check gender distribution for each of the top 100 products\n",
    "top100_id = retail_data.product_id.value_counts().iloc[:100].index.tolist()\n",
    "top100_df = retail_data.loc[retail_data['product_id'].isin(top100_id)]\n",
    "top100_df.groupby(['product_id', 'gender'])['user_id'].count().groupby(level=0).apply(\n",
    "            lambda x: 100 * x / x.sum()).unstack().plot(kind='bar', width=0.3, figsize=(15, 5), stacked=True)\n",
    "plt.gca().yaxis.set_major_formatter(mtick.PercentFormatter())\n",
    "plt.axhline(y=28.3, color='r', linestyle='--')\n",
    "#plt.xticks(rotation='horizontal')\n",
    "plt.title('Percentage View of Occupation Distribution Across Gender');"
   ]
  },
  {
   "cell_type": "markdown",
   "metadata": {},
   "source": [
    "There does exist some variance in gender distribution which may help us when modeling gender prediction. "
   ]
  },
  {
   "cell_type": "code",
   "execution_count": 53,
   "metadata": {},
   "outputs": [
    {
     "data": {
      "text/plain": [
       "['P00003242',\n",
       " 'P00052842',\n",
       " 'P00057642',\n",
       " 'P00073842',\n",
       " 'P00105142',\n",
       " 'P00111142',\n",
       " 'P00114942',\n",
       " 'P00127642',\n",
       " 'P00140742',\n",
       " 'P00270942',\n",
       " 'P00274942']"
      ]
     },
     "execution_count": 53,
     "metadata": {},
     "output_type": "execute_result"
    }
   ],
   "source": [
    "# Select a threshold of 5, to extract the products from top 100 sold for which gender proportion is at least 5% different\n",
    "# than the gender proportion of this store\n",
    "lower = 28.3 - 5\n",
    "upper = 28.3 + 5\n",
    "top100_df_by_gen = top100_df.groupby(['product_id', 'gender'])['user_id'].count().groupby(level=0).apply(\n",
    "            lambda x: 100 * x / x.sum()).unstack()\n",
    "prod_ls_in = (top100_df_by_gen[(top100_df_by_gen.F > 38.3) | (top100_df_by_gen.F < 18.3)]).index.tolist()\n",
    "prod_ls_in"
   ]
  },
  {
   "cell_type": "markdown",
   "metadata": {},
   "source": [
    "##### 2.2.2.2 Other Bivariate Analysis"
   ]
  },
  {
   "cell_type": "code",
   "execution_count": 54,
   "metadata": {},
   "outputs": [
    {
     "data": {
      "image/png": "[encoded data removed]",
      "text/plain": [
       "<matplotlib.figure.Figure at 0x1a0df454a8>"
      ]
     },
     "metadata": {},
     "output_type": "display_data"
    }
   ],
   "source": [
    "user_info.city_category.value_counts().sort_index().plot(kind='pie', autopct='%1.1f%%', startangle=90)\n",
    "plt.title('City Category Distribution')\n",
    "plt.axis('equal');"
   ]
  },
  {
   "cell_type": "code",
   "execution_count": 55,
   "metadata": {},
   "outputs": [
    {
     "data": {
      "image/png": "[encoded data removed]",
      "text/plain": [
       "<matplotlib.figure.Figure at 0x1a0d0605c0>"
      ]
     },
     "metadata": {},
     "output_type": "display_data"
    }
   ],
   "source": [
    "user_info.groupby('city_category').total_purchase.sum().plot(kind='pie', autopct='%1.1f%%', startangle=90)\n",
    "plt.title('Proportion of Total Purchase for Each City Category')\n",
    "plt.axis('equal');"
   ]
  },
  {
   "cell_type": "markdown",
   "metadata": {},
   "source": [
    "Although number of consumers in city B are in the middle accounting for 29% of all consumers of this store, their purchasing power is the highest among all three city categories, around 41.5% of total purchase amount is bought by customers from city category B. "
   ]
  },
  {
   "cell_type": "markdown",
   "metadata": {},
   "source": [
    "## 3. Machine Learning"
   ]
  },
  {
   "cell_type": "markdown",
   "metadata": {},
   "source": [
    "### 3.1 Introduction"
   ]
  },
  {
   "cell_type": "markdown",
   "metadata": {},
   "source": [
    "This is a supervised learning problem. We are given labeled data, e.g. we already know the gender of each customer. Classification algorithms will be used to classify the gender or customers. We have two classes, female and male. "
   ]
  },
  {
   "cell_type": "markdown",
   "metadata": {},
   "source": [
    "Some classification algorithms to be explored:\n",
    "- Logistic Regression\n",
    "- K-Nearest Neighbors\n",
    "- Support Vector Machine\n",
    "\n",
    "- Random Forest Classifier\n",
    "- Gradient Boosting Classifier"
   ]
  },
  {
   "cell_type": "markdown",
   "metadata": {},
   "source": [
    "Evaluation metrics to be used:\n",
    "- Accuracy score\n",
    "- Metrics from confusion matrix and classification report: recall, precision, f1 score\n",
    "- ROC curve and Area under ROC curve "
   ]
  },
  {
   "cell_type": "markdown",
   "metadata": {},
   "source": [
    "### 3.2 Data Preprocessing"
   ]
  },
  {
   "cell_type": "markdown",
   "metadata": {},
   "source": [
    "#### 3.2.1 Standardizing Numerical Data"
   ]
  },
  {
   "cell_type": "code",
   "execution_count": 56,
   "metadata": {},
   "outputs": [
    {
     "data": {
      "text/html": [
       "<div>\n",
       "<style scoped>\n",
       "    .dataframe tbody tr th:only-of-type {\n",
       "        vertical-align: middle;\n",
       "    }\n",
       "\n",
       "    .dataframe tbody tr th {\n",
       "        vertical-align: top;\n",
       "    }\n",
       "\n",
       "    .dataframe thead th {\n",
       "        text-align: right;\n",
       "    }\n",
       "</style>\n",
       "<table border=\"1\" class=\"dataframe\">\n",
       "  <thead>\n",
       "    <tr style=\"text-align: right;\">\n",
       "      <th></th>\n",
       "      <th>total_purchase</th>\n",
       "      <th>n_purchases</th>\n",
       "    </tr>\n",
       "  </thead>\n",
       "  <tbody>\n",
       "    <tr>\n",
       "      <th>count</th>\n",
       "      <td>5.891000e+03</td>\n",
       "      <td>5891.000000</td>\n",
       "    </tr>\n",
       "    <tr>\n",
       "      <th>mean</th>\n",
       "      <td>8.517515e+05</td>\n",
       "      <td>91.253947</td>\n",
       "    </tr>\n",
       "    <tr>\n",
       "      <th>std</th>\n",
       "      <td>9.329978e+05</td>\n",
       "      <td>105.929800</td>\n",
       "    </tr>\n",
       "    <tr>\n",
       "      <th>min</th>\n",
       "      <td>4.410800e+04</td>\n",
       "      <td>5.000000</td>\n",
       "    </tr>\n",
       "    <tr>\n",
       "      <th>25%</th>\n",
       "      <td>2.349140e+05</td>\n",
       "      <td>25.000000</td>\n",
       "    </tr>\n",
       "    <tr>\n",
       "      <th>50%</th>\n",
       "      <td>5.126120e+05</td>\n",
       "      <td>53.000000</td>\n",
       "    </tr>\n",
       "    <tr>\n",
       "      <th>75%</th>\n",
       "      <td>1.099005e+06</td>\n",
       "      <td>114.000000</td>\n",
       "    </tr>\n",
       "    <tr>\n",
       "      <th>max</th>\n",
       "      <td>1.053678e+07</td>\n",
       "      <td>1025.000000</td>\n",
       "    </tr>\n",
       "  </tbody>\n",
       "</table>\n",
       "</div>"
      ],
      "text/plain": [
       "       total_purchase  n_purchases\n",
       "count    5.891000e+03  5891.000000\n",
       "mean     8.517515e+05    91.253947\n",
       "std      9.329978e+05   105.929800\n",
       "min      4.410800e+04     5.000000\n",
       "25%      2.349140e+05    25.000000\n",
       "50%      5.126120e+05    53.000000\n",
       "75%      1.099005e+06   114.000000\n",
       "max      1.053678e+07  1025.000000"
      ]
     },
     "execution_count": 56,
     "metadata": {},
     "output_type": "execute_result"
    }
   ],
   "source": [
    "user_info[['total_purchase', 'n_purchases']].describe()"
   ]
  },
  {
   "cell_type": "markdown",
   "metadata": {},
   "source": [
    "These two features are on different scales and total_purchase has high variance. I will apply log transformation."
   ]
  },
  {
   "cell_type": "code",
   "execution_count": 57,
   "metadata": {
    "collapsed": true
   },
   "outputs": [],
   "source": [
    "user_info[['total_purchase_log', 'n_purchases_log']] = np.log(user_info[['total_purchase', 'n_purchases']])"
   ]
  },
  {
   "cell_type": "markdown",
   "metadata": {},
   "source": [
    "#### 3.2.2 Encoding Categorical Data"
   ]
  },
  {
   "cell_type": "code",
   "execution_count": 58,
   "metadata": {},
   "outputs": [
    {
     "data": {
      "text/html": [
       "<div>\n",
       "<style scoped>\n",
       "    .dataframe tbody tr th:only-of-type {\n",
       "        vertical-align: middle;\n",
       "    }\n",
       "\n",
       "    .dataframe tbody tr th {\n",
       "        vertical-align: top;\n",
       "    }\n",
       "\n",
       "    .dataframe thead th {\n",
       "        text-align: right;\n",
       "    }\n",
       "</style>\n",
       "<table border=\"1\" class=\"dataframe\">\n",
       "  <thead>\n",
       "    <tr style=\"text-align: right;\">\n",
       "      <th></th>\n",
       "      <th>user_id</th>\n",
       "      <th>product_id_P00003242</th>\n",
       "      <th>product_id_P00052842</th>\n",
       "      <th>product_id_P00057642</th>\n",
       "      <th>product_id_P00073842</th>\n",
       "      <th>product_id_P00105142</th>\n",
       "      <th>product_id_P00111142</th>\n",
       "      <th>product_id_P00114942</th>\n",
       "      <th>product_id_P00127642</th>\n",
       "      <th>product_id_P00140742</th>\n",
       "      <th>product_id_P00270942</th>\n",
       "      <th>product_id_P00274942</th>\n",
       "    </tr>\n",
       "  </thead>\n",
       "  <tbody>\n",
       "    <tr>\n",
       "      <th>9</th>\n",
       "      <td>1000005</td>\n",
       "      <td>0</td>\n",
       "      <td>0</td>\n",
       "      <td>0</td>\n",
       "      <td>0</td>\n",
       "      <td>0</td>\n",
       "      <td>0</td>\n",
       "      <td>0</td>\n",
       "      <td>0</td>\n",
       "      <td>0</td>\n",
       "      <td>0</td>\n",
       "      <td>1</td>\n",
       "    </tr>\n",
       "    <tr>\n",
       "      <th>41</th>\n",
       "      <td>1000010</td>\n",
       "      <td>0</td>\n",
       "      <td>0</td>\n",
       "      <td>0</td>\n",
       "      <td>0</td>\n",
       "      <td>0</td>\n",
       "      <td>1</td>\n",
       "      <td>0</td>\n",
       "      <td>0</td>\n",
       "      <td>0</td>\n",
       "      <td>0</td>\n",
       "      <td>0</td>\n",
       "    </tr>\n",
       "    <tr>\n",
       "      <th>53</th>\n",
       "      <td>1000013</td>\n",
       "      <td>0</td>\n",
       "      <td>0</td>\n",
       "      <td>0</td>\n",
       "      <td>0</td>\n",
       "      <td>0</td>\n",
       "      <td>0</td>\n",
       "      <td>0</td>\n",
       "      <td>0</td>\n",
       "      <td>1</td>\n",
       "      <td>0</td>\n",
       "      <td>0</td>\n",
       "    </tr>\n",
       "    <tr>\n",
       "      <th>69</th>\n",
       "      <td>1000017</td>\n",
       "      <td>0</td>\n",
       "      <td>0</td>\n",
       "      <td>0</td>\n",
       "      <td>1</td>\n",
       "      <td>0</td>\n",
       "      <td>0</td>\n",
       "      <td>0</td>\n",
       "      <td>0</td>\n",
       "      <td>0</td>\n",
       "      <td>0</td>\n",
       "      <td>0</td>\n",
       "    </tr>\n",
       "    <tr>\n",
       "      <th>118</th>\n",
       "      <td>1000023</td>\n",
       "      <td>0</td>\n",
       "      <td>0</td>\n",
       "      <td>0</td>\n",
       "      <td>0</td>\n",
       "      <td>0</td>\n",
       "      <td>0</td>\n",
       "      <td>0</td>\n",
       "      <td>0</td>\n",
       "      <td>0</td>\n",
       "      <td>1</td>\n",
       "      <td>0</td>\n",
       "    </tr>\n",
       "  </tbody>\n",
       "</table>\n",
       "</div>"
      ],
      "text/plain": [
       "     user_id  product_id_P00003242  product_id_P00052842  \\\n",
       "9    1000005                     0                     0   \n",
       "41   1000010                     0                     0   \n",
       "53   1000013                     0                     0   \n",
       "69   1000017                     0                     0   \n",
       "118  1000023                     0                     0   \n",
       "\n",
       "     product_id_P00057642  product_id_P00073842  product_id_P00105142  \\\n",
       "9                       0                     0                     0   \n",
       "41                      0                     0                     0   \n",
       "53                      0                     0                     0   \n",
       "69                      0                     1                     0   \n",
       "118                     0                     0                     0   \n",
       "\n",
       "     product_id_P00111142  product_id_P00114942  product_id_P00127642  \\\n",
       "9                       0                     0                     0   \n",
       "41                      1                     0                     0   \n",
       "53                      0                     0                     0   \n",
       "69                      0                     0                     0   \n",
       "118                     0                     0                     0   \n",
       "\n",
       "     product_id_P00140742  product_id_P00270942  product_id_P00274942  \n",
       "9                       0                     0                     1  \n",
       "41                      0                     0                     0  \n",
       "53                      1                     0                     0  \n",
       "69                      0                     0                     0  \n",
       "118                     0                     1                     0  "
      ]
     },
     "execution_count": 58,
     "metadata": {},
     "output_type": "execute_result"
    }
   ],
   "source": [
    "# Include products with big enough variations in gender proportion, and aggregate them into customer level\n",
    "prod_df =  retail_data[retail_data.product_id.isin(prod_ls_in)]\n",
    "prod_df_dum = pd.get_dummies(prod_df[['user_id', 'product_id']], columns=['product_id'])\n",
    "prod_df_dum.head()"
   ]
  },
  {
   "cell_type": "code",
   "execution_count": 59,
   "metadata": {},
   "outputs": [
    {
     "data": {
      "text/plain": [
       "(5891, 22)"
      ]
     },
     "execution_count": 59,
     "metadata": {},
     "output_type": "execute_result"
    }
   ],
   "source": [
    "# Convert the above data frame into customer level and then merge with user_info data frame\n",
    "prod = prod_df_dum.groupby('user_id').sum().reset_index()\n",
    "user_df = user_info.merge(prod, how='left').fillna(0)\n",
    "user_df.shape"
   ]
  },
  {
   "cell_type": "code",
   "execution_count": 60,
   "metadata": {},
   "outputs": [
    {
     "data": {
      "text/plain": [
       "(5891, 40)"
      ]
     },
     "execution_count": 60,
     "metadata": {},
     "output_type": "execute_result"
    }
   ],
   "source": [
    "# Aggregate product_category_1 to customer level and then merge with user_df \n",
    "prod_cat_dum = pd.get_dummies(retail_data[['user_id', 'product_category_1']], columns=['product_category_1'])\n",
    "prod_cat_df = prod_cat_dum.groupby('user_id').sum().reset_index()\n",
    "user = user_df.merge(prod_cat_df)\n",
    "user.shape"
   ]
  },
  {
   "cell_type": "code",
   "execution_count": 61,
   "metadata": {
    "collapsed": true
   },
   "outputs": [],
   "source": [
    "# Encoding ordinal categorical variables using LabelEncoder()\n",
    "cols = ['age', 'gender', 'stay_in_current_city_years']\n",
    "for c in cols:\n",
    "    le = preprocessing.LabelEncoder()\n",
    "    user[c] = le.fit_transform(user[c])"
   ]
  },
  {
   "cell_type": "code",
   "execution_count": 62,
   "metadata": {},
   "outputs": [
    {
     "data": {
      "text/html": [
       "<div>\n",
       "<style scoped>\n",
       "    .dataframe tbody tr th:only-of-type {\n",
       "        vertical-align: middle;\n",
       "    }\n",
       "\n",
       "    .dataframe tbody tr th {\n",
       "        vertical-align: top;\n",
       "    }\n",
       "\n",
       "    .dataframe thead th {\n",
       "        text-align: right;\n",
       "    }\n",
       "</style>\n",
       "<table border=\"1\" class=\"dataframe\">\n",
       "  <thead>\n",
       "    <tr style=\"text-align: right;\">\n",
       "      <th></th>\n",
       "      <th>user_id</th>\n",
       "      <th>gender</th>\n",
       "      <th>age</th>\n",
       "      <th>city_category</th>\n",
       "      <th>stay_in_current_city_years</th>\n",
       "      <th>marital_status</th>\n",
       "      <th>total_purchase</th>\n",
       "      <th>n_purchases</th>\n",
       "      <th>total_purchase_log</th>\n",
       "      <th>n_purchases_log</th>\n",
       "      <th>...</th>\n",
       "      <th>occupation_11</th>\n",
       "      <th>occupation_12</th>\n",
       "      <th>occupation_13</th>\n",
       "      <th>occupation_14</th>\n",
       "      <th>occupation_15</th>\n",
       "      <th>occupation_16</th>\n",
       "      <th>occupation_17</th>\n",
       "      <th>occupation_18</th>\n",
       "      <th>occupation_19</th>\n",
       "      <th>occupation_20</th>\n",
       "    </tr>\n",
       "  </thead>\n",
       "  <tbody>\n",
       "    <tr>\n",
       "      <th>0</th>\n",
       "      <td>1000001</td>\n",
       "      <td>0</td>\n",
       "      <td>0</td>\n",
       "      <td>A</td>\n",
       "      <td>2</td>\n",
       "      <td>0</td>\n",
       "      <td>333481</td>\n",
       "      <td>34</td>\n",
       "      <td>12.717341</td>\n",
       "      <td>3.526361</td>\n",
       "      <td>...</td>\n",
       "      <td>0</td>\n",
       "      <td>0</td>\n",
       "      <td>0</td>\n",
       "      <td>0</td>\n",
       "      <td>0</td>\n",
       "      <td>0</td>\n",
       "      <td>0</td>\n",
       "      <td>0</td>\n",
       "      <td>0</td>\n",
       "      <td>0</td>\n",
       "    </tr>\n",
       "    <tr>\n",
       "      <th>1</th>\n",
       "      <td>1000002</td>\n",
       "      <td>1</td>\n",
       "      <td>6</td>\n",
       "      <td>C</td>\n",
       "      <td>4</td>\n",
       "      <td>0</td>\n",
       "      <td>810353</td>\n",
       "      <td>76</td>\n",
       "      <td>13.605225</td>\n",
       "      <td>4.330733</td>\n",
       "      <td>...</td>\n",
       "      <td>0</td>\n",
       "      <td>0</td>\n",
       "      <td>0</td>\n",
       "      <td>0</td>\n",
       "      <td>0</td>\n",
       "      <td>1</td>\n",
       "      <td>0</td>\n",
       "      <td>0</td>\n",
       "      <td>0</td>\n",
       "      <td>0</td>\n",
       "    </tr>\n",
       "    <tr>\n",
       "      <th>2</th>\n",
       "      <td>1000003</td>\n",
       "      <td>1</td>\n",
       "      <td>2</td>\n",
       "      <td>A</td>\n",
       "      <td>3</td>\n",
       "      <td>0</td>\n",
       "      <td>341635</td>\n",
       "      <td>29</td>\n",
       "      <td>12.741498</td>\n",
       "      <td>3.367296</td>\n",
       "      <td>...</td>\n",
       "      <td>0</td>\n",
       "      <td>0</td>\n",
       "      <td>0</td>\n",
       "      <td>0</td>\n",
       "      <td>1</td>\n",
       "      <td>0</td>\n",
       "      <td>0</td>\n",
       "      <td>0</td>\n",
       "      <td>0</td>\n",
       "      <td>0</td>\n",
       "    </tr>\n",
       "    <tr>\n",
       "      <th>3</th>\n",
       "      <td>1000004</td>\n",
       "      <td>1</td>\n",
       "      <td>4</td>\n",
       "      <td>B</td>\n",
       "      <td>2</td>\n",
       "      <td>1</td>\n",
       "      <td>205987</td>\n",
       "      <td>13</td>\n",
       "      <td>12.235568</td>\n",
       "      <td>2.564949</td>\n",
       "      <td>...</td>\n",
       "      <td>0</td>\n",
       "      <td>0</td>\n",
       "      <td>0</td>\n",
       "      <td>0</td>\n",
       "      <td>0</td>\n",
       "      <td>0</td>\n",
       "      <td>0</td>\n",
       "      <td>0</td>\n",
       "      <td>0</td>\n",
       "      <td>0</td>\n",
       "    </tr>\n",
       "    <tr>\n",
       "      <th>4</th>\n",
       "      <td>1000005</td>\n",
       "      <td>1</td>\n",
       "      <td>2</td>\n",
       "      <td>A</td>\n",
       "      <td>1</td>\n",
       "      <td>1</td>\n",
       "      <td>821001</td>\n",
       "      <td>106</td>\n",
       "      <td>13.618280</td>\n",
       "      <td>4.663439</td>\n",
       "      <td>...</td>\n",
       "      <td>0</td>\n",
       "      <td>0</td>\n",
       "      <td>0</td>\n",
       "      <td>0</td>\n",
       "      <td>0</td>\n",
       "      <td>0</td>\n",
       "      <td>0</td>\n",
       "      <td>0</td>\n",
       "      <td>0</td>\n",
       "      <td>1</td>\n",
       "    </tr>\n",
       "  </tbody>\n",
       "</table>\n",
       "<p>5 rows × 60 columns</p>\n",
       "</div>"
      ],
      "text/plain": [
       "   user_id  gender  age city_category  stay_in_current_city_years  \\\n",
       "0  1000001       0    0             A                           2   \n",
       "1  1000002       1    6             C                           4   \n",
       "2  1000003       1    2             A                           3   \n",
       "3  1000004       1    4             B                           2   \n",
       "4  1000005       1    2             A                           1   \n",
       "\n",
       "   marital_status  total_purchase  n_purchases  total_purchase_log  \\\n",
       "0               0          333481           34           12.717341   \n",
       "1               0          810353           76           13.605225   \n",
       "2               0          341635           29           12.741498   \n",
       "3               1          205987           13           12.235568   \n",
       "4               1          821001          106           13.618280   \n",
       "\n",
       "   n_purchases_log      ...        occupation_11  occupation_12  \\\n",
       "0         3.526361      ...                    0              0   \n",
       "1         4.330733      ...                    0              0   \n",
       "2         3.367296      ...                    0              0   \n",
       "3         2.564949      ...                    0              0   \n",
       "4         4.663439      ...                    0              0   \n",
       "\n",
       "   occupation_13  occupation_14  occupation_15  occupation_16  occupation_17  \\\n",
       "0              0              0              0              0              0   \n",
       "1              0              0              0              1              0   \n",
       "2              0              0              1              0              0   \n",
       "3              0              0              0              0              0   \n",
       "4              0              0              0              0              0   \n",
       "\n",
       "   occupation_18  occupation_19  occupation_20  \n",
       "0              0              0              0  \n",
       "1              0              0              0  \n",
       "2              0              0              0  \n",
       "3              0              0              0  \n",
       "4              0              0              1  \n",
       "\n",
       "[5 rows x 60 columns]"
      ]
     },
     "execution_count": 62,
     "metadata": {},
     "output_type": "execute_result"
    }
   ],
   "source": [
    "# Encoding nominal categorical variables using get_dummies()\n",
    "user = pd.get_dummies(user, columns=['occupation'])\n",
    "user.head()"
   ]
  },
  {
   "cell_type": "markdown",
   "metadata": {},
   "source": [
    "### 3.3 Model Comparison"
   ]
  },
  {
   "cell_type": "code",
   "execution_count": 63,
   "metadata": {
    "collapsed": true
   },
   "outputs": [],
   "source": [
    "# Selecting features and then split into training and testing data sets\n",
    "X = user.drop(['user_id', 'gender', 'city_category', 'marital_status', 'total_purchase', 'n_purchases'], axis=1)\n",
    "y = user['gender']\n",
    "\n",
    "X_train, X_test, y_train, y_test = train_test_split(X, y, random_state=42)"
   ]
  },
  {
   "cell_type": "markdown",
   "metadata": {},
   "source": [
    "#### 3.3.1 Logistic Regression"
   ]
  },
  {
   "cell_type": "code",
   "execution_count": 64,
   "metadata": {},
   "outputs": [
    {
     "name": "stdout",
     "output_type": "stream",
     "text": [
      "Tuned Logistic Regression Parameters: {'C': 1, 'penalty': 'l2'}\n",
      "Best score is 0.7664101403349932\n"
     ]
    }
   ],
   "source": [
    "# Grid Search Best Prams for LR model and fit the training data\n",
    "c_space = np.logspace(-35, -15, 20)\n",
    "param_space = {'C': [0.001, 0.01, 0.1, 1, 10, 100, 1000], 'penalty': ['l1', 'l2']}\n",
    "\n",
    "logreg = LogisticRegression()\n",
    "logreg_cv = GridSearchCV(logreg, param_space, cv=5)\n",
    "logreg_cv.fit(X_train, y_train)\n",
    "\n",
    "best_c = logreg_cv.best_params_['C']\n",
    "print(\"Tuned Logistic Regression Parameters: {}\".format(logreg_cv.best_params_)) \n",
    "print(\"Best score is {}\".format(logreg_cv.best_score_))"
   ]
  },
  {
   "cell_type": "code",
   "execution_count": 65,
   "metadata": {},
   "outputs": [
    {
     "name": "stdout",
     "output_type": "stream",
     "text": [
      "Testing accuracy is  0.7746096401900883\n",
      "Training accuracy is  0.7704843820733364\n"
     ]
    }
   ],
   "source": [
    "print('Testing accuracy is ', logreg_cv.score(X_test, y_test))\n",
    "print('Training accuracy is ', logreg_cv.score(X_train, y_train))"
   ]
  },
  {
   "cell_type": "code",
   "execution_count": 66,
   "metadata": {},
   "outputs": [
    {
     "name": "stdout",
     "output_type": "stream",
     "text": [
      "Confusion matrix: \n",
      " [[ 125  291]\n",
      " [  41 1016]]\n",
      "\n",
      "Classification report: \n",
      "              precision    recall  f1-score   support\n",
      "\n",
      "          0       0.75      0.30      0.43       416\n",
      "          1       0.78      0.96      0.86      1057\n",
      "\n",
      "avg / total       0.77      0.77      0.74      1473\n",
      "\n"
     ]
    }
   ],
   "source": [
    "y_pred = logreg_cv.predict(X_test)\n",
    "print('Confusion matrix: \\n', confusion_matrix(y_test, y_pred))\n",
    "print('\\nClassification report: \\n', classification_report(y_test, y_pred))"
   ]
  },
  {
   "cell_type": "code",
   "execution_count": 67,
   "metadata": {},
   "outputs": [
    {
     "data": {
      "image/png": "[encoded data removed]",
      "text/plain": [
       "<matplotlib.figure.Figure at 0x1a12e79c88>"
      ]
     },
     "metadata": {},
     "output_type": "display_data"
    }
   ],
   "source": [
    "y_pred_prob = logreg_cv.predict_proba(X_test)[:, 1]\n",
    "\n",
    "fpr, tpr, thresholds = roc_curve(y_test, y_pred_prob)\n",
    "\n",
    "plt.plot([0, 1], [0, 1], 'k--')\n",
    "plt.plot(fpr, tpr)\n",
    "plt.xlabel('False Positive Rate')\n",
    "plt.ylabel('True Positive Rate')\n",
    "plt.title('ROC Curve');"
   ]
  },
  {
   "cell_type": "code",
   "execution_count": 68,
   "metadata": {},
   "outputs": [
    {
     "name": "stdout",
     "output_type": "stream",
     "text": [
      "AUC: 0.7822051706571573\n",
      "AUC scores computed using 5-fold cross-validation : [0.79338837 0.78081277 0.79719957 0.7891963  0.75139044]\n"
     ]
    }
   ],
   "source": [
    "print('AUC: {}'.format(roc_auc_score(y_test, y_pred_prob)))\n",
    "print('AUC scores computed using 5-fold cross-validation : {}'.format(\n",
    "    cross_val_score(logreg_cv, X, y, cv=5, scoring='roc_auc')))"
   ]
  },
  {
   "cell_type": "markdown",
   "metadata": {},
   "source": [
    "#### 3.3.2 K-Nearest Neighbors Classifier"
   ]
  },
  {
   "cell_type": "code",
   "execution_count": 69,
   "metadata": {},
   "outputs": [
    {
     "data": {
      "image/png": "[encoded data removed]",
      "text/plain": [
       "<matplotlib.figure.Figure at 0x1089b0748>"
      ]
     },
     "metadata": {},
     "output_type": "display_data"
    }
   ],
   "source": [
    "neighbors = np.arange(1, 50)\n",
    "train_accuracy = np.empty(len(neighbors))\n",
    "test_accuracy = np.empty(len(neighbors))\n",
    "\n",
    "for i, k in enumerate(neighbors):\n",
    "    knn = KNeighborsClassifier(n_neighbors=k)\n",
    "    \n",
    "    knn.fit(X_train, y_train)\n",
    "     \n",
    "    train_accuracy[i] = knn.score(X_train, y_train)\n",
    "    test_accuracy[i] = knn.score(X_test, y_test)\n",
    "\n",
    "plt.figure(figsize=(10, 6))\n",
    "plt.title('k-NN: Varying Number of Neighbors')\n",
    "plt.plot(neighbors, test_accuracy, label='Testing Accuracy')\n",
    "plt.plot(neighbors, train_accuracy, label='Training Accuracy')\n",
    "plt.legend()\n",
    "plt.xlabel('Number of Neighbors')\n",
    "plt.ylabel('Accuracy');"
   ]
  },
  {
   "cell_type": "code",
   "execution_count": 70,
   "metadata": {},
   "outputs": [
    {
     "name": "stdout",
     "output_type": "stream",
     "text": [
      "Best K is  {'n_neighbors': 29}\n",
      "Best score is  0.7299683114531462\n"
     ]
    }
   ],
   "source": [
    "# Tuning hyperparameter n_neighbors\n",
    "param_k = {'n_neighbors': np.arange(1, 50)}\n",
    "knn = KNeighborsClassifier()\n",
    "knn_cv = GridSearchCV(knn, param_k, cv=5)\n",
    "knn_cv.fit(X_train, y_train)\n",
    "\n",
    "best_k = knn_cv.best_params_['n_neighbors']\n",
    "print('Best K is ', knn_cv.best_params_)\n",
    "print('Best score is ', knn_cv.best_score_)"
   ]
  },
  {
   "cell_type": "code",
   "execution_count": 71,
   "metadata": {},
   "outputs": [
    {
     "name": "stdout",
     "output_type": "stream",
     "text": [
      "Training accuracy is  0.7469443186962427\n",
      "Testing accuracy is  0.7209775967413442\n"
     ]
    }
   ],
   "source": [
    "print('Training accuracy is ', knn_cv.score(X_train, y_train))\n",
    "print('Testing accuracy is ', knn_cv.score(X_test, y_test))"
   ]
  },
  {
   "cell_type": "code",
   "execution_count": 72,
   "metadata": {},
   "outputs": [
    {
     "name": "stdout",
     "output_type": "stream",
     "text": [
      "Confusion Matrix: \n",
      " [[  62  354]\n",
      " [  57 1000]]\n",
      "\n",
      "Classification Report: \n",
      "              precision    recall  f1-score   support\n",
      "\n",
      "          0       0.52      0.15      0.23       416\n",
      "          1       0.74      0.95      0.83      1057\n",
      "\n",
      "avg / total       0.68      0.72      0.66      1473\n",
      "\n"
     ]
    }
   ],
   "source": [
    "y_pred_knn = knn_cv.predict(X_test)\n",
    "\n",
    "print('Confusion Matrix: \\n', confusion_matrix(y_test, y_pred_knn))\n",
    "print('\\nClassification Report: \\n', classification_report(y_test, y_pred_knn))"
   ]
  },
  {
   "cell_type": "code",
   "execution_count": 73,
   "metadata": {},
   "outputs": [
    {
     "name": "stdout",
     "output_type": "stream",
     "text": [
      "AUC: 0.7093120042209446\n"
     ]
    }
   ],
   "source": [
    "y_pred_prob_knn = knn_cv.predict_proba(X_test)[:, 1]\n",
    "print('AUC: {}'.format(roc_auc_score(y_test, y_pred_prob_knn)))"
   ]
  },
  {
   "cell_type": "markdown",
   "metadata": {},
   "source": [
    "#### 3.3.3 SVC"
   ]
  },
  {
   "cell_type": "code",
   "execution_count": 74,
   "metadata": {},
   "outputs": [
    {
     "data": {
      "text/plain": [
       "GridSearchCV(cv=None, error_score='raise',\n",
       "       estimator=LinearSVC(C=1.0, class_weight=None, dual=True, fit_intercept=True,\n",
       "     intercept_scaling=1, loss='squared_hinge', max_iter=1000,\n",
       "     multi_class='ovr', penalty='l2', random_state=0, tol=0.0001,\n",
       "     verbose=0),\n",
       "       fit_params=None, iid=True, n_jobs=1,\n",
       "       param_grid={'C': [0.01, 0.1, 1, 10]}, pre_dispatch='2*n_jobs',\n",
       "       refit=True, return_train_score='warn', scoring=None, verbose=0)"
      ]
     },
     "execution_count": 74,
     "metadata": {},
     "output_type": "execute_result"
    }
   ],
   "source": [
    "# Try linear SVC first\n",
    "params_grid = {'C': [0.01, 0.1, 1, 10]}\n",
    "svc_linear = LinearSVC(random_state=0)\n",
    "svc_linear_cv = GridSearchCV(svc_linear, params_grid)\n",
    "svc_linear_cv.fit(X_train, y_train)"
   ]
  },
  {
   "cell_type": "code",
   "execution_count": 75,
   "metadata": {},
   "outputs": [
    {
     "data": {
      "text/plain": [
       "{'C': 0.1}"
      ]
     },
     "execution_count": 75,
     "metadata": {},
     "output_type": "execute_result"
    }
   ],
   "source": [
    "svc_linear_cv.best_params_"
   ]
  },
  {
   "cell_type": "code",
   "execution_count": 76,
   "metadata": {},
   "outputs": [
    {
     "data": {
      "text/plain": [
       "0.7447386286490156"
      ]
     },
     "execution_count": 76,
     "metadata": {},
     "output_type": "execute_result"
    }
   ],
   "source": [
    "svc_linear_cv.score(X_test, y_test)"
   ]
  },
  {
   "cell_type": "code",
   "execution_count": 77,
   "metadata": {},
   "outputs": [
    {
     "data": {
      "text/plain": [
       "0.751923947487551"
      ]
     },
     "execution_count": 77,
     "metadata": {},
     "output_type": "execute_result"
    }
   ],
   "source": [
    "svc_linear_cv.score(X_train, y_train)"
   ]
  },
  {
   "cell_type": "code",
   "execution_count": 78,
   "metadata": {},
   "outputs": [
    {
     "name": "stdout",
     "output_type": "stream",
     "text": [
      "Confusion Matrix: \n",
      " [[161 255]\n",
      " [121 936]]\n",
      "\n",
      "Classification Report: \n",
      "              precision    recall  f1-score   support\n",
      "\n",
      "          0       0.57      0.39      0.46       416\n",
      "          1       0.79      0.89      0.83      1057\n",
      "\n",
      "avg / total       0.73      0.74      0.73      1473\n",
      "\n"
     ]
    }
   ],
   "source": [
    "y_pred = svc_linear_cv.predict(X_test)\n",
    "\n",
    "print('Confusion Matrix: \\n', confusion_matrix(y_test, y_pred))\n",
    "print('\\nClassification Report: \\n', classification_report(y_test, y_pred))"
   ]
  },
  {
   "cell_type": "code",
   "execution_count": 79,
   "metadata": {},
   "outputs": [
    {
     "data": {
      "text/plain": [
       "GridSearchCV(cv=None, error_score='raise',\n",
       "       estimator=SVC(C=1.0, cache_size=200, class_weight=None, coef0=0.0,\n",
       "  decision_function_shape='ovr', degree=3, gamma='auto', kernel='rbf',\n",
       "  max_iter=-1, probability=False, random_state=0, shrinking=True,\n",
       "  tol=0.001, verbose=False),\n",
       "       fit_params=None, iid=True, n_jobs=1,\n",
       "       param_grid={'C': [10, 20, 50], 'gamma': [0.0001, 0.001, 0.01]},\n",
       "       pre_dispatch='2*n_jobs', refit=True, return_train_score='warn',\n",
       "       scoring=None, verbose=0)"
      ]
     },
     "execution_count": 79,
     "metadata": {},
     "output_type": "execute_result"
    }
   ],
   "source": [
    "# Try rbf kernal\n",
    "params_grid = {'C': [10, 20, 50], 'gamma': [0.0001, 0.001, 0.01]}\n",
    "svc_rbf = SVC(random_state=0)\n",
    "svc_rbf_cv = GridSearchCV(svc_rbf, params_grid)\n",
    "svc_rbf_cv.fit(X_train, y_train)"
   ]
  },
  {
   "cell_type": "code",
   "execution_count": 80,
   "metadata": {},
   "outputs": [
    {
     "data": {
      "text/plain": [
       "{'C': 20, 'gamma': 0.001}"
      ]
     },
     "execution_count": 80,
     "metadata": {},
     "output_type": "execute_result"
    }
   ],
   "source": [
    "svc_rbf_cv.best_params_"
   ]
  },
  {
   "cell_type": "code",
   "execution_count": 81,
   "metadata": {},
   "outputs": [
    {
     "data": {
      "text/plain": [
       "0.756958587915818"
      ]
     },
     "execution_count": 81,
     "metadata": {},
     "output_type": "execute_result"
    }
   ],
   "source": [
    "svc_rbf_cv.score(X_test, y_test)"
   ]
  },
  {
   "cell_type": "code",
   "execution_count": 82,
   "metadata": {},
   "outputs": [
    {
     "data": {
      "text/plain": [
       "0.822544137618832"
      ]
     },
     "execution_count": 82,
     "metadata": {},
     "output_type": "execute_result"
    }
   ],
   "source": [
    "svc_rbf_cv.score(X_train, y_train)"
   ]
  },
  {
   "cell_type": "code",
   "execution_count": 83,
   "metadata": {},
   "outputs": [
    {
     "name": "stdout",
     "output_type": "stream",
     "text": [
      "Confusion Matrix: \n",
      " [[123 293]\n",
      " [ 65 992]]\n",
      "\n",
      "Classification Report: \n",
      "              precision    recall  f1-score   support\n",
      "\n",
      "          0       0.65      0.30      0.41       416\n",
      "          1       0.77      0.94      0.85      1057\n",
      "\n",
      "avg / total       0.74      0.76      0.72      1473\n",
      "\n"
     ]
    }
   ],
   "source": [
    "y_pred = svc_rbf_cv.predict(X_test)\n",
    "\n",
    "print('Confusion Matrix: \\n', confusion_matrix(y_test, y_pred))\n",
    "print('\\nClassification Report: \\n', classification_report(y_test, y_pred))"
   ]
  },
  {
   "cell_type": "markdown",
   "metadata": {},
   "source": [
    "#### 3.3.4 Random Forest Classifier"
   ]
  },
  {
   "cell_type": "code",
   "execution_count": 84,
   "metadata": {},
   "outputs": [
    {
     "data": {
      "text/plain": [
       "RandomForestClassifier(bootstrap=True, class_weight=None, criterion='gini',\n",
       "            max_depth=None, max_features='auto', max_leaf_nodes=None,\n",
       "            min_impurity_decrease=0.0, min_impurity_split=None,\n",
       "            min_samples_leaf=1, min_samples_split=2,\n",
       "            min_weight_fraction_leaf=0.0, n_estimators=10, n_jobs=1,\n",
       "            oob_score=False, random_state=None, verbose=0,\n",
       "            warm_start=False)"
      ]
     },
     "execution_count": 84,
     "metadata": {},
     "output_type": "execute_result"
    }
   ],
   "source": [
    "# First try with default values \n",
    "rf = RandomForestClassifier()\n",
    "rf.fit(X_train, y_train)"
   ]
  },
  {
   "cell_type": "code",
   "execution_count": 85,
   "metadata": {},
   "outputs": [
    {
     "data": {
      "text/plain": [
       "0.7515274949083504"
      ]
     },
     "execution_count": 85,
     "metadata": {},
     "output_type": "execute_result"
    }
   ],
   "source": [
    "rf.score(X_test, y_test)"
   ]
  },
  {
   "cell_type": "code",
   "execution_count": 86,
   "metadata": {},
   "outputs": [
    {
     "data": {
      "text/plain": [
       "0.9916251697600724"
      ]
     },
     "execution_count": 86,
     "metadata": {},
     "output_type": "execute_result"
    }
   ],
   "source": [
    "rf.score(X_train, y_train)"
   ]
  },
  {
   "cell_type": "code",
   "execution_count": 87,
   "metadata": {},
   "outputs": [
    {
     "data": {
      "text/plain": [
       "GridSearchCV(cv=None, error_score='raise',\n",
       "       estimator=RandomForestClassifier(bootstrap=True, class_weight=None, criterion='gini',\n",
       "            max_depth=None, max_features='auto', max_leaf_nodes=None,\n",
       "            min_impurity_decrease=0.0, min_impurity_split=None,\n",
       "            min_samples_leaf=1, min_samples_split=2,\n",
       "            min_weight_fraction_leaf=0.0, n_estimators=10, n_jobs=1,\n",
       "            oob_score=False, random_state=None, verbose=0,\n",
       "            warm_start=False),\n",
       "       fit_params=None, iid=True, n_jobs=1,\n",
       "       param_grid={'n_estimators': [100, 200, 300], 'max_depth': [100, 150, 200], 'min_samples_leaf': [10, 15, 20]},\n",
       "       pre_dispatch='2*n_jobs', refit=True, return_train_score='warn',\n",
       "       scoring=None, verbose=0)"
      ]
     },
     "execution_count": 87,
     "metadata": {},
     "output_type": "execute_result"
    }
   ],
   "source": [
    "# Tuning parameters\n",
    "param_grid = {\"n_estimators\": [100, 200, 300],\n",
    "              \"max_depth\": [100, 150, 200],\n",
    "             \"min_samples_leaf\": [10, 15, 20]}\n",
    "rf = RandomForestClassifier()\n",
    "rf_cv = GridSearchCV(rf, param_grid)\n",
    "rf_cv.fit(X_train, y_train)"
   ]
  },
  {
   "cell_type": "code",
   "execution_count": 88,
   "metadata": {},
   "outputs": [
    {
     "data": {
      "text/plain": [
       "{'max_depth': 100, 'min_samples_leaf': 10, 'n_estimators': 200}"
      ]
     },
     "execution_count": 88,
     "metadata": {},
     "output_type": "execute_result"
    }
   ],
   "source": [
    "rf_cv.best_params_"
   ]
  },
  {
   "cell_type": "code",
   "execution_count": 89,
   "metadata": {},
   "outputs": [
    {
     "data": {
      "text/plain": [
       "0.7623896809232859"
      ]
     },
     "execution_count": 89,
     "metadata": {},
     "output_type": "execute_result"
    }
   ],
   "source": [
    "rf_cv.score(X_test, y_test)"
   ]
  },
  {
   "cell_type": "code",
   "execution_count": 90,
   "metadata": {},
   "outputs": [
    {
     "data": {
      "text/plain": [
       "0.8105477591670439"
      ]
     },
     "execution_count": 90,
     "metadata": {},
     "output_type": "execute_result"
    }
   ],
   "source": [
    "rf_cv.score(X_train, y_train)"
   ]
  },
  {
   "cell_type": "code",
   "execution_count": 91,
   "metadata": {},
   "outputs": [
    {
     "name": "stdout",
     "output_type": "stream",
     "text": [
      "Confusion matrix: \n",
      " [[  96  320]\n",
      " [  30 1027]]\n",
      "\n",
      "Classification report: \n",
      "              precision    recall  f1-score   support\n",
      "\n",
      "          0       0.76      0.23      0.35       416\n",
      "          1       0.76      0.97      0.85      1057\n",
      "\n",
      "avg / total       0.76      0.76      0.71      1473\n",
      "\n"
     ]
    }
   ],
   "source": [
    "y_pred = rf_cv.predict(X_test)\n",
    "print('Confusion matrix: \\n', confusion_matrix(y_test, y_pred))\n",
    "print('\\nClassification report: \\n', classification_report(y_test, y_pred))"
   ]
  },
  {
   "cell_type": "code",
   "execution_count": 92,
   "metadata": {},
   "outputs": [
    {
     "data": {
      "image/png": "[encoded data removed]",
      "text/plain": [
       "<matplotlib.figure.Figure at 0x1a0b322d68>"
      ]
     },
     "metadata": {},
     "output_type": "display_data"
    }
   ],
   "source": [
    "y_pred_prob = rf_cv.predict_proba(X_test)[:, 1]\n",
    "\n",
    "fpr, tpr, thresholds = roc_curve(y_test, y_pred_prob)\n",
    "\n",
    "plt.plot([0, 1], [0, 1], 'k--')\n",
    "plt.plot(fpr, tpr)\n",
    "plt.xlabel('False Positive Rate')\n",
    "plt.ylabel('True Positive Rate')\n",
    "plt.title('ROC Curve');"
   ]
  },
  {
   "cell_type": "code",
   "execution_count": 93,
   "metadata": {},
   "outputs": [
    {
     "name": "stdout",
     "output_type": "stream",
     "text": [
      "AUC: 0.7699767120296921\n",
      "AUC scores computed using 5-fold cross-validation : [0.77079332 0.77510884 0.7748885  0.78201041 0.73711108]\n"
     ]
    }
   ],
   "source": [
    "print('AUC: {}'.format(roc_auc_score(y_test, y_pred_prob)))\n",
    "print('AUC scores computed using 5-fold cross-validation : {}'.format(\n",
    "    cross_val_score(rf_cv, X, y, cv=5, scoring='roc_auc')))"
   ]
  },
  {
   "cell_type": "code",
   "execution_count": 94,
   "metadata": {},
   "outputs": [
    {
     "name": "stdout",
     "output_type": "stream",
     "text": [
      "1. feature 15: product_category_1_1 (0.143412)\n",
      "2. feature 2: total_purchase_log (0.068508)\n",
      "3. feature 22: product_category_1_8 (0.065297)\n",
      "4. feature 3: n_purchases_log (0.053701)\n",
      "5. feature 19: product_category_1_5 (0.052361)\n",
      "6. feature 26: product_category_1_12 (0.046045)\n",
      "7. feature 28: product_category_1_14 (0.041939)\n",
      "8. feature 42: occupation_9 (0.040326)\n",
      "9. feature 17: product_category_1_3 (0.038195)\n",
      "10. feature 32: product_category_1_18 (0.032863)\n",
      "11. feature 29: product_category_1_15 (0.032767)\n",
      "12. feature 18: product_category_1_4 (0.032680)\n",
      "13. feature 25: product_category_1_11 (0.027280)\n",
      "14. feature 20: product_category_1_6 (0.026411)\n",
      "15. feature 16: product_category_1_2 (0.024739)\n",
      "16. feature 13: product_id_P00270942 (0.023661)\n",
      "17. feature 50: occupation_17 (0.021880)\n",
      "18. feature 0: age (0.021848)\n",
      "19. feature 30: product_category_1_16 (0.021143)\n",
      "20. feature 1: stay_in_current_city_years (0.018078)\n",
      "21. feature 36: occupation_3 (0.017839)\n",
      "22. feature 24: product_category_1_10 (0.014226)\n",
      "23. feature 27: product_category_1_13 (0.012629)\n",
      "24. feature 6: product_id_P00057642 (0.012504)\n",
      "25. feature 45: occupation_12 (0.010974)\n",
      "26. feature 9: product_id_P00111142 (0.010176)\n",
      "27. feature 21: product_category_1_7 (0.008146)\n",
      "28. feature 14: product_id_P00274942 (0.007930)\n",
      "29. feature 7: product_id_P00073842 (0.007635)\n",
      "30. feature 10: product_id_P00114942 (0.007516)\n",
      "31. feature 37: occupation_4 (0.006796)\n",
      "32. feature 8: product_id_P00105142 (0.006554)\n",
      "33. feature 34: occupation_1 (0.005915)\n",
      "34. feature 40: occupation_7 (0.005586)\n",
      "35. feature 5: product_id_P00052842 (0.004854)\n",
      "36. feature 12: product_id_P00140742 (0.004322)\n",
      "37. feature 11: product_id_P00127642 (0.003977)\n",
      "38. feature 33: occupation_0 (0.003773)\n",
      "39. feature 4: product_id_P00003242 (0.002952)\n",
      "40. feature 39: occupation_6 (0.002423)\n",
      "41. feature 31: product_category_1_17 (0.002323)\n",
      "42. feature 43: occupation_10 (0.001196)\n",
      "43. feature 53: occupation_20 (0.001104)\n",
      "44. feature 49: occupation_16 (0.001066)\n",
      "45. feature 35: occupation_2 (0.000953)\n",
      "46. feature 47: occupation_14 (0.000905)\n",
      "47. feature 23: product_category_1_9 (0.000715)\n",
      "48. feature 48: occupation_15 (0.000484)\n",
      "49. feature 46: occupation_13 (0.000481)\n",
      "50. feature 38: occupation_5 (0.000414)\n",
      "51. feature 44: occupation_11 (0.000407)\n",
      "52. feature 51: occupation_18 (0.000067)\n",
      "53. feature 52: occupation_19 (0.000024)\n",
      "54. feature 41: occupation_8 (0.000000)\n"
     ]
    },
    {
     "data": {
      "image/png": "[encoded data removed]",
      "text/plain": [
       "<matplotlib.figure.Figure at 0x1a0d1749b0>"
      ]
     },
     "metadata": {},
     "output_type": "display_data"
    }
   ],
   "source": [
    "rf = RandomForestClassifier(n_estimators=300, max_depth=150, min_samples_leaf=10, random_state=0)\n",
    "rf.fit(X_train, y_train)\n",
    "importances = rf.feature_importances_\n",
    "\n",
    "std = np.std([tree.feature_importances_ for tree in rf.estimators_], axis=0)\n",
    "indices = np.argsort(importances)[::-1]\n",
    "for f in range(X_train.shape[1]):\n",
    "    print(\"%d. feature %d: %s (%f)\" % (f + 1, indices[f], X_train.columns[indices[f]], importances[indices[f]]))\n",
    "    \n",
    "plt.figure(figsize=(12, 8))\n",
    "plt.title('feature importances')\n",
    "plt.bar(range(X_train.shape[1]), importances[indices], color='r', yerr=std[indices], align='center');"
   ]
  },
  {
   "cell_type": "markdown",
   "metadata": {},
   "source": [
    "#### 3.3.5 Gradient Boosting Classifier"
   ]
  },
  {
   "cell_type": "code",
   "execution_count": 95,
   "metadata": {
    "collapsed": true
   },
   "outputs": [],
   "source": [
    "clf = GradientBoostingClassifier(n_estimators=100, learning_rate=1.0, max_depth=1, random_state=0).fit(X_train, y_train)"
   ]
  },
  {
   "cell_type": "code",
   "execution_count": 96,
   "metadata": {},
   "outputs": [
    {
     "data": {
      "text/plain": [
       "0.7712152070604209"
      ]
     },
     "execution_count": 96,
     "metadata": {},
     "output_type": "execute_result"
    }
   ],
   "source": [
    "clf.score(X_test, y_test)"
   ]
  },
  {
   "cell_type": "code",
   "execution_count": 97,
   "metadata": {},
   "outputs": [
    {
     "data": {
      "text/plain": [
       "0.7901765504753282"
      ]
     },
     "execution_count": 97,
     "metadata": {},
     "output_type": "execute_result"
    }
   ],
   "source": [
    "clf.score(X_train, y_train)"
   ]
  },
  {
   "cell_type": "code",
   "execution_count": 98,
   "metadata": {},
   "outputs": [
    {
     "data": {
      "text/plain": [
       "GridSearchCV(cv=None, error_score='raise',\n",
       "       estimator=GradientBoostingClassifier(criterion='friedman_mse', init=None,\n",
       "              learning_rate=0.1, loss='deviance', max_depth=3,\n",
       "              max_features=None, max_leaf_nodes=None,\n",
       "              min_impurity_decrease=0.0, min_impurity_split=None,\n",
       "              min_samples_leaf=1, min_samples_split=2,\n",
       "              min_weight_fraction_leaf=0.0, n_estimators=100,\n",
       "              presort='auto', random_state=0, subsample=1.0, verbose=0,\n",
       "              warm_start=False),\n",
       "       fit_params=None, iid=True, n_jobs=1,\n",
       "       param_grid={'n_estimators': [100, 150, 200], 'max_depth': [1, 2, 3]},\n",
       "       pre_dispatch='2*n_jobs', refit=True, return_train_score='warn',\n",
       "       scoring=None, verbose=0)"
      ]
     },
     "execution_count": 98,
     "metadata": {},
     "output_type": "execute_result"
    }
   ],
   "source": [
    "params = {'n_estimators': [100, 150, 200], \n",
    "         'max_depth': [1, 2, 3]}\n",
    "gbc = GradientBoostingClassifier(random_state=0)\n",
    "gbc_cv = GridSearchCV(gbc, params)\n",
    "gbc_cv.fit(X_train, y_train)"
   ]
  },
  {
   "cell_type": "code",
   "execution_count": 99,
   "metadata": {},
   "outputs": [
    {
     "data": {
      "text/plain": [
       "{'max_depth': 2, 'n_estimators': 150}"
      ]
     },
     "execution_count": 99,
     "metadata": {},
     "output_type": "execute_result"
    }
   ],
   "source": [
    "gbc_cv.best_params_"
   ]
  },
  {
   "cell_type": "code",
   "execution_count": 100,
   "metadata": {},
   "outputs": [
    {
     "data": {
      "text/plain": [
       "0.7637474541751528"
      ]
     },
     "execution_count": 100,
     "metadata": {},
     "output_type": "execute_result"
    }
   ],
   "source": [
    "gbc_cv.score(X_test, y_test)"
   ]
  },
  {
   "cell_type": "code",
   "execution_count": 101,
   "metadata": {},
   "outputs": [
    {
     "data": {
      "text/plain": [
       "0.7901765504753282"
      ]
     },
     "execution_count": 101,
     "metadata": {},
     "output_type": "execute_result"
    }
   ],
   "source": [
    "gbc_cv.score(X_train, y_train)"
   ]
  },
  {
   "cell_type": "code",
   "execution_count": 102,
   "metadata": {},
   "outputs": [
    {
     "name": "stdout",
     "output_type": "stream",
     "text": [
      "Confusion matrix: \n",
      " [[ 122  294]\n",
      " [  54 1003]]\n",
      "\n",
      "Classification report: \n",
      "              precision    recall  f1-score   support\n",
      "\n",
      "          0       0.69      0.29      0.41       416\n",
      "          1       0.77      0.95      0.85      1057\n",
      "\n",
      "avg / total       0.75      0.76      0.73      1473\n",
      "\n"
     ]
    }
   ],
   "source": [
    "y_pred = gbc_cv.predict(X_test)\n",
    "print('Confusion matrix: \\n', confusion_matrix(y_test, y_pred))\n",
    "print('\\nClassification report: \\n', classification_report(y_test, y_pred))"
   ]
  },
  {
   "cell_type": "code",
   "execution_count": 103,
   "metadata": {},
   "outputs": [
    {
     "data": {
      "image/png": "[encoded data removed]",
      "text/plain": [
       "<matplotlib.figure.Figure at 0x1a12ea2978>"
      ]
     },
     "metadata": {},
     "output_type": "display_data"
    }
   ],
   "source": [
    "y_pred_prob = gbc_cv.predict_proba(X_test)[:, 1]\n",
    "\n",
    "fpr, tpr, thresholds = roc_curve(y_test, y_pred_prob)\n",
    "\n",
    "plt.plot([0, 1], [0, 1], 'k--')\n",
    "plt.plot(fpr, tpr)\n",
    "plt.xlabel('False Positive Rate')\n",
    "plt.ylabel('True Positive Rate')\n",
    "plt.title('ROC Curve');"
   ]
  },
  {
   "cell_type": "code",
   "execution_count": 104,
   "metadata": {},
   "outputs": [
    {
     "name": "stdout",
     "output_type": "stream",
     "text": [
      "AUC: 0.7798411232806928\n"
     ]
    }
   ],
   "source": [
    "print('AUC: {}'.format(roc_auc_score(y_test, y_pred_prob)))"
   ]
  },
  {
   "cell_type": "code",
   "execution_count": null,
   "metadata": {
    "collapsed": true
   },
   "outputs": [],
   "source": []
  }
 ],
 "metadata": {
  "kernelspec": {
   "display_name": "Python 3",
   "language": "python",
   "name": "python3"
  },
  "language_info": {
   "codemirror_mode": {
    "name": "ipython",
    "version": 3
   },
   "file_extension": ".py",
   "mimetype": "text/x-python",
   "name": "python",
   "nbconvert_exporter": "python",
   "pygments_lexer": "ipython3",
   "version": "3.6.3"
  }
 },
 "nbformat": 4,
 "nbformat_minor": 2
}
